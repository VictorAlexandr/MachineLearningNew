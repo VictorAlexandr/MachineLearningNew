{
  "nbformat": 4,
  "nbformat_minor": 0,
  "metadata": {
    "colab": {
      "name": "regressao.ipynb",
      "provenance": [],
      "toc_visible": true
    },
    "kernelspec": {
      "name": "python3",
      "display_name": "Python 3"
    },
    "language_info": {
      "name": "python"
    }
  },
  "cells": [
    {
      "cell_type": "markdown",
      "metadata": {
        "id": "fQJ5CYV9Te0X"
      },
      "source": [
        "# **APRENDIZAGEM SUPERVISIONADA: REGRESSÃO**"
      ]
    },
    {
      "cell_type": "markdown",
      "metadata": {
        "id": "kXFCCsVHTtTP"
      },
      "source": [
        "Este projeto tem por objetivo desenvolver um algoritmo de Machine Learning para prever o valor do preço médio de casas em Boston. "
      ]
    },
    {
      "cell_type": "markdown",
      "metadata": {
        "id": "5ZQ2nYhQUc3G"
      },
      "source": [
        "Os dados foram extraídos do site do Kaggle:\n",
        "\n",
        "https://www.kaggle.com/schirmerchad/bostonhoustingmlnd"
      ]
    },
    {
      "cell_type": "code",
      "metadata": {
        "id": "nWvIcticlCs2"
      },
      "source": [
        "import numpy as np\n",
        "import pandas as pd"
      ],
      "execution_count": null,
      "outputs": []
    },
    {
      "cell_type": "code",
      "metadata": {
        "id": "LRIrwcC8kUhT"
      },
      "source": [
        "df = pd.read_csv('/content/drive/MyDrive/Cursos_Udemy/Machine_Learning_com_Python/housing.csv',\n",
        "                    sep=',', encoding='iso-8859-1')"
      ],
      "execution_count": null,
      "outputs": []
    },
    {
      "cell_type": "code",
      "source": [
        "df.head()"
      ],
      "metadata": {
        "id": "QtugliripIyp",
        "colab": {
          "base_uri": "https://localhost:8080/",
          "height": 206
        },
        "outputId": "4550ba54-b384-4443-bfc9-677df01f4322"
      },
      "execution_count": null,
      "outputs": [
        {
          "output_type": "execute_result",
          "data": {
            "text/plain": [
              "      RM  LSTAT  PTRATIO      MEDV\n",
              "0  6.575   4.98     15.3  504000.0\n",
              "1  6.421   9.14     17.8  453600.0\n",
              "2  7.185   4.03     17.8  728700.0\n",
              "3  6.998   2.94     18.7  701400.0\n",
              "4  7.147   5.33     18.7  760200.0"
            ],
            "text/html": [
              "\n",
              "  <div id=\"df-f1818f25-bba5-4c62-b942-f22a0f1b0ddf\">\n",
              "    <div class=\"colab-df-container\">\n",
              "      <div>\n",
              "<style scoped>\n",
              "    .dataframe tbody tr th:only-of-type {\n",
              "        vertical-align: middle;\n",
              "    }\n",
              "\n",
              "    .dataframe tbody tr th {\n",
              "        vertical-align: top;\n",
              "    }\n",
              "\n",
              "    .dataframe thead th {\n",
              "        text-align: right;\n",
              "    }\n",
              "</style>\n",
              "<table border=\"1\" class=\"dataframe\">\n",
              "  <thead>\n",
              "    <tr style=\"text-align: right;\">\n",
              "      <th></th>\n",
              "      <th>RM</th>\n",
              "      <th>LSTAT</th>\n",
              "      <th>PTRATIO</th>\n",
              "      <th>MEDV</th>\n",
              "    </tr>\n",
              "  </thead>\n",
              "  <tbody>\n",
              "    <tr>\n",
              "      <th>0</th>\n",
              "      <td>6.575</td>\n",
              "      <td>4.98</td>\n",
              "      <td>15.3</td>\n",
              "      <td>504000.0</td>\n",
              "    </tr>\n",
              "    <tr>\n",
              "      <th>1</th>\n",
              "      <td>6.421</td>\n",
              "      <td>9.14</td>\n",
              "      <td>17.8</td>\n",
              "      <td>453600.0</td>\n",
              "    </tr>\n",
              "    <tr>\n",
              "      <th>2</th>\n",
              "      <td>7.185</td>\n",
              "      <td>4.03</td>\n",
              "      <td>17.8</td>\n",
              "      <td>728700.0</td>\n",
              "    </tr>\n",
              "    <tr>\n",
              "      <th>3</th>\n",
              "      <td>6.998</td>\n",
              "      <td>2.94</td>\n",
              "      <td>18.7</td>\n",
              "      <td>701400.0</td>\n",
              "    </tr>\n",
              "    <tr>\n",
              "      <th>4</th>\n",
              "      <td>7.147</td>\n",
              "      <td>5.33</td>\n",
              "      <td>18.7</td>\n",
              "      <td>760200.0</td>\n",
              "    </tr>\n",
              "  </tbody>\n",
              "</table>\n",
              "</div>\n",
              "      <button class=\"colab-df-convert\" onclick=\"convertToInteractive('df-f1818f25-bba5-4c62-b942-f22a0f1b0ddf')\"\n",
              "              title=\"Convert this dataframe to an interactive table.\"\n",
              "              style=\"display:none;\">\n",
              "        \n",
              "  <svg xmlns=\"http://www.w3.org/2000/svg\" height=\"24px\"viewBox=\"0 0 24 24\"\n",
              "       width=\"24px\">\n",
              "    <path d=\"M0 0h24v24H0V0z\" fill=\"none\"/>\n",
              "    <path d=\"M18.56 5.44l.94 2.06.94-2.06 2.06-.94-2.06-.94-.94-2.06-.94 2.06-2.06.94zm-11 1L8.5 8.5l.94-2.06 2.06-.94-2.06-.94L8.5 2.5l-.94 2.06-2.06.94zm10 10l.94 2.06.94-2.06 2.06-.94-2.06-.94-.94-2.06-.94 2.06-2.06.94z\"/><path d=\"M17.41 7.96l-1.37-1.37c-.4-.4-.92-.59-1.43-.59-.52 0-1.04.2-1.43.59L10.3 9.45l-7.72 7.72c-.78.78-.78 2.05 0 2.83L4 21.41c.39.39.9.59 1.41.59.51 0 1.02-.2 1.41-.59l7.78-7.78 2.81-2.81c.8-.78.8-2.07 0-2.86zM5.41 20L4 18.59l7.72-7.72 1.47 1.35L5.41 20z\"/>\n",
              "  </svg>\n",
              "      </button>\n",
              "      \n",
              "  <style>\n",
              "    .colab-df-container {\n",
              "      display:flex;\n",
              "      flex-wrap:wrap;\n",
              "      gap: 12px;\n",
              "    }\n",
              "\n",
              "    .colab-df-convert {\n",
              "      background-color: #E8F0FE;\n",
              "      border: none;\n",
              "      border-radius: 50%;\n",
              "      cursor: pointer;\n",
              "      display: none;\n",
              "      fill: #1967D2;\n",
              "      height: 32px;\n",
              "      padding: 0 0 0 0;\n",
              "      width: 32px;\n",
              "    }\n",
              "\n",
              "    .colab-df-convert:hover {\n",
              "      background-color: #E2EBFA;\n",
              "      box-shadow: 0px 1px 2px rgba(60, 64, 67, 0.3), 0px 1px 3px 1px rgba(60, 64, 67, 0.15);\n",
              "      fill: #174EA6;\n",
              "    }\n",
              "\n",
              "    [theme=dark] .colab-df-convert {\n",
              "      background-color: #3B4455;\n",
              "      fill: #D2E3FC;\n",
              "    }\n",
              "\n",
              "    [theme=dark] .colab-df-convert:hover {\n",
              "      background-color: #434B5C;\n",
              "      box-shadow: 0px 1px 3px 1px rgba(0, 0, 0, 0.15);\n",
              "      filter: drop-shadow(0px 1px 2px rgba(0, 0, 0, 0.3));\n",
              "      fill: #FFFFFF;\n",
              "    }\n",
              "  </style>\n",
              "\n",
              "      <script>\n",
              "        const buttonEl =\n",
              "          document.querySelector('#df-f1818f25-bba5-4c62-b942-f22a0f1b0ddf button.colab-df-convert');\n",
              "        buttonEl.style.display =\n",
              "          google.colab.kernel.accessAllowed ? 'block' : 'none';\n",
              "\n",
              "        async function convertToInteractive(key) {\n",
              "          const element = document.querySelector('#df-f1818f25-bba5-4c62-b942-f22a0f1b0ddf');\n",
              "          const dataTable =\n",
              "            await google.colab.kernel.invokeFunction('convertToInteractive',\n",
              "                                                     [key], {});\n",
              "          if (!dataTable) return;\n",
              "\n",
              "          const docLinkHtml = 'Like what you see? Visit the ' +\n",
              "            '<a target=\"_blank\" href=https://colab.research.google.com/notebooks/data_table.ipynb>data table notebook</a>'\n",
              "            + ' to learn more about interactive tables.';\n",
              "          element.innerHTML = '';\n",
              "          dataTable['output_type'] = 'display_data';\n",
              "          await google.colab.output.renderOutput(dataTable, element);\n",
              "          const docLink = document.createElement('div');\n",
              "          docLink.innerHTML = docLinkHtml;\n",
              "          element.appendChild(docLink);\n",
              "        }\n",
              "      </script>\n",
              "    </div>\n",
              "  </div>\n",
              "  "
            ]
          },
          "metadata": {},
          "execution_count": 3
        }
      ]
    },
    {
      "cell_type": "markdown",
      "source": [
        "**Atributos previsores**\n",
        "\n",
        "RM: é o número médio de cômodos entre os imóveis no bairro.\n",
        "\n",
        "LSTAT: é a porcentagem de proprietários no bairro considerados de \"classe baixa\" (proletariado).\n",
        "\n",
        "PTRATIO: é a razão entre estudantes e professores nas escolas de ensino fundamental e médio no bairro.\n",
        "\n",
        "**Variável alvo**\n",
        "\n",
        "MEDV: valor médio das casas"
      ],
      "metadata": {
        "id": "BxBX5HD17FZn"
      }
    },
    {
      "cell_type": "code",
      "source": [
        "df.shape"
      ],
      "metadata": {
        "id": "-pOctrVgQWpa",
        "colab": {
          "base_uri": "https://localhost:8080/"
        },
        "outputId": "f9560110-3519-4d2a-e043-cf3561daac28"
      },
      "execution_count": null,
      "outputs": [
        {
          "output_type": "execute_result",
          "data": {
            "text/plain": [
              "(489, 4)"
            ]
          },
          "metadata": {},
          "execution_count": 4
        }
      ]
    },
    {
      "cell_type": "markdown",
      "source": [
        "## **EXPLORAÇÃO E TRATAMENTO DOS DADOS**"
      ],
      "metadata": {
        "id": "HxaCUHTyTqsg"
      }
    },
    {
      "cell_type": "markdown",
      "metadata": {
        "id": "3lk5kf4eZ_sL"
      },
      "source": [
        "Valores Missing (NAN)"
      ]
    },
    {
      "cell_type": "code",
      "metadata": {
        "id": "A24U7d5QYPaV",
        "colab": {
          "base_uri": "https://localhost:8080/"
        },
        "outputId": "5f838ccb-25a2-4a6b-f435-882919909c4f"
      },
      "source": [
        "# RELAÇÃO DA QUANTIDADE\n",
        "df.isnull().sum()"
      ],
      "execution_count": null,
      "outputs": [
        {
          "output_type": "execute_result",
          "data": {
            "text/plain": [
              "RM         0\n",
              "LSTAT      0\n",
              "PTRATIO    0\n",
              "MEDV       0\n",
              "dtype: int64"
            ]
          },
          "metadata": {},
          "execution_count": 5
        }
      ]
    },
    {
      "cell_type": "markdown",
      "source": [
        "**Análise dos tipos de atributos.**"
      ],
      "metadata": {
        "id": "Q_4_5j4Vlz2j"
      }
    },
    {
      "cell_type": "code",
      "metadata": {
        "id": "wopAqivQXpqI",
        "colab": {
          "base_uri": "https://localhost:8080/"
        },
        "outputId": "7d5fa051-01de-43ea-dd76-30edf8a4446b"
      },
      "source": [
        "# object: strings\n",
        "# int64: inteiros\n",
        "# float64: reais\n",
        "# complex: complexos\n",
        "df.dtypes"
      ],
      "execution_count": null,
      "outputs": [
        {
          "output_type": "execute_result",
          "data": {
            "text/plain": [
              "RM         float64\n",
              "LSTAT      float64\n",
              "PTRATIO    float64\n",
              "MEDV       float64\n",
              "dtype: object"
            ]
          },
          "metadata": {},
          "execution_count": 6
        }
      ]
    },
    {
      "cell_type": "markdown",
      "source": [
        "**Dados Estatísticos**"
      ],
      "metadata": {
        "id": "GmQ0oYyVTYOv"
      }
    },
    {
      "cell_type": "code",
      "source": [
        "df.describe()"
      ],
      "metadata": {
        "id": "BE2XqrzRS8Zo",
        "colab": {
          "base_uri": "https://localhost:8080/"
        },
        "outputId": "f5a6ae0a-2250-41a1-abe1-05863d571330"
      },
      "execution_count": null,
      "outputs": [
        {
          "output_type": "execute_result",
          "data": {
            "text/plain": [
              "               RM       LSTAT     PTRATIO          MEDV\n",
              "count  489.000000  489.000000  489.000000  4.890000e+02\n",
              "mean     6.240288   12.939632   18.516564  4.543429e+05\n",
              "std      0.643650    7.081990    2.111268  1.653403e+05\n",
              "min      3.561000    1.980000   12.600000  1.050000e+05\n",
              "25%      5.880000    7.370000   17.400000  3.507000e+05\n",
              "50%      6.185000   11.690000   19.100000  4.389000e+05\n",
              "75%      6.575000   17.120000   20.200000  5.187000e+05\n",
              "max      8.398000   37.970000   22.000000  1.024800e+06"
            ],
            "text/html": [
              "\n",
              "  <div id=\"df-91af9670-0922-4b6a-9d5a-bfad444eef2d\">\n",
              "    <div class=\"colab-df-container\">\n",
              "      <div>\n",
              "<style scoped>\n",
              "    .dataframe tbody tr th:only-of-type {\n",
              "        vertical-align: middle;\n",
              "    }\n",
              "\n",
              "    .dataframe tbody tr th {\n",
              "        vertical-align: top;\n",
              "    }\n",
              "\n",
              "    .dataframe thead th {\n",
              "        text-align: right;\n",
              "    }\n",
              "</style>\n",
              "<table border=\"1\" class=\"dataframe\">\n",
              "  <thead>\n",
              "    <tr style=\"text-align: right;\">\n",
              "      <th></th>\n",
              "      <th>RM</th>\n",
              "      <th>LSTAT</th>\n",
              "      <th>PTRATIO</th>\n",
              "      <th>MEDV</th>\n",
              "    </tr>\n",
              "  </thead>\n",
              "  <tbody>\n",
              "    <tr>\n",
              "      <th>count</th>\n",
              "      <td>489.000000</td>\n",
              "      <td>489.000000</td>\n",
              "      <td>489.000000</td>\n",
              "      <td>4.890000e+02</td>\n",
              "    </tr>\n",
              "    <tr>\n",
              "      <th>mean</th>\n",
              "      <td>6.240288</td>\n",
              "      <td>12.939632</td>\n",
              "      <td>18.516564</td>\n",
              "      <td>4.543429e+05</td>\n",
              "    </tr>\n",
              "    <tr>\n",
              "      <th>std</th>\n",
              "      <td>0.643650</td>\n",
              "      <td>7.081990</td>\n",
              "      <td>2.111268</td>\n",
              "      <td>1.653403e+05</td>\n",
              "    </tr>\n",
              "    <tr>\n",
              "      <th>min</th>\n",
              "      <td>3.561000</td>\n",
              "      <td>1.980000</td>\n",
              "      <td>12.600000</td>\n",
              "      <td>1.050000e+05</td>\n",
              "    </tr>\n",
              "    <tr>\n",
              "      <th>25%</th>\n",
              "      <td>5.880000</td>\n",
              "      <td>7.370000</td>\n",
              "      <td>17.400000</td>\n",
              "      <td>3.507000e+05</td>\n",
              "    </tr>\n",
              "    <tr>\n",
              "      <th>50%</th>\n",
              "      <td>6.185000</td>\n",
              "      <td>11.690000</td>\n",
              "      <td>19.100000</td>\n",
              "      <td>4.389000e+05</td>\n",
              "    </tr>\n",
              "    <tr>\n",
              "      <th>75%</th>\n",
              "      <td>6.575000</td>\n",
              "      <td>17.120000</td>\n",
              "      <td>20.200000</td>\n",
              "      <td>5.187000e+05</td>\n",
              "    </tr>\n",
              "    <tr>\n",
              "      <th>max</th>\n",
              "      <td>8.398000</td>\n",
              "      <td>37.970000</td>\n",
              "      <td>22.000000</td>\n",
              "      <td>1.024800e+06</td>\n",
              "    </tr>\n",
              "  </tbody>\n",
              "</table>\n",
              "</div>\n",
              "      <button class=\"colab-df-convert\" onclick=\"convertToInteractive('df-91af9670-0922-4b6a-9d5a-bfad444eef2d')\"\n",
              "              title=\"Convert this dataframe to an interactive table.\"\n",
              "              style=\"display:none;\">\n",
              "        \n",
              "  <svg xmlns=\"http://www.w3.org/2000/svg\" height=\"24px\"viewBox=\"0 0 24 24\"\n",
              "       width=\"24px\">\n",
              "    <path d=\"M0 0h24v24H0V0z\" fill=\"none\"/>\n",
              "    <path d=\"M18.56 5.44l.94 2.06.94-2.06 2.06-.94-2.06-.94-.94-2.06-.94 2.06-2.06.94zm-11 1L8.5 8.5l.94-2.06 2.06-.94-2.06-.94L8.5 2.5l-.94 2.06-2.06.94zm10 10l.94 2.06.94-2.06 2.06-.94-2.06-.94-.94-2.06-.94 2.06-2.06.94z\"/><path d=\"M17.41 7.96l-1.37-1.37c-.4-.4-.92-.59-1.43-.59-.52 0-1.04.2-1.43.59L10.3 9.45l-7.72 7.72c-.78.78-.78 2.05 0 2.83L4 21.41c.39.39.9.59 1.41.59.51 0 1.02-.2 1.41-.59l7.78-7.78 2.81-2.81c.8-.78.8-2.07 0-2.86zM5.41 20L4 18.59l7.72-7.72 1.47 1.35L5.41 20z\"/>\n",
              "  </svg>\n",
              "      </button>\n",
              "      \n",
              "  <style>\n",
              "    .colab-df-container {\n",
              "      display:flex;\n",
              "      flex-wrap:wrap;\n",
              "      gap: 12px;\n",
              "    }\n",
              "\n",
              "    .colab-df-convert {\n",
              "      background-color: #E8F0FE;\n",
              "      border: none;\n",
              "      border-radius: 50%;\n",
              "      cursor: pointer;\n",
              "      display: none;\n",
              "      fill: #1967D2;\n",
              "      height: 32px;\n",
              "      padding: 0 0 0 0;\n",
              "      width: 32px;\n",
              "    }\n",
              "\n",
              "    .colab-df-convert:hover {\n",
              "      background-color: #E2EBFA;\n",
              "      box-shadow: 0px 1px 2px rgba(60, 64, 67, 0.3), 0px 1px 3px 1px rgba(60, 64, 67, 0.15);\n",
              "      fill: #174EA6;\n",
              "    }\n",
              "\n",
              "    [theme=dark] .colab-df-convert {\n",
              "      background-color: #3B4455;\n",
              "      fill: #D2E3FC;\n",
              "    }\n",
              "\n",
              "    [theme=dark] .colab-df-convert:hover {\n",
              "      background-color: #434B5C;\n",
              "      box-shadow: 0px 1px 3px 1px rgba(0, 0, 0, 0.15);\n",
              "      filter: drop-shadow(0px 1px 2px rgba(0, 0, 0, 0.3));\n",
              "      fill: #FFFFFF;\n",
              "    }\n",
              "  </style>\n",
              "\n",
              "      <script>\n",
              "        const buttonEl =\n",
              "          document.querySelector('#df-91af9670-0922-4b6a-9d5a-bfad444eef2d button.colab-df-convert');\n",
              "        buttonEl.style.display =\n",
              "          google.colab.kernel.accessAllowed ? 'block' : 'none';\n",
              "\n",
              "        async function convertToInteractive(key) {\n",
              "          const element = document.querySelector('#df-91af9670-0922-4b6a-9d5a-bfad444eef2d');\n",
              "          const dataTable =\n",
              "            await google.colab.kernel.invokeFunction('convertToInteractive',\n",
              "                                                     [key], {});\n",
              "          if (!dataTable) return;\n",
              "\n",
              "          const docLinkHtml = 'Like what you see? Visit the ' +\n",
              "            '<a target=\"_blank\" href=https://colab.research.google.com/notebooks/data_table.ipynb>data table notebook</a>'\n",
              "            + ' to learn more about interactive tables.';\n",
              "          element.innerHTML = '';\n",
              "          dataTable['output_type'] = 'display_data';\n",
              "          await google.colab.output.renderOutput(dataTable, element);\n",
              "          const docLink = document.createElement('div');\n",
              "          docLink.innerHTML = docLinkHtml;\n",
              "          element.appendChild(docLink);\n",
              "        }\n",
              "      </script>\n",
              "    </div>\n",
              "  </div>\n",
              "  "
            ]
          },
          "metadata": {},
          "execution_count": 7
        }
      ]
    },
    {
      "cell_type": "markdown",
      "metadata": {
        "id": "BjC9JIo5jJ79"
      },
      "source": [
        "**Análise dos outliers**"
      ]
    },
    {
      "cell_type": "code",
      "metadata": {
        "id": "9pBh8XgzjJOX"
      },
      "source": [
        "import plotly.express as px"
      ],
      "execution_count": null,
      "outputs": []
    },
    {
      "cell_type": "code",
      "metadata": {
        "id": "R3RYMYZ0jQgO",
        "colab": {
          "base_uri": "https://localhost:8080/"
        },
        "outputId": "dff2ed42-b3b9-4dfd-c8e8-3207b8d59f85"
      },
      "source": [
        "boxplot = px.box(df, y=\"RM\")\n",
        "boxplot.show()"
      ],
      "execution_count": null,
      "outputs": [
        {
          "output_type": "display_data",
          "data": {
            "text/html": [
              "<html>\n",
              "<head><meta charset=\"utf-8\" /></head>\n",
              "<body>\n",
              "    <div>            <script src=\"https://cdnjs.cloudflare.com/ajax/libs/mathjax/2.7.5/MathJax.js?config=TeX-AMS-MML_SVG\"></script><script type=\"text/javascript\">if (window.MathJax) {MathJax.Hub.Config({SVG: {font: \"STIX-Web\"}});}</script>                <script type=\"text/javascript\">window.PlotlyConfig = {MathJaxConfig: 'local'};</script>\n",
              "        <script src=\"https://cdn.plot.ly/plotly-2.8.3.min.js\"></script>                <div id=\"4dd84862-dc02-4a4e-88d1-21161ad519df\" class=\"plotly-graph-div\" style=\"height:525px; width:100%;\"></div>            <script type=\"text/javascript\">                                    window.PLOTLYENV=window.PLOTLYENV || {};                                    if (document.getElementById(\"4dd84862-dc02-4a4e-88d1-21161ad519df\")) {                    Plotly.newPlot(                        \"4dd84862-dc02-4a4e-88d1-21161ad519df\",                        [{\"alignmentgroup\":\"True\",\"hovertemplate\":\"RM=%{y}<extra></extra>\",\"legendgroup\":\"\",\"marker\":{\"color\":\"#636efa\"},\"name\":\"\",\"notched\":false,\"offsetgroup\":\"\",\"orientation\":\"v\",\"showlegend\":false,\"x0\":\" \",\"xaxis\":\"x\",\"y\":[6.575,6.421,7.185,6.998,7.147,6.43,6.012,6.172,5.631,6.004,6.377,6.009,5.889,5.949,6.096,5.834,5.935,5.99,5.456,5.727,5.57,5.965,6.142,5.813,5.924,5.599,5.813,6.047,6.495,6.674,5.713,6.072,5.95,5.701,6.096,5.933,5.841,5.85,5.966,6.595,7.024,6.77,6.169,6.211,6.069,5.682,5.786,6.03,5.399,5.602,5.963,6.115,6.511,5.998,5.888,7.249,6.383,6.816,6.145,5.927,5.741,5.966,6.456,6.762,7.104,6.29,5.787,5.878,5.594,5.885,6.417,5.961,6.065,6.245,6.273,6.286,6.279,6.14,6.232,5.874,6.727,6.619,6.302,6.167,6.389,6.63,6.015,6.121,7.007,7.079,6.417,6.405,6.442,6.211,6.249,6.625,6.163,8.069,7.82,7.416,6.727,6.781,6.405,6.137,6.167,5.851,5.836,6.127,6.474,6.229,6.195,6.715,5.913,6.092,6.254,5.928,6.176,6.021,5.872,5.731,5.87,6.004,5.961,5.856,5.879,5.986,5.613,5.693,6.431,5.637,6.458,6.326,6.372,5.822,5.757,6.335,5.942,6.454,5.857,6.151,6.174,5.019,5.403,5.468,4.903,6.13,5.628,4.926,5.186,5.597,6.122,5.404,5.012,5.709,6.129,6.152,5.272,6.943,6.066,6.51,6.25,5.854,6.101,5.877,6.319,6.402,5.875,5.88,5.572,6.416,5.859,6.546,6.02,6.315,6.86,6.98,7.765,6.144,7.155,6.563,5.604,6.153,6.782,6.556,7.185,6.951,6.739,7.178,6.8,6.604,7.287,7.107,7.274,6.975,7.135,6.162,7.61,7.853,5.891,6.326,5.783,6.064,5.344,5.96,5.404,5.807,6.375,5.412,6.182,5.888,6.642,5.951,6.373,6.951,6.164,6.879,6.618,8.266,8.04,7.163,7.686,6.552,5.981,7.412,8.337,8.247,6.726,6.086,6.631,7.358,6.481,6.606,6.897,6.095,6.358,6.393,5.593,5.605,6.108,6.226,6.433,6.718,6.487,6.438,6.957,8.259,6.108,5.876,7.454,7.333,6.842,7.203,7.52,8.398,7.327,7.206,5.56,7.014,7.47,5.92,5.856,6.24,6.538,7.691,6.758,6.854,7.267,6.826,6.482,6.812,7.82,6.968,7.645,7.088,6.453,6.23,6.209,6.315,6.565,6.861,7.148,6.63,6.127,6.009,6.678,6.549,5.79,6.345,7.041,6.871,6.59,6.495,6.982,7.236,6.616,7.42,6.849,6.635,5.972,4.973,6.122,6.023,6.266,6.567,5.705,5.914,5.782,6.382,6.113,6.426,6.376,6.041,5.708,6.415,6.431,6.312,6.083,5.868,6.333,6.144,5.706,6.031,6.316,6.31,6.037,5.869,5.895,6.059,5.985,5.968,7.241,6.54,6.696,6.874,6.014,5.898,6.516,6.635,6.939,6.49,6.579,5.884,6.728,5.663,5.936,6.212,6.395,6.127,6.112,6.398,6.251,5.362,5.803,3.561,4.963,3.863,4.906,4.138,7.313,6.649,6.794,6.38,6.223,6.968,6.545,5.536,5.52,4.368,5.277,4.652,5.0,4.88,5.39,5.713,6.051,5.036,6.193,5.887,6.471,6.405,5.747,5.453,5.852,5.987,6.343,6.404,5.349,5.531,5.683,4.138,5.608,5.617,6.852,5.757,6.657,4.628,5.155,4.519,6.434,6.782,5.304,5.957,6.824,6.411,6.006,5.648,6.103,5.565,5.896,5.837,6.202,6.193,6.38,6.348,6.833,6.425,6.436,6.208,6.629,6.461,6.152,5.935,5.627,5.818,6.406,6.219,6.485,5.854,6.459,6.341,6.251,6.185,6.417,6.749,6.655,6.297,7.393,6.728,6.525,5.976,5.936,6.301,6.081,6.701,6.376,6.317,6.513,6.209,5.759,5.952,6.003,5.926,5.713,6.167,6.229,6.437,6.98,5.427,6.162,6.484,5.304,6.185,6.229,6.242,6.75,7.061,5.762,5.871,6.312,6.114,5.905,5.454,5.414,5.093,5.983,5.983,5.707,5.926,5.67,5.39,5.794,6.019,5.569,6.027,6.593,6.12,6.976,6.794,6.03],\"y0\":\" \",\"yaxis\":\"y\",\"type\":\"box\"}],                        {\"template\":{\"data\":{\"bar\":[{\"error_x\":{\"color\":\"#2a3f5f\"},\"error_y\":{\"color\":\"#2a3f5f\"},\"marker\":{\"line\":{\"color\":\"#E5ECF6\",\"width\":0.5},\"pattern\":{\"fillmode\":\"overlay\",\"size\":10,\"solidity\":0.2}},\"type\":\"bar\"}],\"barpolar\":[{\"marker\":{\"line\":{\"color\":\"#E5ECF6\",\"width\":0.5},\"pattern\":{\"fillmode\":\"overlay\",\"size\":10,\"solidity\":0.2}},\"type\":\"barpolar\"}],\"carpet\":[{\"aaxis\":{\"endlinecolor\":\"#2a3f5f\",\"gridcolor\":\"white\",\"linecolor\":\"white\",\"minorgridcolor\":\"white\",\"startlinecolor\":\"#2a3f5f\"},\"baxis\":{\"endlinecolor\":\"#2a3f5f\",\"gridcolor\":\"white\",\"linecolor\":\"white\",\"minorgridcolor\":\"white\",\"startlinecolor\":\"#2a3f5f\"},\"type\":\"carpet\"}],\"choropleth\":[{\"colorbar\":{\"outlinewidth\":0,\"ticks\":\"\"},\"type\":\"choropleth\"}],\"contour\":[{\"colorbar\":{\"outlinewidth\":0,\"ticks\":\"\"},\"colorscale\":[[0.0,\"#0d0887\"],[0.1111111111111111,\"#46039f\"],[0.2222222222222222,\"#7201a8\"],[0.3333333333333333,\"#9c179e\"],[0.4444444444444444,\"#bd3786\"],[0.5555555555555556,\"#d8576b\"],[0.6666666666666666,\"#ed7953\"],[0.7777777777777778,\"#fb9f3a\"],[0.8888888888888888,\"#fdca26\"],[1.0,\"#f0f921\"]],\"type\":\"contour\"}],\"contourcarpet\":[{\"colorbar\":{\"outlinewidth\":0,\"ticks\":\"\"},\"type\":\"contourcarpet\"}],\"heatmap\":[{\"colorbar\":{\"outlinewidth\":0,\"ticks\":\"\"},\"colorscale\":[[0.0,\"#0d0887\"],[0.1111111111111111,\"#46039f\"],[0.2222222222222222,\"#7201a8\"],[0.3333333333333333,\"#9c179e\"],[0.4444444444444444,\"#bd3786\"],[0.5555555555555556,\"#d8576b\"],[0.6666666666666666,\"#ed7953\"],[0.7777777777777778,\"#fb9f3a\"],[0.8888888888888888,\"#fdca26\"],[1.0,\"#f0f921\"]],\"type\":\"heatmap\"}],\"heatmapgl\":[{\"colorbar\":{\"outlinewidth\":0,\"ticks\":\"\"},\"colorscale\":[[0.0,\"#0d0887\"],[0.1111111111111111,\"#46039f\"],[0.2222222222222222,\"#7201a8\"],[0.3333333333333333,\"#9c179e\"],[0.4444444444444444,\"#bd3786\"],[0.5555555555555556,\"#d8576b\"],[0.6666666666666666,\"#ed7953\"],[0.7777777777777778,\"#fb9f3a\"],[0.8888888888888888,\"#fdca26\"],[1.0,\"#f0f921\"]],\"type\":\"heatmapgl\"}],\"histogram\":[{\"marker\":{\"pattern\":{\"fillmode\":\"overlay\",\"size\":10,\"solidity\":0.2}},\"type\":\"histogram\"}],\"histogram2d\":[{\"colorbar\":{\"outlinewidth\":0,\"ticks\":\"\"},\"colorscale\":[[0.0,\"#0d0887\"],[0.1111111111111111,\"#46039f\"],[0.2222222222222222,\"#7201a8\"],[0.3333333333333333,\"#9c179e\"],[0.4444444444444444,\"#bd3786\"],[0.5555555555555556,\"#d8576b\"],[0.6666666666666666,\"#ed7953\"],[0.7777777777777778,\"#fb9f3a\"],[0.8888888888888888,\"#fdca26\"],[1.0,\"#f0f921\"]],\"type\":\"histogram2d\"}],\"histogram2dcontour\":[{\"colorbar\":{\"outlinewidth\":0,\"ticks\":\"\"},\"colorscale\":[[0.0,\"#0d0887\"],[0.1111111111111111,\"#46039f\"],[0.2222222222222222,\"#7201a8\"],[0.3333333333333333,\"#9c179e\"],[0.4444444444444444,\"#bd3786\"],[0.5555555555555556,\"#d8576b\"],[0.6666666666666666,\"#ed7953\"],[0.7777777777777778,\"#fb9f3a\"],[0.8888888888888888,\"#fdca26\"],[1.0,\"#f0f921\"]],\"type\":\"histogram2dcontour\"}],\"mesh3d\":[{\"colorbar\":{\"outlinewidth\":0,\"ticks\":\"\"},\"type\":\"mesh3d\"}],\"parcoords\":[{\"line\":{\"colorbar\":{\"outlinewidth\":0,\"ticks\":\"\"}},\"type\":\"parcoords\"}],\"pie\":[{\"automargin\":true,\"type\":\"pie\"}],\"scatter\":[{\"marker\":{\"colorbar\":{\"outlinewidth\":0,\"ticks\":\"\"}},\"type\":\"scatter\"}],\"scatter3d\":[{\"line\":{\"colorbar\":{\"outlinewidth\":0,\"ticks\":\"\"}},\"marker\":{\"colorbar\":{\"outlinewidth\":0,\"ticks\":\"\"}},\"type\":\"scatter3d\"}],\"scattercarpet\":[{\"marker\":{\"colorbar\":{\"outlinewidth\":0,\"ticks\":\"\"}},\"type\":\"scattercarpet\"}],\"scattergeo\":[{\"marker\":{\"colorbar\":{\"outlinewidth\":0,\"ticks\":\"\"}},\"type\":\"scattergeo\"}],\"scattergl\":[{\"marker\":{\"colorbar\":{\"outlinewidth\":0,\"ticks\":\"\"}},\"type\":\"scattergl\"}],\"scattermapbox\":[{\"marker\":{\"colorbar\":{\"outlinewidth\":0,\"ticks\":\"\"}},\"type\":\"scattermapbox\"}],\"scatterpolar\":[{\"marker\":{\"colorbar\":{\"outlinewidth\":0,\"ticks\":\"\"}},\"type\":\"scatterpolar\"}],\"scatterpolargl\":[{\"marker\":{\"colorbar\":{\"outlinewidth\":0,\"ticks\":\"\"}},\"type\":\"scatterpolargl\"}],\"scatterternary\":[{\"marker\":{\"colorbar\":{\"outlinewidth\":0,\"ticks\":\"\"}},\"type\":\"scatterternary\"}],\"surface\":[{\"colorbar\":{\"outlinewidth\":0,\"ticks\":\"\"},\"colorscale\":[[0.0,\"#0d0887\"],[0.1111111111111111,\"#46039f\"],[0.2222222222222222,\"#7201a8\"],[0.3333333333333333,\"#9c179e\"],[0.4444444444444444,\"#bd3786\"],[0.5555555555555556,\"#d8576b\"],[0.6666666666666666,\"#ed7953\"],[0.7777777777777778,\"#fb9f3a\"],[0.8888888888888888,\"#fdca26\"],[1.0,\"#f0f921\"]],\"type\":\"surface\"}],\"table\":[{\"cells\":{\"fill\":{\"color\":\"#EBF0F8\"},\"line\":{\"color\":\"white\"}},\"header\":{\"fill\":{\"color\":\"#C8D4E3\"},\"line\":{\"color\":\"white\"}},\"type\":\"table\"}]},\"layout\":{\"annotationdefaults\":{\"arrowcolor\":\"#2a3f5f\",\"arrowhead\":0,\"arrowwidth\":1},\"autotypenumbers\":\"strict\",\"coloraxis\":{\"colorbar\":{\"outlinewidth\":0,\"ticks\":\"\"}},\"colorscale\":{\"diverging\":[[0,\"#8e0152\"],[0.1,\"#c51b7d\"],[0.2,\"#de77ae\"],[0.3,\"#f1b6da\"],[0.4,\"#fde0ef\"],[0.5,\"#f7f7f7\"],[0.6,\"#e6f5d0\"],[0.7,\"#b8e186\"],[0.8,\"#7fbc41\"],[0.9,\"#4d9221\"],[1,\"#276419\"]],\"sequential\":[[0.0,\"#0d0887\"],[0.1111111111111111,\"#46039f\"],[0.2222222222222222,\"#7201a8\"],[0.3333333333333333,\"#9c179e\"],[0.4444444444444444,\"#bd3786\"],[0.5555555555555556,\"#d8576b\"],[0.6666666666666666,\"#ed7953\"],[0.7777777777777778,\"#fb9f3a\"],[0.8888888888888888,\"#fdca26\"],[1.0,\"#f0f921\"]],\"sequentialminus\":[[0.0,\"#0d0887\"],[0.1111111111111111,\"#46039f\"],[0.2222222222222222,\"#7201a8\"],[0.3333333333333333,\"#9c179e\"],[0.4444444444444444,\"#bd3786\"],[0.5555555555555556,\"#d8576b\"],[0.6666666666666666,\"#ed7953\"],[0.7777777777777778,\"#fb9f3a\"],[0.8888888888888888,\"#fdca26\"],[1.0,\"#f0f921\"]]},\"colorway\":[\"#636efa\",\"#EF553B\",\"#00cc96\",\"#ab63fa\",\"#FFA15A\",\"#19d3f3\",\"#FF6692\",\"#B6E880\",\"#FF97FF\",\"#FECB52\"],\"font\":{\"color\":\"#2a3f5f\"},\"geo\":{\"bgcolor\":\"white\",\"lakecolor\":\"white\",\"landcolor\":\"#E5ECF6\",\"showlakes\":true,\"showland\":true,\"subunitcolor\":\"white\"},\"hoverlabel\":{\"align\":\"left\"},\"hovermode\":\"closest\",\"mapbox\":{\"style\":\"light\"},\"paper_bgcolor\":\"white\",\"plot_bgcolor\":\"#E5ECF6\",\"polar\":{\"angularaxis\":{\"gridcolor\":\"white\",\"linecolor\":\"white\",\"ticks\":\"\"},\"bgcolor\":\"#E5ECF6\",\"radialaxis\":{\"gridcolor\":\"white\",\"linecolor\":\"white\",\"ticks\":\"\"}},\"scene\":{\"xaxis\":{\"backgroundcolor\":\"#E5ECF6\",\"gridcolor\":\"white\",\"gridwidth\":2,\"linecolor\":\"white\",\"showbackground\":true,\"ticks\":\"\",\"zerolinecolor\":\"white\"},\"yaxis\":{\"backgroundcolor\":\"#E5ECF6\",\"gridcolor\":\"white\",\"gridwidth\":2,\"linecolor\":\"white\",\"showbackground\":true,\"ticks\":\"\",\"zerolinecolor\":\"white\"},\"zaxis\":{\"backgroundcolor\":\"#E5ECF6\",\"gridcolor\":\"white\",\"gridwidth\":2,\"linecolor\":\"white\",\"showbackground\":true,\"ticks\":\"\",\"zerolinecolor\":\"white\"}},\"shapedefaults\":{\"line\":{\"color\":\"#2a3f5f\"}},\"ternary\":{\"aaxis\":{\"gridcolor\":\"white\",\"linecolor\":\"white\",\"ticks\":\"\"},\"baxis\":{\"gridcolor\":\"white\",\"linecolor\":\"white\",\"ticks\":\"\"},\"bgcolor\":\"#E5ECF6\",\"caxis\":{\"gridcolor\":\"white\",\"linecolor\":\"white\",\"ticks\":\"\"}},\"title\":{\"x\":0.05},\"xaxis\":{\"automargin\":true,\"gridcolor\":\"white\",\"linecolor\":\"white\",\"ticks\":\"\",\"title\":{\"standoff\":15},\"zerolinecolor\":\"white\",\"zerolinewidth\":2},\"yaxis\":{\"automargin\":true,\"gridcolor\":\"white\",\"linecolor\":\"white\",\"ticks\":\"\",\"title\":{\"standoff\":15},\"zerolinecolor\":\"white\",\"zerolinewidth\":2}}},\"xaxis\":{\"anchor\":\"y\",\"domain\":[0.0,1.0]},\"yaxis\":{\"anchor\":\"x\",\"domain\":[0.0,1.0],\"title\":{\"text\":\"RM\"}},\"legend\":{\"tracegroupgap\":0},\"margin\":{\"t\":60},\"boxmode\":\"group\"},                        {\"responsive\": true}                    ).then(function(){\n",
              "                            \n",
              "var gd = document.getElementById('4dd84862-dc02-4a4e-88d1-21161ad519df');\n",
              "var x = new MutationObserver(function (mutations, observer) {{\n",
              "        var display = window.getComputedStyle(gd).display;\n",
              "        if (!display || display === 'none') {{\n",
              "            console.log([gd, 'removed!']);\n",
              "            Plotly.purge(gd);\n",
              "            observer.disconnect();\n",
              "        }}\n",
              "}});\n",
              "\n",
              "// Listen for the removal of the full notebook cells\n",
              "var notebookContainer = gd.closest('#notebook-container');\n",
              "if (notebookContainer) {{\n",
              "    x.observe(notebookContainer, {childList: true});\n",
              "}}\n",
              "\n",
              "// Listen for the clearing of the current output cell\n",
              "var outputEl = gd.closest('.output');\n",
              "if (outputEl) {{\n",
              "    x.observe(outputEl, {childList: true});\n",
              "}}\n",
              "\n",
              "                        })                };                            </script>        </div>\n",
              "</body>\n",
              "</html>"
            ]
          },
          "metadata": {}
        }
      ]
    },
    {
      "cell_type": "code",
      "source": [
        "boxplot = px.box(df, y=\"LSTAT\")\n",
        "boxplot.show()"
      ],
      "metadata": {
        "id": "QNJ0er6fROyJ",
        "colab": {
          "base_uri": "https://localhost:8080/"
        },
        "outputId": "2366a292-c166-4d22-8d59-b6faeca20f90"
      },
      "execution_count": null,
      "outputs": [
        {
          "output_type": "display_data",
          "data": {
            "text/html": [
              "<html>\n",
              "<head><meta charset=\"utf-8\" /></head>\n",
              "<body>\n",
              "    <div>            <script src=\"https://cdnjs.cloudflare.com/ajax/libs/mathjax/2.7.5/MathJax.js?config=TeX-AMS-MML_SVG\"></script><script type=\"text/javascript\">if (window.MathJax) {MathJax.Hub.Config({SVG: {font: \"STIX-Web\"}});}</script>                <script type=\"text/javascript\">window.PlotlyConfig = {MathJaxConfig: 'local'};</script>\n",
              "        <script src=\"https://cdn.plot.ly/plotly-2.8.3.min.js\"></script>                <div id=\"4ec937f3-be29-43ed-864b-9f00c74dd87e\" class=\"plotly-graph-div\" style=\"height:525px; width:100%;\"></div>            <script type=\"text/javascript\">                                    window.PLOTLYENV=window.PLOTLYENV || {};                                    if (document.getElementById(\"4ec937f3-be29-43ed-864b-9f00c74dd87e\")) {                    Plotly.newPlot(                        \"4ec937f3-be29-43ed-864b-9f00c74dd87e\",                        [{\"alignmentgroup\":\"True\",\"hovertemplate\":\"LSTAT=%{y}<extra></extra>\",\"legendgroup\":\"\",\"marker\":{\"color\":\"#636efa\"},\"name\":\"\",\"notched\":false,\"offsetgroup\":\"\",\"orientation\":\"v\",\"showlegend\":false,\"x0\":\" \",\"xaxis\":\"x\",\"y\":[4.98,9.14,4.03,2.94,5.33,5.21,12.43,19.15,29.93,17.1,20.45,13.27,15.71,8.26,10.26,8.47,6.58,14.67,11.69,11.28,21.02,13.83,18.72,19.88,16.3,16.51,14.81,17.28,12.8,11.98,22.6,13.04,27.71,18.35,20.34,9.68,11.41,8.77,10.13,4.32,1.98,4.84,5.81,7.44,9.55,10.21,14.15,18.8,30.81,16.2,13.45,9.43,5.28,8.43,14.8,4.81,5.77,3.95,6.86,9.22,13.15,14.44,6.73,9.5,8.05,4.67,10.24,8.1,13.09,8.79,6.72,9.88,5.52,7.54,6.78,8.94,11.97,10.27,12.34,9.1,5.29,7.22,6.72,7.51,9.62,6.53,12.86,8.44,5.5,5.7,8.81,8.2,8.16,6.21,10.59,6.65,11.34,4.21,3.57,6.19,9.42,7.67,10.63,13.44,12.33,16.47,18.66,14.09,12.27,15.55,13.0,10.16,16.21,17.09,10.45,15.76,12.04,10.3,15.37,13.61,14.37,14.27,17.93,25.41,17.58,14.81,27.26,17.19,15.39,18.34,12.6,12.26,11.12,15.03,17.31,16.96,16.9,14.59,21.32,18.46,24.16,34.41,26.82,26.42,29.29,27.8,16.65,29.53,28.32,21.45,14.1,13.28,12.12,15.79,15.12,15.02,16.14,4.59,6.43,7.39,5.5,11.64,9.81,12.14,11.1,11.32,14.43,12.03,14.69,9.04,9.64,5.33,10.11,6.29,6.92,5.04,7.56,9.45,4.82,5.68,13.98,13.15,6.68,4.56,5.39,5.1,4.69,2.87,5.03,4.38,4.08,8.61,6.62,4.56,4.45,7.43,3.11,3.81,10.87,10.97,18.06,14.66,23.09,17.27,23.98,16.03,9.38,29.55,9.47,13.51,9.69,17.92,10.5,9.71,21.46,9.93,7.6,4.14,3.13,6.36,3.92,3.76,11.65,5.25,2.47,3.95,8.05,10.88,9.54,4.73,6.36,7.37,11.38,12.4,11.22,5.19,12.5,18.46,9.16,10.15,9.52,6.56,5.9,3.59,3.53,3.54,6.57,9.25,3.11,7.79,6.9,9.59,7.26,5.91,11.25,8.1,10.45,14.79,3.16,13.65,13.0,6.59,7.73,6.58,3.53,2.98,6.05,4.16,7.19,4.85,3.76,4.59,3.01,7.85,8.23,12.93,7.14,7.6,9.51,3.33,3.56,4.7,8.58,10.4,6.27,7.39,15.84,4.97,4.74,6.07,9.5,8.67,4.86,6.93,8.93,6.47,7.53,4.54,9.97,12.64,5.98,11.72,7.9,9.28,11.5,18.33,15.94,10.36,12.73,7.2,6.87,7.7,11.74,6.12,5.08,6.15,12.79,9.97,7.34,9.09,12.43,7.83,5.68,6.75,8.01,9.8,10.56,8.51,9.74,9.29,5.49,8.65,7.18,4.61,10.53,12.67,6.36,5.99,5.89,5.98,5.49,7.79,4.5,8.05,5.57,17.6,13.27,11.48,12.67,7.79,14.19,10.19,14.64,7.12,14.0,13.33,34.77,37.97,13.44,23.24,21.24,23.69,21.78,17.21,21.08,23.6,24.56,30.63,30.81,28.28,31.99,30.62,20.85,17.11,18.76,25.68,15.17,16.35,17.12,19.37,19.92,30.59,29.97,26.77,20.32,20.31,19.77,27.38,22.98,23.34,12.13,26.4,19.78,10.11,21.22,34.37,20.08,36.98,29.05,25.79,26.64,20.62,22.74,15.02,15.7,14.1,23.29,17.16,24.39,15.69,14.52,21.52,24.08,17.64,19.69,12.03,16.22,15.17,23.27,18.05,26.45,34.02,22.88,22.11,19.52,16.59,18.85,23.79,23.98,17.79,16.44,18.13,19.31,17.44,17.73,17.27,16.74,18.71,18.13,19.01,16.94,16.23,14.7,16.42,14.65,13.99,10.29,13.22,14.13,17.15,21.32,18.13,14.76,16.29,12.87,14.36,11.66,18.14,24.1,18.68,24.91,18.03,13.11,10.74,7.74,7.01,10.42,13.34,10.58,14.98,11.45,18.06,23.97,29.68,18.07,13.35,12.01,13.59,17.6,21.14,14.1,12.92,15.1,14.33,9.67,9.08,5.64,6.48,7.88],\"y0\":\" \",\"yaxis\":\"y\",\"type\":\"box\"}],                        {\"template\":{\"data\":{\"bar\":[{\"error_x\":{\"color\":\"#2a3f5f\"},\"error_y\":{\"color\":\"#2a3f5f\"},\"marker\":{\"line\":{\"color\":\"#E5ECF6\",\"width\":0.5},\"pattern\":{\"fillmode\":\"overlay\",\"size\":10,\"solidity\":0.2}},\"type\":\"bar\"}],\"barpolar\":[{\"marker\":{\"line\":{\"color\":\"#E5ECF6\",\"width\":0.5},\"pattern\":{\"fillmode\":\"overlay\",\"size\":10,\"solidity\":0.2}},\"type\":\"barpolar\"}],\"carpet\":[{\"aaxis\":{\"endlinecolor\":\"#2a3f5f\",\"gridcolor\":\"white\",\"linecolor\":\"white\",\"minorgridcolor\":\"white\",\"startlinecolor\":\"#2a3f5f\"},\"baxis\":{\"endlinecolor\":\"#2a3f5f\",\"gridcolor\":\"white\",\"linecolor\":\"white\",\"minorgridcolor\":\"white\",\"startlinecolor\":\"#2a3f5f\"},\"type\":\"carpet\"}],\"choropleth\":[{\"colorbar\":{\"outlinewidth\":0,\"ticks\":\"\"},\"type\":\"choropleth\"}],\"contour\":[{\"colorbar\":{\"outlinewidth\":0,\"ticks\":\"\"},\"colorscale\":[[0.0,\"#0d0887\"],[0.1111111111111111,\"#46039f\"],[0.2222222222222222,\"#7201a8\"],[0.3333333333333333,\"#9c179e\"],[0.4444444444444444,\"#bd3786\"],[0.5555555555555556,\"#d8576b\"],[0.6666666666666666,\"#ed7953\"],[0.7777777777777778,\"#fb9f3a\"],[0.8888888888888888,\"#fdca26\"],[1.0,\"#f0f921\"]],\"type\":\"contour\"}],\"contourcarpet\":[{\"colorbar\":{\"outlinewidth\":0,\"ticks\":\"\"},\"type\":\"contourcarpet\"}],\"heatmap\":[{\"colorbar\":{\"outlinewidth\":0,\"ticks\":\"\"},\"colorscale\":[[0.0,\"#0d0887\"],[0.1111111111111111,\"#46039f\"],[0.2222222222222222,\"#7201a8\"],[0.3333333333333333,\"#9c179e\"],[0.4444444444444444,\"#bd3786\"],[0.5555555555555556,\"#d8576b\"],[0.6666666666666666,\"#ed7953\"],[0.7777777777777778,\"#fb9f3a\"],[0.8888888888888888,\"#fdca26\"],[1.0,\"#f0f921\"]],\"type\":\"heatmap\"}],\"heatmapgl\":[{\"colorbar\":{\"outlinewidth\":0,\"ticks\":\"\"},\"colorscale\":[[0.0,\"#0d0887\"],[0.1111111111111111,\"#46039f\"],[0.2222222222222222,\"#7201a8\"],[0.3333333333333333,\"#9c179e\"],[0.4444444444444444,\"#bd3786\"],[0.5555555555555556,\"#d8576b\"],[0.6666666666666666,\"#ed7953\"],[0.7777777777777778,\"#fb9f3a\"],[0.8888888888888888,\"#fdca26\"],[1.0,\"#f0f921\"]],\"type\":\"heatmapgl\"}],\"histogram\":[{\"marker\":{\"pattern\":{\"fillmode\":\"overlay\",\"size\":10,\"solidity\":0.2}},\"type\":\"histogram\"}],\"histogram2d\":[{\"colorbar\":{\"outlinewidth\":0,\"ticks\":\"\"},\"colorscale\":[[0.0,\"#0d0887\"],[0.1111111111111111,\"#46039f\"],[0.2222222222222222,\"#7201a8\"],[0.3333333333333333,\"#9c179e\"],[0.4444444444444444,\"#bd3786\"],[0.5555555555555556,\"#d8576b\"],[0.6666666666666666,\"#ed7953\"],[0.7777777777777778,\"#fb9f3a\"],[0.8888888888888888,\"#fdca26\"],[1.0,\"#f0f921\"]],\"type\":\"histogram2d\"}],\"histogram2dcontour\":[{\"colorbar\":{\"outlinewidth\":0,\"ticks\":\"\"},\"colorscale\":[[0.0,\"#0d0887\"],[0.1111111111111111,\"#46039f\"],[0.2222222222222222,\"#7201a8\"],[0.3333333333333333,\"#9c179e\"],[0.4444444444444444,\"#bd3786\"],[0.5555555555555556,\"#d8576b\"],[0.6666666666666666,\"#ed7953\"],[0.7777777777777778,\"#fb9f3a\"],[0.8888888888888888,\"#fdca26\"],[1.0,\"#f0f921\"]],\"type\":\"histogram2dcontour\"}],\"mesh3d\":[{\"colorbar\":{\"outlinewidth\":0,\"ticks\":\"\"},\"type\":\"mesh3d\"}],\"parcoords\":[{\"line\":{\"colorbar\":{\"outlinewidth\":0,\"ticks\":\"\"}},\"type\":\"parcoords\"}],\"pie\":[{\"automargin\":true,\"type\":\"pie\"}],\"scatter\":[{\"marker\":{\"colorbar\":{\"outlinewidth\":0,\"ticks\":\"\"}},\"type\":\"scatter\"}],\"scatter3d\":[{\"line\":{\"colorbar\":{\"outlinewidth\":0,\"ticks\":\"\"}},\"marker\":{\"colorbar\":{\"outlinewidth\":0,\"ticks\":\"\"}},\"type\":\"scatter3d\"}],\"scattercarpet\":[{\"marker\":{\"colorbar\":{\"outlinewidth\":0,\"ticks\":\"\"}},\"type\":\"scattercarpet\"}],\"scattergeo\":[{\"marker\":{\"colorbar\":{\"outlinewidth\":0,\"ticks\":\"\"}},\"type\":\"scattergeo\"}],\"scattergl\":[{\"marker\":{\"colorbar\":{\"outlinewidth\":0,\"ticks\":\"\"}},\"type\":\"scattergl\"}],\"scattermapbox\":[{\"marker\":{\"colorbar\":{\"outlinewidth\":0,\"ticks\":\"\"}},\"type\":\"scattermapbox\"}],\"scatterpolar\":[{\"marker\":{\"colorbar\":{\"outlinewidth\":0,\"ticks\":\"\"}},\"type\":\"scatterpolar\"}],\"scatterpolargl\":[{\"marker\":{\"colorbar\":{\"outlinewidth\":0,\"ticks\":\"\"}},\"type\":\"scatterpolargl\"}],\"scatterternary\":[{\"marker\":{\"colorbar\":{\"outlinewidth\":0,\"ticks\":\"\"}},\"type\":\"scatterternary\"}],\"surface\":[{\"colorbar\":{\"outlinewidth\":0,\"ticks\":\"\"},\"colorscale\":[[0.0,\"#0d0887\"],[0.1111111111111111,\"#46039f\"],[0.2222222222222222,\"#7201a8\"],[0.3333333333333333,\"#9c179e\"],[0.4444444444444444,\"#bd3786\"],[0.5555555555555556,\"#d8576b\"],[0.6666666666666666,\"#ed7953\"],[0.7777777777777778,\"#fb9f3a\"],[0.8888888888888888,\"#fdca26\"],[1.0,\"#f0f921\"]],\"type\":\"surface\"}],\"table\":[{\"cells\":{\"fill\":{\"color\":\"#EBF0F8\"},\"line\":{\"color\":\"white\"}},\"header\":{\"fill\":{\"color\":\"#C8D4E3\"},\"line\":{\"color\":\"white\"}},\"type\":\"table\"}]},\"layout\":{\"annotationdefaults\":{\"arrowcolor\":\"#2a3f5f\",\"arrowhead\":0,\"arrowwidth\":1},\"autotypenumbers\":\"strict\",\"coloraxis\":{\"colorbar\":{\"outlinewidth\":0,\"ticks\":\"\"}},\"colorscale\":{\"diverging\":[[0,\"#8e0152\"],[0.1,\"#c51b7d\"],[0.2,\"#de77ae\"],[0.3,\"#f1b6da\"],[0.4,\"#fde0ef\"],[0.5,\"#f7f7f7\"],[0.6,\"#e6f5d0\"],[0.7,\"#b8e186\"],[0.8,\"#7fbc41\"],[0.9,\"#4d9221\"],[1,\"#276419\"]],\"sequential\":[[0.0,\"#0d0887\"],[0.1111111111111111,\"#46039f\"],[0.2222222222222222,\"#7201a8\"],[0.3333333333333333,\"#9c179e\"],[0.4444444444444444,\"#bd3786\"],[0.5555555555555556,\"#d8576b\"],[0.6666666666666666,\"#ed7953\"],[0.7777777777777778,\"#fb9f3a\"],[0.8888888888888888,\"#fdca26\"],[1.0,\"#f0f921\"]],\"sequentialminus\":[[0.0,\"#0d0887\"],[0.1111111111111111,\"#46039f\"],[0.2222222222222222,\"#7201a8\"],[0.3333333333333333,\"#9c179e\"],[0.4444444444444444,\"#bd3786\"],[0.5555555555555556,\"#d8576b\"],[0.6666666666666666,\"#ed7953\"],[0.7777777777777778,\"#fb9f3a\"],[0.8888888888888888,\"#fdca26\"],[1.0,\"#f0f921\"]]},\"colorway\":[\"#636efa\",\"#EF553B\",\"#00cc96\",\"#ab63fa\",\"#FFA15A\",\"#19d3f3\",\"#FF6692\",\"#B6E880\",\"#FF97FF\",\"#FECB52\"],\"font\":{\"color\":\"#2a3f5f\"},\"geo\":{\"bgcolor\":\"white\",\"lakecolor\":\"white\",\"landcolor\":\"#E5ECF6\",\"showlakes\":true,\"showland\":true,\"subunitcolor\":\"white\"},\"hoverlabel\":{\"align\":\"left\"},\"hovermode\":\"closest\",\"mapbox\":{\"style\":\"light\"},\"paper_bgcolor\":\"white\",\"plot_bgcolor\":\"#E5ECF6\",\"polar\":{\"angularaxis\":{\"gridcolor\":\"white\",\"linecolor\":\"white\",\"ticks\":\"\"},\"bgcolor\":\"#E5ECF6\",\"radialaxis\":{\"gridcolor\":\"white\",\"linecolor\":\"white\",\"ticks\":\"\"}},\"scene\":{\"xaxis\":{\"backgroundcolor\":\"#E5ECF6\",\"gridcolor\":\"white\",\"gridwidth\":2,\"linecolor\":\"white\",\"showbackground\":true,\"ticks\":\"\",\"zerolinecolor\":\"white\"},\"yaxis\":{\"backgroundcolor\":\"#E5ECF6\",\"gridcolor\":\"white\",\"gridwidth\":2,\"linecolor\":\"white\",\"showbackground\":true,\"ticks\":\"\",\"zerolinecolor\":\"white\"},\"zaxis\":{\"backgroundcolor\":\"#E5ECF6\",\"gridcolor\":\"white\",\"gridwidth\":2,\"linecolor\":\"white\",\"showbackground\":true,\"ticks\":\"\",\"zerolinecolor\":\"white\"}},\"shapedefaults\":{\"line\":{\"color\":\"#2a3f5f\"}},\"ternary\":{\"aaxis\":{\"gridcolor\":\"white\",\"linecolor\":\"white\",\"ticks\":\"\"},\"baxis\":{\"gridcolor\":\"white\",\"linecolor\":\"white\",\"ticks\":\"\"},\"bgcolor\":\"#E5ECF6\",\"caxis\":{\"gridcolor\":\"white\",\"linecolor\":\"white\",\"ticks\":\"\"}},\"title\":{\"x\":0.05},\"xaxis\":{\"automargin\":true,\"gridcolor\":\"white\",\"linecolor\":\"white\",\"ticks\":\"\",\"title\":{\"standoff\":15},\"zerolinecolor\":\"white\",\"zerolinewidth\":2},\"yaxis\":{\"automargin\":true,\"gridcolor\":\"white\",\"linecolor\":\"white\",\"ticks\":\"\",\"title\":{\"standoff\":15},\"zerolinecolor\":\"white\",\"zerolinewidth\":2}}},\"xaxis\":{\"anchor\":\"y\",\"domain\":[0.0,1.0]},\"yaxis\":{\"anchor\":\"x\",\"domain\":[0.0,1.0],\"title\":{\"text\":\"LSTAT\"}},\"legend\":{\"tracegroupgap\":0},\"margin\":{\"t\":60},\"boxmode\":\"group\"},                        {\"responsive\": true}                    ).then(function(){\n",
              "                            \n",
              "var gd = document.getElementById('4ec937f3-be29-43ed-864b-9f00c74dd87e');\n",
              "var x = new MutationObserver(function (mutations, observer) {{\n",
              "        var display = window.getComputedStyle(gd).display;\n",
              "        if (!display || display === 'none') {{\n",
              "            console.log([gd, 'removed!']);\n",
              "            Plotly.purge(gd);\n",
              "            observer.disconnect();\n",
              "        }}\n",
              "}});\n",
              "\n",
              "// Listen for the removal of the full notebook cells\n",
              "var notebookContainer = gd.closest('#notebook-container');\n",
              "if (notebookContainer) {{\n",
              "    x.observe(notebookContainer, {childList: true});\n",
              "}}\n",
              "\n",
              "// Listen for the clearing of the current output cell\n",
              "var outputEl = gd.closest('.output');\n",
              "if (outputEl) {{\n",
              "    x.observe(outputEl, {childList: true});\n",
              "}}\n",
              "\n",
              "                        })                };                            </script>        </div>\n",
              "</body>\n",
              "</html>"
            ]
          },
          "metadata": {}
        }
      ]
    },
    {
      "cell_type": "code",
      "source": [
        "boxplot = px.box(df, y=\"PTRATIO\")\n",
        "boxplot.show()"
      ],
      "metadata": {
        "id": "xQXSjXoSRqTg",
        "colab": {
          "base_uri": "https://localhost:8080/"
        },
        "outputId": "501d973f-a1b9-4260-f248-aec9fc27437e"
      },
      "execution_count": null,
      "outputs": [
        {
          "output_type": "display_data",
          "data": {
            "text/html": [
              "<html>\n",
              "<head><meta charset=\"utf-8\" /></head>\n",
              "<body>\n",
              "    <div>            <script src=\"https://cdnjs.cloudflare.com/ajax/libs/mathjax/2.7.5/MathJax.js?config=TeX-AMS-MML_SVG\"></script><script type=\"text/javascript\">if (window.MathJax) {MathJax.Hub.Config({SVG: {font: \"STIX-Web\"}});}</script>                <script type=\"text/javascript\">window.PlotlyConfig = {MathJaxConfig: 'local'};</script>\n",
              "        <script src=\"https://cdn.plot.ly/plotly-2.8.3.min.js\"></script>                <div id=\"4a14c062-c8e4-4696-a9b9-27ae862c283f\" class=\"plotly-graph-div\" style=\"height:525px; width:100%;\"></div>            <script type=\"text/javascript\">                                    window.PLOTLYENV=window.PLOTLYENV || {};                                    if (document.getElementById(\"4a14c062-c8e4-4696-a9b9-27ae862c283f\")) {                    Plotly.newPlot(                        \"4a14c062-c8e4-4696-a9b9-27ae862c283f\",                        [{\"alignmentgroup\":\"True\",\"hovertemplate\":\"PTRATIO=%{y}<extra></extra>\",\"legendgroup\":\"\",\"marker\":{\"color\":\"#636efa\"},\"name\":\"\",\"notched\":false,\"offsetgroup\":\"\",\"orientation\":\"v\",\"showlegend\":false,\"x0\":\" \",\"xaxis\":\"x\",\"y\":[15.3,17.8,17.8,18.7,18.7,18.7,15.2,15.2,15.2,15.2,15.2,15.2,15.2,21.0,21.0,21.0,21.0,21.0,21.0,21.0,21.0,21.0,21.0,21.0,21.0,21.0,21.0,21.0,21.0,21.0,21.0,21.0,21.0,21.0,21.0,19.2,19.2,19.2,19.2,18.3,18.3,17.9,17.9,17.9,17.9,17.9,17.9,17.9,17.9,17.9,16.8,16.8,16.8,16.8,21.1,17.9,17.3,15.1,19.7,19.7,19.7,19.7,19.7,19.7,18.6,16.1,16.1,18.9,18.9,18.9,19.2,19.2,19.2,19.2,18.7,18.7,18.7,18.7,18.7,18.7,19.0,19.0,19.0,19.0,18.5,18.5,18.5,18.5,17.8,17.8,17.8,17.8,18.2,18.2,18.2,18.0,18.0,18.0,18.0,18.0,20.9,20.9,20.9,20.9,20.9,20.9,20.9,20.9,20.9,20.9,20.9,17.8,17.8,17.8,17.8,17.8,17.8,17.8,17.8,17.8,19.1,19.1,19.1,19.1,19.1,19.1,19.1,21.2,21.2,21.2,21.2,21.2,21.2,21.2,21.2,21.2,21.2,21.2,21.2,21.2,21.2,21.2,14.7,14.7,14.7,14.7,14.7,14.7,14.7,14.7,14.7,14.7,14.7,14.7,14.7,14.7,14.7,14.7,14.7,14.7,14.7,14.7,14.7,14.7,14.7,14.7,14.7,14.7,16.6,16.6,16.6,16.6,16.6,16.6,16.6,17.8,17.8,17.8,17.8,17.8,17.8,17.8,15.2,15.2,15.2,15.2,15.2,15.2,15.6,15.6,12.6,12.6,12.6,17.0,17.0,14.7,14.7,14.7,18.6,18.6,18.6,18.6,18.6,18.6,18.6,18.6,18.6,18.6,18.6,16.4,16.4,16.4,16.4,17.4,17.4,17.4,17.4,17.4,17.4,17.4,17.4,17.4,17.4,17.4,17.4,17.4,17.4,17.4,17.4,17.4,16.6,16.6,16.6,16.6,16.6,16.6,19.1,19.1,19.1,19.1,19.1,19.1,19.1,19.1,19.1,19.1,16.4,16.4,15.9,13.0,13.0,13.0,13.0,13.0,13.0,13.0,13.0,13.0,13.0,18.6,18.6,18.6,18.6,18.6,17.6,17.6,17.6,17.6,17.6,14.9,14.9,14.9,14.9,15.3,15.3,18.2,16.6,16.6,16.6,19.2,19.2,19.2,16.0,16.0,16.0,16.0,16.0,14.8,14.8,14.8,16.1,16.1,16.1,18.4,18.4,18.4,18.4,18.4,18.4,18.4,18.4,18.4,18.4,18.4,18.4,18.4,18.4,18.4,18.4,19.6,19.6,19.6,19.6,19.6,19.6,19.6,19.6,16.9,16.9,16.9,16.9,16.9,20.2,20.2,20.2,20.2,20.2,20.2,20.2,20.2,15.5,15.9,17.6,17.6,18.8,18.8,17.9,17.0,19.7,19.7,18.3,18.3,17.0,22.0,22.0,20.2,20.2,20.2,20.2,20.2,20.2,20.2,20.2,20.2,20.2,20.2,20.2,20.2,20.2,20.2,20.2,20.2,20.2,20.2,20.2,20.2,20.2,20.2,20.2,20.2,20.2,20.2,20.2,20.2,20.2,20.2,20.2,20.2,20.2,20.2,20.2,20.2,20.2,20.2,20.2,20.2,20.2,20.2,20.2,20.2,20.2,20.2,20.2,20.2,20.2,20.2,20.2,20.2,20.2,20.2,20.2,20.2,20.2,20.2,20.2,20.2,20.2,20.2,20.2,20.2,20.2,20.2,20.2,20.2,20.2,20.2,20.2,20.2,20.2,20.2,20.2,20.2,20.2,20.2,20.2,20.2,20.2,20.2,20.2,20.2,20.2,20.2,20.2,20.2,20.2,20.2,20.2,20.2,20.2,20.2,20.2,20.2,20.2,20.2,20.2,20.2,20.2,20.2,20.2,20.2,20.2,20.2,20.2,20.2,20.2,20.2,20.2,20.2,20.2,20.2,20.2,20.2,20.2,20.2,20.2,20.2,20.2,20.2,20.2,20.2,20.2,20.1,20.1,20.1,20.1,20.1,19.2,19.2,19.2,19.2,19.2,19.2,19.2,19.2,21.0,21.0,21.0,21.0,21.0],\"y0\":\" \",\"yaxis\":\"y\",\"type\":\"box\"}],                        {\"template\":{\"data\":{\"bar\":[{\"error_x\":{\"color\":\"#2a3f5f\"},\"error_y\":{\"color\":\"#2a3f5f\"},\"marker\":{\"line\":{\"color\":\"#E5ECF6\",\"width\":0.5},\"pattern\":{\"fillmode\":\"overlay\",\"size\":10,\"solidity\":0.2}},\"type\":\"bar\"}],\"barpolar\":[{\"marker\":{\"line\":{\"color\":\"#E5ECF6\",\"width\":0.5},\"pattern\":{\"fillmode\":\"overlay\",\"size\":10,\"solidity\":0.2}},\"type\":\"barpolar\"}],\"carpet\":[{\"aaxis\":{\"endlinecolor\":\"#2a3f5f\",\"gridcolor\":\"white\",\"linecolor\":\"white\",\"minorgridcolor\":\"white\",\"startlinecolor\":\"#2a3f5f\"},\"baxis\":{\"endlinecolor\":\"#2a3f5f\",\"gridcolor\":\"white\",\"linecolor\":\"white\",\"minorgridcolor\":\"white\",\"startlinecolor\":\"#2a3f5f\"},\"type\":\"carpet\"}],\"choropleth\":[{\"colorbar\":{\"outlinewidth\":0,\"ticks\":\"\"},\"type\":\"choropleth\"}],\"contour\":[{\"colorbar\":{\"outlinewidth\":0,\"ticks\":\"\"},\"colorscale\":[[0.0,\"#0d0887\"],[0.1111111111111111,\"#46039f\"],[0.2222222222222222,\"#7201a8\"],[0.3333333333333333,\"#9c179e\"],[0.4444444444444444,\"#bd3786\"],[0.5555555555555556,\"#d8576b\"],[0.6666666666666666,\"#ed7953\"],[0.7777777777777778,\"#fb9f3a\"],[0.8888888888888888,\"#fdca26\"],[1.0,\"#f0f921\"]],\"type\":\"contour\"}],\"contourcarpet\":[{\"colorbar\":{\"outlinewidth\":0,\"ticks\":\"\"},\"type\":\"contourcarpet\"}],\"heatmap\":[{\"colorbar\":{\"outlinewidth\":0,\"ticks\":\"\"},\"colorscale\":[[0.0,\"#0d0887\"],[0.1111111111111111,\"#46039f\"],[0.2222222222222222,\"#7201a8\"],[0.3333333333333333,\"#9c179e\"],[0.4444444444444444,\"#bd3786\"],[0.5555555555555556,\"#d8576b\"],[0.6666666666666666,\"#ed7953\"],[0.7777777777777778,\"#fb9f3a\"],[0.8888888888888888,\"#fdca26\"],[1.0,\"#f0f921\"]],\"type\":\"heatmap\"}],\"heatmapgl\":[{\"colorbar\":{\"outlinewidth\":0,\"ticks\":\"\"},\"colorscale\":[[0.0,\"#0d0887\"],[0.1111111111111111,\"#46039f\"],[0.2222222222222222,\"#7201a8\"],[0.3333333333333333,\"#9c179e\"],[0.4444444444444444,\"#bd3786\"],[0.5555555555555556,\"#d8576b\"],[0.6666666666666666,\"#ed7953\"],[0.7777777777777778,\"#fb9f3a\"],[0.8888888888888888,\"#fdca26\"],[1.0,\"#f0f921\"]],\"type\":\"heatmapgl\"}],\"histogram\":[{\"marker\":{\"pattern\":{\"fillmode\":\"overlay\",\"size\":10,\"solidity\":0.2}},\"type\":\"histogram\"}],\"histogram2d\":[{\"colorbar\":{\"outlinewidth\":0,\"ticks\":\"\"},\"colorscale\":[[0.0,\"#0d0887\"],[0.1111111111111111,\"#46039f\"],[0.2222222222222222,\"#7201a8\"],[0.3333333333333333,\"#9c179e\"],[0.4444444444444444,\"#bd3786\"],[0.5555555555555556,\"#d8576b\"],[0.6666666666666666,\"#ed7953\"],[0.7777777777777778,\"#fb9f3a\"],[0.8888888888888888,\"#fdca26\"],[1.0,\"#f0f921\"]],\"type\":\"histogram2d\"}],\"histogram2dcontour\":[{\"colorbar\":{\"outlinewidth\":0,\"ticks\":\"\"},\"colorscale\":[[0.0,\"#0d0887\"],[0.1111111111111111,\"#46039f\"],[0.2222222222222222,\"#7201a8\"],[0.3333333333333333,\"#9c179e\"],[0.4444444444444444,\"#bd3786\"],[0.5555555555555556,\"#d8576b\"],[0.6666666666666666,\"#ed7953\"],[0.7777777777777778,\"#fb9f3a\"],[0.8888888888888888,\"#fdca26\"],[1.0,\"#f0f921\"]],\"type\":\"histogram2dcontour\"}],\"mesh3d\":[{\"colorbar\":{\"outlinewidth\":0,\"ticks\":\"\"},\"type\":\"mesh3d\"}],\"parcoords\":[{\"line\":{\"colorbar\":{\"outlinewidth\":0,\"ticks\":\"\"}},\"type\":\"parcoords\"}],\"pie\":[{\"automargin\":true,\"type\":\"pie\"}],\"scatter\":[{\"marker\":{\"colorbar\":{\"outlinewidth\":0,\"ticks\":\"\"}},\"type\":\"scatter\"}],\"scatter3d\":[{\"line\":{\"colorbar\":{\"outlinewidth\":0,\"ticks\":\"\"}},\"marker\":{\"colorbar\":{\"outlinewidth\":0,\"ticks\":\"\"}},\"type\":\"scatter3d\"}],\"scattercarpet\":[{\"marker\":{\"colorbar\":{\"outlinewidth\":0,\"ticks\":\"\"}},\"type\":\"scattercarpet\"}],\"scattergeo\":[{\"marker\":{\"colorbar\":{\"outlinewidth\":0,\"ticks\":\"\"}},\"type\":\"scattergeo\"}],\"scattergl\":[{\"marker\":{\"colorbar\":{\"outlinewidth\":0,\"ticks\":\"\"}},\"type\":\"scattergl\"}],\"scattermapbox\":[{\"marker\":{\"colorbar\":{\"outlinewidth\":0,\"ticks\":\"\"}},\"type\":\"scattermapbox\"}],\"scatterpolar\":[{\"marker\":{\"colorbar\":{\"outlinewidth\":0,\"ticks\":\"\"}},\"type\":\"scatterpolar\"}],\"scatterpolargl\":[{\"marker\":{\"colorbar\":{\"outlinewidth\":0,\"ticks\":\"\"}},\"type\":\"scatterpolargl\"}],\"scatterternary\":[{\"marker\":{\"colorbar\":{\"outlinewidth\":0,\"ticks\":\"\"}},\"type\":\"scatterternary\"}],\"surface\":[{\"colorbar\":{\"outlinewidth\":0,\"ticks\":\"\"},\"colorscale\":[[0.0,\"#0d0887\"],[0.1111111111111111,\"#46039f\"],[0.2222222222222222,\"#7201a8\"],[0.3333333333333333,\"#9c179e\"],[0.4444444444444444,\"#bd3786\"],[0.5555555555555556,\"#d8576b\"],[0.6666666666666666,\"#ed7953\"],[0.7777777777777778,\"#fb9f3a\"],[0.8888888888888888,\"#fdca26\"],[1.0,\"#f0f921\"]],\"type\":\"surface\"}],\"table\":[{\"cells\":{\"fill\":{\"color\":\"#EBF0F8\"},\"line\":{\"color\":\"white\"}},\"header\":{\"fill\":{\"color\":\"#C8D4E3\"},\"line\":{\"color\":\"white\"}},\"type\":\"table\"}]},\"layout\":{\"annotationdefaults\":{\"arrowcolor\":\"#2a3f5f\",\"arrowhead\":0,\"arrowwidth\":1},\"autotypenumbers\":\"strict\",\"coloraxis\":{\"colorbar\":{\"outlinewidth\":0,\"ticks\":\"\"}},\"colorscale\":{\"diverging\":[[0,\"#8e0152\"],[0.1,\"#c51b7d\"],[0.2,\"#de77ae\"],[0.3,\"#f1b6da\"],[0.4,\"#fde0ef\"],[0.5,\"#f7f7f7\"],[0.6,\"#e6f5d0\"],[0.7,\"#b8e186\"],[0.8,\"#7fbc41\"],[0.9,\"#4d9221\"],[1,\"#276419\"]],\"sequential\":[[0.0,\"#0d0887\"],[0.1111111111111111,\"#46039f\"],[0.2222222222222222,\"#7201a8\"],[0.3333333333333333,\"#9c179e\"],[0.4444444444444444,\"#bd3786\"],[0.5555555555555556,\"#d8576b\"],[0.6666666666666666,\"#ed7953\"],[0.7777777777777778,\"#fb9f3a\"],[0.8888888888888888,\"#fdca26\"],[1.0,\"#f0f921\"]],\"sequentialminus\":[[0.0,\"#0d0887\"],[0.1111111111111111,\"#46039f\"],[0.2222222222222222,\"#7201a8\"],[0.3333333333333333,\"#9c179e\"],[0.4444444444444444,\"#bd3786\"],[0.5555555555555556,\"#d8576b\"],[0.6666666666666666,\"#ed7953\"],[0.7777777777777778,\"#fb9f3a\"],[0.8888888888888888,\"#fdca26\"],[1.0,\"#f0f921\"]]},\"colorway\":[\"#636efa\",\"#EF553B\",\"#00cc96\",\"#ab63fa\",\"#FFA15A\",\"#19d3f3\",\"#FF6692\",\"#B6E880\",\"#FF97FF\",\"#FECB52\"],\"font\":{\"color\":\"#2a3f5f\"},\"geo\":{\"bgcolor\":\"white\",\"lakecolor\":\"white\",\"landcolor\":\"#E5ECF6\",\"showlakes\":true,\"showland\":true,\"subunitcolor\":\"white\"},\"hoverlabel\":{\"align\":\"left\"},\"hovermode\":\"closest\",\"mapbox\":{\"style\":\"light\"},\"paper_bgcolor\":\"white\",\"plot_bgcolor\":\"#E5ECF6\",\"polar\":{\"angularaxis\":{\"gridcolor\":\"white\",\"linecolor\":\"white\",\"ticks\":\"\"},\"bgcolor\":\"#E5ECF6\",\"radialaxis\":{\"gridcolor\":\"white\",\"linecolor\":\"white\",\"ticks\":\"\"}},\"scene\":{\"xaxis\":{\"backgroundcolor\":\"#E5ECF6\",\"gridcolor\":\"white\",\"gridwidth\":2,\"linecolor\":\"white\",\"showbackground\":true,\"ticks\":\"\",\"zerolinecolor\":\"white\"},\"yaxis\":{\"backgroundcolor\":\"#E5ECF6\",\"gridcolor\":\"white\",\"gridwidth\":2,\"linecolor\":\"white\",\"showbackground\":true,\"ticks\":\"\",\"zerolinecolor\":\"white\"},\"zaxis\":{\"backgroundcolor\":\"#E5ECF6\",\"gridcolor\":\"white\",\"gridwidth\":2,\"linecolor\":\"white\",\"showbackground\":true,\"ticks\":\"\",\"zerolinecolor\":\"white\"}},\"shapedefaults\":{\"line\":{\"color\":\"#2a3f5f\"}},\"ternary\":{\"aaxis\":{\"gridcolor\":\"white\",\"linecolor\":\"white\",\"ticks\":\"\"},\"baxis\":{\"gridcolor\":\"white\",\"linecolor\":\"white\",\"ticks\":\"\"},\"bgcolor\":\"#E5ECF6\",\"caxis\":{\"gridcolor\":\"white\",\"linecolor\":\"white\",\"ticks\":\"\"}},\"title\":{\"x\":0.05},\"xaxis\":{\"automargin\":true,\"gridcolor\":\"white\",\"linecolor\":\"white\",\"ticks\":\"\",\"title\":{\"standoff\":15},\"zerolinecolor\":\"white\",\"zerolinewidth\":2},\"yaxis\":{\"automargin\":true,\"gridcolor\":\"white\",\"linecolor\":\"white\",\"ticks\":\"\",\"title\":{\"standoff\":15},\"zerolinecolor\":\"white\",\"zerolinewidth\":2}}},\"xaxis\":{\"anchor\":\"y\",\"domain\":[0.0,1.0]},\"yaxis\":{\"anchor\":\"x\",\"domain\":[0.0,1.0],\"title\":{\"text\":\"PTRATIO\"}},\"legend\":{\"tracegroupgap\":0},\"margin\":{\"t\":60},\"boxmode\":\"group\"},                        {\"responsive\": true}                    ).then(function(){\n",
              "                            \n",
              "var gd = document.getElementById('4a14c062-c8e4-4696-a9b9-27ae862c283f');\n",
              "var x = new MutationObserver(function (mutations, observer) {{\n",
              "        var display = window.getComputedStyle(gd).display;\n",
              "        if (!display || display === 'none') {{\n",
              "            console.log([gd, 'removed!']);\n",
              "            Plotly.purge(gd);\n",
              "            observer.disconnect();\n",
              "        }}\n",
              "}});\n",
              "\n",
              "// Listen for the removal of the full notebook cells\n",
              "var notebookContainer = gd.closest('#notebook-container');\n",
              "if (notebookContainer) {{\n",
              "    x.observe(notebookContainer, {childList: true});\n",
              "}}\n",
              "\n",
              "// Listen for the clearing of the current output cell\n",
              "var outputEl = gd.closest('.output');\n",
              "if (outputEl) {{\n",
              "    x.observe(outputEl, {childList: true});\n",
              "}}\n",
              "\n",
              "                        })                };                            </script>        </div>\n",
              "</body>\n",
              "</html>"
            ]
          },
          "metadata": {}
        }
      ]
    },
    {
      "cell_type": "code",
      "source": [
        "boxplot = px.box(df, y=\"MEDV\")\n",
        "boxplot.show()"
      ],
      "metadata": {
        "id": "B9amK0_pR1Je",
        "colab": {
          "base_uri": "https://localhost:8080/"
        },
        "outputId": "f64232e6-c5d3-45e9-9f4e-583465dfc523"
      },
      "execution_count": null,
      "outputs": [
        {
          "output_type": "display_data",
          "data": {
            "text/html": [
              "<html>\n",
              "<head><meta charset=\"utf-8\" /></head>\n",
              "<body>\n",
              "    <div>            <script src=\"https://cdnjs.cloudflare.com/ajax/libs/mathjax/2.7.5/MathJax.js?config=TeX-AMS-MML_SVG\"></script><script type=\"text/javascript\">if (window.MathJax) {MathJax.Hub.Config({SVG: {font: \"STIX-Web\"}});}</script>                <script type=\"text/javascript\">window.PlotlyConfig = {MathJaxConfig: 'local'};</script>\n",
              "        <script src=\"https://cdn.plot.ly/plotly-2.8.3.min.js\"></script>                <div id=\"d4ce6470-f827-4eba-bf80-1041c128b1d4\" class=\"plotly-graph-div\" style=\"height:525px; width:100%;\"></div>            <script type=\"text/javascript\">                                    window.PLOTLYENV=window.PLOTLYENV || {};                                    if (document.getElementById(\"d4ce6470-f827-4eba-bf80-1041c128b1d4\")) {                    Plotly.newPlot(                        \"d4ce6470-f827-4eba-bf80-1041c128b1d4\",                        [{\"alignmentgroup\":\"True\",\"hovertemplate\":\"MEDV=%{y}<extra></extra>\",\"legendgroup\":\"\",\"marker\":{\"color\":\"#636efa\"},\"name\":\"\",\"notched\":false,\"offsetgroup\":\"\",\"orientation\":\"v\",\"showlegend\":false,\"x0\":\" \",\"xaxis\":\"x\",\"y\":[504000.0,453600.0,728700.0,701400.0,760200.0,602700.0,480900.0,569100.0,346500.0,396900.0,315000.0,396900.0,455700.0,428400.0,382200.0,417900.0,485100.0,367500.0,424200.0,382200.0,285600.0,411600.0,319200.0,304500.0,327600.0,291900.0,348600.0,310800.0,386400.0,441000.0,266700.0,304500.0,277200.0,275100.0,283500.0,396900.0,420000.0,441000.0,518700.0,646800.0,732900.0,558600.0,531300.0,518700.0,445200.0,405300.0,420000.0,348600.0,302400.0,407400.0,413700.0,430500.0,525000.0,491400.0,396900.0,743400.0,518700.0,663600.0,489300.0,411600.0,392700.0,336000.0,466200.0,525000.0,693000.0,493500.0,407400.0,462000.0,365400.0,438900.0,508200.0,455700.0,478800.0,491400.0,506100.0,449400.0,420000.0,436800.0,445200.0,426300.0,588000.0,501900.0,520800.0,480900.0,501900.0,558600.0,472500.0,466200.0,495600.0,602700.0,474600.0,462000.0,480900.0,525000.0,432600.0,596400.0,449400.0,812700.0,919800.0,697200.0,577500.0,556500.0,390600.0,405300.0,422100.0,409500.0,409500.0,428400.0,415800.0,407400.0,455700.0,478800.0,394800.0,392700.0,388500.0,384300.0,445200.0,403200.0,428400.0,405300.0,462000.0,426300.0,430500.0,363300.0,394800.0,449400.0,329700.0,340200.0,378000.0,300300.0,403200.0,411600.0,483000.0,386400.0,327600.0,380100.0,365400.0,359100.0,279300.0,373800.0,294000.0,302400.0,281400.0,327600.0,247800.0,289800.0,327600.0,306600.0,373800.0,323400.0,451500.0,411600.0,321300.0,407400.0,357000.0,327600.0,275100.0,867300.0,510300.0,489300.0,567000.0,476700.0,525000.0,499800.0,499800.0,468300.0,365400.0,401100.0,485100.0,495600.0,474600.0,617400.0,487200.0,516600.0,627900.0,781200.0,835800.0,760200.0,795900.0,682500.0,554400.0,621600.0,672000.0,625800.0,732900.0,777000.0,640500.0,764400.0,653100.0,611100.0,699300.0,636300.0,726600.0,732900.0,690900.0,506100.0,888300.0,1018500.0,474600.0,512400.0,472500.0,512400.0,420000.0,455700.0,405300.0,470400.0,590100.0,497700.0,525000.0,489300.0,602700.0,451500.0,483000.0,560700.0,455700.0,577500.0,632100.0,940800.0,789600.0,663600.0,980700.0,661500.0,510300.0,665700.0,875700.0,1014300.0,609000.0,504000.0,527100.0,661500.0,497700.0,489300.0,462000.0,422100.0,466200.0,497700.0,369600.0,388500.0,510300.0,430500.0,514500.0,550200.0,512400.0,520800.0,621600.0,898800.0,459900.0,438900.0,924000.0,756000.0,632100.0,709800.0,905100.0,1024800.0,651000.0,766500.0,478800.0,644700.0,913500.0,434700.0,443100.0,529200.0,512400.0,739200.0,680400.0,672000.0,697200.0,695100.0,611100.0,737100.0,953400.0,743400.0,966000.0,676200.0,462000.0,422100.0,487200.0,468300.0,520800.0,598500.0,783300.0,585900.0,501900.0,455700.0,600600.0,569100.0,426300.0,472500.0,609000.0,520800.0,462000.0,554400.0,695100.0,758100.0,596400.0,701400.0,592200.0,478800.0,426300.0,338100.0,464100.0,407400.0,453600.0,499800.0,340200.0,373800.0,415800.0,485100.0,441000.0,499800.0,485100.0,428400.0,388500.0,525000.0,516600.0,483000.0,466200.0,405300.0,474600.0,415800.0,359100.0,407400.0,466200.0,434700.0,443100.0,409500.0,388500.0,432600.0,399000.0,392700.0,686700.0,346500.0,501900.0,655200.0,367500.0,361200.0,485100.0,514500.0,558600.0,480900.0,506100.0,390600.0,632100.0,382200.0,432600.0,373800.0,455700.0,476700.0,474600.0,525000.0,417900.0,436800.0,352800.0,577500.0,459900.0,485100.0,289800.0,289800.0,315000.0,291900.0,279300.0,275100.0,214200.0,218400.0,228900.0,237300.0,258300.0,184800.0,151200.0,220500.0,155400.0,214200.0,241500.0,317100.0,487200.0,203700.0,289800.0,266700.0,275100.0,262500.0,178500.0,105000.0,132300.0,117600.0,151200.0,254100.0,174300.0,178500.0,105000.0,249900.0,585900.0,361200.0,577500.0,315000.0,361200.0,375900.0,342300.0,147000.0,151200.0,157500.0,218400.0,184800.0,176400.0,350700.0,298200.0,436800.0,281400.0,245700.0,174300.0,214200.0,228900.0,231000.0,199500.0,304500.0,296100.0,338100.0,300300.0,245700.0,281400.0,201600.0,182700.0,176400.0,268800.0,220500.0,359100.0,386400.0,323400.0,226800.0,247800.0,312900.0,264600.0,296100.0,273000.0,281400.0,319200.0,338100.0,373800.0,312900.0,296100.0,266700.0,283500.0,312900.0,420000.0,344400.0,371700.0,409500.0,424200.0,449400.0,417900.0,399000.0,401100.0,401100.0,422100.0,417900.0,411600.0,487200.0,625800.0,289800.0,279300.0,350700.0,252000.0,306600.0,449400.0,483000.0,497700.0,525000.0,457800.0,432600.0,445200.0,401100.0,432600.0,319200.0,147000.0,170100.0,285600.0,422100.0,457800.0,514500.0,485100.0,413700.0,384300.0,445200.0,367500.0,352800.0,470400.0,432600.0,501900.0,462000.0,249900.0],\"y0\":\" \",\"yaxis\":\"y\",\"type\":\"box\"}],                        {\"template\":{\"data\":{\"bar\":[{\"error_x\":{\"color\":\"#2a3f5f\"},\"error_y\":{\"color\":\"#2a3f5f\"},\"marker\":{\"line\":{\"color\":\"#E5ECF6\",\"width\":0.5},\"pattern\":{\"fillmode\":\"overlay\",\"size\":10,\"solidity\":0.2}},\"type\":\"bar\"}],\"barpolar\":[{\"marker\":{\"line\":{\"color\":\"#E5ECF6\",\"width\":0.5},\"pattern\":{\"fillmode\":\"overlay\",\"size\":10,\"solidity\":0.2}},\"type\":\"barpolar\"}],\"carpet\":[{\"aaxis\":{\"endlinecolor\":\"#2a3f5f\",\"gridcolor\":\"white\",\"linecolor\":\"white\",\"minorgridcolor\":\"white\",\"startlinecolor\":\"#2a3f5f\"},\"baxis\":{\"endlinecolor\":\"#2a3f5f\",\"gridcolor\":\"white\",\"linecolor\":\"white\",\"minorgridcolor\":\"white\",\"startlinecolor\":\"#2a3f5f\"},\"type\":\"carpet\"}],\"choropleth\":[{\"colorbar\":{\"outlinewidth\":0,\"ticks\":\"\"},\"type\":\"choropleth\"}],\"contour\":[{\"colorbar\":{\"outlinewidth\":0,\"ticks\":\"\"},\"colorscale\":[[0.0,\"#0d0887\"],[0.1111111111111111,\"#46039f\"],[0.2222222222222222,\"#7201a8\"],[0.3333333333333333,\"#9c179e\"],[0.4444444444444444,\"#bd3786\"],[0.5555555555555556,\"#d8576b\"],[0.6666666666666666,\"#ed7953\"],[0.7777777777777778,\"#fb9f3a\"],[0.8888888888888888,\"#fdca26\"],[1.0,\"#f0f921\"]],\"type\":\"contour\"}],\"contourcarpet\":[{\"colorbar\":{\"outlinewidth\":0,\"ticks\":\"\"},\"type\":\"contourcarpet\"}],\"heatmap\":[{\"colorbar\":{\"outlinewidth\":0,\"ticks\":\"\"},\"colorscale\":[[0.0,\"#0d0887\"],[0.1111111111111111,\"#46039f\"],[0.2222222222222222,\"#7201a8\"],[0.3333333333333333,\"#9c179e\"],[0.4444444444444444,\"#bd3786\"],[0.5555555555555556,\"#d8576b\"],[0.6666666666666666,\"#ed7953\"],[0.7777777777777778,\"#fb9f3a\"],[0.8888888888888888,\"#fdca26\"],[1.0,\"#f0f921\"]],\"type\":\"heatmap\"}],\"heatmapgl\":[{\"colorbar\":{\"outlinewidth\":0,\"ticks\":\"\"},\"colorscale\":[[0.0,\"#0d0887\"],[0.1111111111111111,\"#46039f\"],[0.2222222222222222,\"#7201a8\"],[0.3333333333333333,\"#9c179e\"],[0.4444444444444444,\"#bd3786\"],[0.5555555555555556,\"#d8576b\"],[0.6666666666666666,\"#ed7953\"],[0.7777777777777778,\"#fb9f3a\"],[0.8888888888888888,\"#fdca26\"],[1.0,\"#f0f921\"]],\"type\":\"heatmapgl\"}],\"histogram\":[{\"marker\":{\"pattern\":{\"fillmode\":\"overlay\",\"size\":10,\"solidity\":0.2}},\"type\":\"histogram\"}],\"histogram2d\":[{\"colorbar\":{\"outlinewidth\":0,\"ticks\":\"\"},\"colorscale\":[[0.0,\"#0d0887\"],[0.1111111111111111,\"#46039f\"],[0.2222222222222222,\"#7201a8\"],[0.3333333333333333,\"#9c179e\"],[0.4444444444444444,\"#bd3786\"],[0.5555555555555556,\"#d8576b\"],[0.6666666666666666,\"#ed7953\"],[0.7777777777777778,\"#fb9f3a\"],[0.8888888888888888,\"#fdca26\"],[1.0,\"#f0f921\"]],\"type\":\"histogram2d\"}],\"histogram2dcontour\":[{\"colorbar\":{\"outlinewidth\":0,\"ticks\":\"\"},\"colorscale\":[[0.0,\"#0d0887\"],[0.1111111111111111,\"#46039f\"],[0.2222222222222222,\"#7201a8\"],[0.3333333333333333,\"#9c179e\"],[0.4444444444444444,\"#bd3786\"],[0.5555555555555556,\"#d8576b\"],[0.6666666666666666,\"#ed7953\"],[0.7777777777777778,\"#fb9f3a\"],[0.8888888888888888,\"#fdca26\"],[1.0,\"#f0f921\"]],\"type\":\"histogram2dcontour\"}],\"mesh3d\":[{\"colorbar\":{\"outlinewidth\":0,\"ticks\":\"\"},\"type\":\"mesh3d\"}],\"parcoords\":[{\"line\":{\"colorbar\":{\"outlinewidth\":0,\"ticks\":\"\"}},\"type\":\"parcoords\"}],\"pie\":[{\"automargin\":true,\"type\":\"pie\"}],\"scatter\":[{\"marker\":{\"colorbar\":{\"outlinewidth\":0,\"ticks\":\"\"}},\"type\":\"scatter\"}],\"scatter3d\":[{\"line\":{\"colorbar\":{\"outlinewidth\":0,\"ticks\":\"\"}},\"marker\":{\"colorbar\":{\"outlinewidth\":0,\"ticks\":\"\"}},\"type\":\"scatter3d\"}],\"scattercarpet\":[{\"marker\":{\"colorbar\":{\"outlinewidth\":0,\"ticks\":\"\"}},\"type\":\"scattercarpet\"}],\"scattergeo\":[{\"marker\":{\"colorbar\":{\"outlinewidth\":0,\"ticks\":\"\"}},\"type\":\"scattergeo\"}],\"scattergl\":[{\"marker\":{\"colorbar\":{\"outlinewidth\":0,\"ticks\":\"\"}},\"type\":\"scattergl\"}],\"scattermapbox\":[{\"marker\":{\"colorbar\":{\"outlinewidth\":0,\"ticks\":\"\"}},\"type\":\"scattermapbox\"}],\"scatterpolar\":[{\"marker\":{\"colorbar\":{\"outlinewidth\":0,\"ticks\":\"\"}},\"type\":\"scatterpolar\"}],\"scatterpolargl\":[{\"marker\":{\"colorbar\":{\"outlinewidth\":0,\"ticks\":\"\"}},\"type\":\"scatterpolargl\"}],\"scatterternary\":[{\"marker\":{\"colorbar\":{\"outlinewidth\":0,\"ticks\":\"\"}},\"type\":\"scatterternary\"}],\"surface\":[{\"colorbar\":{\"outlinewidth\":0,\"ticks\":\"\"},\"colorscale\":[[0.0,\"#0d0887\"],[0.1111111111111111,\"#46039f\"],[0.2222222222222222,\"#7201a8\"],[0.3333333333333333,\"#9c179e\"],[0.4444444444444444,\"#bd3786\"],[0.5555555555555556,\"#d8576b\"],[0.6666666666666666,\"#ed7953\"],[0.7777777777777778,\"#fb9f3a\"],[0.8888888888888888,\"#fdca26\"],[1.0,\"#f0f921\"]],\"type\":\"surface\"}],\"table\":[{\"cells\":{\"fill\":{\"color\":\"#EBF0F8\"},\"line\":{\"color\":\"white\"}},\"header\":{\"fill\":{\"color\":\"#C8D4E3\"},\"line\":{\"color\":\"white\"}},\"type\":\"table\"}]},\"layout\":{\"annotationdefaults\":{\"arrowcolor\":\"#2a3f5f\",\"arrowhead\":0,\"arrowwidth\":1},\"autotypenumbers\":\"strict\",\"coloraxis\":{\"colorbar\":{\"outlinewidth\":0,\"ticks\":\"\"}},\"colorscale\":{\"diverging\":[[0,\"#8e0152\"],[0.1,\"#c51b7d\"],[0.2,\"#de77ae\"],[0.3,\"#f1b6da\"],[0.4,\"#fde0ef\"],[0.5,\"#f7f7f7\"],[0.6,\"#e6f5d0\"],[0.7,\"#b8e186\"],[0.8,\"#7fbc41\"],[0.9,\"#4d9221\"],[1,\"#276419\"]],\"sequential\":[[0.0,\"#0d0887\"],[0.1111111111111111,\"#46039f\"],[0.2222222222222222,\"#7201a8\"],[0.3333333333333333,\"#9c179e\"],[0.4444444444444444,\"#bd3786\"],[0.5555555555555556,\"#d8576b\"],[0.6666666666666666,\"#ed7953\"],[0.7777777777777778,\"#fb9f3a\"],[0.8888888888888888,\"#fdca26\"],[1.0,\"#f0f921\"]],\"sequentialminus\":[[0.0,\"#0d0887\"],[0.1111111111111111,\"#46039f\"],[0.2222222222222222,\"#7201a8\"],[0.3333333333333333,\"#9c179e\"],[0.4444444444444444,\"#bd3786\"],[0.5555555555555556,\"#d8576b\"],[0.6666666666666666,\"#ed7953\"],[0.7777777777777778,\"#fb9f3a\"],[0.8888888888888888,\"#fdca26\"],[1.0,\"#f0f921\"]]},\"colorway\":[\"#636efa\",\"#EF553B\",\"#00cc96\",\"#ab63fa\",\"#FFA15A\",\"#19d3f3\",\"#FF6692\",\"#B6E880\",\"#FF97FF\",\"#FECB52\"],\"font\":{\"color\":\"#2a3f5f\"},\"geo\":{\"bgcolor\":\"white\",\"lakecolor\":\"white\",\"landcolor\":\"#E5ECF6\",\"showlakes\":true,\"showland\":true,\"subunitcolor\":\"white\"},\"hoverlabel\":{\"align\":\"left\"},\"hovermode\":\"closest\",\"mapbox\":{\"style\":\"light\"},\"paper_bgcolor\":\"white\",\"plot_bgcolor\":\"#E5ECF6\",\"polar\":{\"angularaxis\":{\"gridcolor\":\"white\",\"linecolor\":\"white\",\"ticks\":\"\"},\"bgcolor\":\"#E5ECF6\",\"radialaxis\":{\"gridcolor\":\"white\",\"linecolor\":\"white\",\"ticks\":\"\"}},\"scene\":{\"xaxis\":{\"backgroundcolor\":\"#E5ECF6\",\"gridcolor\":\"white\",\"gridwidth\":2,\"linecolor\":\"white\",\"showbackground\":true,\"ticks\":\"\",\"zerolinecolor\":\"white\"},\"yaxis\":{\"backgroundcolor\":\"#E5ECF6\",\"gridcolor\":\"white\",\"gridwidth\":2,\"linecolor\":\"white\",\"showbackground\":true,\"ticks\":\"\",\"zerolinecolor\":\"white\"},\"zaxis\":{\"backgroundcolor\":\"#E5ECF6\",\"gridcolor\":\"white\",\"gridwidth\":2,\"linecolor\":\"white\",\"showbackground\":true,\"ticks\":\"\",\"zerolinecolor\":\"white\"}},\"shapedefaults\":{\"line\":{\"color\":\"#2a3f5f\"}},\"ternary\":{\"aaxis\":{\"gridcolor\":\"white\",\"linecolor\":\"white\",\"ticks\":\"\"},\"baxis\":{\"gridcolor\":\"white\",\"linecolor\":\"white\",\"ticks\":\"\"},\"bgcolor\":\"#E5ECF6\",\"caxis\":{\"gridcolor\":\"white\",\"linecolor\":\"white\",\"ticks\":\"\"}},\"title\":{\"x\":0.05},\"xaxis\":{\"automargin\":true,\"gridcolor\":\"white\",\"linecolor\":\"white\",\"ticks\":\"\",\"title\":{\"standoff\":15},\"zerolinecolor\":\"white\",\"zerolinewidth\":2},\"yaxis\":{\"automargin\":true,\"gridcolor\":\"white\",\"linecolor\":\"white\",\"ticks\":\"\",\"title\":{\"standoff\":15},\"zerolinecolor\":\"white\",\"zerolinewidth\":2}}},\"xaxis\":{\"anchor\":\"y\",\"domain\":[0.0,1.0]},\"yaxis\":{\"anchor\":\"x\",\"domain\":[0.0,1.0],\"title\":{\"text\":\"MEDV\"}},\"legend\":{\"tracegroupgap\":0},\"margin\":{\"t\":60},\"boxmode\":\"group\"},                        {\"responsive\": true}                    ).then(function(){\n",
              "                            \n",
              "var gd = document.getElementById('d4ce6470-f827-4eba-bf80-1041c128b1d4');\n",
              "var x = new MutationObserver(function (mutations, observer) {{\n",
              "        var display = window.getComputedStyle(gd).display;\n",
              "        if (!display || display === 'none') {{\n",
              "            console.log([gd, 'removed!']);\n",
              "            Plotly.purge(gd);\n",
              "            observer.disconnect();\n",
              "        }}\n",
              "}});\n",
              "\n",
              "// Listen for the removal of the full notebook cells\n",
              "var notebookContainer = gd.closest('#notebook-container');\n",
              "if (notebookContainer) {{\n",
              "    x.observe(notebookContainer, {childList: true});\n",
              "}}\n",
              "\n",
              "// Listen for the clearing of the current output cell\n",
              "var outputEl = gd.closest('.output');\n",
              "if (outputEl) {{\n",
              "    x.observe(outputEl, {childList: true});\n",
              "}}\n",
              "\n",
              "                        })                };                            </script>        </div>\n",
              "</body>\n",
              "</html>"
            ]
          },
          "metadata": {}
        }
      ]
    },
    {
      "cell_type": "markdown",
      "source": [
        "## **CORRELAÇÃO LINEAR**"
      ],
      "metadata": {
        "id": "1_UXHtabUPkP"
      }
    },
    {
      "cell_type": "code",
      "source": [
        "df.head(2)"
      ],
      "metadata": {
        "id": "KndAusGtsT7N",
        "colab": {
          "base_uri": "https://localhost:8080/"
        },
        "outputId": "38e415ed-741c-4d15-bd89-c86e2434b604"
      },
      "execution_count": null,
      "outputs": [
        {
          "output_type": "execute_result",
          "data": {
            "text/plain": [
              "      RM  LSTAT  PTRATIO      MEDV\n",
              "0  6.575   4.98     15.3  504000.0\n",
              "1  6.421   9.14     17.8  453600.0"
            ],
            "text/html": [
              "\n",
              "  <div id=\"df-aff3610a-b9cf-4463-814a-c21e88d5e0be\">\n",
              "    <div class=\"colab-df-container\">\n",
              "      <div>\n",
              "<style scoped>\n",
              "    .dataframe tbody tr th:only-of-type {\n",
              "        vertical-align: middle;\n",
              "    }\n",
              "\n",
              "    .dataframe tbody tr th {\n",
              "        vertical-align: top;\n",
              "    }\n",
              "\n",
              "    .dataframe thead th {\n",
              "        text-align: right;\n",
              "    }\n",
              "</style>\n",
              "<table border=\"1\" class=\"dataframe\">\n",
              "  <thead>\n",
              "    <tr style=\"text-align: right;\">\n",
              "      <th></th>\n",
              "      <th>RM</th>\n",
              "      <th>LSTAT</th>\n",
              "      <th>PTRATIO</th>\n",
              "      <th>MEDV</th>\n",
              "    </tr>\n",
              "  </thead>\n",
              "  <tbody>\n",
              "    <tr>\n",
              "      <th>0</th>\n",
              "      <td>6.575</td>\n",
              "      <td>4.98</td>\n",
              "      <td>15.3</td>\n",
              "      <td>504000.0</td>\n",
              "    </tr>\n",
              "    <tr>\n",
              "      <th>1</th>\n",
              "      <td>6.421</td>\n",
              "      <td>9.14</td>\n",
              "      <td>17.8</td>\n",
              "      <td>453600.0</td>\n",
              "    </tr>\n",
              "  </tbody>\n",
              "</table>\n",
              "</div>\n",
              "      <button class=\"colab-df-convert\" onclick=\"convertToInteractive('df-aff3610a-b9cf-4463-814a-c21e88d5e0be')\"\n",
              "              title=\"Convert this dataframe to an interactive table.\"\n",
              "              style=\"display:none;\">\n",
              "        \n",
              "  <svg xmlns=\"http://www.w3.org/2000/svg\" height=\"24px\"viewBox=\"0 0 24 24\"\n",
              "       width=\"24px\">\n",
              "    <path d=\"M0 0h24v24H0V0z\" fill=\"none\"/>\n",
              "    <path d=\"M18.56 5.44l.94 2.06.94-2.06 2.06-.94-2.06-.94-.94-2.06-.94 2.06-2.06.94zm-11 1L8.5 8.5l.94-2.06 2.06-.94-2.06-.94L8.5 2.5l-.94 2.06-2.06.94zm10 10l.94 2.06.94-2.06 2.06-.94-2.06-.94-.94-2.06-.94 2.06-2.06.94z\"/><path d=\"M17.41 7.96l-1.37-1.37c-.4-.4-.92-.59-1.43-.59-.52 0-1.04.2-1.43.59L10.3 9.45l-7.72 7.72c-.78.78-.78 2.05 0 2.83L4 21.41c.39.39.9.59 1.41.59.51 0 1.02-.2 1.41-.59l7.78-7.78 2.81-2.81c.8-.78.8-2.07 0-2.86zM5.41 20L4 18.59l7.72-7.72 1.47 1.35L5.41 20z\"/>\n",
              "  </svg>\n",
              "      </button>\n",
              "      \n",
              "  <style>\n",
              "    .colab-df-container {\n",
              "      display:flex;\n",
              "      flex-wrap:wrap;\n",
              "      gap: 12px;\n",
              "    }\n",
              "\n",
              "    .colab-df-convert {\n",
              "      background-color: #E8F0FE;\n",
              "      border: none;\n",
              "      border-radius: 50%;\n",
              "      cursor: pointer;\n",
              "      display: none;\n",
              "      fill: #1967D2;\n",
              "      height: 32px;\n",
              "      padding: 0 0 0 0;\n",
              "      width: 32px;\n",
              "    }\n",
              "\n",
              "    .colab-df-convert:hover {\n",
              "      background-color: #E2EBFA;\n",
              "      box-shadow: 0px 1px 2px rgba(60, 64, 67, 0.3), 0px 1px 3px 1px rgba(60, 64, 67, 0.15);\n",
              "      fill: #174EA6;\n",
              "    }\n",
              "\n",
              "    [theme=dark] .colab-df-convert {\n",
              "      background-color: #3B4455;\n",
              "      fill: #D2E3FC;\n",
              "    }\n",
              "\n",
              "    [theme=dark] .colab-df-convert:hover {\n",
              "      background-color: #434B5C;\n",
              "      box-shadow: 0px 1px 3px 1px rgba(0, 0, 0, 0.15);\n",
              "      filter: drop-shadow(0px 1px 2px rgba(0, 0, 0, 0.3));\n",
              "      fill: #FFFFFF;\n",
              "    }\n",
              "  </style>\n",
              "\n",
              "      <script>\n",
              "        const buttonEl =\n",
              "          document.querySelector('#df-aff3610a-b9cf-4463-814a-c21e88d5e0be button.colab-df-convert');\n",
              "        buttonEl.style.display =\n",
              "          google.colab.kernel.accessAllowed ? 'block' : 'none';\n",
              "\n",
              "        async function convertToInteractive(key) {\n",
              "          const element = document.querySelector('#df-aff3610a-b9cf-4463-814a-c21e88d5e0be');\n",
              "          const dataTable =\n",
              "            await google.colab.kernel.invokeFunction('convertToInteractive',\n",
              "                                                     [key], {});\n",
              "          if (!dataTable) return;\n",
              "\n",
              "          const docLinkHtml = 'Like what you see? Visit the ' +\n",
              "            '<a target=\"_blank\" href=https://colab.research.google.com/notebooks/data_table.ipynb>data table notebook</a>'\n",
              "            + ' to learn more about interactive tables.';\n",
              "          element.innerHTML = '';\n",
              "          dataTable['output_type'] = 'display_data';\n",
              "          await google.colab.output.renderOutput(dataTable, element);\n",
              "          const docLink = document.createElement('div');\n",
              "          docLink.innerHTML = docLinkHtml;\n",
              "          element.appendChild(docLink);\n",
              "        }\n",
              "      </script>\n",
              "    </div>\n",
              "  </div>\n",
              "  "
            ]
          },
          "metadata": {},
          "execution_count": 13
        }
      ]
    },
    {
      "cell_type": "markdown",
      "source": [
        "**Atributos previsores**\n",
        "\n",
        "RM: é o número médio de cômodos entre os imóveis no bairro.\n",
        "\n",
        "LSTAT: é a porcentagem de proprietários no bairro considerados de \"classe baixa\" (proletariado).\n",
        "\n",
        "PTRATIO: é a razão entre estudantes e professores nas escolas de ensino fundamental e médio no bairro.\n",
        "\n",
        "**Variável alvo**\n",
        "\n",
        "MEDV: valor médio das casas"
      ],
      "metadata": {
        "id": "QDtXzr4JsYGS"
      }
    },
    {
      "cell_type": "code",
      "source": [
        "import matplotlib.pyplot as plt"
      ],
      "metadata": {
        "id": "lIg7QtoMUNo5"
      },
      "execution_count": null,
      "outputs": []
    },
    {
      "cell_type": "code",
      "source": [
        "plt.scatter(df.RM, df.MEDV)\n",
        "plt.title('Correlação Linear')\n",
        "plt.xlabel('Quantidade Média de Cômodos')\n",
        "plt.ylabel('Valor Médio')\n",
        "plt.grid(False)"
      ],
      "metadata": {
        "id": "xdvIffKTUZ49",
        "colab": {
          "base_uri": "https://localhost:8080/"
        },
        "outputId": "d1960b3d-e777-4132-f29b-5386952f98d1"
      },
      "execution_count": null,
      "outputs": [
        {
          "output_type": "display_data",
          "data": {
            "text/plain": [
              "<Figure size 432x288 with 1 Axes>"
            ],
            "image/png": "[encoded data removed]"
          },
          "metadata": {
            "needs_background": "light"
          }
        }
      ]
    },
    {
      "cell_type": "code",
      "source": [
        "plt.scatter(df.LSTAT, df.MEDV)\n",
        "plt.title('Correlação Linear')\n",
        "plt.xlabel('Quantidade Classe Baixa (%)')\n",
        "plt.ylabel('Valor Médio')\n",
        "plt.grid(True)\n"
      ],
      "metadata": {
        "id": "g8j-uHDFU-QF",
        "colab": {
          "base_uri": "https://localhost:8080/"
        },
        "outputId": "c88441f8-5615-4604-8623-f3c4f167e46b"
      },
      "execution_count": null,
      "outputs": [
        {
          "output_type": "display_data",
          "data": {
            "text/plain": [
              "<Figure size 432x288 with 1 Axes>"
            ],
            "image/png": "[encoded data removed]"
          },
          "metadata": {
            "needs_background": "light"
          }
        }
      ]
    },
    {
      "cell_type": "code",
      "source": [
        "plt.scatter(df.PTRATIO, df.MEDV)\n",
        "plt.title('Correlação Linear')\n",
        "plt.xlabel('Estudantes/Professores')\n",
        "plt.ylabel('Valor Médio')\n",
        "plt.grid(False)"
      ],
      "metadata": {
        "id": "Onmpw86_Vqct",
        "colab": {
          "base_uri": "https://localhost:8080/"
        },
        "outputId": "6852afe8-5528-4a19-af5d-e2e4bcc907c9"
      },
      "execution_count": null,
      "outputs": [
        {
          "output_type": "display_data",
          "data": {
            "text/plain": [
              "<Figure size 432x288 with 1 Axes>"
            ],
            "image/png": "[encoded data removed]"
          },
          "metadata": {
            "needs_background": "light"
          }
        }
      ]
    },
    {
      "cell_type": "code",
      "metadata": {
        "id": "ZW3RE6_uDzE2"
      },
      "source": [
        "import seaborn as sns"
      ],
      "execution_count": null,
      "outputs": []
    },
    {
      "cell_type": "code",
      "metadata": {
        "id": "3K5Ee3sED1YO",
        "colab": {
          "base_uri": "https://localhost:8080/"
        },
        "outputId": "784b9727-c04e-4c44-ee69-70a1267e713b"
      },
      "source": [
        "sns.pairplot(df);"
      ],
      "execution_count": null,
      "outputs": [
        {
          "output_type": "display_data",
          "data": {
            "text/plain": [
              "<Figure size 720x720 with 20 Axes>"
            ],
            "image/png": "[encoded data removed]"
          },
          "metadata": {
            "needs_background": "light"
          }
        }
      ]
    },
    {
      "cell_type": "markdown",
      "metadata": {
        "id": "_dOyeKE2AesY"
      },
      "source": [
        "### Análise da Normalidade"
      ]
    },
    {
      "cell_type": "markdown",
      "metadata": {
        "id": "U4MnqZjNG_29"
      },
      "source": [
        "Gráfico QQ-Plot"
      ]
    },
    {
      "cell_type": "code",
      "metadata": {
        "id": "o3lb2FS7A9MU"
      },
      "source": [
        "import scipy.stats as stats"
      ],
      "execution_count": null,
      "outputs": []
    },
    {
      "cell_type": "code",
      "metadata": {
        "id": "LD3otdF6G8D1",
        "colab": {
          "base_uri": "https://localhost:8080/"
        },
        "outputId": "fc991ba7-1388-4d19-db8f-a996c75dca90"
      },
      "source": [
        "stats.probplot(df['MEDV'], dist=\"norm\", plot=plt)\n",
        "plt.title(\"Normal Q-Q plot\")\n",
        "plt.show()"
      ],
      "execution_count": null,
      "outputs": [
        {
          "output_type": "display_data",
          "data": {
            "text/plain": [
              "<Figure size 432x288 with 1 Axes>"
            ],
            "image/png": "[encoded data removed]"
          },
          "metadata": {
            "needs_background": "light"
          }
        }
      ]
    },
    {
      "cell_type": "code",
      "metadata": {
        "id": "lDLCKa3ZSq1b"
      },
      "source": [
        "import plotly.express as px"
      ],
      "execution_count": null,
      "outputs": []
    },
    {
      "cell_type": "code",
      "metadata": {
        "id": "JxIib1HfSJxN",
        "colab": {
          "base_uri": "https://localhost:8080/"
        },
        "outputId": "93f7b993-8e1b-41ff-ed3f-e75b75786271"
      },
      "source": [
        "hist =  px.histogram (df,  x = \"MEDV\", nbins=60) \n",
        "hist.update_layout(width=800,height=500,title_text='Média dos valores') \n",
        "hist.show()"
      ],
      "execution_count": null,
      "outputs": [
        {
          "output_type": "display_data",
          "data": {
            "text/html": [
              "<html>\n",
              "<head><meta charset=\"utf-8\" /></head>\n",
              "<body>\n",
              "    <div>            <script src=\"https://cdnjs.cloudflare.com/ajax/libs/mathjax/2.7.5/MathJax.js?config=TeX-AMS-MML_SVG\"></script><script type=\"text/javascript\">if (window.MathJax) {MathJax.Hub.Config({SVG: {font: \"STIX-Web\"}});}</script>                <script type=\"text/javascript\">window.PlotlyConfig = {MathJaxConfig: 'local'};</script>\n",
              "        <script src=\"https://cdn.plot.ly/plotly-2.8.3.min.js\"></script>                <div id=\"b57dde1c-ba4c-4581-8557-b2eae04dbb1f\" class=\"plotly-graph-div\" style=\"height:500px; width:800px;\"></div>            <script type=\"text/javascript\">                                    window.PLOTLYENV=window.PLOTLYENV || {};                                    if (document.getElementById(\"b57dde1c-ba4c-4581-8557-b2eae04dbb1f\")) {                    Plotly.newPlot(                        \"b57dde1c-ba4c-4581-8557-b2eae04dbb1f\",                        [{\"alignmentgroup\":\"True\",\"bingroup\":\"x\",\"hovertemplate\":\"MEDV=%{x}<br>count=%{y}<extra></extra>\",\"legendgroup\":\"\",\"marker\":{\"color\":\"#636efa\",\"pattern\":{\"shape\":\"\"}},\"name\":\"\",\"nbinsx\":60,\"offsetgroup\":\"\",\"orientation\":\"v\",\"showlegend\":false,\"x\":[504000.0,453600.0,728700.0,701400.0,760200.0,602700.0,480900.0,569100.0,346500.0,396900.0,315000.0,396900.0,455700.0,428400.0,382200.0,417900.0,485100.0,367500.0,424200.0,382200.0,285600.0,411600.0,319200.0,304500.0,327600.0,291900.0,348600.0,310800.0,386400.0,441000.0,266700.0,304500.0,277200.0,275100.0,283500.0,396900.0,420000.0,441000.0,518700.0,646800.0,732900.0,558600.0,531300.0,518700.0,445200.0,405300.0,420000.0,348600.0,302400.0,407400.0,413700.0,430500.0,525000.0,491400.0,396900.0,743400.0,518700.0,663600.0,489300.0,411600.0,392700.0,336000.0,466200.0,525000.0,693000.0,493500.0,407400.0,462000.0,365400.0,438900.0,508200.0,455700.0,478800.0,491400.0,506100.0,449400.0,420000.0,436800.0,445200.0,426300.0,588000.0,501900.0,520800.0,480900.0,501900.0,558600.0,472500.0,466200.0,495600.0,602700.0,474600.0,462000.0,480900.0,525000.0,432600.0,596400.0,449400.0,812700.0,919800.0,697200.0,577500.0,556500.0,390600.0,405300.0,422100.0,409500.0,409500.0,428400.0,415800.0,407400.0,455700.0,478800.0,394800.0,392700.0,388500.0,384300.0,445200.0,403200.0,428400.0,405300.0,462000.0,426300.0,430500.0,363300.0,394800.0,449400.0,329700.0,340200.0,378000.0,300300.0,403200.0,411600.0,483000.0,386400.0,327600.0,380100.0,365400.0,359100.0,279300.0,373800.0,294000.0,302400.0,281400.0,327600.0,247800.0,289800.0,327600.0,306600.0,373800.0,323400.0,451500.0,411600.0,321300.0,407400.0,357000.0,327600.0,275100.0,867300.0,510300.0,489300.0,567000.0,476700.0,525000.0,499800.0,499800.0,468300.0,365400.0,401100.0,485100.0,495600.0,474600.0,617400.0,487200.0,516600.0,627900.0,781200.0,835800.0,760200.0,795900.0,682500.0,554400.0,621600.0,672000.0,625800.0,732900.0,777000.0,640500.0,764400.0,653100.0,611100.0,699300.0,636300.0,726600.0,732900.0,690900.0,506100.0,888300.0,1018500.0,474600.0,512400.0,472500.0,512400.0,420000.0,455700.0,405300.0,470400.0,590100.0,497700.0,525000.0,489300.0,602700.0,451500.0,483000.0,560700.0,455700.0,577500.0,632100.0,940800.0,789600.0,663600.0,980700.0,661500.0,510300.0,665700.0,875700.0,1014300.0,609000.0,504000.0,527100.0,661500.0,497700.0,489300.0,462000.0,422100.0,466200.0,497700.0,369600.0,388500.0,510300.0,430500.0,514500.0,550200.0,512400.0,520800.0,621600.0,898800.0,459900.0,438900.0,924000.0,756000.0,632100.0,709800.0,905100.0,1024800.0,651000.0,766500.0,478800.0,644700.0,913500.0,434700.0,443100.0,529200.0,512400.0,739200.0,680400.0,672000.0,697200.0,695100.0,611100.0,737100.0,953400.0,743400.0,966000.0,676200.0,462000.0,422100.0,487200.0,468300.0,520800.0,598500.0,783300.0,585900.0,501900.0,455700.0,600600.0,569100.0,426300.0,472500.0,609000.0,520800.0,462000.0,554400.0,695100.0,758100.0,596400.0,701400.0,592200.0,478800.0,426300.0,338100.0,464100.0,407400.0,453600.0,499800.0,340200.0,373800.0,415800.0,485100.0,441000.0,499800.0,485100.0,428400.0,388500.0,525000.0,516600.0,483000.0,466200.0,405300.0,474600.0,415800.0,359100.0,407400.0,466200.0,434700.0,443100.0,409500.0,388500.0,432600.0,399000.0,392700.0,686700.0,346500.0,501900.0,655200.0,367500.0,361200.0,485100.0,514500.0,558600.0,480900.0,506100.0,390600.0,632100.0,382200.0,432600.0,373800.0,455700.0,476700.0,474600.0,525000.0,417900.0,436800.0,352800.0,577500.0,459900.0,485100.0,289800.0,289800.0,315000.0,291900.0,279300.0,275100.0,214200.0,218400.0,228900.0,237300.0,258300.0,184800.0,151200.0,220500.0,155400.0,214200.0,241500.0,317100.0,487200.0,203700.0,289800.0,266700.0,275100.0,262500.0,178500.0,105000.0,132300.0,117600.0,151200.0,254100.0,174300.0,178500.0,105000.0,249900.0,585900.0,361200.0,577500.0,315000.0,361200.0,375900.0,342300.0,147000.0,151200.0,157500.0,218400.0,184800.0,176400.0,350700.0,298200.0,436800.0,281400.0,245700.0,174300.0,214200.0,228900.0,231000.0,199500.0,304500.0,296100.0,338100.0,300300.0,245700.0,281400.0,201600.0,182700.0,176400.0,268800.0,220500.0,359100.0,386400.0,323400.0,226800.0,247800.0,312900.0,264600.0,296100.0,273000.0,281400.0,319200.0,338100.0,373800.0,312900.0,296100.0,266700.0,283500.0,312900.0,420000.0,344400.0,371700.0,409500.0,424200.0,449400.0,417900.0,399000.0,401100.0,401100.0,422100.0,417900.0,411600.0,487200.0,625800.0,289800.0,279300.0,350700.0,252000.0,306600.0,449400.0,483000.0,497700.0,525000.0,457800.0,432600.0,445200.0,401100.0,432600.0,319200.0,147000.0,170100.0,285600.0,422100.0,457800.0,514500.0,485100.0,413700.0,384300.0,445200.0,367500.0,352800.0,470400.0,432600.0,501900.0,462000.0,249900.0],\"xaxis\":\"x\",\"yaxis\":\"y\",\"type\":\"histogram\"}],                        {\"template\":{\"data\":{\"bar\":[{\"error_x\":{\"color\":\"#2a3f5f\"},\"error_y\":{\"color\":\"#2a3f5f\"},\"marker\":{\"line\":{\"color\":\"#E5ECF6\",\"width\":0.5},\"pattern\":{\"fillmode\":\"overlay\",\"size\":10,\"solidity\":0.2}},\"type\":\"bar\"}],\"barpolar\":[{\"marker\":{\"line\":{\"color\":\"#E5ECF6\",\"width\":0.5},\"pattern\":{\"fillmode\":\"overlay\",\"size\":10,\"solidity\":0.2}},\"type\":\"barpolar\"}],\"carpet\":[{\"aaxis\":{\"endlinecolor\":\"#2a3f5f\",\"gridcolor\":\"white\",\"linecolor\":\"white\",\"minorgridcolor\":\"white\",\"startlinecolor\":\"#2a3f5f\"},\"baxis\":{\"endlinecolor\":\"#2a3f5f\",\"gridcolor\":\"white\",\"linecolor\":\"white\",\"minorgridcolor\":\"white\",\"startlinecolor\":\"#2a3f5f\"},\"type\":\"carpet\"}],\"choropleth\":[{\"colorbar\":{\"outlinewidth\":0,\"ticks\":\"\"},\"type\":\"choropleth\"}],\"contour\":[{\"colorbar\":{\"outlinewidth\":0,\"ticks\":\"\"},\"colorscale\":[[0.0,\"#0d0887\"],[0.1111111111111111,\"#46039f\"],[0.2222222222222222,\"#7201a8\"],[0.3333333333333333,\"#9c179e\"],[0.4444444444444444,\"#bd3786\"],[0.5555555555555556,\"#d8576b\"],[0.6666666666666666,\"#ed7953\"],[0.7777777777777778,\"#fb9f3a\"],[0.8888888888888888,\"#fdca26\"],[1.0,\"#f0f921\"]],\"type\":\"contour\"}],\"contourcarpet\":[{\"colorbar\":{\"outlinewidth\":0,\"ticks\":\"\"},\"type\":\"contourcarpet\"}],\"heatmap\":[{\"colorbar\":{\"outlinewidth\":0,\"ticks\":\"\"},\"colorscale\":[[0.0,\"#0d0887\"],[0.1111111111111111,\"#46039f\"],[0.2222222222222222,\"#7201a8\"],[0.3333333333333333,\"#9c179e\"],[0.4444444444444444,\"#bd3786\"],[0.5555555555555556,\"#d8576b\"],[0.6666666666666666,\"#ed7953\"],[0.7777777777777778,\"#fb9f3a\"],[0.8888888888888888,\"#fdca26\"],[1.0,\"#f0f921\"]],\"type\":\"heatmap\"}],\"heatmapgl\":[{\"colorbar\":{\"outlinewidth\":0,\"ticks\":\"\"},\"colorscale\":[[0.0,\"#0d0887\"],[0.1111111111111111,\"#46039f\"],[0.2222222222222222,\"#7201a8\"],[0.3333333333333333,\"#9c179e\"],[0.4444444444444444,\"#bd3786\"],[0.5555555555555556,\"#d8576b\"],[0.6666666666666666,\"#ed7953\"],[0.7777777777777778,\"#fb9f3a\"],[0.8888888888888888,\"#fdca26\"],[1.0,\"#f0f921\"]],\"type\":\"heatmapgl\"}],\"histogram\":[{\"marker\":{\"pattern\":{\"fillmode\":\"overlay\",\"size\":10,\"solidity\":0.2}},\"type\":\"histogram\"}],\"histogram2d\":[{\"colorbar\":{\"outlinewidth\":0,\"ticks\":\"\"},\"colorscale\":[[0.0,\"#0d0887\"],[0.1111111111111111,\"#46039f\"],[0.2222222222222222,\"#7201a8\"],[0.3333333333333333,\"#9c179e\"],[0.4444444444444444,\"#bd3786\"],[0.5555555555555556,\"#d8576b\"],[0.6666666666666666,\"#ed7953\"],[0.7777777777777778,\"#fb9f3a\"],[0.8888888888888888,\"#fdca26\"],[1.0,\"#f0f921\"]],\"type\":\"histogram2d\"}],\"histogram2dcontour\":[{\"colorbar\":{\"outlinewidth\":0,\"ticks\":\"\"},\"colorscale\":[[0.0,\"#0d0887\"],[0.1111111111111111,\"#46039f\"],[0.2222222222222222,\"#7201a8\"],[0.3333333333333333,\"#9c179e\"],[0.4444444444444444,\"#bd3786\"],[0.5555555555555556,\"#d8576b\"],[0.6666666666666666,\"#ed7953\"],[0.7777777777777778,\"#fb9f3a\"],[0.8888888888888888,\"#fdca26\"],[1.0,\"#f0f921\"]],\"type\":\"histogram2dcontour\"}],\"mesh3d\":[{\"colorbar\":{\"outlinewidth\":0,\"ticks\":\"\"},\"type\":\"mesh3d\"}],\"parcoords\":[{\"line\":{\"colorbar\":{\"outlinewidth\":0,\"ticks\":\"\"}},\"type\":\"parcoords\"}],\"pie\":[{\"automargin\":true,\"type\":\"pie\"}],\"scatter\":[{\"marker\":{\"colorbar\":{\"outlinewidth\":0,\"ticks\":\"\"}},\"type\":\"scatter\"}],\"scatter3d\":[{\"line\":{\"colorbar\":{\"outlinewidth\":0,\"ticks\":\"\"}},\"marker\":{\"colorbar\":{\"outlinewidth\":0,\"ticks\":\"\"}},\"type\":\"scatter3d\"}],\"scattercarpet\":[{\"marker\":{\"colorbar\":{\"outlinewidth\":0,\"ticks\":\"\"}},\"type\":\"scattercarpet\"}],\"scattergeo\":[{\"marker\":{\"colorbar\":{\"outlinewidth\":0,\"ticks\":\"\"}},\"type\":\"scattergeo\"}],\"scattergl\":[{\"marker\":{\"colorbar\":{\"outlinewidth\":0,\"ticks\":\"\"}},\"type\":\"scattergl\"}],\"scattermapbox\":[{\"marker\":{\"colorbar\":{\"outlinewidth\":0,\"ticks\":\"\"}},\"type\":\"scattermapbox\"}],\"scatterpolar\":[{\"marker\":{\"colorbar\":{\"outlinewidth\":0,\"ticks\":\"\"}},\"type\":\"scatterpolar\"}],\"scatterpolargl\":[{\"marker\":{\"colorbar\":{\"outlinewidth\":0,\"ticks\":\"\"}},\"type\":\"scatterpolargl\"}],\"scatterternary\":[{\"marker\":{\"colorbar\":{\"outlinewidth\":0,\"ticks\":\"\"}},\"type\":\"scatterternary\"}],\"surface\":[{\"colorbar\":{\"outlinewidth\":0,\"ticks\":\"\"},\"colorscale\":[[0.0,\"#0d0887\"],[0.1111111111111111,\"#46039f\"],[0.2222222222222222,\"#7201a8\"],[0.3333333333333333,\"#9c179e\"],[0.4444444444444444,\"#bd3786\"],[0.5555555555555556,\"#d8576b\"],[0.6666666666666666,\"#ed7953\"],[0.7777777777777778,\"#fb9f3a\"],[0.8888888888888888,\"#fdca26\"],[1.0,\"#f0f921\"]],\"type\":\"surface\"}],\"table\":[{\"cells\":{\"fill\":{\"color\":\"#EBF0F8\"},\"line\":{\"color\":\"white\"}},\"header\":{\"fill\":{\"color\":\"#C8D4E3\"},\"line\":{\"color\":\"white\"}},\"type\":\"table\"}]},\"layout\":{\"annotationdefaults\":{\"arrowcolor\":\"#2a3f5f\",\"arrowhead\":0,\"arrowwidth\":1},\"autotypenumbers\":\"strict\",\"coloraxis\":{\"colorbar\":{\"outlinewidth\":0,\"ticks\":\"\"}},\"colorscale\":{\"diverging\":[[0,\"#8e0152\"],[0.1,\"#c51b7d\"],[0.2,\"#de77ae\"],[0.3,\"#f1b6da\"],[0.4,\"#fde0ef\"],[0.5,\"#f7f7f7\"],[0.6,\"#e6f5d0\"],[0.7,\"#b8e186\"],[0.8,\"#7fbc41\"],[0.9,\"#4d9221\"],[1,\"#276419\"]],\"sequential\":[[0.0,\"#0d0887\"],[0.1111111111111111,\"#46039f\"],[0.2222222222222222,\"#7201a8\"],[0.3333333333333333,\"#9c179e\"],[0.4444444444444444,\"#bd3786\"],[0.5555555555555556,\"#d8576b\"],[0.6666666666666666,\"#ed7953\"],[0.7777777777777778,\"#fb9f3a\"],[0.8888888888888888,\"#fdca26\"],[1.0,\"#f0f921\"]],\"sequentialminus\":[[0.0,\"#0d0887\"],[0.1111111111111111,\"#46039f\"],[0.2222222222222222,\"#7201a8\"],[0.3333333333333333,\"#9c179e\"],[0.4444444444444444,\"#bd3786\"],[0.5555555555555556,\"#d8576b\"],[0.6666666666666666,\"#ed7953\"],[0.7777777777777778,\"#fb9f3a\"],[0.8888888888888888,\"#fdca26\"],[1.0,\"#f0f921\"]]},\"colorway\":[\"#636efa\",\"#EF553B\",\"#00cc96\",\"#ab63fa\",\"#FFA15A\",\"#19d3f3\",\"#FF6692\",\"#B6E880\",\"#FF97FF\",\"#FECB52\"],\"font\":{\"color\":\"#2a3f5f\"},\"geo\":{\"bgcolor\":\"white\",\"lakecolor\":\"white\",\"landcolor\":\"#E5ECF6\",\"showlakes\":true,\"showland\":true,\"subunitcolor\":\"white\"},\"hoverlabel\":{\"align\":\"left\"},\"hovermode\":\"closest\",\"mapbox\":{\"style\":\"light\"},\"paper_bgcolor\":\"white\",\"plot_bgcolor\":\"#E5ECF6\",\"polar\":{\"angularaxis\":{\"gridcolor\":\"white\",\"linecolor\":\"white\",\"ticks\":\"\"},\"bgcolor\":\"#E5ECF6\",\"radialaxis\":{\"gridcolor\":\"white\",\"linecolor\":\"white\",\"ticks\":\"\"}},\"scene\":{\"xaxis\":{\"backgroundcolor\":\"#E5ECF6\",\"gridcolor\":\"white\",\"gridwidth\":2,\"linecolor\":\"white\",\"showbackground\":true,\"ticks\":\"\",\"zerolinecolor\":\"white\"},\"yaxis\":{\"backgroundcolor\":\"#E5ECF6\",\"gridcolor\":\"white\",\"gridwidth\":2,\"linecolor\":\"white\",\"showbackground\":true,\"ticks\":\"\",\"zerolinecolor\":\"white\"},\"zaxis\":{\"backgroundcolor\":\"#E5ECF6\",\"gridcolor\":\"white\",\"gridwidth\":2,\"linecolor\":\"white\",\"showbackground\":true,\"ticks\":\"\",\"zerolinecolor\":\"white\"}},\"shapedefaults\":{\"line\":{\"color\":\"#2a3f5f\"}},\"ternary\":{\"aaxis\":{\"gridcolor\":\"white\",\"linecolor\":\"white\",\"ticks\":\"\"},\"baxis\":{\"gridcolor\":\"white\",\"linecolor\":\"white\",\"ticks\":\"\"},\"bgcolor\":\"#E5ECF6\",\"caxis\":{\"gridcolor\":\"white\",\"linecolor\":\"white\",\"ticks\":\"\"}},\"title\":{\"x\":0.05},\"xaxis\":{\"automargin\":true,\"gridcolor\":\"white\",\"linecolor\":\"white\",\"ticks\":\"\",\"title\":{\"standoff\":15},\"zerolinecolor\":\"white\",\"zerolinewidth\":2},\"yaxis\":{\"automargin\":true,\"gridcolor\":\"white\",\"linecolor\":\"white\",\"ticks\":\"\",\"title\":{\"standoff\":15},\"zerolinecolor\":\"white\",\"zerolinewidth\":2}}},\"xaxis\":{\"anchor\":\"y\",\"domain\":[0.0,1.0],\"title\":{\"text\":\"MEDV\"}},\"yaxis\":{\"anchor\":\"x\",\"domain\":[0.0,1.0],\"title\":{\"text\":\"count\"}},\"legend\":{\"tracegroupgap\":0},\"margin\":{\"t\":60},\"barmode\":\"relative\",\"title\":{\"text\":\"M\\u00e9dia dos valores\"},\"width\":800,\"height\":500},                        {\"responsive\": true}                    ).then(function(){\n",
              "                            \n",
              "var gd = document.getElementById('b57dde1c-ba4c-4581-8557-b2eae04dbb1f');\n",
              "var x = new MutationObserver(function (mutations, observer) {{\n",
              "        var display = window.getComputedStyle(gd).display;\n",
              "        if (!display || display === 'none') {{\n",
              "            console.log([gd, 'removed!']);\n",
              "            Plotly.purge(gd);\n",
              "            observer.disconnect();\n",
              "        }}\n",
              "}});\n",
              "\n",
              "// Listen for the removal of the full notebook cells\n",
              "var notebookContainer = gd.closest('#notebook-container');\n",
              "if (notebookContainer) {{\n",
              "    x.observe(notebookContainer, {childList: true});\n",
              "}}\n",
              "\n",
              "// Listen for the clearing of the current output cell\n",
              "var outputEl = gd.closest('.output');\n",
              "if (outputEl) {{\n",
              "    x.observe(outputEl, {childList: true});\n",
              "}}\n",
              "\n",
              "                        })                };                            </script>        </div>\n",
              "</body>\n",
              "</html>"
            ]
          },
          "metadata": {}
        }
      ]
    },
    {
      "cell_type": "code",
      "metadata": {
        "id": "-WaQDC6xHOzU",
        "colab": {
          "base_uri": "https://localhost:8080/"
        },
        "outputId": "1d83aac9-52c0-4063-c982-1d194d38ec21"
      },
      "source": [
        "stats.probplot(df['RM'], dist=\"norm\", plot=plt)\n",
        "plt.title(\"Normal Q-Q plot\")\n",
        "plt.show()"
      ],
      "execution_count": null,
      "outputs": [
        {
          "output_type": "display_data",
          "data": {
            "text/plain": [
              "<Figure size 432x288 with 1 Axes>"
            ],
            "image/png": "[encoded data removed]"
          },
          "metadata": {
            "needs_background": "light"
          }
        }
      ]
    },
    {
      "cell_type": "code",
      "source": [
        "hist =  px.histogram (df,  x = \"RM\", nbins=40) \n",
        "hist.update_layout(width=800,height=500,title_text='Quantidade de cômodos') \n",
        "hist.show()"
      ],
      "metadata": {
        "id": "DAr20mqI2FlH",
        "colab": {
          "base_uri": "https://localhost:8080/"
        },
        "outputId": "4bbe90bb-0547-4301-9ebb-99b75703ca8d"
      },
      "execution_count": null,
      "outputs": [
        {
          "output_type": "display_data",
          "data": {
            "text/html": [
              "<html>\n",
              "<head><meta charset=\"utf-8\" /></head>\n",
              "<body>\n",
              "    <div>            <script src=\"https://cdnjs.cloudflare.com/ajax/libs/mathjax/2.7.5/MathJax.js?config=TeX-AMS-MML_SVG\"></script><script type=\"text/javascript\">if (window.MathJax) {MathJax.Hub.Config({SVG: {font: \"STIX-Web\"}});}</script>                <script type=\"text/javascript\">window.PlotlyConfig = {MathJaxConfig: 'local'};</script>\n",
              "        <script src=\"https://cdn.plot.ly/plotly-2.8.3.min.js\"></script>                <div id=\"df29799d-3497-4499-afd0-4162a028cdc7\" class=\"plotly-graph-div\" style=\"height:500px; width:800px;\"></div>            <script type=\"text/javascript\">                                    window.PLOTLYENV=window.PLOTLYENV || {};                                    if (document.getElementById(\"df29799d-3497-4499-afd0-4162a028cdc7\")) {                    Plotly.newPlot(                        \"df29799d-3497-4499-afd0-4162a028cdc7\",                        [{\"alignmentgroup\":\"True\",\"bingroup\":\"x\",\"hovertemplate\":\"RM=%{x}<br>count=%{y}<extra></extra>\",\"legendgroup\":\"\",\"marker\":{\"color\":\"#636efa\",\"pattern\":{\"shape\":\"\"}},\"name\":\"\",\"nbinsx\":40,\"offsetgroup\":\"\",\"orientation\":\"v\",\"showlegend\":false,\"x\":[6.575,6.421,7.185,6.998,7.147,6.43,6.012,6.172,5.631,6.004,6.377,6.009,5.889,5.949,6.096,5.834,5.935,5.99,5.456,5.727,5.57,5.965,6.142,5.813,5.924,5.599,5.813,6.047,6.495,6.674,5.713,6.072,5.95,5.701,6.096,5.933,5.841,5.85,5.966,6.595,7.024,6.77,6.169,6.211,6.069,5.682,5.786,6.03,5.399,5.602,5.963,6.115,6.511,5.998,5.888,7.249,6.383,6.816,6.145,5.927,5.741,5.966,6.456,6.762,7.104,6.29,5.787,5.878,5.594,5.885,6.417,5.961,6.065,6.245,6.273,6.286,6.279,6.14,6.232,5.874,6.727,6.619,6.302,6.167,6.389,6.63,6.015,6.121,7.007,7.079,6.417,6.405,6.442,6.211,6.249,6.625,6.163,8.069,7.82,7.416,6.727,6.781,6.405,6.137,6.167,5.851,5.836,6.127,6.474,6.229,6.195,6.715,5.913,6.092,6.254,5.928,6.176,6.021,5.872,5.731,5.87,6.004,5.961,5.856,5.879,5.986,5.613,5.693,6.431,5.637,6.458,6.326,6.372,5.822,5.757,6.335,5.942,6.454,5.857,6.151,6.174,5.019,5.403,5.468,4.903,6.13,5.628,4.926,5.186,5.597,6.122,5.404,5.012,5.709,6.129,6.152,5.272,6.943,6.066,6.51,6.25,5.854,6.101,5.877,6.319,6.402,5.875,5.88,5.572,6.416,5.859,6.546,6.02,6.315,6.86,6.98,7.765,6.144,7.155,6.563,5.604,6.153,6.782,6.556,7.185,6.951,6.739,7.178,6.8,6.604,7.287,7.107,7.274,6.975,7.135,6.162,7.61,7.853,5.891,6.326,5.783,6.064,5.344,5.96,5.404,5.807,6.375,5.412,6.182,5.888,6.642,5.951,6.373,6.951,6.164,6.879,6.618,8.266,8.04,7.163,7.686,6.552,5.981,7.412,8.337,8.247,6.726,6.086,6.631,7.358,6.481,6.606,6.897,6.095,6.358,6.393,5.593,5.605,6.108,6.226,6.433,6.718,6.487,6.438,6.957,8.259,6.108,5.876,7.454,7.333,6.842,7.203,7.52,8.398,7.327,7.206,5.56,7.014,7.47,5.92,5.856,6.24,6.538,7.691,6.758,6.854,7.267,6.826,6.482,6.812,7.82,6.968,7.645,7.088,6.453,6.23,6.209,6.315,6.565,6.861,7.148,6.63,6.127,6.009,6.678,6.549,5.79,6.345,7.041,6.871,6.59,6.495,6.982,7.236,6.616,7.42,6.849,6.635,5.972,4.973,6.122,6.023,6.266,6.567,5.705,5.914,5.782,6.382,6.113,6.426,6.376,6.041,5.708,6.415,6.431,6.312,6.083,5.868,6.333,6.144,5.706,6.031,6.316,6.31,6.037,5.869,5.895,6.059,5.985,5.968,7.241,6.54,6.696,6.874,6.014,5.898,6.516,6.635,6.939,6.49,6.579,5.884,6.728,5.663,5.936,6.212,6.395,6.127,6.112,6.398,6.251,5.362,5.803,3.561,4.963,3.863,4.906,4.138,7.313,6.649,6.794,6.38,6.223,6.968,6.545,5.536,5.52,4.368,5.277,4.652,5.0,4.88,5.39,5.713,6.051,5.036,6.193,5.887,6.471,6.405,5.747,5.453,5.852,5.987,6.343,6.404,5.349,5.531,5.683,4.138,5.608,5.617,6.852,5.757,6.657,4.628,5.155,4.519,6.434,6.782,5.304,5.957,6.824,6.411,6.006,5.648,6.103,5.565,5.896,5.837,6.202,6.193,6.38,6.348,6.833,6.425,6.436,6.208,6.629,6.461,6.152,5.935,5.627,5.818,6.406,6.219,6.485,5.854,6.459,6.341,6.251,6.185,6.417,6.749,6.655,6.297,7.393,6.728,6.525,5.976,5.936,6.301,6.081,6.701,6.376,6.317,6.513,6.209,5.759,5.952,6.003,5.926,5.713,6.167,6.229,6.437,6.98,5.427,6.162,6.484,5.304,6.185,6.229,6.242,6.75,7.061,5.762,5.871,6.312,6.114,5.905,5.454,5.414,5.093,5.983,5.983,5.707,5.926,5.67,5.39,5.794,6.019,5.569,6.027,6.593,6.12,6.976,6.794,6.03],\"xaxis\":\"x\",\"yaxis\":\"y\",\"type\":\"histogram\"}],                        {\"template\":{\"data\":{\"bar\":[{\"error_x\":{\"color\":\"#2a3f5f\"},\"error_y\":{\"color\":\"#2a3f5f\"},\"marker\":{\"line\":{\"color\":\"#E5ECF6\",\"width\":0.5},\"pattern\":{\"fillmode\":\"overlay\",\"size\":10,\"solidity\":0.2}},\"type\":\"bar\"}],\"barpolar\":[{\"marker\":{\"line\":{\"color\":\"#E5ECF6\",\"width\":0.5},\"pattern\":{\"fillmode\":\"overlay\",\"size\":10,\"solidity\":0.2}},\"type\":\"barpolar\"}],\"carpet\":[{\"aaxis\":{\"endlinecolor\":\"#2a3f5f\",\"gridcolor\":\"white\",\"linecolor\":\"white\",\"minorgridcolor\":\"white\",\"startlinecolor\":\"#2a3f5f\"},\"baxis\":{\"endlinecolor\":\"#2a3f5f\",\"gridcolor\":\"white\",\"linecolor\":\"white\",\"minorgridcolor\":\"white\",\"startlinecolor\":\"#2a3f5f\"},\"type\":\"carpet\"}],\"choropleth\":[{\"colorbar\":{\"outlinewidth\":0,\"ticks\":\"\"},\"type\":\"choropleth\"}],\"contour\":[{\"colorbar\":{\"outlinewidth\":0,\"ticks\":\"\"},\"colorscale\":[[0.0,\"#0d0887\"],[0.1111111111111111,\"#46039f\"],[0.2222222222222222,\"#7201a8\"],[0.3333333333333333,\"#9c179e\"],[0.4444444444444444,\"#bd3786\"],[0.5555555555555556,\"#d8576b\"],[0.6666666666666666,\"#ed7953\"],[0.7777777777777778,\"#fb9f3a\"],[0.8888888888888888,\"#fdca26\"],[1.0,\"#f0f921\"]],\"type\":\"contour\"}],\"contourcarpet\":[{\"colorbar\":{\"outlinewidth\":0,\"ticks\":\"\"},\"type\":\"contourcarpet\"}],\"heatmap\":[{\"colorbar\":{\"outlinewidth\":0,\"ticks\":\"\"},\"colorscale\":[[0.0,\"#0d0887\"],[0.1111111111111111,\"#46039f\"],[0.2222222222222222,\"#7201a8\"],[0.3333333333333333,\"#9c179e\"],[0.4444444444444444,\"#bd3786\"],[0.5555555555555556,\"#d8576b\"],[0.6666666666666666,\"#ed7953\"],[0.7777777777777778,\"#fb9f3a\"],[0.8888888888888888,\"#fdca26\"],[1.0,\"#f0f921\"]],\"type\":\"heatmap\"}],\"heatmapgl\":[{\"colorbar\":{\"outlinewidth\":0,\"ticks\":\"\"},\"colorscale\":[[0.0,\"#0d0887\"],[0.1111111111111111,\"#46039f\"],[0.2222222222222222,\"#7201a8\"],[0.3333333333333333,\"#9c179e\"],[0.4444444444444444,\"#bd3786\"],[0.5555555555555556,\"#d8576b\"],[0.6666666666666666,\"#ed7953\"],[0.7777777777777778,\"#fb9f3a\"],[0.8888888888888888,\"#fdca26\"],[1.0,\"#f0f921\"]],\"type\":\"heatmapgl\"}],\"histogram\":[{\"marker\":{\"pattern\":{\"fillmode\":\"overlay\",\"size\":10,\"solidity\":0.2}},\"type\":\"histogram\"}],\"histogram2d\":[{\"colorbar\":{\"outlinewidth\":0,\"ticks\":\"\"},\"colorscale\":[[0.0,\"#0d0887\"],[0.1111111111111111,\"#46039f\"],[0.2222222222222222,\"#7201a8\"],[0.3333333333333333,\"#9c179e\"],[0.4444444444444444,\"#bd3786\"],[0.5555555555555556,\"#d8576b\"],[0.6666666666666666,\"#ed7953\"],[0.7777777777777778,\"#fb9f3a\"],[0.8888888888888888,\"#fdca26\"],[1.0,\"#f0f921\"]],\"type\":\"histogram2d\"}],\"histogram2dcontour\":[{\"colorbar\":{\"outlinewidth\":0,\"ticks\":\"\"},\"colorscale\":[[0.0,\"#0d0887\"],[0.1111111111111111,\"#46039f\"],[0.2222222222222222,\"#7201a8\"],[0.3333333333333333,\"#9c179e\"],[0.4444444444444444,\"#bd3786\"],[0.5555555555555556,\"#d8576b\"],[0.6666666666666666,\"#ed7953\"],[0.7777777777777778,\"#fb9f3a\"],[0.8888888888888888,\"#fdca26\"],[1.0,\"#f0f921\"]],\"type\":\"histogram2dcontour\"}],\"mesh3d\":[{\"colorbar\":{\"outlinewidth\":0,\"ticks\":\"\"},\"type\":\"mesh3d\"}],\"parcoords\":[{\"line\":{\"colorbar\":{\"outlinewidth\":0,\"ticks\":\"\"}},\"type\":\"parcoords\"}],\"pie\":[{\"automargin\":true,\"type\":\"pie\"}],\"scatter\":[{\"marker\":{\"colorbar\":{\"outlinewidth\":0,\"ticks\":\"\"}},\"type\":\"scatter\"}],\"scatter3d\":[{\"line\":{\"colorbar\":{\"outlinewidth\":0,\"ticks\":\"\"}},\"marker\":{\"colorbar\":{\"outlinewidth\":0,\"ticks\":\"\"}},\"type\":\"scatter3d\"}],\"scattercarpet\":[{\"marker\":{\"colorbar\":{\"outlinewidth\":0,\"ticks\":\"\"}},\"type\":\"scattercarpet\"}],\"scattergeo\":[{\"marker\":{\"colorbar\":{\"outlinewidth\":0,\"ticks\":\"\"}},\"type\":\"scattergeo\"}],\"scattergl\":[{\"marker\":{\"colorbar\":{\"outlinewidth\":0,\"ticks\":\"\"}},\"type\":\"scattergl\"}],\"scattermapbox\":[{\"marker\":{\"colorbar\":{\"outlinewidth\":0,\"ticks\":\"\"}},\"type\":\"scattermapbox\"}],\"scatterpolar\":[{\"marker\":{\"colorbar\":{\"outlinewidth\":0,\"ticks\":\"\"}},\"type\":\"scatterpolar\"}],\"scatterpolargl\":[{\"marker\":{\"colorbar\":{\"outlinewidth\":0,\"ticks\":\"\"}},\"type\":\"scatterpolargl\"}],\"scatterternary\":[{\"marker\":{\"colorbar\":{\"outlinewidth\":0,\"ticks\":\"\"}},\"type\":\"scatterternary\"}],\"surface\":[{\"colorbar\":{\"outlinewidth\":0,\"ticks\":\"\"},\"colorscale\":[[0.0,\"#0d0887\"],[0.1111111111111111,\"#46039f\"],[0.2222222222222222,\"#7201a8\"],[0.3333333333333333,\"#9c179e\"],[0.4444444444444444,\"#bd3786\"],[0.5555555555555556,\"#d8576b\"],[0.6666666666666666,\"#ed7953\"],[0.7777777777777778,\"#fb9f3a\"],[0.8888888888888888,\"#fdca26\"],[1.0,\"#f0f921\"]],\"type\":\"surface\"}],\"table\":[{\"cells\":{\"fill\":{\"color\":\"#EBF0F8\"},\"line\":{\"color\":\"white\"}},\"header\":{\"fill\":{\"color\":\"#C8D4E3\"},\"line\":{\"color\":\"white\"}},\"type\":\"table\"}]},\"layout\":{\"annotationdefaults\":{\"arrowcolor\":\"#2a3f5f\",\"arrowhead\":0,\"arrowwidth\":1},\"autotypenumbers\":\"strict\",\"coloraxis\":{\"colorbar\":{\"outlinewidth\":0,\"ticks\":\"\"}},\"colorscale\":{\"diverging\":[[0,\"#8e0152\"],[0.1,\"#c51b7d\"],[0.2,\"#de77ae\"],[0.3,\"#f1b6da\"],[0.4,\"#fde0ef\"],[0.5,\"#f7f7f7\"],[0.6,\"#e6f5d0\"],[0.7,\"#b8e186\"],[0.8,\"#7fbc41\"],[0.9,\"#4d9221\"],[1,\"#276419\"]],\"sequential\":[[0.0,\"#0d0887\"],[0.1111111111111111,\"#46039f\"],[0.2222222222222222,\"#7201a8\"],[0.3333333333333333,\"#9c179e\"],[0.4444444444444444,\"#bd3786\"],[0.5555555555555556,\"#d8576b\"],[0.6666666666666666,\"#ed7953\"],[0.7777777777777778,\"#fb9f3a\"],[0.8888888888888888,\"#fdca26\"],[1.0,\"#f0f921\"]],\"sequentialminus\":[[0.0,\"#0d0887\"],[0.1111111111111111,\"#46039f\"],[0.2222222222222222,\"#7201a8\"],[0.3333333333333333,\"#9c179e\"],[0.4444444444444444,\"#bd3786\"],[0.5555555555555556,\"#d8576b\"],[0.6666666666666666,\"#ed7953\"],[0.7777777777777778,\"#fb9f3a\"],[0.8888888888888888,\"#fdca26\"],[1.0,\"#f0f921\"]]},\"colorway\":[\"#636efa\",\"#EF553B\",\"#00cc96\",\"#ab63fa\",\"#FFA15A\",\"#19d3f3\",\"#FF6692\",\"#B6E880\",\"#FF97FF\",\"#FECB52\"],\"font\":{\"color\":\"#2a3f5f\"},\"geo\":{\"bgcolor\":\"white\",\"lakecolor\":\"white\",\"landcolor\":\"#E5ECF6\",\"showlakes\":true,\"showland\":true,\"subunitcolor\":\"white\"},\"hoverlabel\":{\"align\":\"left\"},\"hovermode\":\"closest\",\"mapbox\":{\"style\":\"light\"},\"paper_bgcolor\":\"white\",\"plot_bgcolor\":\"#E5ECF6\",\"polar\":{\"angularaxis\":{\"gridcolor\":\"white\",\"linecolor\":\"white\",\"ticks\":\"\"},\"bgcolor\":\"#E5ECF6\",\"radialaxis\":{\"gridcolor\":\"white\",\"linecolor\":\"white\",\"ticks\":\"\"}},\"scene\":{\"xaxis\":{\"backgroundcolor\":\"#E5ECF6\",\"gridcolor\":\"white\",\"gridwidth\":2,\"linecolor\":\"white\",\"showbackground\":true,\"ticks\":\"\",\"zerolinecolor\":\"white\"},\"yaxis\":{\"backgroundcolor\":\"#E5ECF6\",\"gridcolor\":\"white\",\"gridwidth\":2,\"linecolor\":\"white\",\"showbackground\":true,\"ticks\":\"\",\"zerolinecolor\":\"white\"},\"zaxis\":{\"backgroundcolor\":\"#E5ECF6\",\"gridcolor\":\"white\",\"gridwidth\":2,\"linecolor\":\"white\",\"showbackground\":true,\"ticks\":\"\",\"zerolinecolor\":\"white\"}},\"shapedefaults\":{\"line\":{\"color\":\"#2a3f5f\"}},\"ternary\":{\"aaxis\":{\"gridcolor\":\"white\",\"linecolor\":\"white\",\"ticks\":\"\"},\"baxis\":{\"gridcolor\":\"white\",\"linecolor\":\"white\",\"ticks\":\"\"},\"bgcolor\":\"#E5ECF6\",\"caxis\":{\"gridcolor\":\"white\",\"linecolor\":\"white\",\"ticks\":\"\"}},\"title\":{\"x\":0.05},\"xaxis\":{\"automargin\":true,\"gridcolor\":\"white\",\"linecolor\":\"white\",\"ticks\":\"\",\"title\":{\"standoff\":15},\"zerolinecolor\":\"white\",\"zerolinewidth\":2},\"yaxis\":{\"automargin\":true,\"gridcolor\":\"white\",\"linecolor\":\"white\",\"ticks\":\"\",\"title\":{\"standoff\":15},\"zerolinecolor\":\"white\",\"zerolinewidth\":2}}},\"xaxis\":{\"anchor\":\"y\",\"domain\":[0.0,1.0],\"title\":{\"text\":\"RM\"}},\"yaxis\":{\"anchor\":\"x\",\"domain\":[0.0,1.0],\"title\":{\"text\":\"count\"}},\"legend\":{\"tracegroupgap\":0},\"margin\":{\"t\":60},\"barmode\":\"relative\",\"title\":{\"text\":\"Quantidade de c\\u00f4modos\"},\"width\":800,\"height\":500},                        {\"responsive\": true}                    ).then(function(){\n",
              "                            \n",
              "var gd = document.getElementById('df29799d-3497-4499-afd0-4162a028cdc7');\n",
              "var x = new MutationObserver(function (mutations, observer) {{\n",
              "        var display = window.getComputedStyle(gd).display;\n",
              "        if (!display || display === 'none') {{\n",
              "            console.log([gd, 'removed!']);\n",
              "            Plotly.purge(gd);\n",
              "            observer.disconnect();\n",
              "        }}\n",
              "}});\n",
              "\n",
              "// Listen for the removal of the full notebook cells\n",
              "var notebookContainer = gd.closest('#notebook-container');\n",
              "if (notebookContainer) {{\n",
              "    x.observe(notebookContainer, {childList: true});\n",
              "}}\n",
              "\n",
              "// Listen for the clearing of the current output cell\n",
              "var outputEl = gd.closest('.output');\n",
              "if (outputEl) {{\n",
              "    x.observe(outputEl, {childList: true});\n",
              "}}\n",
              "\n",
              "                        })                };                            </script>        </div>\n",
              "</body>\n",
              "</html>"
            ]
          },
          "metadata": {}
        }
      ]
    },
    {
      "cell_type": "code",
      "source": [
        "stats.probplot(df['LSTAT'], dist=\"norm\", plot=plt)\n",
        "plt.title(\"Normal Q-Q plot\")\n",
        "plt.show()"
      ],
      "metadata": {
        "id": "C-ZHKF9O0vgj",
        "colab": {
          "base_uri": "https://localhost:8080/"
        },
        "outputId": "2893eeb8-dba5-40fe-b795-158ef52546a1"
      },
      "execution_count": null,
      "outputs": [
        {
          "output_type": "display_data",
          "data": {
            "text/plain": [
              "<Figure size 432x288 with 1 Axes>"
            ],
            "image/png": "[encoded data removed]"
          },
          "metadata": {
            "needs_background": "light"
          }
        }
      ]
    },
    {
      "cell_type": "code",
      "source": [
        "hist =  px.histogram (df,  x = \"LSTAT\", nbins=60) \n",
        "hist.update_layout(width=800,height=500,title_text='Quantidade de Classe Baixa (%)') \n",
        "hist.show()"
      ],
      "metadata": {
        "id": "t_DuX1wV2XTX",
        "colab": {
          "base_uri": "https://localhost:8080/"
        },
        "outputId": "efbee636-7f0a-4af5-d696-4c42feaf708b"
      },
      "execution_count": null,
      "outputs": [
        {
          "output_type": "display_data",
          "data": {
            "text/html": [
              "<html>\n",
              "<head><meta charset=\"utf-8\" /></head>\n",
              "<body>\n",
              "    <div>            <script src=\"https://cdnjs.cloudflare.com/ajax/libs/mathjax/2.7.5/MathJax.js?config=TeX-AMS-MML_SVG\"></script><script type=\"text/javascript\">if (window.MathJax) {MathJax.Hub.Config({SVG: {font: \"STIX-Web\"}});}</script>                <script type=\"text/javascript\">window.PlotlyConfig = {MathJaxConfig: 'local'};</script>\n",
              "        <script src=\"https://cdn.plot.ly/plotly-2.8.3.min.js\"></script>                <div id=\"07795c1d-5b82-49a3-a6db-711ba9af408f\" class=\"plotly-graph-div\" style=\"height:500px; width:800px;\"></div>            <script type=\"text/javascript\">                                    window.PLOTLYENV=window.PLOTLYENV || {};                                    if (document.getElementById(\"07795c1d-5b82-49a3-a6db-711ba9af408f\")) {                    Plotly.newPlot(                        \"07795c1d-5b82-49a3-a6db-711ba9af408f\",                        [{\"alignmentgroup\":\"True\",\"bingroup\":\"x\",\"hovertemplate\":\"LSTAT=%{x}<br>count=%{y}<extra></extra>\",\"legendgroup\":\"\",\"marker\":{\"color\":\"#636efa\",\"pattern\":{\"shape\":\"\"}},\"name\":\"\",\"nbinsx\":60,\"offsetgroup\":\"\",\"orientation\":\"v\",\"showlegend\":false,\"x\":[4.98,9.14,4.03,2.94,5.33,5.21,12.43,19.15,29.93,17.1,20.45,13.27,15.71,8.26,10.26,8.47,6.58,14.67,11.69,11.28,21.02,13.83,18.72,19.88,16.3,16.51,14.81,17.28,12.8,11.98,22.6,13.04,27.71,18.35,20.34,9.68,11.41,8.77,10.13,4.32,1.98,4.84,5.81,7.44,9.55,10.21,14.15,18.8,30.81,16.2,13.45,9.43,5.28,8.43,14.8,4.81,5.77,3.95,6.86,9.22,13.15,14.44,6.73,9.5,8.05,4.67,10.24,8.1,13.09,8.79,6.72,9.88,5.52,7.54,6.78,8.94,11.97,10.27,12.34,9.1,5.29,7.22,6.72,7.51,9.62,6.53,12.86,8.44,5.5,5.7,8.81,8.2,8.16,6.21,10.59,6.65,11.34,4.21,3.57,6.19,9.42,7.67,10.63,13.44,12.33,16.47,18.66,14.09,12.27,15.55,13.0,10.16,16.21,17.09,10.45,15.76,12.04,10.3,15.37,13.61,14.37,14.27,17.93,25.41,17.58,14.81,27.26,17.19,15.39,18.34,12.6,12.26,11.12,15.03,17.31,16.96,16.9,14.59,21.32,18.46,24.16,34.41,26.82,26.42,29.29,27.8,16.65,29.53,28.32,21.45,14.1,13.28,12.12,15.79,15.12,15.02,16.14,4.59,6.43,7.39,5.5,11.64,9.81,12.14,11.1,11.32,14.43,12.03,14.69,9.04,9.64,5.33,10.11,6.29,6.92,5.04,7.56,9.45,4.82,5.68,13.98,13.15,6.68,4.56,5.39,5.1,4.69,2.87,5.03,4.38,4.08,8.61,6.62,4.56,4.45,7.43,3.11,3.81,10.87,10.97,18.06,14.66,23.09,17.27,23.98,16.03,9.38,29.55,9.47,13.51,9.69,17.92,10.5,9.71,21.46,9.93,7.6,4.14,3.13,6.36,3.92,3.76,11.65,5.25,2.47,3.95,8.05,10.88,9.54,4.73,6.36,7.37,11.38,12.4,11.22,5.19,12.5,18.46,9.16,10.15,9.52,6.56,5.9,3.59,3.53,3.54,6.57,9.25,3.11,7.79,6.9,9.59,7.26,5.91,11.25,8.1,10.45,14.79,3.16,13.65,13.0,6.59,7.73,6.58,3.53,2.98,6.05,4.16,7.19,4.85,3.76,4.59,3.01,7.85,8.23,12.93,7.14,7.6,9.51,3.33,3.56,4.7,8.58,10.4,6.27,7.39,15.84,4.97,4.74,6.07,9.5,8.67,4.86,6.93,8.93,6.47,7.53,4.54,9.97,12.64,5.98,11.72,7.9,9.28,11.5,18.33,15.94,10.36,12.73,7.2,6.87,7.7,11.74,6.12,5.08,6.15,12.79,9.97,7.34,9.09,12.43,7.83,5.68,6.75,8.01,9.8,10.56,8.51,9.74,9.29,5.49,8.65,7.18,4.61,10.53,12.67,6.36,5.99,5.89,5.98,5.49,7.79,4.5,8.05,5.57,17.6,13.27,11.48,12.67,7.79,14.19,10.19,14.64,7.12,14.0,13.33,34.77,37.97,13.44,23.24,21.24,23.69,21.78,17.21,21.08,23.6,24.56,30.63,30.81,28.28,31.99,30.62,20.85,17.11,18.76,25.68,15.17,16.35,17.12,19.37,19.92,30.59,29.97,26.77,20.32,20.31,19.77,27.38,22.98,23.34,12.13,26.4,19.78,10.11,21.22,34.37,20.08,36.98,29.05,25.79,26.64,20.62,22.74,15.02,15.7,14.1,23.29,17.16,24.39,15.69,14.52,21.52,24.08,17.64,19.69,12.03,16.22,15.17,23.27,18.05,26.45,34.02,22.88,22.11,19.52,16.59,18.85,23.79,23.98,17.79,16.44,18.13,19.31,17.44,17.73,17.27,16.74,18.71,18.13,19.01,16.94,16.23,14.7,16.42,14.65,13.99,10.29,13.22,14.13,17.15,21.32,18.13,14.76,16.29,12.87,14.36,11.66,18.14,24.1,18.68,24.91,18.03,13.11,10.74,7.74,7.01,10.42,13.34,10.58,14.98,11.45,18.06,23.97,29.68,18.07,13.35,12.01,13.59,17.6,21.14,14.1,12.92,15.1,14.33,9.67,9.08,5.64,6.48,7.88],\"xaxis\":\"x\",\"yaxis\":\"y\",\"type\":\"histogram\"}],                        {\"template\":{\"data\":{\"bar\":[{\"error_x\":{\"color\":\"#2a3f5f\"},\"error_y\":{\"color\":\"#2a3f5f\"},\"marker\":{\"line\":{\"color\":\"#E5ECF6\",\"width\":0.5},\"pattern\":{\"fillmode\":\"overlay\",\"size\":10,\"solidity\":0.2}},\"type\":\"bar\"}],\"barpolar\":[{\"marker\":{\"line\":{\"color\":\"#E5ECF6\",\"width\":0.5},\"pattern\":{\"fillmode\":\"overlay\",\"size\":10,\"solidity\":0.2}},\"type\":\"barpolar\"}],\"carpet\":[{\"aaxis\":{\"endlinecolor\":\"#2a3f5f\",\"gridcolor\":\"white\",\"linecolor\":\"white\",\"minorgridcolor\":\"white\",\"startlinecolor\":\"#2a3f5f\"},\"baxis\":{\"endlinecolor\":\"#2a3f5f\",\"gridcolor\":\"white\",\"linecolor\":\"white\",\"minorgridcolor\":\"white\",\"startlinecolor\":\"#2a3f5f\"},\"type\":\"carpet\"}],\"choropleth\":[{\"colorbar\":{\"outlinewidth\":0,\"ticks\":\"\"},\"type\":\"choropleth\"}],\"contour\":[{\"colorbar\":{\"outlinewidth\":0,\"ticks\":\"\"},\"colorscale\":[[0.0,\"#0d0887\"],[0.1111111111111111,\"#46039f\"],[0.2222222222222222,\"#7201a8\"],[0.3333333333333333,\"#9c179e\"],[0.4444444444444444,\"#bd3786\"],[0.5555555555555556,\"#d8576b\"],[0.6666666666666666,\"#ed7953\"],[0.7777777777777778,\"#fb9f3a\"],[0.8888888888888888,\"#fdca26\"],[1.0,\"#f0f921\"]],\"type\":\"contour\"}],\"contourcarpet\":[{\"colorbar\":{\"outlinewidth\":0,\"ticks\":\"\"},\"type\":\"contourcarpet\"}],\"heatmap\":[{\"colorbar\":{\"outlinewidth\":0,\"ticks\":\"\"},\"colorscale\":[[0.0,\"#0d0887\"],[0.1111111111111111,\"#46039f\"],[0.2222222222222222,\"#7201a8\"],[0.3333333333333333,\"#9c179e\"],[0.4444444444444444,\"#bd3786\"],[0.5555555555555556,\"#d8576b\"],[0.6666666666666666,\"#ed7953\"],[0.7777777777777778,\"#fb9f3a\"],[0.8888888888888888,\"#fdca26\"],[1.0,\"#f0f921\"]],\"type\":\"heatmap\"}],\"heatmapgl\":[{\"colorbar\":{\"outlinewidth\":0,\"ticks\":\"\"},\"colorscale\":[[0.0,\"#0d0887\"],[0.1111111111111111,\"#46039f\"],[0.2222222222222222,\"#7201a8\"],[0.3333333333333333,\"#9c179e\"],[0.4444444444444444,\"#bd3786\"],[0.5555555555555556,\"#d8576b\"],[0.6666666666666666,\"#ed7953\"],[0.7777777777777778,\"#fb9f3a\"],[0.8888888888888888,\"#fdca26\"],[1.0,\"#f0f921\"]],\"type\":\"heatmapgl\"}],\"histogram\":[{\"marker\":{\"pattern\":{\"fillmode\":\"overlay\",\"size\":10,\"solidity\":0.2}},\"type\":\"histogram\"}],\"histogram2d\":[{\"colorbar\":{\"outlinewidth\":0,\"ticks\":\"\"},\"colorscale\":[[0.0,\"#0d0887\"],[0.1111111111111111,\"#46039f\"],[0.2222222222222222,\"#7201a8\"],[0.3333333333333333,\"#9c179e\"],[0.4444444444444444,\"#bd3786\"],[0.5555555555555556,\"#d8576b\"],[0.6666666666666666,\"#ed7953\"],[0.7777777777777778,\"#fb9f3a\"],[0.8888888888888888,\"#fdca26\"],[1.0,\"#f0f921\"]],\"type\":\"histogram2d\"}],\"histogram2dcontour\":[{\"colorbar\":{\"outlinewidth\":0,\"ticks\":\"\"},\"colorscale\":[[0.0,\"#0d0887\"],[0.1111111111111111,\"#46039f\"],[0.2222222222222222,\"#7201a8\"],[0.3333333333333333,\"#9c179e\"],[0.4444444444444444,\"#bd3786\"],[0.5555555555555556,\"#d8576b\"],[0.6666666666666666,\"#ed7953\"],[0.7777777777777778,\"#fb9f3a\"],[0.8888888888888888,\"#fdca26\"],[1.0,\"#f0f921\"]],\"type\":\"histogram2dcontour\"}],\"mesh3d\":[{\"colorbar\":{\"outlinewidth\":0,\"ticks\":\"\"},\"type\":\"mesh3d\"}],\"parcoords\":[{\"line\":{\"colorbar\":{\"outlinewidth\":0,\"ticks\":\"\"}},\"type\":\"parcoords\"}],\"pie\":[{\"automargin\":true,\"type\":\"pie\"}],\"scatter\":[{\"marker\":{\"colorbar\":{\"outlinewidth\":0,\"ticks\":\"\"}},\"type\":\"scatter\"}],\"scatter3d\":[{\"line\":{\"colorbar\":{\"outlinewidth\":0,\"ticks\":\"\"}},\"marker\":{\"colorbar\":{\"outlinewidth\":0,\"ticks\":\"\"}},\"type\":\"scatter3d\"}],\"scattercarpet\":[{\"marker\":{\"colorbar\":{\"outlinewidth\":0,\"ticks\":\"\"}},\"type\":\"scattercarpet\"}],\"scattergeo\":[{\"marker\":{\"colorbar\":{\"outlinewidth\":0,\"ticks\":\"\"}},\"type\":\"scattergeo\"}],\"scattergl\":[{\"marker\":{\"colorbar\":{\"outlinewidth\":0,\"ticks\":\"\"}},\"type\":\"scattergl\"}],\"scattermapbox\":[{\"marker\":{\"colorbar\":{\"outlinewidth\":0,\"ticks\":\"\"}},\"type\":\"scattermapbox\"}],\"scatterpolar\":[{\"marker\":{\"colorbar\":{\"outlinewidth\":0,\"ticks\":\"\"}},\"type\":\"scatterpolar\"}],\"scatterpolargl\":[{\"marker\":{\"colorbar\":{\"outlinewidth\":0,\"ticks\":\"\"}},\"type\":\"scatterpolargl\"}],\"scatterternary\":[{\"marker\":{\"colorbar\":{\"outlinewidth\":0,\"ticks\":\"\"}},\"type\":\"scatterternary\"}],\"surface\":[{\"colorbar\":{\"outlinewidth\":0,\"ticks\":\"\"},\"colorscale\":[[0.0,\"#0d0887\"],[0.1111111111111111,\"#46039f\"],[0.2222222222222222,\"#7201a8\"],[0.3333333333333333,\"#9c179e\"],[0.4444444444444444,\"#bd3786\"],[0.5555555555555556,\"#d8576b\"],[0.6666666666666666,\"#ed7953\"],[0.7777777777777778,\"#fb9f3a\"],[0.8888888888888888,\"#fdca26\"],[1.0,\"#f0f921\"]],\"type\":\"surface\"}],\"table\":[{\"cells\":{\"fill\":{\"color\":\"#EBF0F8\"},\"line\":{\"color\":\"white\"}},\"header\":{\"fill\":{\"color\":\"#C8D4E3\"},\"line\":{\"color\":\"white\"}},\"type\":\"table\"}]},\"layout\":{\"annotationdefaults\":{\"arrowcolor\":\"#2a3f5f\",\"arrowhead\":0,\"arrowwidth\":1},\"autotypenumbers\":\"strict\",\"coloraxis\":{\"colorbar\":{\"outlinewidth\":0,\"ticks\":\"\"}},\"colorscale\":{\"diverging\":[[0,\"#8e0152\"],[0.1,\"#c51b7d\"],[0.2,\"#de77ae\"],[0.3,\"#f1b6da\"],[0.4,\"#fde0ef\"],[0.5,\"#f7f7f7\"],[0.6,\"#e6f5d0\"],[0.7,\"#b8e186\"],[0.8,\"#7fbc41\"],[0.9,\"#4d9221\"],[1,\"#276419\"]],\"sequential\":[[0.0,\"#0d0887\"],[0.1111111111111111,\"#46039f\"],[0.2222222222222222,\"#7201a8\"],[0.3333333333333333,\"#9c179e\"],[0.4444444444444444,\"#bd3786\"],[0.5555555555555556,\"#d8576b\"],[0.6666666666666666,\"#ed7953\"],[0.7777777777777778,\"#fb9f3a\"],[0.8888888888888888,\"#fdca26\"],[1.0,\"#f0f921\"]],\"sequentialminus\":[[0.0,\"#0d0887\"],[0.1111111111111111,\"#46039f\"],[0.2222222222222222,\"#7201a8\"],[0.3333333333333333,\"#9c179e\"],[0.4444444444444444,\"#bd3786\"],[0.5555555555555556,\"#d8576b\"],[0.6666666666666666,\"#ed7953\"],[0.7777777777777778,\"#fb9f3a\"],[0.8888888888888888,\"#fdca26\"],[1.0,\"#f0f921\"]]},\"colorway\":[\"#636efa\",\"#EF553B\",\"#00cc96\",\"#ab63fa\",\"#FFA15A\",\"#19d3f3\",\"#FF6692\",\"#B6E880\",\"#FF97FF\",\"#FECB52\"],\"font\":{\"color\":\"#2a3f5f\"},\"geo\":{\"bgcolor\":\"white\",\"lakecolor\":\"white\",\"landcolor\":\"#E5ECF6\",\"showlakes\":true,\"showland\":true,\"subunitcolor\":\"white\"},\"hoverlabel\":{\"align\":\"left\"},\"hovermode\":\"closest\",\"mapbox\":{\"style\":\"light\"},\"paper_bgcolor\":\"white\",\"plot_bgcolor\":\"#E5ECF6\",\"polar\":{\"angularaxis\":{\"gridcolor\":\"white\",\"linecolor\":\"white\",\"ticks\":\"\"},\"bgcolor\":\"#E5ECF6\",\"radialaxis\":{\"gridcolor\":\"white\",\"linecolor\":\"white\",\"ticks\":\"\"}},\"scene\":{\"xaxis\":{\"backgroundcolor\":\"#E5ECF6\",\"gridcolor\":\"white\",\"gridwidth\":2,\"linecolor\":\"white\",\"showbackground\":true,\"ticks\":\"\",\"zerolinecolor\":\"white\"},\"yaxis\":{\"backgroundcolor\":\"#E5ECF6\",\"gridcolor\":\"white\",\"gridwidth\":2,\"linecolor\":\"white\",\"showbackground\":true,\"ticks\":\"\",\"zerolinecolor\":\"white\"},\"zaxis\":{\"backgroundcolor\":\"#E5ECF6\",\"gridcolor\":\"white\",\"gridwidth\":2,\"linecolor\":\"white\",\"showbackground\":true,\"ticks\":\"\",\"zerolinecolor\":\"white\"}},\"shapedefaults\":{\"line\":{\"color\":\"#2a3f5f\"}},\"ternary\":{\"aaxis\":{\"gridcolor\":\"white\",\"linecolor\":\"white\",\"ticks\":\"\"},\"baxis\":{\"gridcolor\":\"white\",\"linecolor\":\"white\",\"ticks\":\"\"},\"bgcolor\":\"#E5ECF6\",\"caxis\":{\"gridcolor\":\"white\",\"linecolor\":\"white\",\"ticks\":\"\"}},\"title\":{\"x\":0.05},\"xaxis\":{\"automargin\":true,\"gridcolor\":\"white\",\"linecolor\":\"white\",\"ticks\":\"\",\"title\":{\"standoff\":15},\"zerolinecolor\":\"white\",\"zerolinewidth\":2},\"yaxis\":{\"automargin\":true,\"gridcolor\":\"white\",\"linecolor\":\"white\",\"ticks\":\"\",\"title\":{\"standoff\":15},\"zerolinecolor\":\"white\",\"zerolinewidth\":2}}},\"xaxis\":{\"anchor\":\"y\",\"domain\":[0.0,1.0],\"title\":{\"text\":\"LSTAT\"}},\"yaxis\":{\"anchor\":\"x\",\"domain\":[0.0,1.0],\"title\":{\"text\":\"count\"}},\"legend\":{\"tracegroupgap\":0},\"margin\":{\"t\":60},\"barmode\":\"relative\",\"title\":{\"text\":\"Quantidade de Classe Baixa (%)\"},\"width\":800,\"height\":500},                        {\"responsive\": true}                    ).then(function(){\n",
              "                            \n",
              "var gd = document.getElementById('07795c1d-5b82-49a3-a6db-711ba9af408f');\n",
              "var x = new MutationObserver(function (mutations, observer) {{\n",
              "        var display = window.getComputedStyle(gd).display;\n",
              "        if (!display || display === 'none') {{\n",
              "            console.log([gd, 'removed!']);\n",
              "            Plotly.purge(gd);\n",
              "            observer.disconnect();\n",
              "        }}\n",
              "}});\n",
              "\n",
              "// Listen for the removal of the full notebook cells\n",
              "var notebookContainer = gd.closest('#notebook-container');\n",
              "if (notebookContainer) {{\n",
              "    x.observe(notebookContainer, {childList: true});\n",
              "}}\n",
              "\n",
              "// Listen for the clearing of the current output cell\n",
              "var outputEl = gd.closest('.output');\n",
              "if (outputEl) {{\n",
              "    x.observe(outputEl, {childList: true});\n",
              "}}\n",
              "\n",
              "                        })                };                            </script>        </div>\n",
              "</body>\n",
              "</html>"
            ]
          },
          "metadata": {}
        }
      ]
    },
    {
      "cell_type": "code",
      "source": [
        "stats.probplot(df['PTRATIO'], dist=\"norm\", plot=plt)\n",
        "plt.title(\"Normal Q-Q plot\")\n",
        "plt.show()"
      ],
      "metadata": {
        "id": "JJdjZnSj07ih",
        "colab": {
          "base_uri": "https://localhost:8080/"
        },
        "outputId": "980d0b2d-e65a-4418-8bf6-61e60fc470d2"
      },
      "execution_count": null,
      "outputs": [
        {
          "output_type": "display_data",
          "data": {
            "text/plain": [
              "<Figure size 432x288 with 1 Axes>"
            ],
            "image/png": "[encoded data removed]"
          },
          "metadata": {
            "needs_background": "light"
          }
        }
      ]
    },
    {
      "cell_type": "code",
      "source": [
        "hist =  px.histogram (df,  x = \"PTRATIO\", nbins=60) \n",
        "hist.update_layout(width=800,height=500,title_text='Relação Estudantes/Professores') \n",
        "hist.show()"
      ],
      "metadata": {
        "id": "WfcMWw032ojE",
        "colab": {
          "base_uri": "https://localhost:8080/"
        },
        "outputId": "6a4d362e-8856-445b-adf5-a4d8300cee0c"
      },
      "execution_count": null,
      "outputs": [
        {
          "output_type": "display_data",
          "data": {
            "text/html": [
              "<html>\n",
              "<head><meta charset=\"utf-8\" /></head>\n",
              "<body>\n",
              "    <div>            <script src=\"https://cdnjs.cloudflare.com/ajax/libs/mathjax/2.7.5/MathJax.js?config=TeX-AMS-MML_SVG\"></script><script type=\"text/javascript\">if (window.MathJax) {MathJax.Hub.Config({SVG: {font: \"STIX-Web\"}});}</script>                <script type=\"text/javascript\">window.PlotlyConfig = {MathJaxConfig: 'local'};</script>\n",
              "        <script src=\"https://cdn.plot.ly/plotly-2.8.3.min.js\"></script>                <div id=\"e38653a4-a790-455d-8aff-fd0f41890339\" class=\"plotly-graph-div\" style=\"height:500px; width:800px;\"></div>            <script type=\"text/javascript\">                                    window.PLOTLYENV=window.PLOTLYENV || {};                                    if (document.getElementById(\"e38653a4-a790-455d-8aff-fd0f41890339\")) {                    Plotly.newPlot(                        \"e38653a4-a790-455d-8aff-fd0f41890339\",                        [{\"alignmentgroup\":\"True\",\"bingroup\":\"x\",\"hovertemplate\":\"PTRATIO=%{x}<br>count=%{y}<extra></extra>\",\"legendgroup\":\"\",\"marker\":{\"color\":\"#636efa\",\"pattern\":{\"shape\":\"\"}},\"name\":\"\",\"nbinsx\":60,\"offsetgroup\":\"\",\"orientation\":\"v\",\"showlegend\":false,\"x\":[15.3,17.8,17.8,18.7,18.7,18.7,15.2,15.2,15.2,15.2,15.2,15.2,15.2,21.0,21.0,21.0,21.0,21.0,21.0,21.0,21.0,21.0,21.0,21.0,21.0,21.0,21.0,21.0,21.0,21.0,21.0,21.0,21.0,21.0,21.0,19.2,19.2,19.2,19.2,18.3,18.3,17.9,17.9,17.9,17.9,17.9,17.9,17.9,17.9,17.9,16.8,16.8,16.8,16.8,21.1,17.9,17.3,15.1,19.7,19.7,19.7,19.7,19.7,19.7,18.6,16.1,16.1,18.9,18.9,18.9,19.2,19.2,19.2,19.2,18.7,18.7,18.7,18.7,18.7,18.7,19.0,19.0,19.0,19.0,18.5,18.5,18.5,18.5,17.8,17.8,17.8,17.8,18.2,18.2,18.2,18.0,18.0,18.0,18.0,18.0,20.9,20.9,20.9,20.9,20.9,20.9,20.9,20.9,20.9,20.9,20.9,17.8,17.8,17.8,17.8,17.8,17.8,17.8,17.8,17.8,19.1,19.1,19.1,19.1,19.1,19.1,19.1,21.2,21.2,21.2,21.2,21.2,21.2,21.2,21.2,21.2,21.2,21.2,21.2,21.2,21.2,21.2,14.7,14.7,14.7,14.7,14.7,14.7,14.7,14.7,14.7,14.7,14.7,14.7,14.7,14.7,14.7,14.7,14.7,14.7,14.7,14.7,14.7,14.7,14.7,14.7,14.7,14.7,16.6,16.6,16.6,16.6,16.6,16.6,16.6,17.8,17.8,17.8,17.8,17.8,17.8,17.8,15.2,15.2,15.2,15.2,15.2,15.2,15.6,15.6,12.6,12.6,12.6,17.0,17.0,14.7,14.7,14.7,18.6,18.6,18.6,18.6,18.6,18.6,18.6,18.6,18.6,18.6,18.6,16.4,16.4,16.4,16.4,17.4,17.4,17.4,17.4,17.4,17.4,17.4,17.4,17.4,17.4,17.4,17.4,17.4,17.4,17.4,17.4,17.4,16.6,16.6,16.6,16.6,16.6,16.6,19.1,19.1,19.1,19.1,19.1,19.1,19.1,19.1,19.1,19.1,16.4,16.4,15.9,13.0,13.0,13.0,13.0,13.0,13.0,13.0,13.0,13.0,13.0,18.6,18.6,18.6,18.6,18.6,17.6,17.6,17.6,17.6,17.6,14.9,14.9,14.9,14.9,15.3,15.3,18.2,16.6,16.6,16.6,19.2,19.2,19.2,16.0,16.0,16.0,16.0,16.0,14.8,14.8,14.8,16.1,16.1,16.1,18.4,18.4,18.4,18.4,18.4,18.4,18.4,18.4,18.4,18.4,18.4,18.4,18.4,18.4,18.4,18.4,19.6,19.6,19.6,19.6,19.6,19.6,19.6,19.6,16.9,16.9,16.9,16.9,16.9,20.2,20.2,20.2,20.2,20.2,20.2,20.2,20.2,15.5,15.9,17.6,17.6,18.8,18.8,17.9,17.0,19.7,19.7,18.3,18.3,17.0,22.0,22.0,20.2,20.2,20.2,20.2,20.2,20.2,20.2,20.2,20.2,20.2,20.2,20.2,20.2,20.2,20.2,20.2,20.2,20.2,20.2,20.2,20.2,20.2,20.2,20.2,20.2,20.2,20.2,20.2,20.2,20.2,20.2,20.2,20.2,20.2,20.2,20.2,20.2,20.2,20.2,20.2,20.2,20.2,20.2,20.2,20.2,20.2,20.2,20.2,20.2,20.2,20.2,20.2,20.2,20.2,20.2,20.2,20.2,20.2,20.2,20.2,20.2,20.2,20.2,20.2,20.2,20.2,20.2,20.2,20.2,20.2,20.2,20.2,20.2,20.2,20.2,20.2,20.2,20.2,20.2,20.2,20.2,20.2,20.2,20.2,20.2,20.2,20.2,20.2,20.2,20.2,20.2,20.2,20.2,20.2,20.2,20.2,20.2,20.2,20.2,20.2,20.2,20.2,20.2,20.2,20.2,20.2,20.2,20.2,20.2,20.2,20.2,20.2,20.2,20.2,20.2,20.2,20.2,20.2,20.2,20.2,20.2,20.2,20.2,20.2,20.2,20.2,20.1,20.1,20.1,20.1,20.1,19.2,19.2,19.2,19.2,19.2,19.2,19.2,19.2,21.0,21.0,21.0,21.0,21.0],\"xaxis\":\"x\",\"yaxis\":\"y\",\"type\":\"histogram\"}],                        {\"template\":{\"data\":{\"bar\":[{\"error_x\":{\"color\":\"#2a3f5f\"},\"error_y\":{\"color\":\"#2a3f5f\"},\"marker\":{\"line\":{\"color\":\"#E5ECF6\",\"width\":0.5},\"pattern\":{\"fillmode\":\"overlay\",\"size\":10,\"solidity\":0.2}},\"type\":\"bar\"}],\"barpolar\":[{\"marker\":{\"line\":{\"color\":\"#E5ECF6\",\"width\":0.5},\"pattern\":{\"fillmode\":\"overlay\",\"size\":10,\"solidity\":0.2}},\"type\":\"barpolar\"}],\"carpet\":[{\"aaxis\":{\"endlinecolor\":\"#2a3f5f\",\"gridcolor\":\"white\",\"linecolor\":\"white\",\"minorgridcolor\":\"white\",\"startlinecolor\":\"#2a3f5f\"},\"baxis\":{\"endlinecolor\":\"#2a3f5f\",\"gridcolor\":\"white\",\"linecolor\":\"white\",\"minorgridcolor\":\"white\",\"startlinecolor\":\"#2a3f5f\"},\"type\":\"carpet\"}],\"choropleth\":[{\"colorbar\":{\"outlinewidth\":0,\"ticks\":\"\"},\"type\":\"choropleth\"}],\"contour\":[{\"colorbar\":{\"outlinewidth\":0,\"ticks\":\"\"},\"colorscale\":[[0.0,\"#0d0887\"],[0.1111111111111111,\"#46039f\"],[0.2222222222222222,\"#7201a8\"],[0.3333333333333333,\"#9c179e\"],[0.4444444444444444,\"#bd3786\"],[0.5555555555555556,\"#d8576b\"],[0.6666666666666666,\"#ed7953\"],[0.7777777777777778,\"#fb9f3a\"],[0.8888888888888888,\"#fdca26\"],[1.0,\"#f0f921\"]],\"type\":\"contour\"}],\"contourcarpet\":[{\"colorbar\":{\"outlinewidth\":0,\"ticks\":\"\"},\"type\":\"contourcarpet\"}],\"heatmap\":[{\"colorbar\":{\"outlinewidth\":0,\"ticks\":\"\"},\"colorscale\":[[0.0,\"#0d0887\"],[0.1111111111111111,\"#46039f\"],[0.2222222222222222,\"#7201a8\"],[0.3333333333333333,\"#9c179e\"],[0.4444444444444444,\"#bd3786\"],[0.5555555555555556,\"#d8576b\"],[0.6666666666666666,\"#ed7953\"],[0.7777777777777778,\"#fb9f3a\"],[0.8888888888888888,\"#fdca26\"],[1.0,\"#f0f921\"]],\"type\":\"heatmap\"}],\"heatmapgl\":[{\"colorbar\":{\"outlinewidth\":0,\"ticks\":\"\"},\"colorscale\":[[0.0,\"#0d0887\"],[0.1111111111111111,\"#46039f\"],[0.2222222222222222,\"#7201a8\"],[0.3333333333333333,\"#9c179e\"],[0.4444444444444444,\"#bd3786\"],[0.5555555555555556,\"#d8576b\"],[0.6666666666666666,\"#ed7953\"],[0.7777777777777778,\"#fb9f3a\"],[0.8888888888888888,\"#fdca26\"],[1.0,\"#f0f921\"]],\"type\":\"heatmapgl\"}],\"histogram\":[{\"marker\":{\"pattern\":{\"fillmode\":\"overlay\",\"size\":10,\"solidity\":0.2}},\"type\":\"histogram\"}],\"histogram2d\":[{\"colorbar\":{\"outlinewidth\":0,\"ticks\":\"\"},\"colorscale\":[[0.0,\"#0d0887\"],[0.1111111111111111,\"#46039f\"],[0.2222222222222222,\"#7201a8\"],[0.3333333333333333,\"#9c179e\"],[0.4444444444444444,\"#bd3786\"],[0.5555555555555556,\"#d8576b\"],[0.6666666666666666,\"#ed7953\"],[0.7777777777777778,\"#fb9f3a\"],[0.8888888888888888,\"#fdca26\"],[1.0,\"#f0f921\"]],\"type\":\"histogram2d\"}],\"histogram2dcontour\":[{\"colorbar\":{\"outlinewidth\":0,\"ticks\":\"\"},\"colorscale\":[[0.0,\"#0d0887\"],[0.1111111111111111,\"#46039f\"],[0.2222222222222222,\"#7201a8\"],[0.3333333333333333,\"#9c179e\"],[0.4444444444444444,\"#bd3786\"],[0.5555555555555556,\"#d8576b\"],[0.6666666666666666,\"#ed7953\"],[0.7777777777777778,\"#fb9f3a\"],[0.8888888888888888,\"#fdca26\"],[1.0,\"#f0f921\"]],\"type\":\"histogram2dcontour\"}],\"mesh3d\":[{\"colorbar\":{\"outlinewidth\":0,\"ticks\":\"\"},\"type\":\"mesh3d\"}],\"parcoords\":[{\"line\":{\"colorbar\":{\"outlinewidth\":0,\"ticks\":\"\"}},\"type\":\"parcoords\"}],\"pie\":[{\"automargin\":true,\"type\":\"pie\"}],\"scatter\":[{\"marker\":{\"colorbar\":{\"outlinewidth\":0,\"ticks\":\"\"}},\"type\":\"scatter\"}],\"scatter3d\":[{\"line\":{\"colorbar\":{\"outlinewidth\":0,\"ticks\":\"\"}},\"marker\":{\"colorbar\":{\"outlinewidth\":0,\"ticks\":\"\"}},\"type\":\"scatter3d\"}],\"scattercarpet\":[{\"marker\":{\"colorbar\":{\"outlinewidth\":0,\"ticks\":\"\"}},\"type\":\"scattercarpet\"}],\"scattergeo\":[{\"marker\":{\"colorbar\":{\"outlinewidth\":0,\"ticks\":\"\"}},\"type\":\"scattergeo\"}],\"scattergl\":[{\"marker\":{\"colorbar\":{\"outlinewidth\":0,\"ticks\":\"\"}},\"type\":\"scattergl\"}],\"scattermapbox\":[{\"marker\":{\"colorbar\":{\"outlinewidth\":0,\"ticks\":\"\"}},\"type\":\"scattermapbox\"}],\"scatterpolar\":[{\"marker\":{\"colorbar\":{\"outlinewidth\":0,\"ticks\":\"\"}},\"type\":\"scatterpolar\"}],\"scatterpolargl\":[{\"marker\":{\"colorbar\":{\"outlinewidth\":0,\"ticks\":\"\"}},\"type\":\"scatterpolargl\"}],\"scatterternary\":[{\"marker\":{\"colorbar\":{\"outlinewidth\":0,\"ticks\":\"\"}},\"type\":\"scatterternary\"}],\"surface\":[{\"colorbar\":{\"outlinewidth\":0,\"ticks\":\"\"},\"colorscale\":[[0.0,\"#0d0887\"],[0.1111111111111111,\"#46039f\"],[0.2222222222222222,\"#7201a8\"],[0.3333333333333333,\"#9c179e\"],[0.4444444444444444,\"#bd3786\"],[0.5555555555555556,\"#d8576b\"],[0.6666666666666666,\"#ed7953\"],[0.7777777777777778,\"#fb9f3a\"],[0.8888888888888888,\"#fdca26\"],[1.0,\"#f0f921\"]],\"type\":\"surface\"}],\"table\":[{\"cells\":{\"fill\":{\"color\":\"#EBF0F8\"},\"line\":{\"color\":\"white\"}},\"header\":{\"fill\":{\"color\":\"#C8D4E3\"},\"line\":{\"color\":\"white\"}},\"type\":\"table\"}]},\"layout\":{\"annotationdefaults\":{\"arrowcolor\":\"#2a3f5f\",\"arrowhead\":0,\"arrowwidth\":1},\"autotypenumbers\":\"strict\",\"coloraxis\":{\"colorbar\":{\"outlinewidth\":0,\"ticks\":\"\"}},\"colorscale\":{\"diverging\":[[0,\"#8e0152\"],[0.1,\"#c51b7d\"],[0.2,\"#de77ae\"],[0.3,\"#f1b6da\"],[0.4,\"#fde0ef\"],[0.5,\"#f7f7f7\"],[0.6,\"#e6f5d0\"],[0.7,\"#b8e186\"],[0.8,\"#7fbc41\"],[0.9,\"#4d9221\"],[1,\"#276419\"]],\"sequential\":[[0.0,\"#0d0887\"],[0.1111111111111111,\"#46039f\"],[0.2222222222222222,\"#7201a8\"],[0.3333333333333333,\"#9c179e\"],[0.4444444444444444,\"#bd3786\"],[0.5555555555555556,\"#d8576b\"],[0.6666666666666666,\"#ed7953\"],[0.7777777777777778,\"#fb9f3a\"],[0.8888888888888888,\"#fdca26\"],[1.0,\"#f0f921\"]],\"sequentialminus\":[[0.0,\"#0d0887\"],[0.1111111111111111,\"#46039f\"],[0.2222222222222222,\"#7201a8\"],[0.3333333333333333,\"#9c179e\"],[0.4444444444444444,\"#bd3786\"],[0.5555555555555556,\"#d8576b\"],[0.6666666666666666,\"#ed7953\"],[0.7777777777777778,\"#fb9f3a\"],[0.8888888888888888,\"#fdca26\"],[1.0,\"#f0f921\"]]},\"colorway\":[\"#636efa\",\"#EF553B\",\"#00cc96\",\"#ab63fa\",\"#FFA15A\",\"#19d3f3\",\"#FF6692\",\"#B6E880\",\"#FF97FF\",\"#FECB52\"],\"font\":{\"color\":\"#2a3f5f\"},\"geo\":{\"bgcolor\":\"white\",\"lakecolor\":\"white\",\"landcolor\":\"#E5ECF6\",\"showlakes\":true,\"showland\":true,\"subunitcolor\":\"white\"},\"hoverlabel\":{\"align\":\"left\"},\"hovermode\":\"closest\",\"mapbox\":{\"style\":\"light\"},\"paper_bgcolor\":\"white\",\"plot_bgcolor\":\"#E5ECF6\",\"polar\":{\"angularaxis\":{\"gridcolor\":\"white\",\"linecolor\":\"white\",\"ticks\":\"\"},\"bgcolor\":\"#E5ECF6\",\"radialaxis\":{\"gridcolor\":\"white\",\"linecolor\":\"white\",\"ticks\":\"\"}},\"scene\":{\"xaxis\":{\"backgroundcolor\":\"#E5ECF6\",\"gridcolor\":\"white\",\"gridwidth\":2,\"linecolor\":\"white\",\"showbackground\":true,\"ticks\":\"\",\"zerolinecolor\":\"white\"},\"yaxis\":{\"backgroundcolor\":\"#E5ECF6\",\"gridcolor\":\"white\",\"gridwidth\":2,\"linecolor\":\"white\",\"showbackground\":true,\"ticks\":\"\",\"zerolinecolor\":\"white\"},\"zaxis\":{\"backgroundcolor\":\"#E5ECF6\",\"gridcolor\":\"white\",\"gridwidth\":2,\"linecolor\":\"white\",\"showbackground\":true,\"ticks\":\"\",\"zerolinecolor\":\"white\"}},\"shapedefaults\":{\"line\":{\"color\":\"#2a3f5f\"}},\"ternary\":{\"aaxis\":{\"gridcolor\":\"white\",\"linecolor\":\"white\",\"ticks\":\"\"},\"baxis\":{\"gridcolor\":\"white\",\"linecolor\":\"white\",\"ticks\":\"\"},\"bgcolor\":\"#E5ECF6\",\"caxis\":{\"gridcolor\":\"white\",\"linecolor\":\"white\",\"ticks\":\"\"}},\"title\":{\"x\":0.05},\"xaxis\":{\"automargin\":true,\"gridcolor\":\"white\",\"linecolor\":\"white\",\"ticks\":\"\",\"title\":{\"standoff\":15},\"zerolinecolor\":\"white\",\"zerolinewidth\":2},\"yaxis\":{\"automargin\":true,\"gridcolor\":\"white\",\"linecolor\":\"white\",\"ticks\":\"\",\"title\":{\"standoff\":15},\"zerolinecolor\":\"white\",\"zerolinewidth\":2}}},\"xaxis\":{\"anchor\":\"y\",\"domain\":[0.0,1.0],\"title\":{\"text\":\"PTRATIO\"}},\"yaxis\":{\"anchor\":\"x\",\"domain\":[0.0,1.0],\"title\":{\"text\":\"count\"}},\"legend\":{\"tracegroupgap\":0},\"margin\":{\"t\":60},\"barmode\":\"relative\",\"title\":{\"text\":\"Rela\\u00e7\\u00e3o Estudantes/Professores\"},\"width\":800,\"height\":500},                        {\"responsive\": true}                    ).then(function(){\n",
              "                            \n",
              "var gd = document.getElementById('e38653a4-a790-455d-8aff-fd0f41890339');\n",
              "var x = new MutationObserver(function (mutations, observer) {{\n",
              "        var display = window.getComputedStyle(gd).display;\n",
              "        if (!display || display === 'none') {{\n",
              "            console.log([gd, 'removed!']);\n",
              "            Plotly.purge(gd);\n",
              "            observer.disconnect();\n",
              "        }}\n",
              "}});\n",
              "\n",
              "// Listen for the removal of the full notebook cells\n",
              "var notebookContainer = gd.closest('#notebook-container');\n",
              "if (notebookContainer) {{\n",
              "    x.observe(notebookContainer, {childList: true});\n",
              "}}\n",
              "\n",
              "// Listen for the clearing of the current output cell\n",
              "var outputEl = gd.closest('.output');\n",
              "if (outputEl) {{\n",
              "    x.observe(outputEl, {childList: true});\n",
              "}}\n",
              "\n",
              "                        })                };                            </script>        </div>\n",
              "</body>\n",
              "</html>"
            ]
          },
          "metadata": {}
        }
      ]
    },
    {
      "cell_type": "markdown",
      "metadata": {
        "id": "b38jbpVpBSrN"
      },
      "source": [
        "Teste Shapiro-Wilk"
      ]
    },
    {
      "cell_type": "markdown",
      "metadata": {
        "id": "UBCGqxZiCKzR"
      },
      "source": [
        "Ho = distribuição normal : p > 0.05\n",
        "\n",
        "Ha = distribuição != normal : p <= 0.05"
      ]
    },
    {
      "cell_type": "code",
      "metadata": {
        "id": "5wcDiCVBL5Ax",
        "colab": {
          "base_uri": "https://localhost:8080/"
        },
        "outputId": "2deaf12d-9558-4424-d5c1-6fa68e1bef7f"
      },
      "source": [
        "stats.shapiro(df.MEDV)"
      ],
      "execution_count": null,
      "outputs": [
        {
          "output_type": "execute_result",
          "data": {
            "text/plain": [
              "(0.9596613645553589, 2.5757390664793434e-10)"
            ]
          },
          "metadata": {},
          "execution_count": 30
        }
      ]
    },
    {
      "cell_type": "code",
      "metadata": {
        "id": "wxg4KYhAAqIP",
        "colab": {
          "base_uri": "https://localhost:8080/"
        },
        "outputId": "a812af2f-bbe0-4f14-b41a-9d39703a4f20"
      },
      "source": [
        "estatistica, p = stats.shapiro(df.MEDV)\n",
        "print('Estatística do teste: {}'.format(estatistica))\n",
        "print('p-valor: {}'.format(p))"
      ],
      "execution_count": null,
      "outputs": [
        {
          "output_type": "stream",
          "name": "stdout",
          "text": [
            "Estatística do teste: 0.9596613645553589\n",
            "p-valor: 2.5757390664793434e-10\n"
          ]
        }
      ]
    },
    {
      "cell_type": "code",
      "metadata": {
        "id": "2CtpuM8PFyio",
        "colab": {
          "base_uri": "https://localhost:8080/"
        },
        "outputId": "9733d433-87f8-4c60-e4e5-5c2172fab891"
      },
      "source": [
        "estatistica, p = stats.shapiro(df.RM)\n",
        "print('Estatística do teste: {}'.format(estatistica))\n",
        "print('p-valor: {}'.format(p))"
      ],
      "execution_count": null,
      "outputs": [
        {
          "output_type": "stream",
          "name": "stdout",
          "text": [
            "Estatística do teste: 0.970818281173706\n",
            "p-valor: 2.7105865996190914e-08\n"
          ]
        }
      ]
    },
    {
      "cell_type": "code",
      "metadata": {
        "id": "0-fjsQBK3id7",
        "colab": {
          "base_uri": "https://localhost:8080/"
        },
        "outputId": "36fca97e-b0d0-4600-ad57-05f22ef2fc31"
      },
      "source": [
        "estatistica, p = stats.shapiro(df.LSTAT)\n",
        "print('Estatística do teste: {}'.format(estatistica))\n",
        "print('p-valor: {}'.format(p))"
      ],
      "execution_count": null,
      "outputs": [
        {
          "output_type": "stream",
          "name": "stdout",
          "text": [
            "Estatística do teste: 0.9371760487556458\n",
            "p-valor: 1.6900520425407878e-13\n"
          ]
        }
      ]
    },
    {
      "cell_type": "code",
      "metadata": {
        "id": "Qmbgy-Ie3id8",
        "colab": {
          "base_uri": "https://localhost:8080/"
        },
        "outputId": "24fb22c3-077b-4e85-9329-88398dbbbaf8"
      },
      "source": [
        "estatistica, p = stats.shapiro(df.PTRATIO)\n",
        "print('Estatística do teste: {}'.format(estatistica))\n",
        "print('p-valor: {}'.format(p))"
      ],
      "execution_count": null,
      "outputs": [
        {
          "output_type": "stream",
          "name": "stdout",
          "text": [
            "Estatística do teste: 0.9064712524414062\n",
            "p-valor: 9.058795024736088e-17\n"
          ]
        }
      ]
    },
    {
      "cell_type": "markdown",
      "metadata": {
        "id": "V6bxiYpYJmKS"
      },
      "source": [
        "Teste Lilliefors (Kolmogorov_Sminorv)"
      ]
    },
    {
      "cell_type": "markdown",
      "metadata": {
        "id": "qmzqzC03JvHk"
      },
      "source": [
        "Ho = distribuição normal : p > 0.05\n",
        "\n",
        "Ha = distribuição != normal : p <= 0.05"
      ]
    },
    {
      "cell_type": "code",
      "metadata": {
        "id": "-FABb4nSJlXf",
        "colab": {
          "base_uri": "https://localhost:8080/"
        },
        "outputId": "1df7b4ac-8560-46b4-9807-ebb6988996d2"
      },
      "source": [
        "import statsmodels\n",
        "from statsmodels.stats.diagnostic import lilliefors"
      ],
      "execution_count": null,
      "outputs": [
        {
          "output_type": "stream",
          "name": "stderr",
          "text": [
            "/usr/local/lib/python3.7/dist-packages/statsmodels/tools/_testing.py:19: FutureWarning:\n",
            "\n",
            "pandas.util.testing is deprecated. Use the functions in the public API at pandas.testing instead.\n",
            "\n"
          ]
        }
      ]
    },
    {
      "cell_type": "code",
      "metadata": {
        "id": "YAxevGrNJuT5",
        "colab": {
          "base_uri": "https://localhost:8080/"
        },
        "outputId": "ec999056-4234-4cde-af42-eb5ff442f3b9"
      },
      "source": [
        "estatistica, p = statsmodels.stats.diagnostic.lilliefors(df.MEDV, dist = 'norm')\n",
        "print('Estatística de teste: {}'.format(estatistica))\n",
        "print('p-valor: {}'.format(p))"
      ],
      "execution_count": null,
      "outputs": [
        {
          "output_type": "stream",
          "name": "stdout",
          "text": [
            "Estatística de teste: 0.11370576407672117\n",
            "p-valor: 1.22863402008496e-16\n"
          ]
        }
      ]
    },
    {
      "cell_type": "code",
      "metadata": {
        "id": "B1MzwpxfMZHm",
        "colab": {
          "base_uri": "https://localhost:8080/"
        },
        "outputId": "06d1b910-222c-4519-d501-50c98f7e6c39"
      },
      "source": [
        "estatistica, p = statsmodels.stats.diagnostic.lilliefors(df.RM, dist = 'norm')\n",
        "print('Estatística de teste: {}'.format(estatistica))\n",
        "print('p-valor: {}'.format(p))"
      ],
      "execution_count": null,
      "outputs": [
        {
          "output_type": "stream",
          "name": "stdout",
          "text": [
            "Estatística de teste: 0.06394344399233598\n",
            "p-valor: 5.880258602737371e-05\n"
          ]
        }
      ]
    },
    {
      "cell_type": "markdown",
      "metadata": {
        "id": "uq5tgQBfnKEW"
      },
      "source": [
        "### Correlação Linear"
      ]
    },
    {
      "cell_type": "markdown",
      "metadata": {
        "id": "AINeGYMRQPdW"
      },
      "source": [
        "Pearson (distribuição normal)\n",
        "\n",
        "Spearman (distribuição não normal)\n",
        "\n",
        "Kendall (distribuição não normal com quantidade pequena de amostras)"
      ]
    },
    {
      "cell_type": "markdown",
      "metadata": {
        "id": "zqLl2LgkQbs3"
      },
      "source": [
        "Ho = não há corrrelação linear: p > 0,05\n",
        "\n",
        "Ha = existe correlação linear: p <= 0,05"
      ]
    },
    {
      "cell_type": "code",
      "metadata": {
        "id": "c0Qs5Jf2UR_1"
      },
      "source": [
        "# Pearson\n",
        "#coef,p = stats.pearsonr(df.MEDV, df.RM)\n",
        "#print('Coeficiente de correlação: {}'.format(coef))\n",
        "#print('p-valor: {}'.format(p))"
      ],
      "execution_count": null,
      "outputs": []
    },
    {
      "cell_type": "code",
      "metadata": {
        "id": "K1dnDGnDVMQU",
        "colab": {
          "base_uri": "https://localhost:8080/"
        },
        "outputId": "ccc2be05-8084-416a-eb25-084babf18fbf"
      },
      "source": [
        "# Spearman\n",
        "coef,p = stats.spearmanr(df.MEDV, df.PTRATIO)\n",
        "print('Coeficiente de correlação: {}'.format(coef))\n",
        "print('p-valor: {}'.format(p))"
      ],
      "execution_count": null,
      "outputs": [
        {
          "output_type": "stream",
          "name": "stdout",
          "text": [
            "Coeficiente de correlação: -0.5592761164167336\n",
            "p-valor: 1.3794858687631326e-41\n"
          ]
        }
      ]
    },
    {
      "cell_type": "code",
      "metadata": {
        "id": "rx0tZdc3VWBC"
      },
      "source": [
        "# Kendall\n",
        "#coef,p = stats.kendalltau(df.MEDV,df.RM)\n",
        "#print('Coeficiente de correlação: {}'.format(coef))\n",
        "#print('p-valor: {}'.format(p))"
      ],
      "execution_count": null,
      "outputs": []
    },
    {
      "cell_type": "code",
      "metadata": {
        "id": "w6Wcby_cRHHg",
        "colab": {
          "base_uri": "https://localhost:8080/"
        },
        "outputId": "5e62f02c-8512-4336-c8cd-037022d1d0fd"
      },
      "source": [
        "correlacoes = df.corr(method='spearman')\n",
        "correlacoes"
      ],
      "execution_count": null,
      "outputs": [
        {
          "output_type": "execute_result",
          "data": {
            "text/plain": [
              "               RM     LSTAT   PTRATIO      MEDV\n",
              "RM       1.000000 -0.624700 -0.282053  0.624057\n",
              "LSTAT   -0.624700  1.000000  0.461739 -0.845527\n",
              "PTRATIO -0.282053  0.461739  1.000000 -0.559276\n",
              "MEDV     0.624057 -0.845527 -0.559276  1.000000"
            ],
            "text/html": [
              "\n",
              "  <div id=\"df-a6d7b766-bbb1-4494-8dab-664f12d13e8b\">\n",
              "    <div class=\"colab-df-container\">\n",
              "      <div>\n",
              "<style scoped>\n",
              "    .dataframe tbody tr th:only-of-type {\n",
              "        vertical-align: middle;\n",
              "    }\n",
              "\n",
              "    .dataframe tbody tr th {\n",
              "        vertical-align: top;\n",
              "    }\n",
              "\n",
              "    .dataframe thead th {\n",
              "        text-align: right;\n",
              "    }\n",
              "</style>\n",
              "<table border=\"1\" class=\"dataframe\">\n",
              "  <thead>\n",
              "    <tr style=\"text-align: right;\">\n",
              "      <th></th>\n",
              "      <th>RM</th>\n",
              "      <th>LSTAT</th>\n",
              "      <th>PTRATIO</th>\n",
              "      <th>MEDV</th>\n",
              "    </tr>\n",
              "  </thead>\n",
              "  <tbody>\n",
              "    <tr>\n",
              "      <th>RM</th>\n",
              "      <td>1.000000</td>\n",
              "      <td>-0.624700</td>\n",
              "      <td>-0.282053</td>\n",
              "      <td>0.624057</td>\n",
              "    </tr>\n",
              "    <tr>\n",
              "      <th>LSTAT</th>\n",
              "      <td>-0.624700</td>\n",
              "      <td>1.000000</td>\n",
              "      <td>0.461739</td>\n",
              "      <td>-0.845527</td>\n",
              "    </tr>\n",
              "    <tr>\n",
              "      <th>PTRATIO</th>\n",
              "      <td>-0.282053</td>\n",
              "      <td>0.461739</td>\n",
              "      <td>1.000000</td>\n",
              "      <td>-0.559276</td>\n",
              "    </tr>\n",
              "    <tr>\n",
              "      <th>MEDV</th>\n",
              "      <td>0.624057</td>\n",
              "      <td>-0.845527</td>\n",
              "      <td>-0.559276</td>\n",
              "      <td>1.000000</td>\n",
              "    </tr>\n",
              "  </tbody>\n",
              "</table>\n",
              "</div>\n",
              "      <button class=\"colab-df-convert\" onclick=\"convertToInteractive('df-a6d7b766-bbb1-4494-8dab-664f12d13e8b')\"\n",
              "              title=\"Convert this dataframe to an interactive table.\"\n",
              "              style=\"display:none;\">\n",
              "        \n",
              "  <svg xmlns=\"http://www.w3.org/2000/svg\" height=\"24px\"viewBox=\"0 0 24 24\"\n",
              "       width=\"24px\">\n",
              "    <path d=\"M0 0h24v24H0V0z\" fill=\"none\"/>\n",
              "    <path d=\"M18.56 5.44l.94 2.06.94-2.06 2.06-.94-2.06-.94-.94-2.06-.94 2.06-2.06.94zm-11 1L8.5 8.5l.94-2.06 2.06-.94-2.06-.94L8.5 2.5l-.94 2.06-2.06.94zm10 10l.94 2.06.94-2.06 2.06-.94-2.06-.94-.94-2.06-.94 2.06-2.06.94z\"/><path d=\"M17.41 7.96l-1.37-1.37c-.4-.4-.92-.59-1.43-.59-.52 0-1.04.2-1.43.59L10.3 9.45l-7.72 7.72c-.78.78-.78 2.05 0 2.83L4 21.41c.39.39.9.59 1.41.59.51 0 1.02-.2 1.41-.59l7.78-7.78 2.81-2.81c.8-.78.8-2.07 0-2.86zM5.41 20L4 18.59l7.72-7.72 1.47 1.35L5.41 20z\"/>\n",
              "  </svg>\n",
              "      </button>\n",
              "      \n",
              "  <style>\n",
              "    .colab-df-container {\n",
              "      display:flex;\n",
              "      flex-wrap:wrap;\n",
              "      gap: 12px;\n",
              "    }\n",
              "\n",
              "    .colab-df-convert {\n",
              "      background-color: #E8F0FE;\n",
              "      border: none;\n",
              "      border-radius: 50%;\n",
              "      cursor: pointer;\n",
              "      display: none;\n",
              "      fill: #1967D2;\n",
              "      height: 32px;\n",
              "      padding: 0 0 0 0;\n",
              "      width: 32px;\n",
              "    }\n",
              "\n",
              "    .colab-df-convert:hover {\n",
              "      background-color: #E2EBFA;\n",
              "      box-shadow: 0px 1px 2px rgba(60, 64, 67, 0.3), 0px 1px 3px 1px rgba(60, 64, 67, 0.15);\n",
              "      fill: #174EA6;\n",
              "    }\n",
              "\n",
              "    [theme=dark] .colab-df-convert {\n",
              "      background-color: #3B4455;\n",
              "      fill: #D2E3FC;\n",
              "    }\n",
              "\n",
              "    [theme=dark] .colab-df-convert:hover {\n",
              "      background-color: #434B5C;\n",
              "      box-shadow: 0px 1px 3px 1px rgba(0, 0, 0, 0.15);\n",
              "      filter: drop-shadow(0px 1px 2px rgba(0, 0, 0, 0.3));\n",
              "      fill: #FFFFFF;\n",
              "    }\n",
              "  </style>\n",
              "\n",
              "      <script>\n",
              "        const buttonEl =\n",
              "          document.querySelector('#df-a6d7b766-bbb1-4494-8dab-664f12d13e8b button.colab-df-convert');\n",
              "        buttonEl.style.display =\n",
              "          google.colab.kernel.accessAllowed ? 'block' : 'none';\n",
              "\n",
              "        async function convertToInteractive(key) {\n",
              "          const element = document.querySelector('#df-a6d7b766-bbb1-4494-8dab-664f12d13e8b');\n",
              "          const dataTable =\n",
              "            await google.colab.kernel.invokeFunction('convertToInteractive',\n",
              "                                                     [key], {});\n",
              "          if (!dataTable) return;\n",
              "\n",
              "          const docLinkHtml = 'Like what you see? Visit the ' +\n",
              "            '<a target=\"_blank\" href=https://colab.research.google.com/notebooks/data_table.ipynb>data table notebook</a>'\n",
              "            + ' to learn more about interactive tables.';\n",
              "          element.innerHTML = '';\n",
              "          dataTable['output_type'] = 'display_data';\n",
              "          await google.colab.output.renderOutput(dataTable, element);\n",
              "          const docLink = document.createElement('div');\n",
              "          docLink.innerHTML = docLinkHtml;\n",
              "          element.appendChild(docLink);\n",
              "        }\n",
              "      </script>\n",
              "    </div>\n",
              "  </div>\n",
              "  "
            ]
          },
          "metadata": {},
          "execution_count": 41
        }
      ]
    },
    {
      "cell_type": "code",
      "metadata": {
        "id": "eaiZhH-XRisc",
        "colab": {
          "base_uri": "https://localhost:8080/"
        },
        "outputId": "226e2a85-0ee4-42e2-8311-9e50a6a40f99"
      },
      "source": [
        "plt.figure()\n",
        "sns.heatmap(correlacoes, annot=True);"
      ],
      "execution_count": null,
      "outputs": [
        {
          "output_type": "display_data",
          "data": {
            "text/plain": [
              "<Figure size 432x288 with 2 Axes>"
            ],
            "image/png": "[encoded data removed]"
          },
          "metadata": {
            "needs_background": "light"
          }
        }
      ]
    },
    {
      "cell_type": "markdown",
      "source": [
        "## **REGRESSÃO LINEAR SIMPLES**"
      ],
      "metadata": {
        "id": "S3Hp7kQK9KaY"
      }
    },
    {
      "cell_type": "markdown",
      "source": [
        "https://scikit-learn.org/stable/modules/generated/sklearn.linear_model.LinearRegression.html "
      ],
      "metadata": {
        "id": "x7ruW5bkQhrR"
      }
    },
    {
      "cell_type": "markdown",
      "source": [
        "### Valor médio (MEDV) em função do número de cômodos (RM)"
      ],
      "metadata": {
        "id": "Btt5b0gt0tAz"
      }
    },
    {
      "cell_type": "code",
      "source": [
        "df.head(2)"
      ],
      "metadata": {
        "id": "uTt4DY04DavB"
      },
      "execution_count": null,
      "outputs": []
    },
    {
      "cell_type": "code",
      "metadata": {
        "id": "r-ghCIWu0PM0"
      },
      "source": [
        "x1 = df.iloc[:,0:1].values\n",
        "x1"
      ],
      "execution_count": null,
      "outputs": []
    },
    {
      "cell_type": "code",
      "metadata": {
        "id": "7S0eXs3R0dZe"
      },
      "source": [
        "y = df.iloc[:, 3].values\n",
        "y"
      ],
      "execution_count": null,
      "outputs": []
    },
    {
      "cell_type": "code",
      "metadata": {
        "id": "xH25j9ap18Xu"
      },
      "source": [
        "from sklearn.model_selection import train_test_split\n",
        "x_treino, x_teste, y_treino, y_teste = train_test_split(x1, y, test_size = 0.3, random_state = 10)"
      ],
      "execution_count": null,
      "outputs": []
    },
    {
      "cell_type": "code",
      "metadata": {
        "id": "Bsws9Z2P2Nug"
      },
      "source": [
        "x_treino.shape, y_treino.shape"
      ],
      "execution_count": null,
      "outputs": []
    },
    {
      "cell_type": "code",
      "metadata": {
        "id": "bMjUYmZu2VEj"
      },
      "source": [
        "x_teste.shape, y_teste.shape"
      ],
      "execution_count": null,
      "outputs": []
    },
    {
      "cell_type": "code",
      "source": [
        "from sklearn.linear_model import LinearRegression"
      ],
      "metadata": {
        "id": "vEBGIvlQa41o"
      },
      "execution_count": null,
      "outputs": []
    },
    {
      "cell_type": "code",
      "metadata": {
        "id": "A-iqvnKk2bnf"
      },
      "source": [
        "reg_linear1 = LinearRegression()\n",
        "reg_linear1.fit(x_treino, y_treino)"
      ],
      "execution_count": null,
      "outputs": []
    },
    {
      "cell_type": "code",
      "metadata": {
        "id": "2bX8QM8S2ntL"
      },
      "source": [
        "# Intercepto (coeficiente linear)\n",
        "reg_linear1.intercept_"
      ],
      "execution_count": null,
      "outputs": []
    },
    {
      "cell_type": "code",
      "metadata": {
        "id": "ZRr5GJ8l2sQs"
      },
      "source": [
        "# Coeficiente Angular\n",
        "reg_linear1.coef_"
      ],
      "execution_count": null,
      "outputs": []
    },
    {
      "cell_type": "markdown",
      "source": [
        "**Equação: Valor = -626510,27 + 173771,45.número_cômodos**"
      ],
      "metadata": {
        "id": "uGC5B9gnO-oZ"
      }
    },
    {
      "cell_type": "code",
      "metadata": {
        "id": "GpTQY7812wpM"
      },
      "source": [
        "# Coeficiente de Determinação dados de treino\n",
        "reg_linear1.score(x_treino, y_treino)"
      ],
      "execution_count": null,
      "outputs": []
    },
    {
      "cell_type": "code",
      "metadata": {
        "id": "1EG8Tvie28UO"
      },
      "source": [
        "# Coeficiente de Determinação dados de teste\n",
        "reg_linear1.score(x_teste, y_teste)"
      ],
      "execution_count": null,
      "outputs": []
    },
    {
      "cell_type": "code",
      "metadata": {
        "id": "kL8XhAwQ3EbM"
      },
      "source": [
        "previsoes_treino = reg_linear1.predict(x_treino)\n",
        "previsoes_treino"
      ],
      "execution_count": null,
      "outputs": []
    },
    {
      "cell_type": "code",
      "source": [
        "import matplotlib.pyplot as plt"
      ],
      "metadata": {
        "id": "0nRoU5nmvNLn"
      },
      "execution_count": null,
      "outputs": []
    },
    {
      "cell_type": "code",
      "source": [
        "plt.scatter(y=y_treino, x=x_treino, color='blue', s=10, alpha=0.9)\n",
        "X_plot = np.linspace(3, 9)\n",
        "plt.plot(X_plot, X_plot*reg_linear1.coef_ + reg_linear1.intercept_, color='r')\n",
        "plt.title('Reta de regressão')\n",
        "plt.ylabel('Valor Médio')\n",
        "plt.xlabel('Quantidade Média de Cômodos')\n",
        "plt.show()"
      ],
      "metadata": {
        "id": "t3hTUF7HzVC5"
      },
      "execution_count": null,
      "outputs": []
    },
    {
      "cell_type": "code",
      "metadata": {
        "id": "4KLbSxAg5oiQ"
      },
      "source": [
        "previsoes_teste = reg_linear1.predict(x_teste)\n",
        "previsoes_teste"
      ],
      "execution_count": null,
      "outputs": []
    },
    {
      "cell_type": "code",
      "metadata": {
        "id": "XZtf_4mq5wLy"
      },
      "source": [
        "y_teste"
      ],
      "execution_count": null,
      "outputs": []
    },
    {
      "cell_type": "code",
      "metadata": {
        "id": "6v_GM2AQ8KdP"
      },
      "source": [
        "plt.scatter(y=y_teste, x=x_teste, color='blue', s=10, alpha=0.9)\n",
        "X_plot = np.linspace(4, 9)\n",
        "plt.plot(X_plot, X_plot*reg_linear1.coef_ + reg_linear1.intercept_, color='r')\n",
        "plt.title('Reta de regressão')\n",
        "plt.ylabel('Valor Médio')\n",
        "plt.xlabel('Quantidade de Cômodos')\n",
        "plt.show()"
      ],
      "execution_count": null,
      "outputs": []
    },
    {
      "cell_type": "code",
      "source": [
        "# Fazendo previsões para valores distintos\n",
        "valor_casa = reg_linear1.predict([[4]])\n",
        "valor_casa"
      ],
      "metadata": {
        "id": "CNrxZVosM5lD"
      },
      "execution_count": null,
      "outputs": []
    },
    {
      "cell_type": "markdown",
      "source": [
        "**Métricas de Desempenho**"
      ],
      "metadata": {
        "id": "-eU7r8Fs2n5o"
      }
    },
    {
      "cell_type": "code",
      "metadata": {
        "id": "K0vNPhFw2QA_"
      },
      "source": [
        "# Erro absoluto\n",
        "abs(y_teste - previsoes_teste).mean()"
      ],
      "execution_count": null,
      "outputs": []
    },
    {
      "cell_type": "code",
      "metadata": {
        "id": "0xwitnAQ2QBA"
      },
      "source": [
        "from sklearn.metrics import mean_absolute_error, mean_squared_error"
      ],
      "execution_count": null,
      "outputs": []
    },
    {
      "cell_type": "code",
      "metadata": {
        "id": "JvV7onBf2QBA"
      },
      "source": [
        "# Erro médio absoluto\n",
        "mean_absolute_error(y_teste, previsoes_teste)"
      ],
      "execution_count": null,
      "outputs": []
    },
    {
      "cell_type": "code",
      "metadata": {
        "id": "Hsv58lFO2QBB"
      },
      "source": [
        "# Erro quadrático médio\n",
        "mean_squared_error(y_teste, previsoes_teste)"
      ],
      "execution_count": null,
      "outputs": []
    },
    {
      "cell_type": "code",
      "metadata": {
        "id": "XP8C3lPI2QBC"
      },
      "source": [
        "# Raiz do erro quadrático médio\n",
        "np.sqrt(mean_squared_error(y_teste, previsoes_teste))"
      ],
      "execution_count": null,
      "outputs": []
    },
    {
      "cell_type": "markdown",
      "source": [
        "### Valor médio (MEDV) em função da classe social (LSTAT)"
      ],
      "metadata": {
        "id": "xOvqLq4JDIV1"
      }
    },
    {
      "cell_type": "code",
      "source": [
        "df.head(2)"
      ],
      "metadata": {
        "id": "tlTW_OVLD7Gd",
        "colab": {
          "base_uri": "https://localhost:8080/"
        },
        "outputId": "4984be21-a304-402d-81c9-e287a5522314"
      },
      "execution_count": null,
      "outputs": [
        {
          "output_type": "execute_result",
          "data": {
            "text/html": [
              "\n",
              "  <div id=\"df-436da160-6867-4377-95a5-cccfb3512e8e\">\n",
              "    <div class=\"colab-df-container\">\n",
              "      <div>\n",
              "<style scoped>\n",
              "    .dataframe tbody tr th:only-of-type {\n",
              "        vertical-align: middle;\n",
              "    }\n",
              "\n",
              "    .dataframe tbody tr th {\n",
              "        vertical-align: top;\n",
              "    }\n",
              "\n",
              "    .dataframe thead th {\n",
              "        text-align: right;\n",
              "    }\n",
              "</style>\n",
              "<table border=\"1\" class=\"dataframe\">\n",
              "  <thead>\n",
              "    <tr style=\"text-align: right;\">\n",
              "      <th></th>\n",
              "      <th>RM</th>\n",
              "      <th>LSTAT</th>\n",
              "      <th>PTRATIO</th>\n",
              "      <th>MEDV</th>\n",
              "    </tr>\n",
              "  </thead>\n",
              "  <tbody>\n",
              "    <tr>\n",
              "      <th>0</th>\n",
              "      <td>6.575</td>\n",
              "      <td>4.98</td>\n",
              "      <td>15.3</td>\n",
              "      <td>504000.0</td>\n",
              "    </tr>\n",
              "    <tr>\n",
              "      <th>1</th>\n",
              "      <td>6.421</td>\n",
              "      <td>9.14</td>\n",
              "      <td>17.8</td>\n",
              "      <td>453600.0</td>\n",
              "    </tr>\n",
              "  </tbody>\n",
              "</table>\n",
              "</div>\n",
              "      <button class=\"colab-df-convert\" onclick=\"convertToInteractive('df-436da160-6867-4377-95a5-cccfb3512e8e')\"\n",
              "              title=\"Convert this dataframe to an interactive table.\"\n",
              "              style=\"display:none;\">\n",
              "        \n",
              "  <svg xmlns=\"http://www.w3.org/2000/svg\" height=\"24px\"viewBox=\"0 0 24 24\"\n",
              "       width=\"24px\">\n",
              "    <path d=\"M0 0h24v24H0V0z\" fill=\"none\"/>\n",
              "    <path d=\"M18.56 5.44l.94 2.06.94-2.06 2.06-.94-2.06-.94-.94-2.06-.94 2.06-2.06.94zm-11 1L8.5 8.5l.94-2.06 2.06-.94-2.06-.94L8.5 2.5l-.94 2.06-2.06.94zm10 10l.94 2.06.94-2.06 2.06-.94-2.06-.94-.94-2.06-.94 2.06-2.06.94z\"/><path d=\"M17.41 7.96l-1.37-1.37c-.4-.4-.92-.59-1.43-.59-.52 0-1.04.2-1.43.59L10.3 9.45l-7.72 7.72c-.78.78-.78 2.05 0 2.83L4 21.41c.39.39.9.59 1.41.59.51 0 1.02-.2 1.41-.59l7.78-7.78 2.81-2.81c.8-.78.8-2.07 0-2.86zM5.41 20L4 18.59l7.72-7.72 1.47 1.35L5.41 20z\"/>\n",
              "  </svg>\n",
              "      </button>\n",
              "      \n",
              "  <style>\n",
              "    .colab-df-container {\n",
              "      display:flex;\n",
              "      flex-wrap:wrap;\n",
              "      gap: 12px;\n",
              "    }\n",
              "\n",
              "    .colab-df-convert {\n",
              "      background-color: #E8F0FE;\n",
              "      border: none;\n",
              "      border-radius: 50%;\n",
              "      cursor: pointer;\n",
              "      display: none;\n",
              "      fill: #1967D2;\n",
              "      height: 32px;\n",
              "      padding: 0 0 0 0;\n",
              "      width: 32px;\n",
              "    }\n",
              "\n",
              "    .colab-df-convert:hover {\n",
              "      background-color: #E2EBFA;\n",
              "      box-shadow: 0px 1px 2px rgba(60, 64, 67, 0.3), 0px 1px 3px 1px rgba(60, 64, 67, 0.15);\n",
              "      fill: #174EA6;\n",
              "    }\n",
              "\n",
              "    [theme=dark] .colab-df-convert {\n",
              "      background-color: #3B4455;\n",
              "      fill: #D2E3FC;\n",
              "    }\n",
              "\n",
              "    [theme=dark] .colab-df-convert:hover {\n",
              "      background-color: #434B5C;\n",
              "      box-shadow: 0px 1px 3px 1px rgba(0, 0, 0, 0.15);\n",
              "      filter: drop-shadow(0px 1px 2px rgba(0, 0, 0, 0.3));\n",
              "      fill: #FFFFFF;\n",
              "    }\n",
              "  </style>\n",
              "\n",
              "      <script>\n",
              "        const buttonEl =\n",
              "          document.querySelector('#df-436da160-6867-4377-95a5-cccfb3512e8e button.colab-df-convert');\n",
              "        buttonEl.style.display =\n",
              "          google.colab.kernel.accessAllowed ? 'block' : 'none';\n",
              "\n",
              "        async function convertToInteractive(key) {\n",
              "          const element = document.querySelector('#df-436da160-6867-4377-95a5-cccfb3512e8e');\n",
              "          const dataTable =\n",
              "            await google.colab.kernel.invokeFunction('convertToInteractive',\n",
              "                                                     [key], {});\n",
              "          if (!dataTable) return;\n",
              "\n",
              "          const docLinkHtml = 'Like what you see? Visit the ' +\n",
              "            '<a target=\"_blank\" href=https://colab.research.google.com/notebooks/data_table.ipynb>data table notebook</a>'\n",
              "            + ' to learn more about interactive tables.';\n",
              "          element.innerHTML = '';\n",
              "          dataTable['output_type'] = 'display_data';\n",
              "          await google.colab.output.renderOutput(dataTable, element);\n",
              "          const docLink = document.createElement('div');\n",
              "          docLink.innerHTML = docLinkHtml;\n",
              "          element.appendChild(docLink);\n",
              "        }\n",
              "      </script>\n",
              "    </div>\n",
              "  </div>\n",
              "  "
            ],
            "text/plain": [
              "      RM  LSTAT  PTRATIO      MEDV\n",
              "0  6.575   4.98     15.3  504000.0\n",
              "1  6.421   9.14     17.8  453600.0"
            ]
          },
          "metadata": {},
          "execution_count": 41
        }
      ]
    },
    {
      "cell_type": "code",
      "metadata": {
        "id": "BX3_0k2JDIV-",
        "colab": {
          "base_uri": "https://localhost:8080/"
        },
        "outputId": "35e4daba-6a0e-45a4-d3bb-e67aa6ed77af"
      },
      "source": [
        "x2 = df.iloc[:,1:2].values\n",
        "x2"
      ],
      "execution_count": null,
      "outputs": [
        {
          "output_type": "execute_result",
          "data": {
            "text/plain": [
              "array([[ 4.98],\n",
              "       [ 9.14],\n",
              "       [ 4.03],\n",
              "       [ 2.94],\n",
              "       [ 5.33],\n",
              "       [ 5.21],\n",
              "       [12.43],\n",
              "       [19.15],\n",
              "       [29.93],\n",
              "       [17.1 ],\n",
              "       [20.45],\n",
              "       [13.27],\n",
              "       [15.71],\n",
              "       [ 8.26],\n",
              "       [10.26],\n",
              "       [ 8.47],\n",
              "       [ 6.58],\n",
              "       [14.67],\n",
              "       [11.69],\n",
              "       [11.28],\n",
              "       [21.02],\n",
              "       [13.83],\n",
              "       [18.72],\n",
              "       [19.88],\n",
              "       [16.3 ],\n",
              "       [16.51],\n",
              "       [14.81],\n",
              "       [17.28],\n",
              "       [12.8 ],\n",
              "       [11.98],\n",
              "       [22.6 ],\n",
              "       [13.04],\n",
              "       [27.71],\n",
              "       [18.35],\n",
              "       [20.34],\n",
              "       [ 9.68],\n",
              "       [11.41],\n",
              "       [ 8.77],\n",
              "       [10.13],\n",
              "       [ 4.32],\n",
              "       [ 1.98],\n",
              "       [ 4.84],\n",
              "       [ 5.81],\n",
              "       [ 7.44],\n",
              "       [ 9.55],\n",
              "       [10.21],\n",
              "       [14.15],\n",
              "       [18.8 ],\n",
              "       [30.81],\n",
              "       [16.2 ],\n",
              "       [13.45],\n",
              "       [ 9.43],\n",
              "       [ 5.28],\n",
              "       [ 8.43],\n",
              "       [14.8 ],\n",
              "       [ 4.81],\n",
              "       [ 5.77],\n",
              "       [ 3.95],\n",
              "       [ 6.86],\n",
              "       [ 9.22],\n",
              "       [13.15],\n",
              "       [14.44],\n",
              "       [ 6.73],\n",
              "       [ 9.5 ],\n",
              "       [ 8.05],\n",
              "       [ 4.67],\n",
              "       [10.24],\n",
              "       [ 8.1 ],\n",
              "       [13.09],\n",
              "       [ 8.79],\n",
              "       [ 6.72],\n",
              "       [ 9.88],\n",
              "       [ 5.52],\n",
              "       [ 7.54],\n",
              "       [ 6.78],\n",
              "       [ 8.94],\n",
              "       [11.97],\n",
              "       [10.27],\n",
              "       [12.34],\n",
              "       [ 9.1 ],\n",
              "       [ 5.29],\n",
              "       [ 7.22],\n",
              "       [ 6.72],\n",
              "       [ 7.51],\n",
              "       [ 9.62],\n",
              "       [ 6.53],\n",
              "       [12.86],\n",
              "       [ 8.44],\n",
              "       [ 5.5 ],\n",
              "       [ 5.7 ],\n",
              "       [ 8.81],\n",
              "       [ 8.2 ],\n",
              "       [ 8.16],\n",
              "       [ 6.21],\n",
              "       [10.59],\n",
              "       [ 6.65],\n",
              "       [11.34],\n",
              "       [ 4.21],\n",
              "       [ 3.57],\n",
              "       [ 6.19],\n",
              "       [ 9.42],\n",
              "       [ 7.67],\n",
              "       [10.63],\n",
              "       [13.44],\n",
              "       [12.33],\n",
              "       [16.47],\n",
              "       [18.66],\n",
              "       [14.09],\n",
              "       [12.27],\n",
              "       [15.55],\n",
              "       [13.  ],\n",
              "       [10.16],\n",
              "       [16.21],\n",
              "       [17.09],\n",
              "       [10.45],\n",
              "       [15.76],\n",
              "       [12.04],\n",
              "       [10.3 ],\n",
              "       [15.37],\n",
              "       [13.61],\n",
              "       [14.37],\n",
              "       [14.27],\n",
              "       [17.93],\n",
              "       [25.41],\n",
              "       [17.58],\n",
              "       [14.81],\n",
              "       [27.26],\n",
              "       [17.19],\n",
              "       [15.39],\n",
              "       [18.34],\n",
              "       [12.6 ],\n",
              "       [12.26],\n",
              "       [11.12],\n",
              "       [15.03],\n",
              "       [17.31],\n",
              "       [16.96],\n",
              "       [16.9 ],\n",
              "       [14.59],\n",
              "       [21.32],\n",
              "       [18.46],\n",
              "       [24.16],\n",
              "       [34.41],\n",
              "       [26.82],\n",
              "       [26.42],\n",
              "       [29.29],\n",
              "       [27.8 ],\n",
              "       [16.65],\n",
              "       [29.53],\n",
              "       [28.32],\n",
              "       [21.45],\n",
              "       [14.1 ],\n",
              "       [13.28],\n",
              "       [12.12],\n",
              "       [15.79],\n",
              "       [15.12],\n",
              "       [15.02],\n",
              "       [16.14],\n",
              "       [ 4.59],\n",
              "       [ 6.43],\n",
              "       [ 7.39],\n",
              "       [ 5.5 ],\n",
              "       [11.64],\n",
              "       [ 9.81],\n",
              "       [12.14],\n",
              "       [11.1 ],\n",
              "       [11.32],\n",
              "       [14.43],\n",
              "       [12.03],\n",
              "       [14.69],\n",
              "       [ 9.04],\n",
              "       [ 9.64],\n",
              "       [ 5.33],\n",
              "       [10.11],\n",
              "       [ 6.29],\n",
              "       [ 6.92],\n",
              "       [ 5.04],\n",
              "       [ 7.56],\n",
              "       [ 9.45],\n",
              "       [ 4.82],\n",
              "       [ 5.68],\n",
              "       [13.98],\n",
              "       [13.15],\n",
              "       [ 6.68],\n",
              "       [ 4.56],\n",
              "       [ 5.39],\n",
              "       [ 5.1 ],\n",
              "       [ 4.69],\n",
              "       [ 2.87],\n",
              "       [ 5.03],\n",
              "       [ 4.38],\n",
              "       [ 4.08],\n",
              "       [ 8.61],\n",
              "       [ 6.62],\n",
              "       [ 4.56],\n",
              "       [ 4.45],\n",
              "       [ 7.43],\n",
              "       [ 3.11],\n",
              "       [ 3.81],\n",
              "       [10.87],\n",
              "       [10.97],\n",
              "       [18.06],\n",
              "       [14.66],\n",
              "       [23.09],\n",
              "       [17.27],\n",
              "       [23.98],\n",
              "       [16.03],\n",
              "       [ 9.38],\n",
              "       [29.55],\n",
              "       [ 9.47],\n",
              "       [13.51],\n",
              "       [ 9.69],\n",
              "       [17.92],\n",
              "       [10.5 ],\n",
              "       [ 9.71],\n",
              "       [21.46],\n",
              "       [ 9.93],\n",
              "       [ 7.6 ],\n",
              "       [ 4.14],\n",
              "       [ 3.13],\n",
              "       [ 6.36],\n",
              "       [ 3.92],\n",
              "       [ 3.76],\n",
              "       [11.65],\n",
              "       [ 5.25],\n",
              "       [ 2.47],\n",
              "       [ 3.95],\n",
              "       [ 8.05],\n",
              "       [10.88],\n",
              "       [ 9.54],\n",
              "       [ 4.73],\n",
              "       [ 6.36],\n",
              "       [ 7.37],\n",
              "       [11.38],\n",
              "       [12.4 ],\n",
              "       [11.22],\n",
              "       [ 5.19],\n",
              "       [12.5 ],\n",
              "       [18.46],\n",
              "       [ 9.16],\n",
              "       [10.15],\n",
              "       [ 9.52],\n",
              "       [ 6.56],\n",
              "       [ 5.9 ],\n",
              "       [ 3.59],\n",
              "       [ 3.53],\n",
              "       [ 3.54],\n",
              "       [ 6.57],\n",
              "       [ 9.25],\n",
              "       [ 3.11],\n",
              "       [ 7.79],\n",
              "       [ 6.9 ],\n",
              "       [ 9.59],\n",
              "       [ 7.26],\n",
              "       [ 5.91],\n",
              "       [11.25],\n",
              "       [ 8.1 ],\n",
              "       [10.45],\n",
              "       [14.79],\n",
              "       [ 3.16],\n",
              "       [13.65],\n",
              "       [13.  ],\n",
              "       [ 6.59],\n",
              "       [ 7.73],\n",
              "       [ 6.58],\n",
              "       [ 3.53],\n",
              "       [ 2.98],\n",
              "       [ 6.05],\n",
              "       [ 4.16],\n",
              "       [ 7.19],\n",
              "       [ 4.85],\n",
              "       [ 3.76],\n",
              "       [ 4.59],\n",
              "       [ 3.01],\n",
              "       [ 7.85],\n",
              "       [ 8.23],\n",
              "       [12.93],\n",
              "       [ 7.14],\n",
              "       [ 7.6 ],\n",
              "       [ 9.51],\n",
              "       [ 3.33],\n",
              "       [ 3.56],\n",
              "       [ 4.7 ],\n",
              "       [ 8.58],\n",
              "       [10.4 ],\n",
              "       [ 6.27],\n",
              "       [ 7.39],\n",
              "       [15.84],\n",
              "       [ 4.97],\n",
              "       [ 4.74],\n",
              "       [ 6.07],\n",
              "       [ 9.5 ],\n",
              "       [ 8.67],\n",
              "       [ 4.86],\n",
              "       [ 6.93],\n",
              "       [ 8.93],\n",
              "       [ 6.47],\n",
              "       [ 7.53],\n",
              "       [ 4.54],\n",
              "       [ 9.97],\n",
              "       [12.64],\n",
              "       [ 5.98],\n",
              "       [11.72],\n",
              "       [ 7.9 ],\n",
              "       [ 9.28],\n",
              "       [11.5 ],\n",
              "       [18.33],\n",
              "       [15.94],\n",
              "       [10.36],\n",
              "       [12.73],\n",
              "       [ 7.2 ],\n",
              "       [ 6.87],\n",
              "       [ 7.7 ],\n",
              "       [11.74],\n",
              "       [ 6.12],\n",
              "       [ 5.08],\n",
              "       [ 6.15],\n",
              "       [12.79],\n",
              "       [ 9.97],\n",
              "       [ 7.34],\n",
              "       [ 9.09],\n",
              "       [12.43],\n",
              "       [ 7.83],\n",
              "       [ 5.68],\n",
              "       [ 6.75],\n",
              "       [ 8.01],\n",
              "       [ 9.8 ],\n",
              "       [10.56],\n",
              "       [ 8.51],\n",
              "       [ 9.74],\n",
              "       [ 9.29],\n",
              "       [ 5.49],\n",
              "       [ 8.65],\n",
              "       [ 7.18],\n",
              "       [ 4.61],\n",
              "       [10.53],\n",
              "       [12.67],\n",
              "       [ 6.36],\n",
              "       [ 5.99],\n",
              "       [ 5.89],\n",
              "       [ 5.98],\n",
              "       [ 5.49],\n",
              "       [ 7.79],\n",
              "       [ 4.5 ],\n",
              "       [ 8.05],\n",
              "       [ 5.57],\n",
              "       [17.6 ],\n",
              "       [13.27],\n",
              "       [11.48],\n",
              "       [12.67],\n",
              "       [ 7.79],\n",
              "       [14.19],\n",
              "       [10.19],\n",
              "       [14.64],\n",
              "       [ 7.12],\n",
              "       [14.  ],\n",
              "       [13.33],\n",
              "       [34.77],\n",
              "       [37.97],\n",
              "       [13.44],\n",
              "       [23.24],\n",
              "       [21.24],\n",
              "       [23.69],\n",
              "       [21.78],\n",
              "       [17.21],\n",
              "       [21.08],\n",
              "       [23.6 ],\n",
              "       [24.56],\n",
              "       [30.63],\n",
              "       [30.81],\n",
              "       [28.28],\n",
              "       [31.99],\n",
              "       [30.62],\n",
              "       [20.85],\n",
              "       [17.11],\n",
              "       [18.76],\n",
              "       [25.68],\n",
              "       [15.17],\n",
              "       [16.35],\n",
              "       [17.12],\n",
              "       [19.37],\n",
              "       [19.92],\n",
              "       [30.59],\n",
              "       [29.97],\n",
              "       [26.77],\n",
              "       [20.32],\n",
              "       [20.31],\n",
              "       [19.77],\n",
              "       [27.38],\n",
              "       [22.98],\n",
              "       [23.34],\n",
              "       [12.13],\n",
              "       [26.4 ],\n",
              "       [19.78],\n",
              "       [10.11],\n",
              "       [21.22],\n",
              "       [34.37],\n",
              "       [20.08],\n",
              "       [36.98],\n",
              "       [29.05],\n",
              "       [25.79],\n",
              "       [26.64],\n",
              "       [20.62],\n",
              "       [22.74],\n",
              "       [15.02],\n",
              "       [15.7 ],\n",
              "       [14.1 ],\n",
              "       [23.29],\n",
              "       [17.16],\n",
              "       [24.39],\n",
              "       [15.69],\n",
              "       [14.52],\n",
              "       [21.52],\n",
              "       [24.08],\n",
              "       [17.64],\n",
              "       [19.69],\n",
              "       [12.03],\n",
              "       [16.22],\n",
              "       [15.17],\n",
              "       [23.27],\n",
              "       [18.05],\n",
              "       [26.45],\n",
              "       [34.02],\n",
              "       [22.88],\n",
              "       [22.11],\n",
              "       [19.52],\n",
              "       [16.59],\n",
              "       [18.85],\n",
              "       [23.79],\n",
              "       [23.98],\n",
              "       [17.79],\n",
              "       [16.44],\n",
              "       [18.13],\n",
              "       [19.31],\n",
              "       [17.44],\n",
              "       [17.73],\n",
              "       [17.27],\n",
              "       [16.74],\n",
              "       [18.71],\n",
              "       [18.13],\n",
              "       [19.01],\n",
              "       [16.94],\n",
              "       [16.23],\n",
              "       [14.7 ],\n",
              "       [16.42],\n",
              "       [14.65],\n",
              "       [13.99],\n",
              "       [10.29],\n",
              "       [13.22],\n",
              "       [14.13],\n",
              "       [17.15],\n",
              "       [21.32],\n",
              "       [18.13],\n",
              "       [14.76],\n",
              "       [16.29],\n",
              "       [12.87],\n",
              "       [14.36],\n",
              "       [11.66],\n",
              "       [18.14],\n",
              "       [24.1 ],\n",
              "       [18.68],\n",
              "       [24.91],\n",
              "       [18.03],\n",
              "       [13.11],\n",
              "       [10.74],\n",
              "       [ 7.74],\n",
              "       [ 7.01],\n",
              "       [10.42],\n",
              "       [13.34],\n",
              "       [10.58],\n",
              "       [14.98],\n",
              "       [11.45],\n",
              "       [18.06],\n",
              "       [23.97],\n",
              "       [29.68],\n",
              "       [18.07],\n",
              "       [13.35],\n",
              "       [12.01],\n",
              "       [13.59],\n",
              "       [17.6 ],\n",
              "       [21.14],\n",
              "       [14.1 ],\n",
              "       [12.92],\n",
              "       [15.1 ],\n",
              "       [14.33],\n",
              "       [ 9.67],\n",
              "       [ 9.08],\n",
              "       [ 5.64],\n",
              "       [ 6.48],\n",
              "       [ 7.88]])"
            ]
          },
          "metadata": {},
          "execution_count": 42
        }
      ]
    },
    {
      "cell_type": "code",
      "metadata": {
        "id": "QQxq1rOaDIV-",
        "colab": {
          "base_uri": "https://localhost:8080/"
        },
        "outputId": "393e61e7-d869-4bda-b60c-281b3f66f629"
      },
      "source": [
        "y = df.iloc[:, 3].values\n",
        "y"
      ],
      "execution_count": null,
      "outputs": [
        {
          "output_type": "execute_result",
          "data": {
            "text/plain": [
              "array([ 504000.,  453600.,  728700.,  701400.,  760200.,  602700.,\n",
              "        480900.,  569100.,  346500.,  396900.,  315000.,  396900.,\n",
              "        455700.,  428400.,  382200.,  417900.,  485100.,  367500.,\n",
              "        424200.,  382200.,  285600.,  411600.,  319200.,  304500.,\n",
              "        327600.,  291900.,  348600.,  310800.,  386400.,  441000.,\n",
              "        266700.,  304500.,  277200.,  275100.,  283500.,  396900.,\n",
              "        420000.,  441000.,  518700.,  646800.,  732900.,  558600.,\n",
              "        531300.,  518700.,  445200.,  405300.,  420000.,  348600.,\n",
              "        302400.,  407400.,  413700.,  430500.,  525000.,  491400.,\n",
              "        396900.,  743400.,  518700.,  663600.,  489300.,  411600.,\n",
              "        392700.,  336000.,  466200.,  525000.,  693000.,  493500.,\n",
              "        407400.,  462000.,  365400.,  438900.,  508200.,  455700.,\n",
              "        478800.,  491400.,  506100.,  449400.,  420000.,  436800.,\n",
              "        445200.,  426300.,  588000.,  501900.,  520800.,  480900.,\n",
              "        501900.,  558600.,  472500.,  466200.,  495600.,  602700.,\n",
              "        474600.,  462000.,  480900.,  525000.,  432600.,  596400.,\n",
              "        449400.,  812700.,  919800.,  697200.,  577500.,  556500.,\n",
              "        390600.,  405300.,  422100.,  409500.,  409500.,  428400.,\n",
              "        415800.,  407400.,  455700.,  478800.,  394800.,  392700.,\n",
              "        388500.,  384300.,  445200.,  403200.,  428400.,  405300.,\n",
              "        462000.,  426300.,  430500.,  363300.,  394800.,  449400.,\n",
              "        329700.,  340200.,  378000.,  300300.,  403200.,  411600.,\n",
              "        483000.,  386400.,  327600.,  380100.,  365400.,  359100.,\n",
              "        279300.,  373800.,  294000.,  302400.,  281400.,  327600.,\n",
              "        247800.,  289800.,  327600.,  306600.,  373800.,  323400.,\n",
              "        451500.,  411600.,  321300.,  407400.,  357000.,  327600.,\n",
              "        275100.,  867300.,  510300.,  489300.,  567000.,  476700.,\n",
              "        525000.,  499800.,  499800.,  468300.,  365400.,  401100.,\n",
              "        485100.,  495600.,  474600.,  617400.,  487200.,  516600.,\n",
              "        627900.,  781200.,  835800.,  760200.,  795900.,  682500.,\n",
              "        554400.,  621600.,  672000.,  625800.,  732900.,  777000.,\n",
              "        640500.,  764400.,  653100.,  611100.,  699300.,  636300.,\n",
              "        726600.,  732900.,  690900.,  506100.,  888300., 1018500.,\n",
              "        474600.,  512400.,  472500.,  512400.,  420000.,  455700.,\n",
              "        405300.,  470400.,  590100.,  497700.,  525000.,  489300.,\n",
              "        602700.,  451500.,  483000.,  560700.,  455700.,  577500.,\n",
              "        632100.,  940800.,  789600.,  663600.,  980700.,  661500.,\n",
              "        510300.,  665700.,  875700., 1014300.,  609000.,  504000.,\n",
              "        527100.,  661500.,  497700.,  489300.,  462000.,  422100.,\n",
              "        466200.,  497700.,  369600.,  388500.,  510300.,  430500.,\n",
              "        514500.,  550200.,  512400.,  520800.,  621600.,  898800.,\n",
              "        459900.,  438900.,  924000.,  756000.,  632100.,  709800.,\n",
              "        905100., 1024800.,  651000.,  766500.,  478800.,  644700.,\n",
              "        913500.,  434700.,  443100.,  529200.,  512400.,  739200.,\n",
              "        680400.,  672000.,  697200.,  695100.,  611100.,  737100.,\n",
              "        953400.,  743400.,  966000.,  676200.,  462000.,  422100.,\n",
              "        487200.,  468300.,  520800.,  598500.,  783300.,  585900.,\n",
              "        501900.,  455700.,  600600.,  569100.,  426300.,  472500.,\n",
              "        609000.,  520800.,  462000.,  554400.,  695100.,  758100.,\n",
              "        596400.,  701400.,  592200.,  478800.,  426300.,  338100.,\n",
              "        464100.,  407400.,  453600.,  499800.,  340200.,  373800.,\n",
              "        415800.,  485100.,  441000.,  499800.,  485100.,  428400.,\n",
              "        388500.,  525000.,  516600.,  483000.,  466200.,  405300.,\n",
              "        474600.,  415800.,  359100.,  407400.,  466200.,  434700.,\n",
              "        443100.,  409500.,  388500.,  432600.,  399000.,  392700.,\n",
              "        686700.,  346500.,  501900.,  655200.,  367500.,  361200.,\n",
              "        485100.,  514500.,  558600.,  480900.,  506100.,  390600.,\n",
              "        632100.,  382200.,  432600.,  373800.,  455700.,  476700.,\n",
              "        474600.,  525000.,  417900.,  436800.,  352800.,  577500.,\n",
              "        459900.,  485100.,  289800.,  289800.,  315000.,  291900.,\n",
              "        279300.,  275100.,  214200.,  218400.,  228900.,  237300.,\n",
              "        258300.,  184800.,  151200.,  220500.,  155400.,  214200.,\n",
              "        241500.,  317100.,  487200.,  203700.,  289800.,  266700.,\n",
              "        275100.,  262500.,  178500.,  105000.,  132300.,  117600.,\n",
              "        151200.,  254100.,  174300.,  178500.,  105000.,  249900.,\n",
              "        585900.,  361200.,  577500.,  315000.,  361200.,  375900.,\n",
              "        342300.,  147000.,  151200.,  157500.,  218400.,  184800.,\n",
              "        176400.,  350700.,  298200.,  436800.,  281400.,  245700.,\n",
              "        174300.,  214200.,  228900.,  231000.,  199500.,  304500.,\n",
              "        296100.,  338100.,  300300.,  245700.,  281400.,  201600.,\n",
              "        182700.,  176400.,  268800.,  220500.,  359100.,  386400.,\n",
              "        323400.,  226800.,  247800.,  312900.,  264600.,  296100.,\n",
              "        273000.,  281400.,  319200.,  338100.,  373800.,  312900.,\n",
              "        296100.,  266700.,  283500.,  312900.,  420000.,  344400.,\n",
              "        371700.,  409500.,  424200.,  449400.,  417900.,  399000.,\n",
              "        401100.,  401100.,  422100.,  417900.,  411600.,  487200.,\n",
              "        625800.,  289800.,  279300.,  350700.,  252000.,  306600.,\n",
              "        449400.,  483000.,  497700.,  525000.,  457800.,  432600.,\n",
              "        445200.,  401100.,  432600.,  319200.,  147000.,  170100.,\n",
              "        285600.,  422100.,  457800.,  514500.,  485100.,  413700.,\n",
              "        384300.,  445200.,  367500.,  352800.,  470400.,  432600.,\n",
              "        501900.,  462000.,  249900.])"
            ]
          },
          "metadata": {},
          "execution_count": 43
        }
      ]
    },
    {
      "cell_type": "code",
      "metadata": {
        "id": "fm5tatizDIV-"
      },
      "source": [
        "from sklearn.model_selection import train_test_split\n",
        "x_treino, x_teste, y_treino, y_teste = train_test_split(x2, y, test_size = 0.3, random_state = 10)"
      ],
      "execution_count": null,
      "outputs": []
    },
    {
      "cell_type": "code",
      "metadata": {
        "id": "Nf4kIFBUDIV-",
        "colab": {
          "base_uri": "https://localhost:8080/"
        },
        "outputId": "27d494b4-36ce-4b83-d9c3-3d7ce1e9f8ec"
      },
      "source": [
        "x_treino.shape, y_treino.shape"
      ],
      "execution_count": null,
      "outputs": [
        {
          "output_type": "execute_result",
          "data": {
            "text/plain": [
              "((342, 1), (342,))"
            ]
          },
          "metadata": {},
          "execution_count": 45
        }
      ]
    },
    {
      "cell_type": "code",
      "metadata": {
        "id": "1ENZkvJ6DIV_",
        "colab": {
          "base_uri": "https://localhost:8080/"
        },
        "outputId": "b7bd97dc-24e4-4a14-929c-045f9f463aad"
      },
      "source": [
        "x_teste.shape, y_teste.shape"
      ],
      "execution_count": null,
      "outputs": [
        {
          "output_type": "execute_result",
          "data": {
            "text/plain": [
              "((147, 1), (147,))"
            ]
          },
          "metadata": {},
          "execution_count": 46
        }
      ]
    },
    {
      "cell_type": "code",
      "metadata": {
        "id": "pnlHWrMSDIV_",
        "colab": {
          "base_uri": "https://localhost:8080/"
        },
        "outputId": "cc4e13e9-d65a-4d8f-e728-d5ea2c7538e1"
      },
      "source": [
        "from sklearn.linear_model import LinearRegression\n",
        "reg_linear2 = LinearRegression()\n",
        "reg_linear2.fit(x_treino, y_treino)"
      ],
      "execution_count": null,
      "outputs": [
        {
          "output_type": "execute_result",
          "data": {
            "text/plain": [
              "LinearRegression()"
            ]
          },
          "metadata": {},
          "execution_count": 47
        }
      ]
    },
    {
      "cell_type": "code",
      "metadata": {
        "id": "sf9TY-nmDIV_",
        "colab": {
          "base_uri": "https://localhost:8080/"
        },
        "outputId": "4d1c36b5-98f5-4f77-9c8f-a2eac96e5df7"
      },
      "source": [
        "# Intercepto (coeficiente linear)\n",
        "reg_linear2.intercept_"
      ],
      "execution_count": null,
      "outputs": [
        {
          "output_type": "execute_result",
          "data": {
            "text/plain": [
              "681977.7451055486"
            ]
          },
          "metadata": {},
          "execution_count": 48
        }
      ]
    },
    {
      "cell_type": "code",
      "metadata": {
        "id": "yKxLXHwwDIWA",
        "colab": {
          "base_uri": "https://localhost:8080/"
        },
        "outputId": "b0c284e7-a1e5-4124-8839-2c4cae1e5265"
      },
      "source": [
        "# Coeficiente Angular\n",
        "reg_linear2.coef_"
      ],
      "execution_count": null,
      "outputs": [
        {
          "output_type": "execute_result",
          "data": {
            "text/plain": [
              "array([-17263.75010515])"
            ]
          },
          "metadata": {},
          "execution_count": 49
        }
      ]
    },
    {
      "cell_type": "markdown",
      "source": [
        "**Equação: Valor = 681977,75 - 17263,75.LSTAT**"
      ],
      "metadata": {
        "id": "egv0y9u3pTN2"
      }
    },
    {
      "cell_type": "code",
      "metadata": {
        "id": "7rAbcYHrDIWA",
        "colab": {
          "base_uri": "https://localhost:8080/"
        },
        "outputId": "5589fa96-00ce-42e7-df7c-2f201aa0e023"
      },
      "source": [
        "# Coeficiente de Determinação dados de treino\n",
        "reg_linear2.score(x_treino, y_treino)"
      ],
      "execution_count": null,
      "outputs": [
        {
          "output_type": "execute_result",
          "data": {
            "text/plain": [
              "0.5688289563355992"
            ]
          },
          "metadata": {},
          "execution_count": 50
        }
      ]
    },
    {
      "cell_type": "code",
      "metadata": {
        "id": "01cMJImBDIWA",
        "colab": {
          "base_uri": "https://localhost:8080/"
        },
        "outputId": "39bb8e8c-094a-44d3-8475-573117f4c7e4"
      },
      "source": [
        "previsoes_treino = reg_linear2.predict(x_treino)\n",
        "previsoes_treino"
      ],
      "execution_count": null,
      "outputs": [
        {
          "output_type": "execute_result",
          "data": {
            "text/plain": [
              "array([549564.78179906, 401787.080899  , 547493.13178645, 392982.56834537,\n",
              "       594968.4445756 , 475330.65634693, 474294.83134062, 172179.20450053,\n",
              "       525050.25664975, 358109.79313297, 527812.45666658, 386940.25580857,\n",
              "       595141.08207665, 451851.95620393, 590825.14455037, 383660.14328859,\n",
              "       624489.45725541, 543004.55675911, 413526.4309705 , 422676.21852623,\n",
              "       572180.29443681, 457548.99373862, 507095.9565404 , 397643.78087376,\n",
              "       492594.40645207, 610505.81967024, 365533.20567819, 611541.64467654,\n",
              "       527639.81916553, 401959.71840005, 578740.51947676, 435624.03110509,\n",
              "       370021.78070552, 342054.50553518, 530229.3816813 , 587027.11952723,\n",
              "       274553.24262406, 554743.90683061, 563548.41938423, 562339.95687687,\n",
              "       420086.65601045, 613785.93219021, 536271.6942181 , 515555.19409192,\n",
              "       280250.28015875, 437005.1311135 , 499672.54399519, 541105.54424754,\n",
              "       359836.16814349, 475158.01884588, 422676.21852623, 533336.85670022,\n",
              "       579948.98198412, 568209.63191262, 428718.53106303, 428200.61855987,\n",
              "       612404.8321818 , 522805.96913608, 517972.11910664, 396953.23086955,\n",
              "       222071.44230441, 521597.50662872, 472568.4563301 , 429063.80606513,\n",
              "       572180.29443681, 319093.71789534, 533854.76920338, 632430.78230377,\n",
              "       171833.92949842, 368985.95569922, 432861.83108826, 613785.93219021,\n",
              "       547493.13178645, 378481.01825705, 553708.0818243 , 461174.38126071,\n",
              "        26473.15361308, 469115.70630907, 347578.90556883, 620864.06973332,\n",
              "       578740.51947676, 479646.59387321, 517799.48160559, 484998.35640581,\n",
              "       313914.59286379, 556642.91934217, 440285.24363348, 523841.79414239,\n",
              "       447363.38117659, 514692.00658666, 480682.41887952, 359490.89314138,\n",
              "       356556.05562351, 150081.60436594, 340673.40552677, 433897.65609457,\n",
              "       514864.64408772, 280768.19266191, 335321.64299418, 487242.64391948,\n",
              "       503125.29401622, 490004.8439363 , 283357.75517768, 598248.55709558,\n",
              "       331350.98046999, 606362.519645  , 494320.78146259, 470151.53131538,\n",
              "       522288.05663293, 592033.60705773, 193068.34212776, 257980.04252311,\n",
              "       305973.26781542, 370367.05570763, 267993.0175841 , 386594.98080647,\n",
              "       443220.08115135, 555261.81933376, 385213.88079805, 402304.99340215,\n",
              "       549046.86929591, 378135.74325494, 506060.13153409, 438558.86862296,\n",
              "       516418.38159718, 550773.24430642, 438040.95611981, 331178.34296894,\n",
              "       504161.11902252, 617066.04471019, 596176.90708296, 596004.26958191,\n",
              "       483444.61889635, 598939.10709979, 236745.62989378, 563375.78188318,\n",
              "       420086.65601045, 552326.98181589, 600147.56960715, 405239.83092003,\n",
              "       266266.64257358, 344989.34305306, 601010.7571124 , 459965.91875335,\n",
              "       437695.6811177 , 535063.23171074, 512620.35657405, 317022.06788272,\n",
              "       310461.84284276, 385904.43080226, 500190.45649834, 627424.29477328,\n",
              "       430099.63107144, 338083.843011  , 440457.88113453, 628287.48227854,\n",
              "       440630.51863558, 386767.61830752, 446327.55617028, 203599.2296919 ,\n",
              "       315640.96787431, 568382.26941367, 545939.39427698, 449952.94369236,\n",
              "       607398.34465131, 461001.74375965, 510548.70656143, 431308.0935788 ,\n",
              "       525913.44415501, 459793.28125229, 565447.4318958 , 520043.76911926,\n",
              "       409383.13094526, 421295.11851781, 291816.9927292 , 542141.36925385,\n",
              "       514346.73158456, 390220.36832855, 368985.95569922, 153879.62938907,\n",
              "       428373.25606092, 451506.68120182, 600320.2071082 , 639336.28234583,\n",
              "       589961.95704511, 547493.13178645, 610160.54466813, 409901.04344842,\n",
              "       219827.15479074, 150081.60436594, 383832.78078964,  43564.26621717,\n",
              "       279041.81765139, 565965.34439895, 567173.80690631, 542141.36925385,\n",
              "       583919.64450831, 486206.81891317, 358800.34313718, 487760.55642263,\n",
              "       621036.70723438, 399715.43088638, 554398.6318285 , 238644.64240535,\n",
              "       176322.50452576, 448744.481185  , 504333.75652358, 226214.74232964,\n",
              "       529884.10667919, 598421.19459663, 467907.24380171, 578567.88197571,\n",
              "       548356.3192917 , 268165.65508515, 536444.33171915, 598766.46959874,\n",
              "       546457.30678014, 427164.79355356, 209296.2672266 , 519180.581614  ,\n",
              "       504851.66902673, 340500.76802572, 580294.25698623, 587199.75702829,\n",
              "       630013.85728905, 554398.6318285 , 631222.31979641, 338774.39301521,\n",
              "       416288.63098732, 486552.09391527, 428891.16856408, 505714.85653199,\n",
              "       375891.45574127, 559059.84435689, 592378.88205983, 389529.81832434,\n",
              "       363288.91816452, 581675.35699464, 485516.26890896, 438558.86862296,\n",
              "       524877.6191487 , 593932.61956929, 455649.98122706, 614303.84469337,\n",
              "       557851.38184953, 402132.3559011 , 452887.78121023, 438558.86862296,\n",
              "       488278.46892579, 569245.45691893, 568554.90691473, 383142.23078544,\n",
              "       225869.46732754, 380897.94327177, 602737.13212292, 315295.6928722 ,\n",
              "       517972.11910664, 566655.89440316, 318057.89288903, 406793.56842949,\n",
              "       260914.88004099,  94664.96652841, 286983.14269976, 589961.95704511,\n",
              "       422503.58102517, 517108.93160139, 429236.44356618, 562857.86938003,\n",
              "       577186.7819673 , 573734.03194627, 383832.78078964, 389184.54332224,\n",
              "       202045.49218243, 398161.69337692, 560958.85686846, 511411.89406669,\n",
              "       416633.90598942, 358972.98063823, 525222.8941508 , 507441.2315425 ,\n",
              "       550773.24430642, 564929.51939265, 458930.09374704, 451679.31870287,\n",
              "       628287.48227854, 499154.63149203, 385731.79330121, 279905.00515665,\n",
              "       434070.29359562, 574769.85695258, 480164.50637637, 502434.74401201,\n",
              "       598075.91959453, 576323.59446204, 456858.44373442, 546802.58178224,\n",
              "       264885.54256517, 583574.3695062 , 570971.83192945, 408519.94344   ,\n",
              "       604290.86963238, 463246.03127332,  87932.10398741, 164583.15445426,\n",
              "       411109.50595578, 620000.88222807, 539379.16923703, 400751.25589269,\n",
              "       504679.03152568, 502089.46900991, 583919.64450831, 518835.3066119 ,\n",
              "       423366.76853043, 370194.41820658, 365187.93067608, 565792.7068979 ,\n",
              "       372438.70572024, 384868.60579595, 585818.65701987, 426474.24354936,\n",
              "        88622.65399161, 506750.6815383 ,  81717.15394955, 568382.26941367,\n",
              "       153361.71688592, 225351.55482438, 647795.51989736, 501571.55650675,\n",
              "       551809.06931273, 165273.70445847, 434588.20609878, 377445.19325074,\n",
              "       617066.04471019, 169589.64198476, 403340.81840846, 243305.85493374,\n",
              "       193758.89213196, 467389.33129856, 535753.78171494, 515037.28158877,\n",
              "       426301.60604831, 630531.76979221])"
            ]
          },
          "metadata": {},
          "execution_count": 51
        }
      ]
    },
    {
      "cell_type": "code",
      "source": [
        "plt.scatter(y=y_treino, x=x_treino, color='blue', s=10, alpha=0.9)\n",
        "X_plot = np.linspace(0, 40)\n",
        "plt.plot(X_plot, X_plot*reg_linear2.coef_ + reg_linear2.intercept_, color='r')\n",
        "plt.title('Reta de regressão')\n",
        "plt.ylabel('Valor Médio')\n",
        "plt.xlabel('Quantidade de Proprietários de Classe Média Baixa (%)')\n",
        "plt.show()"
      ],
      "metadata": {
        "id": "1k8tu9tSDIWA",
        "colab": {
          "base_uri": "https://localhost:8080/"
        },
        "outputId": "8cdac88f-6da1-4186-f44f-88130a105e1d"
      },
      "execution_count": null,
      "outputs": [
        {
          "output_type": "display_data",
          "data": {
            "image/png": "[encoded data removed]",
            "text/plain": [
              "<Figure size 432x288 with 1 Axes>"
            ]
          },
          "metadata": {
            "needs_background": "light"
          }
        }
      ]
    },
    {
      "cell_type": "code",
      "metadata": {
        "id": "0VULl4HSDIWB",
        "colab": {
          "base_uri": "https://localhost:8080/"
        },
        "outputId": "af039a30-4f74-4eb6-cce1-4c814fc4ca0f"
      },
      "source": [
        "previsoes_teste = reg_linear2.predict(x_teste)\n",
        "previsoes_teste"
      ],
      "execution_count": null,
      "outputs": [
        {
          "output_type": "execute_result",
          "data": {
            "text/plain": [
              "array([507441.2315425 , 438731.50612401, 518490.0316098 , 500708.36900149,\n",
              "       594277.8945714 , 539897.08174018, 551981.70681378, 483789.89389845,\n",
              "       580121.61948518, 272999.50511459, 558714.56935479, 553535.44432325,\n",
              "       584610.19451251, 472395.81882905, 370194.41820658, 454959.43122285,\n",
              "       496565.06897626, 474122.19383957, 363288.91816452, 348614.73057514,\n",
              "       426646.88105041, 472741.09383115, 480855.05638057, 506578.04403724,\n",
              "       357419.24312877, 570108.64442419, 573388.75694417, 447018.10617448,\n",
              "       620346.15723017, 353793.85560668, 452887.78121023, 521770.14412977,\n",
              "       562512.59437792, 420949.84351571, 591343.05705352, 378135.74325494,\n",
              "       602737.13212292, 400578.61839164, 394536.30585483, 558024.01935059,\n",
              "       180465.804551  , 557678.74434848, 567691.71940947, 603255.04462607,\n",
              "       551463.79431063, 587199.75702829, 474294.83134062, 365360.56817713,\n",
              "       490350.11893841, 601356.03211451, 351376.93059196, 300276.23028073,\n",
              "       271273.13010408, 452715.14370918, 603600.31962818, 322028.55541321,\n",
              "       602391.85712082, 484307.8064016 , 462210.20626701, 509858.15655722,\n",
              "       540414.99424333, 251937.72998631, 587027.11952723, 519353.21911505,\n",
              "       548528.95679275, 454959.43122285, 265921.36757148, 467389.33129856,\n",
              "       572180.29443681, 532301.03169392, 513828.81908141, 466180.8687912 ,\n",
              "       449952.94369236, 499327.26899308, 600838.11961135, 285256.76768925,\n",
              "       479301.31887111, 524187.0691445 , 374855.63073497, 432689.19358721,\n",
              "       328934.05545527, 557333.46934638, 311670.30535012, 481027.69388163,\n",
              "       543004.55675911, 543004.55675911, 498464.08148783, 449780.30619131,\n",
              "       509858.15655722, 330833.06796684, 468943.06880802, 372611.3432213 ,\n",
              "       517281.56910244, 501571.55650675, 453750.96871549, 494148.14396154,\n",
              "       588926.1320388 , 457548.99373862, 568727.54441578, 153189.07938486,\n",
              "       616202.85720493, 455995.25622916, 543695.10676331, 512792.9940751 ,\n",
              "       627942.20727644, 605154.05713764, 474640.10634272, 368985.95569922,\n",
              "       426301.60604831, 532646.30669602, 289400.06771448, 463763.94377648,\n",
              "       398506.96837902, 313914.59286379, 575115.13195468, 463246.03127332,\n",
              "       470324.16881643, 621036.70723438, 603255.04462607, 517626.84410454,\n",
              "       545594.11927488, 586681.84452513, 368813.31819816, 570281.28192524,\n",
              "       565965.34439895, 311497.66784907, 410936.86845472, 577532.0569694 ,\n",
              "       458757.45624598, 575805.68195889, 590652.50704932, 395572.13086114,\n",
              "       267993.0175841 , 218963.96728548, 620518.79473122, 211367.91723921,\n",
              "       325999.2179374 , 582365.90699884, 530574.6566834 , 505196.94402883,\n",
              "       129710.37924186, 410764.23095367, 609297.35716288, 464454.49378068,\n",
              "       370712.33070973, 515900.46909402, 386422.34330541])"
            ]
          },
          "metadata": {},
          "execution_count": 53
        }
      ]
    },
    {
      "cell_type": "code",
      "metadata": {
        "id": "A0e4uSPQDIWB",
        "colab": {
          "base_uri": "https://localhost:8080/"
        },
        "outputId": "5152a365-7952-4fac-dbfd-daacc965add1"
      },
      "source": [
        "y_teste"
      ],
      "execution_count": null,
      "outputs": [
        {
          "output_type": "execute_result",
          "data": {
            "text/plain": [
              "array([ 487200.,  428400.,  525000.,  483000.,  516600.,  462000.,\n",
              "        592200.,  476700.,  512400.,  275100.,  487200.,  518700.,\n",
              "        501900.,  499800.,  319200.,  621600.,  483000.,  445200.,\n",
              "        373800.,  273000.,  644700.,  321300.,  510300.,  478800.,\n",
              "        348600.,  462000.,  516600.,  405300.,  919800.,  266700.,\n",
              "        455700.,  499800.,  627900.,  357000.,  665700.,  373800.,\n",
              "        867300.,  327600.,  327600.,  501900.,  151200.,  499800.,\n",
              "        726600.,  625800.,  835800.,  686700.,  338100.,  300300.,\n",
              "        499800.,  493500.,  569100.,  220500.,  226800.,  411600.,\n",
              "        478800.,  241500.,  655200.,  432600.,  441000.,  405300.,\n",
              "        462000.,  252000.,  495600.,  577500.,  512400.,  392700.,\n",
              "        279300.,  480900.,  497700.,  554400.,  399000.,  369600.,\n",
              "        315000.,  445200.,  585900.,  105000.,  388500.,  453600.,\n",
              "        312900.,  336000.,  315000.,  501900.,  323400.,  476700.,\n",
              "        382200.,  609000.,  390600.,  413700.,  426300.,  283500.,\n",
              "        445200.,  451500.,  527100.,  388500.,  449400.,  504000.,\n",
              "        732900.,  443100.,  550200.,  184800., 1018500.,  365400.,\n",
              "        443100.,  409500.,  789600.,  690900.,  457800.,  296100.,\n",
              "        348600.,  346500.,  176400.,  338100.,  344400.,  401100.,\n",
              "        697200.,  361200.,  411600.,  680400.,  732900.,  514500.,\n",
              "        453600.,  478800.,  289800.,  701400.,  508200.,  455700.,\n",
              "        298200.,  697200.,  422100.,  483000.,  588000.,  386400.,\n",
              "        247800.,  281400.,  783300.,  329700.,  184800.,  518700.,\n",
              "        441000.,  407400.,  155400.,  455700.,  812700.,  403200.,\n",
              "        306600.,  501900.,  275100.])"
            ]
          },
          "metadata": {},
          "execution_count": 54
        }
      ]
    },
    {
      "cell_type": "code",
      "metadata": {
        "id": "hBKuKJ8CDIWA",
        "colab": {
          "base_uri": "https://localhost:8080/"
        },
        "outputId": "22e1e9c4-dc4b-4657-bdb4-ad4bc02290cb"
      },
      "source": [
        "# Coeficiente de Determinação dados de teste\n",
        "reg_linear2.score(x_teste, y_teste)"
      ],
      "execution_count": null,
      "outputs": [
        {
          "output_type": "execute_result",
          "data": {
            "text/plain": [
              "0.6006038196307664"
            ]
          },
          "metadata": {},
          "execution_count": 55
        }
      ]
    },
    {
      "cell_type": "code",
      "metadata": {
        "id": "662tKSwpDIWB",
        "colab": {
          "base_uri": "https://localhost:8080/"
        },
        "outputId": "995f0c2a-f057-4215-bff8-786cb63696cd"
      },
      "source": [
        "plt.scatter(y=y_teste, x=x_teste, color='blue', s=10, alpha=0.9)\n",
        "X_plot = np.linspace(2, 35)\n",
        "plt.plot(X_plot, X_plot*reg_linear2.coef_ + reg_linear2.intercept_, color='r')\n",
        "plt.title('Reta de regressão')\n",
        "plt.ylabel('Valor Médio')\n",
        "plt.xlabel('Quantidade de Proprietários de Classe Média Baixa (%)')\n",
        "plt.show()"
      ],
      "execution_count": null,
      "outputs": [
        {
          "output_type": "display_data",
          "data": {
            "image/png": "[encoded data removed]",
            "text/plain": [
              "<Figure size 432x288 with 1 Axes>"
            ]
          },
          "metadata": {
            "needs_background": "light"
          }
        }
      ]
    },
    {
      "cell_type": "code",
      "source": [
        "# Fazendo previsões para valores distintos\n",
        "valor_casa = reg_linear2.predict([[25]])\n",
        "valor_casa"
      ],
      "metadata": {
        "id": "2q9VCdUONwFp",
        "colab": {
          "base_uri": "https://localhost:8080/"
        },
        "outputId": "8e56d798-20c1-47cc-c434-a9431a53352d"
      },
      "execution_count": null,
      "outputs": [
        {
          "output_type": "execute_result",
          "data": {
            "text/plain": [
              "array([250383.99247685])"
            ]
          },
          "metadata": {},
          "execution_count": 57
        }
      ]
    },
    {
      "cell_type": "markdown",
      "source": [
        "**Métricas de Desempenho**"
      ],
      "metadata": {
        "id": "UA65Y6G6DIWB"
      }
    },
    {
      "cell_type": "code",
      "metadata": {
        "id": "QV59JNCnDIWB",
        "colab": {
          "base_uri": "https://localhost:8080/"
        },
        "outputId": "0e8b5b22-b324-41c7-f0a0-667606b51442"
      },
      "source": [
        "# Erro absoluto\n",
        "abs(y_teste - previsoes_teste).mean()"
      ],
      "execution_count": null,
      "outputs": [
        {
          "output_type": "execute_result",
          "data": {
            "text/plain": [
              "76340.55192245146"
            ]
          },
          "metadata": {},
          "execution_count": 58
        }
      ]
    },
    {
      "cell_type": "code",
      "metadata": {
        "id": "MOv0MSHiDIWC"
      },
      "source": [
        "from sklearn.metrics import mean_absolute_error, mean_squared_error"
      ],
      "execution_count": null,
      "outputs": []
    },
    {
      "cell_type": "code",
      "metadata": {
        "id": "bc0dZQc7DIWC",
        "colab": {
          "base_uri": "https://localhost:8080/"
        },
        "outputId": "eb0d1a28-b350-4e38-e82e-af4dfc618842"
      },
      "source": [
        "# Erro médio Absoluto\n",
        "mean_absolute_error(y_teste, previsoes_teste)"
      ],
      "execution_count": null,
      "outputs": [
        {
          "output_type": "execute_result",
          "data": {
            "text/plain": [
              "76340.55192245146"
            ]
          },
          "metadata": {},
          "execution_count": 60
        }
      ]
    },
    {
      "cell_type": "code",
      "metadata": {
        "id": "-I9Zi-ZVDIWC",
        "colab": {
          "base_uri": "https://localhost:8080/"
        },
        "outputId": "fa3c1e66-9e34-4fc6-d340-742711a7b966"
      },
      "source": [
        "# Erro quadrático médio\n",
        "mean_squared_error(y_teste, previsoes_teste)"
      ],
      "execution_count": null,
      "outputs": [
        {
          "output_type": "execute_result",
          "data": {
            "text/plain": [
              "9863567949.634668"
            ]
          },
          "metadata": {},
          "execution_count": 61
        }
      ]
    },
    {
      "cell_type": "code",
      "metadata": {
        "id": "io-zNm8VDIWC",
        "colab": {
          "base_uri": "https://localhost:8080/"
        },
        "outputId": "c08245e4-0985-4995-ea9b-603b09c4cb94"
      },
      "source": [
        "# Raiz do erro quadrático médio (RMSE)\n",
        "np.sqrt(mean_squared_error(y_teste, previsoes_teste))"
      ],
      "execution_count": null,
      "outputs": [
        {
          "output_type": "execute_result",
          "data": {
            "text/plain": [
              "99315.49702657017"
            ]
          },
          "metadata": {},
          "execution_count": 62
        }
      ]
    },
    {
      "cell_type": "markdown",
      "source": [
        "### **Validação Cruzada**"
      ],
      "metadata": {
        "id": "BsXaKhiVIMGl"
      }
    },
    {
      "cell_type": "code",
      "source": [
        "from sklearn.model_selection import KFold\n",
        "from sklearn.model_selection import cross_val_score"
      ],
      "metadata": {
        "id": "lvBuy5bm_qok"
      },
      "execution_count": null,
      "outputs": []
    },
    {
      "cell_type": "code",
      "source": [
        "# Separando os dados em folds\n",
        "kfold = KFold(n_splits = 15, shuffle=True, random_state = 5)"
      ],
      "metadata": {
        "id": "SS_dyx4x_260"
      },
      "execution_count": null,
      "outputs": []
    },
    {
      "cell_type": "code",
      "source": [
        "# Criando o modelo\n",
        "from sklearn.linear_model import LinearRegression\n",
        "modelo = LinearRegression()\n",
        "resultado = cross_val_score(modelo, x2, y, cv = kfold)\n",
        "resultado"
      ],
      "metadata": {
        "id": "K0aqT7kPAf1L"
      },
      "execution_count": null,
      "outputs": []
    },
    {
      "cell_type": "code",
      "source": [
        "# Usamos a média e o desvio padrão\n",
        "print(\"Coef. determinação Médio: %.2f%%\" % (resultado.mean() * 100.0))"
      ],
      "metadata": {
        "id": "3Lq7dW7ALUqE"
      },
      "execution_count": null,
      "outputs": []
    },
    {
      "cell_type": "markdown",
      "metadata": {
        "id": "cmeit_na_AzG"
      },
      "source": [
        "### **Avaliando a Regressão Linear Simples com Statsmodels**"
      ]
    },
    {
      "cell_type": "code",
      "metadata": {
        "id": "zFuMSGRTG0Nd"
      },
      "source": [
        "import statsmodels.formula.api as smf"
      ],
      "execution_count": null,
      "outputs": []
    },
    {
      "cell_type": "code",
      "source": [
        "import matplotlib.pyplot as plt"
      ],
      "metadata": {
        "id": "fY7Z7YIHg5R8"
      },
      "execution_count": null,
      "outputs": []
    },
    {
      "cell_type": "code",
      "source": [
        "df.head(2)"
      ],
      "metadata": {
        "colab": {
          "base_uri": "https://localhost:8080/",
          "height": 112
        },
        "outputId": "cdbff437-dc06-4575-f2da-011c3b69b3b5",
        "id": "fwLCyuyifojJ"
      },
      "execution_count": null,
      "outputs": [
        {
          "output_type": "execute_result",
          "data": {
            "text/html": [
              "\n",
              "  <div id=\"df-ee17cb64-5850-4663-9ed3-03340ee232fd\">\n",
              "    <div class=\"colab-df-container\">\n",
              "      <div>\n",
              "<style scoped>\n",
              "    .dataframe tbody tr th:only-of-type {\n",
              "        vertical-align: middle;\n",
              "    }\n",
              "\n",
              "    .dataframe tbody tr th {\n",
              "        vertical-align: top;\n",
              "    }\n",
              "\n",
              "    .dataframe thead th {\n",
              "        text-align: right;\n",
              "    }\n",
              "</style>\n",
              "<table border=\"1\" class=\"dataframe\">\n",
              "  <thead>\n",
              "    <tr style=\"text-align: right;\">\n",
              "      <th></th>\n",
              "      <th>RM</th>\n",
              "      <th>LSTAT</th>\n",
              "      <th>PTRATIO</th>\n",
              "      <th>MEDV</th>\n",
              "    </tr>\n",
              "  </thead>\n",
              "  <tbody>\n",
              "    <tr>\n",
              "      <th>0</th>\n",
              "      <td>6.575</td>\n",
              "      <td>4.98</td>\n",
              "      <td>15.3</td>\n",
              "      <td>504000.0</td>\n",
              "    </tr>\n",
              "    <tr>\n",
              "      <th>1</th>\n",
              "      <td>6.421</td>\n",
              "      <td>9.14</td>\n",
              "      <td>17.8</td>\n",
              "      <td>453600.0</td>\n",
              "    </tr>\n",
              "  </tbody>\n",
              "</table>\n",
              "</div>\n",
              "      <button class=\"colab-df-convert\" onclick=\"convertToInteractive('df-ee17cb64-5850-4663-9ed3-03340ee232fd')\"\n",
              "              title=\"Convert this dataframe to an interactive table.\"\n",
              "              style=\"display:none;\">\n",
              "        \n",
              "  <svg xmlns=\"http://www.w3.org/2000/svg\" height=\"24px\"viewBox=\"0 0 24 24\"\n",
              "       width=\"24px\">\n",
              "    <path d=\"M0 0h24v24H0V0z\" fill=\"none\"/>\n",
              "    <path d=\"M18.56 5.44l.94 2.06.94-2.06 2.06-.94-2.06-.94-.94-2.06-.94 2.06-2.06.94zm-11 1L8.5 8.5l.94-2.06 2.06-.94-2.06-.94L8.5 2.5l-.94 2.06-2.06.94zm10 10l.94 2.06.94-2.06 2.06-.94-2.06-.94-.94-2.06-.94 2.06-2.06.94z\"/><path d=\"M17.41 7.96l-1.37-1.37c-.4-.4-.92-.59-1.43-.59-.52 0-1.04.2-1.43.59L10.3 9.45l-7.72 7.72c-.78.78-.78 2.05 0 2.83L4 21.41c.39.39.9.59 1.41.59.51 0 1.02-.2 1.41-.59l7.78-7.78 2.81-2.81c.8-.78.8-2.07 0-2.86zM5.41 20L4 18.59l7.72-7.72 1.47 1.35L5.41 20z\"/>\n",
              "  </svg>\n",
              "      </button>\n",
              "      \n",
              "  <style>\n",
              "    .colab-df-container {\n",
              "      display:flex;\n",
              "      flex-wrap:wrap;\n",
              "      gap: 12px;\n",
              "    }\n",
              "\n",
              "    .colab-df-convert {\n",
              "      background-color: #E8F0FE;\n",
              "      border: none;\n",
              "      border-radius: 50%;\n",
              "      cursor: pointer;\n",
              "      display: none;\n",
              "      fill: #1967D2;\n",
              "      height: 32px;\n",
              "      padding: 0 0 0 0;\n",
              "      width: 32px;\n",
              "    }\n",
              "\n",
              "    .colab-df-convert:hover {\n",
              "      background-color: #E2EBFA;\n",
              "      box-shadow: 0px 1px 2px rgba(60, 64, 67, 0.3), 0px 1px 3px 1px rgba(60, 64, 67, 0.15);\n",
              "      fill: #174EA6;\n",
              "    }\n",
              "\n",
              "    [theme=dark] .colab-df-convert {\n",
              "      background-color: #3B4455;\n",
              "      fill: #D2E3FC;\n",
              "    }\n",
              "\n",
              "    [theme=dark] .colab-df-convert:hover {\n",
              "      background-color: #434B5C;\n",
              "      box-shadow: 0px 1px 3px 1px rgba(0, 0, 0, 0.15);\n",
              "      filter: drop-shadow(0px 1px 2px rgba(0, 0, 0, 0.3));\n",
              "      fill: #FFFFFF;\n",
              "    }\n",
              "  </style>\n",
              "\n",
              "      <script>\n",
              "        const buttonEl =\n",
              "          document.querySelector('#df-ee17cb64-5850-4663-9ed3-03340ee232fd button.colab-df-convert');\n",
              "        buttonEl.style.display =\n",
              "          google.colab.kernel.accessAllowed ? 'block' : 'none';\n",
              "\n",
              "        async function convertToInteractive(key) {\n",
              "          const element = document.querySelector('#df-ee17cb64-5850-4663-9ed3-03340ee232fd');\n",
              "          const dataTable =\n",
              "            await google.colab.kernel.invokeFunction('convertToInteractive',\n",
              "                                                     [key], {});\n",
              "          if (!dataTable) return;\n",
              "\n",
              "          const docLinkHtml = 'Like what you see? Visit the ' +\n",
              "            '<a target=\"_blank\" href=https://colab.research.google.com/notebooks/data_table.ipynb>data table notebook</a>'\n",
              "            + ' to learn more about interactive tables.';\n",
              "          element.innerHTML = '';\n",
              "          dataTable['output_type'] = 'display_data';\n",
              "          await google.colab.output.renderOutput(dataTable, element);\n",
              "          const docLink = document.createElement('div');\n",
              "          docLink.innerHTML = docLinkHtml;\n",
              "          element.appendChild(docLink);\n",
              "        }\n",
              "      </script>\n",
              "    </div>\n",
              "  </div>\n",
              "  "
            ],
            "text/plain": [
              "      RM  LSTAT  PTRATIO      MEDV\n",
              "0  6.575   4.98     15.3  504000.0\n",
              "1  6.421   9.14     17.8  453600.0"
            ]
          },
          "metadata": {},
          "execution_count": 65
        }
      ]
    },
    {
      "cell_type": "code",
      "metadata": {
        "id": "Vn6yVWUhfojL"
      },
      "source": [
        "x2 = df.iloc[:,1:2].values\n",
        "x2"
      ],
      "execution_count": null,
      "outputs": []
    },
    {
      "cell_type": "code",
      "metadata": {
        "id": "Mo5qURSWfojM"
      },
      "source": [
        "y = df.iloc[:, 3].values\n",
        "y"
      ],
      "execution_count": null,
      "outputs": []
    },
    {
      "cell_type": "code",
      "metadata": {
        "id": "MeznMmquUZk9"
      },
      "source": [
        "# Criação do modelo\n",
        "regressao = smf.ols('y ~ x2', data = df).fit()"
      ],
      "execution_count": null,
      "outputs": []
    },
    {
      "cell_type": "code",
      "metadata": {
        "id": "9xsQx4tSJ4qs"
      },
      "source": [
        "residuos = regressao.resid\n",
        "residuos"
      ],
      "execution_count": null,
      "outputs": []
    },
    {
      "cell_type": "markdown",
      "metadata": {
        "id": "eAHuUe4jbiP7"
      },
      "source": [
        "#### Teste de Normalidade dos resíduos"
      ]
    },
    {
      "cell_type": "markdown",
      "metadata": {
        "id": "Kwk129HhZNtv"
      },
      "source": [
        "Ho = distribuição normal : p > 0.05\n",
        "\n",
        "Ha = distribuição != normal : p <= 0.05"
      ]
    },
    {
      "cell_type": "code",
      "metadata": {
        "id": "krlGYS1ZbdqO",
        "colab": {
          "base_uri": "https://localhost:8080/"
        },
        "outputId": "848e3393-07ff-4669-f7e5-06de55bab7c8"
      },
      "source": [
        "estatistica, p = stats.shapiro(residuos)\n",
        "print('Estatística de teste: {}'.format(estatistica))\n",
        "print('p-valor: {}'.format(p))"
      ],
      "execution_count": null,
      "outputs": [
        {
          "output_type": "stream",
          "name": "stdout",
          "text": [
            "Estatística de teste: 0.9171054363250732\n",
            "p-valor: 9.782326333115975e-16\n"
          ]
        }
      ]
    },
    {
      "cell_type": "code",
      "source": [
        "import scipy.stats as stats"
      ],
      "metadata": {
        "id": "qEV7aokVhRTa"
      },
      "execution_count": null,
      "outputs": []
    },
    {
      "cell_type": "code",
      "metadata": {
        "id": "Kt8lZ51mcSec",
        "colab": {
          "base_uri": "https://localhost:8080/",
          "height": 295
        },
        "outputId": "01d15d7d-baf3-4434-a6d9-0759e3fd69f0"
      },
      "source": [
        "stats.probplot(residuos, dist=\"norm\", plot=plt)\n",
        "plt.title(\"Normal Q-Q plot - Resíduos\")\n",
        "plt.show()"
      ],
      "execution_count": null,
      "outputs": [
        {
          "output_type": "display_data",
          "data": {
            "image/png": "[encoded data removed]",
            "text/plain": [
              "<Figure size 432x288 with 1 Axes>"
            ]
          },
          "metadata": {
            "needs_background": "light"
          }
        }
      ]
    },
    {
      "cell_type": "markdown",
      "metadata": {
        "id": "xVnnlrFqr2ws"
      },
      "source": [
        "#### Análise da Homocedasticidade dos resíduos\n",
        "(resíduos com variação constante)"
      ]
    },
    {
      "cell_type": "code",
      "metadata": {
        "id": "z8aZ9dArocJ4",
        "colab": {
          "base_uri": "https://localhost:8080/",
          "height": 279
        },
        "outputId": "baa64ba5-6fb5-4c41-bb56-5f09e9c88034"
      },
      "source": [
        "plt.scatter(y=residuos, x=regressao.predict(), color='red')\n",
        "plt.hlines(y=0, xmin=0, xmax=700000, color='orange')\n",
        "plt.ylabel('Resíduos')\n",
        "plt.xlabel('Valores Preditos')\n",
        "plt.show()"
      ],
      "execution_count": null,
      "outputs": [
        {
          "output_type": "display_data",
          "data": {
            "image/png": "[encoded data removed]",
            "text/plain": [
              "<Figure size 432x288 with 1 Axes>"
            ]
          },
          "metadata": {
            "needs_background": "light"
          }
        }
      ]
    },
    {
      "cell_type": "markdown",
      "metadata": {
        "id": "9zkKh9XQcZrJ"
      },
      "source": [
        "Teste Breusch-Pagan (Homocedasticidade ou heterocedasticidade)"
      ]
    },
    {
      "cell_type": "markdown",
      "metadata": {
        "id": "74rj-ZfvcYYO"
      },
      "source": [
        "Ho = existe homocedasticidade : p > 0.05\n",
        "\n",
        "Ha = não existe homocedasticidade : p <= 0.05"
      ]
    },
    {
      "cell_type": "code",
      "metadata": {
        "id": "2RScGd9LYt83"
      },
      "source": [
        "from statsmodels.compat import lzip\n",
        "import statsmodels.stats.api as sms"
      ],
      "execution_count": null,
      "outputs": []
    },
    {
      "cell_type": "code",
      "metadata": {
        "id": "Q7dLJFtoYuHS",
        "colab": {
          "base_uri": "https://localhost:8080/"
        },
        "outputId": "35ac04dd-3f0e-44b3-83cc-7a05d5e0acbd"
      },
      "source": [
        "estatistica, p, f, fp = sms.het_breuschpagan (regressao.resid, regressao.model.exog)\n",
        "print('Estatística de teste: {}'.format(estatistica))\n",
        "print('p-valor: {}'.format(p))\n",
        "print('f-valor: {}'.format(f))\n",
        "print('f_p-valor: {}'.format(fp))"
      ],
      "execution_count": null,
      "outputs": [
        {
          "output_type": "stream",
          "name": "stdout",
          "text": [
            "Estatística de teste: 5.3825533640267285\n",
            "p-valor: 0.020339089399132346\n",
            "f-valor: 5.420200421872106\n",
            "f_p-valor: 0.020313692181464678\n"
          ]
        }
      ]
    },
    {
      "cell_type": "markdown",
      "metadata": {
        "id": "SX_KI2zSgLyz"
      },
      "source": [
        "#### **Outliers nos resíduos**"
      ]
    },
    {
      "cell_type": "markdown",
      "metadata": {
        "id": "GZ6ZdkvbgghP"
      },
      "source": [
        "(Entre -3 e 3)"
      ]
    },
    {
      "cell_type": "code",
      "metadata": {
        "id": "-ngGQAjbYuSZ"
      },
      "source": [
        "outliers = regressao.outlier_test()"
      ],
      "execution_count": null,
      "outputs": []
    },
    {
      "cell_type": "code",
      "metadata": {
        "id": "CcDEfP_MdgFS",
        "colab": {
          "base_uri": "https://localhost:8080/"
        },
        "outputId": "1e0fcc86-b640-4429-978e-729161ef08d2"
      },
      "source": [
        "outliers.max()"
      ],
      "execution_count": null,
      "outputs": [
        {
          "output_type": "execute_result",
          "data": {
            "text/plain": [
              "student_resid    4.227468\n",
              "unadj_p          0.999732\n",
              "bonf(p)          1.000000\n",
              "dtype: float64"
            ]
          },
          "metadata": {},
          "execution_count": 78
        }
      ]
    },
    {
      "cell_type": "code",
      "metadata": {
        "id": "Vd7oXnZ8dgIm",
        "colab": {
          "base_uri": "https://localhost:8080/"
        },
        "outputId": "4428692c-b666-40e7-dd0a-49713e8a902e"
      },
      "source": [
        "outliers.min()"
      ],
      "execution_count": null,
      "outputs": [
        {
          "output_type": "execute_result",
          "data": {
            "text/plain": [
              "student_resid   -2.762057\n",
              "unadj_p          0.000028\n",
              "bonf(p)          0.013809\n",
              "dtype: float64"
            ]
          },
          "metadata": {},
          "execution_count": 79
        }
      ]
    },
    {
      "cell_type": "markdown",
      "metadata": {
        "id": "cPABWbxog7WL"
      },
      "source": [
        "**Modelo não consistente**"
      ]
    },
    {
      "cell_type": "markdown",
      "metadata": {
        "id": "1syQSo9GnbJN"
      },
      "source": [
        "#### **Modelo de Regressão Linear**"
      ]
    },
    {
      "cell_type": "code",
      "metadata": {
        "id": "a6NEb27IdgNR",
        "colab": {
          "base_uri": "https://localhost:8080/"
        },
        "outputId": "98dd45ff-1f82-46d4-c387-da8116a523a1"
      },
      "source": [
        "print(regressao.summary())"
      ],
      "execution_count": null,
      "outputs": [
        {
          "output_type": "stream",
          "name": "stdout",
          "text": [
            "                            OLS Regression Results                            \n",
            "==============================================================================\n",
            "Dep. Variable:                      y   R-squared:                       0.579\n",
            "Model:                            OLS   Adj. R-squared:                  0.578\n",
            "Method:                 Least Squares   F-statistic:                     668.7\n",
            "Date:                Thu, 24 Feb 2022   Prob (F-statistic):           1.93e-93\n",
            "Time:                        22:39:16   Log-Likelihood:                -6357.8\n",
            "No. Observations:                 489   AIC:                         1.272e+04\n",
            "Df Residuals:                     487   BIC:                         1.273e+04\n",
            "Df Model:                           1                                         \n",
            "Covariance Type:            nonrobust                                         \n",
            "==============================================================================\n",
            "                 coef    std err          t      P>|t|      [0.025      0.975]\n",
            "------------------------------------------------------------------------------\n",
            "Intercept   6.841e+05   1.01e+04     67.551      0.000    6.64e+05    7.04e+05\n",
            "x2         -1.776e+04    686.746    -25.860      0.000   -1.91e+04   -1.64e+04\n",
            "==============================================================================\n",
            "Omnibus:                      105.652   Durbin-Watson:                   1.006\n",
            "Prob(Omnibus):                  0.000   Jarque-Bera (JB):              198.227\n",
            "Skew:                           1.217   Prob(JB):                     9.03e-44\n",
            "Kurtosis:                       4.950   Cond. No.                         30.9\n",
            "==============================================================================\n",
            "\n",
            "Warnings:\n",
            "[1] Standard Errors assume that the covariance matrix of the errors is correctly specified.\n"
          ]
        }
      ]
    },
    {
      "cell_type": "markdown",
      "metadata": {
        "id": "-ntti1sDhA48"
      },
      "source": [
        "Estatística t:\n",
        "\n",
        "Ho = coeficiente igual a zero : p > 0,05 (coeficiente não validado)\n",
        "\n",
        "Ha = coeficiente diferente de zero: p <= 0,05 (coeficiente validado)\n",
        "\n",
        "**R^2 ajustado = 0,578**"
      ]
    },
    {
      "cell_type": "code",
      "metadata": {
        "id": "yJxpCoC6OBiY",
        "colab": {
          "base_uri": "https://localhost:8080/"
        },
        "outputId": "19c77879-b4ac-4285-c788-8183ae475ab9"
      },
      "source": [
        "coefs = pd.DataFrame(regressao.params)\n",
        "coefs.columns = ['Coeficientes']\n",
        "print(coefs)"
      ],
      "execution_count": null,
      "outputs": [
        {
          "output_type": "stream",
          "name": "stdout",
          "text": [
            "            Coeficientes\n",
            "Intercept  684138.493068\n",
            "x2         -17759.048327\n"
          ]
        }
      ]
    },
    {
      "cell_type": "markdown",
      "source": [
        "**Equação: Valor = 684138,49 - 17759.04.LSTAT**"
      ],
      "metadata": {
        "id": "8zMvIckHeOJ7"
      }
    },
    {
      "cell_type": "code",
      "metadata": {
        "colab": {
          "base_uri": "https://localhost:8080/"
        },
        "id": "oMBIK34smkWB",
        "outputId": "97ed3bff-ada1-4735-8465-cdb12ab533a0"
      },
      "source": [
        "regressao.params"
      ],
      "execution_count": null,
      "outputs": [
        {
          "output_type": "execute_result",
          "data": {
            "text/plain": [
              "Intercept    684138.493068\n",
              "x2           -17759.048327\n",
              "dtype: float64"
            ]
          },
          "metadata": {},
          "execution_count": 82
        }
      ]
    },
    {
      "cell_type": "code",
      "metadata": {
        "id": "LU2iScJE-AkM",
        "colab": {
          "base_uri": "https://localhost:8080/",
          "height": 206
        },
        "outputId": "3fe3cfa1-b3df-4181-8da0-1327f3c6d3cf"
      },
      "source": [
        "df.head()"
      ],
      "execution_count": null,
      "outputs": [
        {
          "output_type": "execute_result",
          "data": {
            "text/html": [
              "\n",
              "  <div id=\"df-0949dd96-d654-4fbc-a748-7f7283e170b1\">\n",
              "    <div class=\"colab-df-container\">\n",
              "      <div>\n",
              "<style scoped>\n",
              "    .dataframe tbody tr th:only-of-type {\n",
              "        vertical-align: middle;\n",
              "    }\n",
              "\n",
              "    .dataframe tbody tr th {\n",
              "        vertical-align: top;\n",
              "    }\n",
              "\n",
              "    .dataframe thead th {\n",
              "        text-align: right;\n",
              "    }\n",
              "</style>\n",
              "<table border=\"1\" class=\"dataframe\">\n",
              "  <thead>\n",
              "    <tr style=\"text-align: right;\">\n",
              "      <th></th>\n",
              "      <th>RM</th>\n",
              "      <th>LSTAT</th>\n",
              "      <th>PTRATIO</th>\n",
              "      <th>MEDV</th>\n",
              "    </tr>\n",
              "  </thead>\n",
              "  <tbody>\n",
              "    <tr>\n",
              "      <th>0</th>\n",
              "      <td>6.575</td>\n",
              "      <td>4.98</td>\n",
              "      <td>15.3</td>\n",
              "      <td>504000.0</td>\n",
              "    </tr>\n",
              "    <tr>\n",
              "      <th>1</th>\n",
              "      <td>6.421</td>\n",
              "      <td>9.14</td>\n",
              "      <td>17.8</td>\n",
              "      <td>453600.0</td>\n",
              "    </tr>\n",
              "    <tr>\n",
              "      <th>2</th>\n",
              "      <td>7.185</td>\n",
              "      <td>4.03</td>\n",
              "      <td>17.8</td>\n",
              "      <td>728700.0</td>\n",
              "    </tr>\n",
              "    <tr>\n",
              "      <th>3</th>\n",
              "      <td>6.998</td>\n",
              "      <td>2.94</td>\n",
              "      <td>18.7</td>\n",
              "      <td>701400.0</td>\n",
              "    </tr>\n",
              "    <tr>\n",
              "      <th>4</th>\n",
              "      <td>7.147</td>\n",
              "      <td>5.33</td>\n",
              "      <td>18.7</td>\n",
              "      <td>760200.0</td>\n",
              "    </tr>\n",
              "  </tbody>\n",
              "</table>\n",
              "</div>\n",
              "      <button class=\"colab-df-convert\" onclick=\"convertToInteractive('df-0949dd96-d654-4fbc-a748-7f7283e170b1')\"\n",
              "              title=\"Convert this dataframe to an interactive table.\"\n",
              "              style=\"display:none;\">\n",
              "        \n",
              "  <svg xmlns=\"http://www.w3.org/2000/svg\" height=\"24px\"viewBox=\"0 0 24 24\"\n",
              "       width=\"24px\">\n",
              "    <path d=\"M0 0h24v24H0V0z\" fill=\"none\"/>\n",
              "    <path d=\"M18.56 5.44l.94 2.06.94-2.06 2.06-.94-2.06-.94-.94-2.06-.94 2.06-2.06.94zm-11 1L8.5 8.5l.94-2.06 2.06-.94-2.06-.94L8.5 2.5l-.94 2.06-2.06.94zm10 10l.94 2.06.94-2.06 2.06-.94-2.06-.94-.94-2.06-.94 2.06-2.06.94z\"/><path d=\"M17.41 7.96l-1.37-1.37c-.4-.4-.92-.59-1.43-.59-.52 0-1.04.2-1.43.59L10.3 9.45l-7.72 7.72c-.78.78-.78 2.05 0 2.83L4 21.41c.39.39.9.59 1.41.59.51 0 1.02-.2 1.41-.59l7.78-7.78 2.81-2.81c.8-.78.8-2.07 0-2.86zM5.41 20L4 18.59l7.72-7.72 1.47 1.35L5.41 20z\"/>\n",
              "  </svg>\n",
              "      </button>\n",
              "      \n",
              "  <style>\n",
              "    .colab-df-container {\n",
              "      display:flex;\n",
              "      flex-wrap:wrap;\n",
              "      gap: 12px;\n",
              "    }\n",
              "\n",
              "    .colab-df-convert {\n",
              "      background-color: #E8F0FE;\n",
              "      border: none;\n",
              "      border-radius: 50%;\n",
              "      cursor: pointer;\n",
              "      display: none;\n",
              "      fill: #1967D2;\n",
              "      height: 32px;\n",
              "      padding: 0 0 0 0;\n",
              "      width: 32px;\n",
              "    }\n",
              "\n",
              "    .colab-df-convert:hover {\n",
              "      background-color: #E2EBFA;\n",
              "      box-shadow: 0px 1px 2px rgba(60, 64, 67, 0.3), 0px 1px 3px 1px rgba(60, 64, 67, 0.15);\n",
              "      fill: #174EA6;\n",
              "    }\n",
              "\n",
              "    [theme=dark] .colab-df-convert {\n",
              "      background-color: #3B4455;\n",
              "      fill: #D2E3FC;\n",
              "    }\n",
              "\n",
              "    [theme=dark] .colab-df-convert:hover {\n",
              "      background-color: #434B5C;\n",
              "      box-shadow: 0px 1px 3px 1px rgba(0, 0, 0, 0.15);\n",
              "      filter: drop-shadow(0px 1px 2px rgba(0, 0, 0, 0.3));\n",
              "      fill: #FFFFFF;\n",
              "    }\n",
              "  </style>\n",
              "\n",
              "      <script>\n",
              "        const buttonEl =\n",
              "          document.querySelector('#df-0949dd96-d654-4fbc-a748-7f7283e170b1 button.colab-df-convert');\n",
              "        buttonEl.style.display =\n",
              "          google.colab.kernel.accessAllowed ? 'block' : 'none';\n",
              "\n",
              "        async function convertToInteractive(key) {\n",
              "          const element = document.querySelector('#df-0949dd96-d654-4fbc-a748-7f7283e170b1');\n",
              "          const dataTable =\n",
              "            await google.colab.kernel.invokeFunction('convertToInteractive',\n",
              "                                                     [key], {});\n",
              "          if (!dataTable) return;\n",
              "\n",
              "          const docLinkHtml = 'Like what you see? Visit the ' +\n",
              "            '<a target=\"_blank\" href=https://colab.research.google.com/notebooks/data_table.ipynb>data table notebook</a>'\n",
              "            + ' to learn more about interactive tables.';\n",
              "          element.innerHTML = '';\n",
              "          dataTable['output_type'] = 'display_data';\n",
              "          await google.colab.output.renderOutput(dataTable, element);\n",
              "          const docLink = document.createElement('div');\n",
              "          docLink.innerHTML = docLinkHtml;\n",
              "          element.appendChild(docLink);\n",
              "        }\n",
              "      </script>\n",
              "    </div>\n",
              "  </div>\n",
              "  "
            ],
            "text/plain": [
              "      RM  LSTAT  PTRATIO      MEDV\n",
              "0  6.575   4.98     15.3  504000.0\n",
              "1  6.421   9.14     17.8  453600.0\n",
              "2  7.185   4.03     17.8  728700.0\n",
              "3  6.998   2.94     18.7  701400.0\n",
              "4  7.147   5.33     18.7  760200.0"
            ]
          },
          "metadata": {},
          "execution_count": 83
        }
      ]
    },
    {
      "cell_type": "code",
      "metadata": {
        "id": "C4bUw8iijUGO"
      },
      "source": [
        "regressao.predict()"
      ],
      "execution_count": null,
      "outputs": []
    },
    {
      "cell_type": "code",
      "metadata": {
        "id": "Jj_wMPXyR9g8",
        "colab": {
          "base_uri": "https://localhost:8080/",
          "height": 295
        },
        "outputId": "2b66d3cb-afec-4151-ccec-2a0434605db6"
      },
      "source": [
        "plt.scatter(y=df.MEDV, x=df.LSTAT, color='blue', s=30, alpha=0.9)\n",
        "X_plot = np.linspace(0, 40)\n",
        "plt.plot(X_plot, X_plot*regressao.params[1] + regressao.params[0], color='r')\n",
        "plt.title('Reta de regressão')\n",
        "plt.ylabel('Valor da Casa')\n",
        "plt.xlabel('LSTAT')\n",
        "plt.show()"
      ],
      "execution_count": null,
      "outputs": [
        {
          "output_type": "display_data",
          "data": {
            "image/png": "[encoded data removed]",
            "text/plain": [
              "<Figure size 432x288 with 1 Axes>"
            ]
          },
          "metadata": {
            "needs_background": "light"
          }
        }
      ]
    },
    {
      "cell_type": "markdown",
      "source": [
        "## **REGRESSÃO LINEAR MÚLTIPLA**"
      ],
      "metadata": {
        "id": "LmzsbeX5w0lY"
      }
    },
    {
      "cell_type": "code",
      "metadata": {
        "id": "kgYpMcLwkZUE"
      },
      "source": [
        "from sklearn.linear_model import LinearRegression"
      ],
      "execution_count": null,
      "outputs": []
    },
    {
      "cell_type": "code",
      "source": [
        "df.head(2)"
      ],
      "metadata": {
        "id": "f1nrMVmEyqIC"
      },
      "execution_count": null,
      "outputs": []
    },
    {
      "cell_type": "code",
      "metadata": {
        "id": "aX8qGculivhJ"
      },
      "source": [
        "independente = df.iloc[:, 0:3].values\n",
        "independente"
      ],
      "execution_count": null,
      "outputs": []
    },
    {
      "cell_type": "code",
      "source": [
        "independente.shape"
      ],
      "metadata": {
        "id": "M7xlISgSzDMG"
      },
      "execution_count": null,
      "outputs": []
    },
    {
      "cell_type": "code",
      "metadata": {
        "id": "Qqq3fnIvjP3R"
      },
      "source": [
        "dependente = df.iloc[:, 3].values\n",
        "dependente"
      ],
      "execution_count": null,
      "outputs": []
    },
    {
      "cell_type": "code",
      "metadata": {
        "id": "a4AKtgVd9h02"
      },
      "source": [
        "from sklearn.model_selection import train_test_split\n",
        "x_treino, x_teste, y_treino, y_teste = train_test_split(independente, dependente, test_size = 0.3, random_state = 0)"
      ],
      "execution_count": null,
      "outputs": []
    },
    {
      "cell_type": "code",
      "metadata": {
        "id": "9fw4GK5g9kkj"
      },
      "source": [
        "x_treino.shape, x_teste.shape"
      ],
      "execution_count": null,
      "outputs": []
    },
    {
      "cell_type": "code",
      "metadata": {
        "id": "WUP3-e_okhcd"
      },
      "source": [
        "multipla = LinearRegression()\n",
        "multipla.fit(x_treino, y_treino)"
      ],
      "execution_count": null,
      "outputs": []
    },
    {
      "cell_type": "code",
      "metadata": {
        "id": "wTgjt31Ep3NI"
      },
      "source": [
        "multipla.intercept_"
      ],
      "execution_count": null,
      "outputs": []
    },
    {
      "cell_type": "code",
      "metadata": {
        "id": "9BgX7VTMuv1q"
      },
      "source": [
        "multipla.coef_"
      ],
      "execution_count": null,
      "outputs": []
    },
    {
      "cell_type": "code",
      "metadata": {
        "id": "8nn9ATOblAPt"
      },
      "source": [
        "print(\"Equação: Valor = {:.2f} + ({:.2f})*RM + ({:.2f})*LSTAT + ({:.2f})*PTRATIO\".format(multipla.intercept_, multipla.coef_[0], multipla.coef_[1], multipla.coef_[2]))"
      ],
      "execution_count": null,
      "outputs": []
    },
    {
      "cell_type": "code",
      "metadata": {
        "id": "4n_LXotMoJpM"
      },
      "source": [
        "# Coeficiente de Determinação\n",
        "multipla.score(x_treino, y_treino)"
      ],
      "execution_count": null,
      "outputs": []
    },
    {
      "cell_type": "markdown",
      "source": [
        "**TESTE**"
      ],
      "metadata": {
        "id": "FWKwy4jE18as"
      }
    },
    {
      "cell_type": "code",
      "source": [
        "previsoes = multipla.predict(x_teste)\n",
        "previsoes"
      ],
      "metadata": {
        "id": "vS3xum5A1-Hw"
      },
      "execution_count": null,
      "outputs": []
    },
    {
      "cell_type": "code",
      "source": [
        "y_teste"
      ],
      "metadata": {
        "id": "Ii_5SXfv2IWa"
      },
      "execution_count": null,
      "outputs": []
    },
    {
      "cell_type": "code",
      "source": [
        "# Coeficiente de Determinação\n",
        "multipla.score(x_teste, y_teste)"
      ],
      "metadata": {
        "id": "uyGfU-jg5n5A"
      },
      "execution_count": null,
      "outputs": []
    },
    {
      "cell_type": "code",
      "source": [
        "# Fazendo previsões para valores distintos\n",
        "valor_casa = multipla.predict([[6,20,12]])\n",
        "valor_casa"
      ],
      "metadata": {
        "id": "FS1Jm81s7E1t"
      },
      "execution_count": null,
      "outputs": []
    },
    {
      "cell_type": "markdown",
      "source": [
        "**MÉTRICAS**"
      ],
      "metadata": {
        "id": "sSpkaLa65QBw"
      }
    },
    {
      "cell_type": "code",
      "metadata": {
        "id": "VzYBRKey3Gx3"
      },
      "source": [
        "# Erro absoluto\n",
        "abs(y_teste - previsoes).mean()"
      ],
      "execution_count": null,
      "outputs": []
    },
    {
      "cell_type": "code",
      "metadata": {
        "id": "Xe7D9X8T3Gx4"
      },
      "source": [
        "from sklearn.metrics import mean_absolute_error, mean_squared_error"
      ],
      "execution_count": null,
      "outputs": []
    },
    {
      "cell_type": "code",
      "metadata": {
        "id": "IDgsagJZ3Gx4"
      },
      "source": [
        "# Erro médio Absoluto\n",
        "mean_absolute_error(y_teste, previsoes)"
      ],
      "execution_count": null,
      "outputs": []
    },
    {
      "cell_type": "code",
      "metadata": {
        "id": "9Ji4rWpd3Gx5"
      },
      "source": [
        "# Erro quadrático médio\n",
        "mean_squared_error(y_teste, previsoes)"
      ],
      "execution_count": null,
      "outputs": []
    },
    {
      "cell_type": "code",
      "metadata": {
        "id": "T28f1ngx3Gx5"
      },
      "source": [
        "# Raiz do erro quadrático médio\n",
        "np.sqrt(mean_squared_error(y_teste, previsoes))"
      ],
      "execution_count": null,
      "outputs": []
    },
    {
      "cell_type": "markdown",
      "source": [
        "### **Validação Cruzada**"
      ],
      "metadata": {
        "id": "gGC6-Oz98SHi"
      }
    },
    {
      "cell_type": "code",
      "source": [
        "from sklearn.model_selection import KFold\n",
        "from sklearn.model_selection import cross_val_score"
      ],
      "metadata": {
        "id": "a-BNcrFK8SHj"
      },
      "execution_count": null,
      "outputs": []
    },
    {
      "cell_type": "code",
      "source": [
        "# Separando os dados em folds\n",
        "kfold = KFold(n_splits = 15, shuffle=True, random_state = 5)"
      ],
      "metadata": {
        "id": "ajx802o98SHk"
      },
      "execution_count": null,
      "outputs": []
    },
    {
      "cell_type": "code",
      "source": [
        "# Criando o modelo\n",
        "from sklearn.linear_model import LinearRegression\n",
        "modelo = LinearRegression()\n",
        "resultado = cross_val_score(modelo, independente, dependente, cv = kfold)\n",
        "resultado"
      ],
      "metadata": {
        "id": "pHsOTmgU8SHl"
      },
      "execution_count": null,
      "outputs": []
    },
    {
      "cell_type": "code",
      "source": [
        "# Usamos a média e o desvio padrão\n",
        "print(\"Coeficiente de Determinação Médio: %.2f%%\" % (resultado.mean() * 100.0))"
      ],
      "metadata": {
        "id": "RdlkoLV38SHl"
      },
      "execution_count": null,
      "outputs": []
    },
    {
      "cell_type": "markdown",
      "source": [
        "**REGRESSÃO LINEAR SIMPLES:** R^2 = 0,57/0,60; RMSE = 99315,5; R^2 Validação Cruzada: 55,97%\n",
        "\n",
        "**REGRESSÃO LINEAR MÚLTIPLA:** R^2 = 0,73/0,68; RMSE = 96087,3; R^2 Validação Cruzada: 69,25%"
      ],
      "metadata": {
        "id": "WTK4cOLq93Uh"
      }
    },
    {
      "cell_type": "markdown",
      "source": [
        "### **Avaliando a Regressão Linear Múltipla com Statsmodels**"
      ],
      "metadata": {
        "id": "PCqEHnjrbVXe"
      }
    },
    {
      "cell_type": "code",
      "metadata": {
        "id": "33t6bYgdy7LC"
      },
      "source": [
        "import statsmodels.formula.api as smf\n",
        "import statsmodels.stats.api as sms"
      ],
      "execution_count": null,
      "outputs": []
    },
    {
      "cell_type": "code",
      "source": [
        "df.head()"
      ],
      "metadata": {
        "id": "ppyC-CsCcGu7",
        "colab": {
          "base_uri": "https://localhost:8080/",
          "height": 206
        },
        "outputId": "dd541eb6-1496-4182-e43a-a15d69ad9930"
      },
      "execution_count": null,
      "outputs": [
        {
          "output_type": "execute_result",
          "data": {
            "text/html": [
              "\n",
              "  <div id=\"df-c1f2bf94-3bb2-4f62-9eef-5f6d46568074\">\n",
              "    <div class=\"colab-df-container\">\n",
              "      <div>\n",
              "<style scoped>\n",
              "    .dataframe tbody tr th:only-of-type {\n",
              "        vertical-align: middle;\n",
              "    }\n",
              "\n",
              "    .dataframe tbody tr th {\n",
              "        vertical-align: top;\n",
              "    }\n",
              "\n",
              "    .dataframe thead th {\n",
              "        text-align: right;\n",
              "    }\n",
              "</style>\n",
              "<table border=\"1\" class=\"dataframe\">\n",
              "  <thead>\n",
              "    <tr style=\"text-align: right;\">\n",
              "      <th></th>\n",
              "      <th>RM</th>\n",
              "      <th>LSTAT</th>\n",
              "      <th>PTRATIO</th>\n",
              "      <th>MEDV</th>\n",
              "    </tr>\n",
              "  </thead>\n",
              "  <tbody>\n",
              "    <tr>\n",
              "      <th>0</th>\n",
              "      <td>6.575</td>\n",
              "      <td>4.98</td>\n",
              "      <td>15.3</td>\n",
              "      <td>504000.0</td>\n",
              "    </tr>\n",
              "    <tr>\n",
              "      <th>1</th>\n",
              "      <td>6.421</td>\n",
              "      <td>9.14</td>\n",
              "      <td>17.8</td>\n",
              "      <td>453600.0</td>\n",
              "    </tr>\n",
              "    <tr>\n",
              "      <th>2</th>\n",
              "      <td>7.185</td>\n",
              "      <td>4.03</td>\n",
              "      <td>17.8</td>\n",
              "      <td>728700.0</td>\n",
              "    </tr>\n",
              "    <tr>\n",
              "      <th>3</th>\n",
              "      <td>6.998</td>\n",
              "      <td>2.94</td>\n",
              "      <td>18.7</td>\n",
              "      <td>701400.0</td>\n",
              "    </tr>\n",
              "    <tr>\n",
              "      <th>4</th>\n",
              "      <td>7.147</td>\n",
              "      <td>5.33</td>\n",
              "      <td>18.7</td>\n",
              "      <td>760200.0</td>\n",
              "    </tr>\n",
              "  </tbody>\n",
              "</table>\n",
              "</div>\n",
              "      <button class=\"colab-df-convert\" onclick=\"convertToInteractive('df-c1f2bf94-3bb2-4f62-9eef-5f6d46568074')\"\n",
              "              title=\"Convert this dataframe to an interactive table.\"\n",
              "              style=\"display:none;\">\n",
              "        \n",
              "  <svg xmlns=\"http://www.w3.org/2000/svg\" height=\"24px\"viewBox=\"0 0 24 24\"\n",
              "       width=\"24px\">\n",
              "    <path d=\"M0 0h24v24H0V0z\" fill=\"none\"/>\n",
              "    <path d=\"M18.56 5.44l.94 2.06.94-2.06 2.06-.94-2.06-.94-.94-2.06-.94 2.06-2.06.94zm-11 1L8.5 8.5l.94-2.06 2.06-.94-2.06-.94L8.5 2.5l-.94 2.06-2.06.94zm10 10l.94 2.06.94-2.06 2.06-.94-2.06-.94-.94-2.06-.94 2.06-2.06.94z\"/><path d=\"M17.41 7.96l-1.37-1.37c-.4-.4-.92-.59-1.43-.59-.52 0-1.04.2-1.43.59L10.3 9.45l-7.72 7.72c-.78.78-.78 2.05 0 2.83L4 21.41c.39.39.9.59 1.41.59.51 0 1.02-.2 1.41-.59l7.78-7.78 2.81-2.81c.8-.78.8-2.07 0-2.86zM5.41 20L4 18.59l7.72-7.72 1.47 1.35L5.41 20z\"/>\n",
              "  </svg>\n",
              "      </button>\n",
              "      \n",
              "  <style>\n",
              "    .colab-df-container {\n",
              "      display:flex;\n",
              "      flex-wrap:wrap;\n",
              "      gap: 12px;\n",
              "    }\n",
              "\n",
              "    .colab-df-convert {\n",
              "      background-color: #E8F0FE;\n",
              "      border: none;\n",
              "      border-radius: 50%;\n",
              "      cursor: pointer;\n",
              "      display: none;\n",
              "      fill: #1967D2;\n",
              "      height: 32px;\n",
              "      padding: 0 0 0 0;\n",
              "      width: 32px;\n",
              "    }\n",
              "\n",
              "    .colab-df-convert:hover {\n",
              "      background-color: #E2EBFA;\n",
              "      box-shadow: 0px 1px 2px rgba(60, 64, 67, 0.3), 0px 1px 3px 1px rgba(60, 64, 67, 0.15);\n",
              "      fill: #174EA6;\n",
              "    }\n",
              "\n",
              "    [theme=dark] .colab-df-convert {\n",
              "      background-color: #3B4455;\n",
              "      fill: #D2E3FC;\n",
              "    }\n",
              "\n",
              "    [theme=dark] .colab-df-convert:hover {\n",
              "      background-color: #434B5C;\n",
              "      box-shadow: 0px 1px 3px 1px rgba(0, 0, 0, 0.15);\n",
              "      filter: drop-shadow(0px 1px 2px rgba(0, 0, 0, 0.3));\n",
              "      fill: #FFFFFF;\n",
              "    }\n",
              "  </style>\n",
              "\n",
              "      <script>\n",
              "        const buttonEl =\n",
              "          document.querySelector('#df-c1f2bf94-3bb2-4f62-9eef-5f6d46568074 button.colab-df-convert');\n",
              "        buttonEl.style.display =\n",
              "          google.colab.kernel.accessAllowed ? 'block' : 'none';\n",
              "\n",
              "        async function convertToInteractive(key) {\n",
              "          const element = document.querySelector('#df-c1f2bf94-3bb2-4f62-9eef-5f6d46568074');\n",
              "          const dataTable =\n",
              "            await google.colab.kernel.invokeFunction('convertToInteractive',\n",
              "                                                     [key], {});\n",
              "          if (!dataTable) return;\n",
              "\n",
              "          const docLinkHtml = 'Like what you see? Visit the ' +\n",
              "            '<a target=\"_blank\" href=https://colab.research.google.com/notebooks/data_table.ipynb>data table notebook</a>'\n",
              "            + ' to learn more about interactive tables.';\n",
              "          element.innerHTML = '';\n",
              "          dataTable['output_type'] = 'display_data';\n",
              "          await google.colab.output.renderOutput(dataTable, element);\n",
              "          const docLink = document.createElement('div');\n",
              "          docLink.innerHTML = docLinkHtml;\n",
              "          element.appendChild(docLink);\n",
              "        }\n",
              "      </script>\n",
              "    </div>\n",
              "  </div>\n",
              "  "
            ],
            "text/plain": [
              "      RM  LSTAT  PTRATIO      MEDV\n",
              "0  6.575   4.98     15.3  504000.0\n",
              "1  6.421   9.14     17.8  453600.0\n",
              "2  7.185   4.03     17.8  728700.0\n",
              "3  6.998   2.94     18.7  701400.0\n",
              "4  7.147   5.33     18.7  760200.0"
            ]
          },
          "metadata": {},
          "execution_count": 44
        }
      ]
    },
    {
      "cell_type": "code",
      "metadata": {
        "id": "LRJ3RZsQy-2y"
      },
      "source": [
        "# Criação do modelo\n",
        "modelo = smf.ols('MEDV ~ RM + LSTAT + PTRATIO', data = df).fit()"
      ],
      "execution_count": null,
      "outputs": []
    },
    {
      "cell_type": "code",
      "metadata": {
        "id": "0_4XijxizPdh",
        "colab": {
          "base_uri": "https://localhost:8080/"
        },
        "outputId": "3b808075-31cb-4300-cd0e-eb5179ff86cb"
      },
      "source": [
        "residuos = modelo.resid\n",
        "residuos"
      ],
      "execution_count": null,
      "outputs": [
        {
          "output_type": "execute_result",
          "data": {
            "text/plain": [
              "0     -128371.739762\n",
              "1      -71577.148313\n",
              "2       81946.881920\n",
              "3       76551.704130\n",
              "4      148383.407464\n",
              "           ...      \n",
              "484     -1541.448492\n",
              "485     -4797.202628\n",
              "486    -46918.775678\n",
              "487    -61950.456779\n",
              "488   -192725.539836\n",
              "Length: 489, dtype: float64"
            ]
          },
          "metadata": {},
          "execution_count": 46
        }
      ]
    },
    {
      "cell_type": "markdown",
      "metadata": {
        "id": "3foWvm3_b9xd"
      },
      "source": [
        "#### Teste de Normalidade dos resíduos"
      ]
    },
    {
      "cell_type": "code",
      "metadata": {
        "id": "lxEZMdHX0Y9Y"
      },
      "source": [
        "import scipy.stats as stats"
      ],
      "execution_count": null,
      "outputs": []
    },
    {
      "cell_type": "markdown",
      "metadata": {
        "id": "KMt9Rnuqb9xe"
      },
      "source": [
        "Ho = distribuição normal : p > 0.05\n",
        "\n",
        "Ha = distribuição != normal : p <= 0.05"
      ]
    },
    {
      "cell_type": "code",
      "metadata": {
        "id": "k_HEWSq6b9xf",
        "colab": {
          "base_uri": "https://localhost:8080/"
        },
        "outputId": "7ec9b78c-c66e-4257-9e4a-e2573534d0df"
      },
      "source": [
        "estatistica, p = stats.shapiro(residuos)\n",
        "print('Estatística de teste: {}'.format(estatistica))\n",
        "print('p-valor: {}'.format(p))"
      ],
      "execution_count": null,
      "outputs": [
        {
          "output_type": "stream",
          "name": "stdout",
          "text": [
            "Estatística de teste: 0.9633497595787048\n",
            "p-valor: 1.0876398670589538e-09\n"
          ]
        }
      ]
    },
    {
      "cell_type": "code",
      "metadata": {
        "id": "U56YLUoi0kSu"
      },
      "source": [
        "import matplotlib.pyplot as plt"
      ],
      "execution_count": null,
      "outputs": []
    },
    {
      "cell_type": "code",
      "metadata": {
        "id": "-WTK7O-Sb9xg",
        "colab": {
          "base_uri": "https://localhost:8080/",
          "height": 295
        },
        "outputId": "dae875b8-f2fd-4c4c-9fae-065a8ac8474c"
      },
      "source": [
        "stats.probplot(residuos, dist=\"norm\", plot=plt)\n",
        "plt.title(\"Normal Q-Q plot - Resíduos\")\n",
        "plt.show()"
      ],
      "execution_count": null,
      "outputs": [
        {
          "output_type": "display_data",
          "data": {
            "image/png": "[encoded data removed]",
            "text/plain": [
              "<Figure size 432x288 with 1 Axes>"
            ]
          },
          "metadata": {
            "needs_background": "light"
          }
        }
      ]
    },
    {
      "cell_type": "markdown",
      "metadata": {
        "id": "ayUUsJ2ub9xh"
      },
      "source": [
        "#### Análise da Homocedasticidade dos resíduos\n",
        "(resíduos com variação constante)"
      ]
    },
    {
      "cell_type": "code",
      "metadata": {
        "id": "f0XJ3L0kb9xi",
        "colab": {
          "base_uri": "https://localhost:8080/",
          "height": 279
        },
        "outputId": "c644dcd1-1817-4c76-a4c4-0038a41b2b65"
      },
      "source": [
        "plt.scatter(y=residuos, x=modelo.predict(), color='red')\n",
        "plt.hlines(y=0, xmin=0, xmax=900000, color='orange')\n",
        "plt.ylabel('Resíduos')\n",
        "plt.xlabel('Valores Preditos')\n",
        "plt.show()"
      ],
      "execution_count": null,
      "outputs": [
        {
          "output_type": "display_data",
          "data": {
            "image/png": "[encoded data removed]",
            "text/plain": [
              "<Figure size 432x288 with 1 Axes>"
            ]
          },
          "metadata": {
            "needs_background": "light"
          }
        }
      ]
    },
    {
      "cell_type": "markdown",
      "metadata": {
        "id": "q6zC0JTCb9xi"
      },
      "source": [
        "Teste Breusch-Pagan (Homocedasticidade ou heterocedasticidade)"
      ]
    },
    {
      "cell_type": "markdown",
      "metadata": {
        "id": "3D1DR96wb9xj"
      },
      "source": [
        "Ho = existe homocedasticidade : p > 0.05\n",
        "\n",
        "Ha = não existe homocedasticidade : p <= 0.05"
      ]
    },
    {
      "cell_type": "code",
      "metadata": {
        "id": "ks0IfIFhb9xj"
      },
      "source": [
        "from statsmodels.compat import lzip"
      ],
      "execution_count": null,
      "outputs": []
    },
    {
      "cell_type": "code",
      "metadata": {
        "id": "6Gfqghirb9xk",
        "colab": {
          "base_uri": "https://localhost:8080/"
        },
        "outputId": "04866d17-493e-414e-cabe-107c0030ff68"
      },
      "source": [
        "estatistica, p, f, fp = sms.het_breuschpagan (modelo.resid, modelo.model.exog)\n",
        "print('Estatística de teste: {}'.format(estatistica))\n",
        "print('p-valor: {}'.format(p))\n",
        "print('f-valor: {}'.format(f))\n",
        "print('f_p-valor: {}'.format(fp))"
      ],
      "execution_count": null,
      "outputs": [
        {
          "output_type": "stream",
          "name": "stdout",
          "text": [
            "Estatística de teste: 14.866517741157674\n",
            "p-valor: 0.0019343456956172854\n",
            "f-valor: 5.069079611723632\n",
            "f_p-valor: 0.0018260051160026575\n"
          ]
        }
      ]
    },
    {
      "cell_type": "markdown",
      "metadata": {
        "id": "us2buFSqdCyP"
      },
      "source": [
        "#### **Outliers nos resíduos**"
      ]
    },
    {
      "cell_type": "markdown",
      "metadata": {
        "id": "MllW6T7tdCyQ"
      },
      "source": [
        "(Entre -3 e 3)"
      ]
    },
    {
      "cell_type": "code",
      "metadata": {
        "id": "aOZDERDWdCyQ"
      },
      "source": [
        "outliers = modelo.outlier_test()"
      ],
      "execution_count": null,
      "outputs": []
    },
    {
      "cell_type": "code",
      "metadata": {
        "id": "mDlWpym9dCyQ",
        "colab": {
          "base_uri": "https://localhost:8080/"
        },
        "outputId": "34e5eaff-bce2-4576-dde3-e584fa8c42f8"
      },
      "source": [
        "outliers.max()"
      ],
      "execution_count": null,
      "outputs": [
        {
          "output_type": "execute_result",
          "data": {
            "text/plain": [
              "student_resid    3.887418\n",
              "unadj_p          0.999502\n",
              "bonf(p)          1.000000\n",
              "dtype: float64"
            ]
          },
          "metadata": {},
          "execution_count": 55
        }
      ]
    },
    {
      "cell_type": "code",
      "metadata": {
        "id": "ffcnOdD1dCyR",
        "colab": {
          "base_uri": "https://localhost:8080/"
        },
        "outputId": "c9ac3ff4-682b-4793-ed26-ceb676a8e5d6"
      },
      "source": [
        "outliers.min()"
      ],
      "execution_count": null,
      "outputs": [
        {
          "output_type": "execute_result",
          "data": {
            "text/plain": [
              "student_resid   -2.648018\n",
              "unadj_p          0.000115\n",
              "bonf(p)          0.056456\n",
              "dtype: float64"
            ]
          },
          "metadata": {},
          "execution_count": 56
        }
      ]
    },
    {
      "cell_type": "markdown",
      "metadata": {
        "id": "OFTGh67R6Xiv"
      },
      "source": [
        "#### **Ausência de Multicolinearidade**"
      ]
    },
    {
      "cell_type": "markdown",
      "metadata": {
        "id": "SUI8Dj6A6wCr"
      },
      "source": [
        "Somente entre as variáveis independentes.\n",
        "\n",
        "Considerada multicolinearidade quando r > 0.9."
      ]
    },
    {
      "cell_type": "code",
      "metadata": {
        "id": "LVxFkYw-6W5E"
      },
      "source": [
        "variaveis = df[['RM','LSTAT','PTRATIO']]"
      ],
      "execution_count": null,
      "outputs": []
    },
    {
      "cell_type": "code",
      "metadata": {
        "id": "9cgwDxfl9Q-r",
        "colab": {
          "base_uri": "https://localhost:8080/",
          "height": 206
        },
        "outputId": "dd261050-6a63-45d2-d6ac-7583f895110f"
      },
      "source": [
        "variaveis.head()"
      ],
      "execution_count": null,
      "outputs": [
        {
          "output_type": "execute_result",
          "data": {
            "text/html": [
              "\n",
              "  <div id=\"df-fd139623-e78c-4e22-b595-d218c2bda333\">\n",
              "    <div class=\"colab-df-container\">\n",
              "      <div>\n",
              "<style scoped>\n",
              "    .dataframe tbody tr th:only-of-type {\n",
              "        vertical-align: middle;\n",
              "    }\n",
              "\n",
              "    .dataframe tbody tr th {\n",
              "        vertical-align: top;\n",
              "    }\n",
              "\n",
              "    .dataframe thead th {\n",
              "        text-align: right;\n",
              "    }\n",
              "</style>\n",
              "<table border=\"1\" class=\"dataframe\">\n",
              "  <thead>\n",
              "    <tr style=\"text-align: right;\">\n",
              "      <th></th>\n",
              "      <th>RM</th>\n",
              "      <th>LSTAT</th>\n",
              "      <th>PTRATIO</th>\n",
              "    </tr>\n",
              "  </thead>\n",
              "  <tbody>\n",
              "    <tr>\n",
              "      <th>0</th>\n",
              "      <td>6.575</td>\n",
              "      <td>4.98</td>\n",
              "      <td>15.3</td>\n",
              "    </tr>\n",
              "    <tr>\n",
              "      <th>1</th>\n",
              "      <td>6.421</td>\n",
              "      <td>9.14</td>\n",
              "      <td>17.8</td>\n",
              "    </tr>\n",
              "    <tr>\n",
              "      <th>2</th>\n",
              "      <td>7.185</td>\n",
              "      <td>4.03</td>\n",
              "      <td>17.8</td>\n",
              "    </tr>\n",
              "    <tr>\n",
              "      <th>3</th>\n",
              "      <td>6.998</td>\n",
              "      <td>2.94</td>\n",
              "      <td>18.7</td>\n",
              "    </tr>\n",
              "    <tr>\n",
              "      <th>4</th>\n",
              "      <td>7.147</td>\n",
              "      <td>5.33</td>\n",
              "      <td>18.7</td>\n",
              "    </tr>\n",
              "  </tbody>\n",
              "</table>\n",
              "</div>\n",
              "      <button class=\"colab-df-convert\" onclick=\"convertToInteractive('df-fd139623-e78c-4e22-b595-d218c2bda333')\"\n",
              "              title=\"Convert this dataframe to an interactive table.\"\n",
              "              style=\"display:none;\">\n",
              "        \n",
              "  <svg xmlns=\"http://www.w3.org/2000/svg\" height=\"24px\"viewBox=\"0 0 24 24\"\n",
              "       width=\"24px\">\n",
              "    <path d=\"M0 0h24v24H0V0z\" fill=\"none\"/>\n",
              "    <path d=\"M18.56 5.44l.94 2.06.94-2.06 2.06-.94-2.06-.94-.94-2.06-.94 2.06-2.06.94zm-11 1L8.5 8.5l.94-2.06 2.06-.94-2.06-.94L8.5 2.5l-.94 2.06-2.06.94zm10 10l.94 2.06.94-2.06 2.06-.94-2.06-.94-.94-2.06-.94 2.06-2.06.94z\"/><path d=\"M17.41 7.96l-1.37-1.37c-.4-.4-.92-.59-1.43-.59-.52 0-1.04.2-1.43.59L10.3 9.45l-7.72 7.72c-.78.78-.78 2.05 0 2.83L4 21.41c.39.39.9.59 1.41.59.51 0 1.02-.2 1.41-.59l7.78-7.78 2.81-2.81c.8-.78.8-2.07 0-2.86zM5.41 20L4 18.59l7.72-7.72 1.47 1.35L5.41 20z\"/>\n",
              "  </svg>\n",
              "      </button>\n",
              "      \n",
              "  <style>\n",
              "    .colab-df-container {\n",
              "      display:flex;\n",
              "      flex-wrap:wrap;\n",
              "      gap: 12px;\n",
              "    }\n",
              "\n",
              "    .colab-df-convert {\n",
              "      background-color: #E8F0FE;\n",
              "      border: none;\n",
              "      border-radius: 50%;\n",
              "      cursor: pointer;\n",
              "      display: none;\n",
              "      fill: #1967D2;\n",
              "      height: 32px;\n",
              "      padding: 0 0 0 0;\n",
              "      width: 32px;\n",
              "    }\n",
              "\n",
              "    .colab-df-convert:hover {\n",
              "      background-color: #E2EBFA;\n",
              "      box-shadow: 0px 1px 2px rgba(60, 64, 67, 0.3), 0px 1px 3px 1px rgba(60, 64, 67, 0.15);\n",
              "      fill: #174EA6;\n",
              "    }\n",
              "\n",
              "    [theme=dark] .colab-df-convert {\n",
              "      background-color: #3B4455;\n",
              "      fill: #D2E3FC;\n",
              "    }\n",
              "\n",
              "    [theme=dark] .colab-df-convert:hover {\n",
              "      background-color: #434B5C;\n",
              "      box-shadow: 0px 1px 3px 1px rgba(0, 0, 0, 0.15);\n",
              "      filter: drop-shadow(0px 1px 2px rgba(0, 0, 0, 0.3));\n",
              "      fill: #FFFFFF;\n",
              "    }\n",
              "  </style>\n",
              "\n",
              "      <script>\n",
              "        const buttonEl =\n",
              "          document.querySelector('#df-fd139623-e78c-4e22-b595-d218c2bda333 button.colab-df-convert');\n",
              "        buttonEl.style.display =\n",
              "          google.colab.kernel.accessAllowed ? 'block' : 'none';\n",
              "\n",
              "        async function convertToInteractive(key) {\n",
              "          const element = document.querySelector('#df-fd139623-e78c-4e22-b595-d218c2bda333');\n",
              "          const dataTable =\n",
              "            await google.colab.kernel.invokeFunction('convertToInteractive',\n",
              "                                                     [key], {});\n",
              "          if (!dataTable) return;\n",
              "\n",
              "          const docLinkHtml = 'Like what you see? Visit the ' +\n",
              "            '<a target=\"_blank\" href=https://colab.research.google.com/notebooks/data_table.ipynb>data table notebook</a>'\n",
              "            + ' to learn more about interactive tables.';\n",
              "          element.innerHTML = '';\n",
              "          dataTable['output_type'] = 'display_data';\n",
              "          await google.colab.output.renderOutput(dataTable, element);\n",
              "          const docLink = document.createElement('div');\n",
              "          docLink.innerHTML = docLinkHtml;\n",
              "          element.appendChild(docLink);\n",
              "        }\n",
              "      </script>\n",
              "    </div>\n",
              "  </div>\n",
              "  "
            ],
            "text/plain": [
              "      RM  LSTAT  PTRATIO\n",
              "0  6.575   4.98     15.3\n",
              "1  6.421   9.14     17.8\n",
              "2  7.185   4.03     17.8\n",
              "3  6.998   2.94     18.7\n",
              "4  7.147   5.33     18.7"
            ]
          },
          "metadata": {},
          "execution_count": 59
        }
      ]
    },
    {
      "cell_type": "code",
      "metadata": {
        "id": "ox1XAWbp7mcD",
        "colab": {
          "base_uri": "https://localhost:8080/",
          "height": 143
        },
        "outputId": "4a3781ee-89b7-4c4f-adb1-a84ef99a49e4"
      },
      "source": [
        "correlacoes = variaveis.corr(method='pearson')\n",
        "correlacoes"
      ],
      "execution_count": null,
      "outputs": [
        {
          "output_type": "execute_result",
          "data": {
            "text/html": [
              "\n",
              "  <div id=\"df-37bb62d5-b4bf-4f48-ba32-da8ce78fa500\">\n",
              "    <div class=\"colab-df-container\">\n",
              "      <div>\n",
              "<style scoped>\n",
              "    .dataframe tbody tr th:only-of-type {\n",
              "        vertical-align: middle;\n",
              "    }\n",
              "\n",
              "    .dataframe tbody tr th {\n",
              "        vertical-align: top;\n",
              "    }\n",
              "\n",
              "    .dataframe thead th {\n",
              "        text-align: right;\n",
              "    }\n",
              "</style>\n",
              "<table border=\"1\" class=\"dataframe\">\n",
              "  <thead>\n",
              "    <tr style=\"text-align: right;\">\n",
              "      <th></th>\n",
              "      <th>RM</th>\n",
              "      <th>LSTAT</th>\n",
              "      <th>PTRATIO</th>\n",
              "    </tr>\n",
              "  </thead>\n",
              "  <tbody>\n",
              "    <tr>\n",
              "      <th>RM</th>\n",
              "      <td>1.000000</td>\n",
              "      <td>-0.612033</td>\n",
              "      <td>-0.304559</td>\n",
              "    </tr>\n",
              "    <tr>\n",
              "      <th>LSTAT</th>\n",
              "      <td>-0.612033</td>\n",
              "      <td>1.000000</td>\n",
              "      <td>0.360445</td>\n",
              "    </tr>\n",
              "    <tr>\n",
              "      <th>PTRATIO</th>\n",
              "      <td>-0.304559</td>\n",
              "      <td>0.360445</td>\n",
              "      <td>1.000000</td>\n",
              "    </tr>\n",
              "  </tbody>\n",
              "</table>\n",
              "</div>\n",
              "      <button class=\"colab-df-convert\" onclick=\"convertToInteractive('df-37bb62d5-b4bf-4f48-ba32-da8ce78fa500')\"\n",
              "              title=\"Convert this dataframe to an interactive table.\"\n",
              "              style=\"display:none;\">\n",
              "        \n",
              "  <svg xmlns=\"http://www.w3.org/2000/svg\" height=\"24px\"viewBox=\"0 0 24 24\"\n",
              "       width=\"24px\">\n",
              "    <path d=\"M0 0h24v24H0V0z\" fill=\"none\"/>\n",
              "    <path d=\"M18.56 5.44l.94 2.06.94-2.06 2.06-.94-2.06-.94-.94-2.06-.94 2.06-2.06.94zm-11 1L8.5 8.5l.94-2.06 2.06-.94-2.06-.94L8.5 2.5l-.94 2.06-2.06.94zm10 10l.94 2.06.94-2.06 2.06-.94-2.06-.94-.94-2.06-.94 2.06-2.06.94z\"/><path d=\"M17.41 7.96l-1.37-1.37c-.4-.4-.92-.59-1.43-.59-.52 0-1.04.2-1.43.59L10.3 9.45l-7.72 7.72c-.78.78-.78 2.05 0 2.83L4 21.41c.39.39.9.59 1.41.59.51 0 1.02-.2 1.41-.59l7.78-7.78 2.81-2.81c.8-.78.8-2.07 0-2.86zM5.41 20L4 18.59l7.72-7.72 1.47 1.35L5.41 20z\"/>\n",
              "  </svg>\n",
              "      </button>\n",
              "      \n",
              "  <style>\n",
              "    .colab-df-container {\n",
              "      display:flex;\n",
              "      flex-wrap:wrap;\n",
              "      gap: 12px;\n",
              "    }\n",
              "\n",
              "    .colab-df-convert {\n",
              "      background-color: #E8F0FE;\n",
              "      border: none;\n",
              "      border-radius: 50%;\n",
              "      cursor: pointer;\n",
              "      display: none;\n",
              "      fill: #1967D2;\n",
              "      height: 32px;\n",
              "      padding: 0 0 0 0;\n",
              "      width: 32px;\n",
              "    }\n",
              "\n",
              "    .colab-df-convert:hover {\n",
              "      background-color: #E2EBFA;\n",
              "      box-shadow: 0px 1px 2px rgba(60, 64, 67, 0.3), 0px 1px 3px 1px rgba(60, 64, 67, 0.15);\n",
              "      fill: #174EA6;\n",
              "    }\n",
              "\n",
              "    [theme=dark] .colab-df-convert {\n",
              "      background-color: #3B4455;\n",
              "      fill: #D2E3FC;\n",
              "    }\n",
              "\n",
              "    [theme=dark] .colab-df-convert:hover {\n",
              "      background-color: #434B5C;\n",
              "      box-shadow: 0px 1px 3px 1px rgba(0, 0, 0, 0.15);\n",
              "      filter: drop-shadow(0px 1px 2px rgba(0, 0, 0, 0.3));\n",
              "      fill: #FFFFFF;\n",
              "    }\n",
              "  </style>\n",
              "\n",
              "      <script>\n",
              "        const buttonEl =\n",
              "          document.querySelector('#df-37bb62d5-b4bf-4f48-ba32-da8ce78fa500 button.colab-df-convert');\n",
              "        buttonEl.style.display =\n",
              "          google.colab.kernel.accessAllowed ? 'block' : 'none';\n",
              "\n",
              "        async function convertToInteractive(key) {\n",
              "          const element = document.querySelector('#df-37bb62d5-b4bf-4f48-ba32-da8ce78fa500');\n",
              "          const dataTable =\n",
              "            await google.colab.kernel.invokeFunction('convertToInteractive',\n",
              "                                                     [key], {});\n",
              "          if (!dataTable) return;\n",
              "\n",
              "          const docLinkHtml = 'Like what you see? Visit the ' +\n",
              "            '<a target=\"_blank\" href=https://colab.research.google.com/notebooks/data_table.ipynb>data table notebook</a>'\n",
              "            + ' to learn more about interactive tables.';\n",
              "          element.innerHTML = '';\n",
              "          dataTable['output_type'] = 'display_data';\n",
              "          await google.colab.output.renderOutput(dataTable, element);\n",
              "          const docLink = document.createElement('div');\n",
              "          docLink.innerHTML = docLinkHtml;\n",
              "          element.appendChild(docLink);\n",
              "        }\n",
              "      </script>\n",
              "    </div>\n",
              "  </div>\n",
              "  "
            ],
            "text/plain": [
              "               RM     LSTAT   PTRATIO\n",
              "RM       1.000000 -0.612033 -0.304559\n",
              "LSTAT   -0.612033  1.000000  0.360445\n",
              "PTRATIO -0.304559  0.360445  1.000000"
            ]
          },
          "metadata": {},
          "execution_count": 60
        }
      ]
    },
    {
      "cell_type": "markdown",
      "metadata": {
        "id": "BmNV4E9bRkrA"
      },
      "source": [
        "#### **Análise do Modelo**"
      ]
    },
    {
      "cell_type": "markdown",
      "metadata": {
        "id": "sQiLvdd-IF64"
      },
      "source": [
        "Intercept\n",
        "\n",
        "p_valor para cada coeficiente < 0,05 (estatisticamente significativos).\n",
        "\n",
        "Adjusted R-squared (explicação do modelo através dos dados).\n",
        "\n",
        "p_valor da estatística F < 0.05 (valida o modelo de regressão)."
      ]
    },
    {
      "cell_type": "code",
      "metadata": {
        "id": "UlG8rURSIXlr",
        "colab": {
          "base_uri": "https://localhost:8080/"
        },
        "outputId": "3e55af1b-5139-4bd2-896c-c38a365733c0"
      },
      "source": [
        "print(modelo.summary())"
      ],
      "execution_count": null,
      "outputs": [
        {
          "output_type": "stream",
          "name": "stdout",
          "text": [
            "                            OLS Regression Results                            \n",
            "==============================================================================\n",
            "Dep. Variable:                   MEDV   R-squared:                       0.718\n",
            "Model:                            OLS   Adj. R-squared:                  0.716\n",
            "Method:                 Least Squares   F-statistic:                     410.9\n",
            "Date:                Fri, 25 Feb 2022   Prob (F-statistic):          9.96e-133\n",
            "Time:                        13:23:59   Log-Likelihood:                -6259.9\n",
            "No. Observations:                 489   AIC:                         1.253e+04\n",
            "Df Residuals:                     485   BIC:                         1.254e+04\n",
            "Df Model:                           3                                         \n",
            "Covariance Type:            nonrobust                                         \n",
            "==============================================================================\n",
            "                 coef    std err          t      P>|t|      [0.025      0.975]\n",
            "------------------------------------------------------------------------------\n",
            "Intercept   4.155e+05   6.88e+04      6.035      0.000     2.8e+05    5.51e+05\n",
            "RM          8.657e+04   7888.895     10.973      0.000    7.11e+04    1.02e+05\n",
            "LSTAT      -1.085e+04    732.138    -14.819      0.000   -1.23e+04   -9410.786\n",
            "PTRATIO    -1.949e+04   2039.047     -9.559      0.000   -2.35e+04   -1.55e+04\n",
            "==============================================================================\n",
            "Omnibus:                       57.976   Durbin-Watson:                   1.049\n",
            "Prob(Omnibus):                  0.000   Jarque-Bera (JB):               91.413\n",
            "Skew:                           0.772   Prob(JB):                     1.41e-20\n",
            "Kurtosis:                       4.451   Cond. No.                         416.\n",
            "==============================================================================\n",
            "\n",
            "Warnings:\n",
            "[1] Standard Errors assume that the covariance matrix of the errors is correctly specified.\n"
          ]
        }
      ]
    },
    {
      "cell_type": "markdown",
      "metadata": {
        "id": "vntw35adIwwO"
      },
      "source": [
        "**Equação:** Valor da casa = 4.155e+05 + 8.657e+04.RM - 1.085e+04.LSTAT - 1.949e+04.PTRATIO"
      ]
    },
    {
      "cell_type": "code",
      "metadata": {
        "id": "KVp90LWAIvZ-"
      },
      "source": [
        "# Criando uma coluna com previsão\n",
        "df['previsao'] = modelo.fittedvalues"
      ],
      "execution_count": null,
      "outputs": []
    },
    {
      "cell_type": "code",
      "metadata": {
        "id": "-zeVuxu-KGwN",
        "colab": {
          "base_uri": "https://localhost:8080/",
          "height": 206
        },
        "outputId": "d22394b4-eb17-4d65-b9ae-3a498c80255a"
      },
      "source": [
        "df.head()"
      ],
      "execution_count": null,
      "outputs": [
        {
          "output_type": "execute_result",
          "data": {
            "text/html": [
              "\n",
              "  <div id=\"df-14f292e3-cbbd-4b33-9422-c6561edc128a\">\n",
              "    <div class=\"colab-df-container\">\n",
              "      <div>\n",
              "<style scoped>\n",
              "    .dataframe tbody tr th:only-of-type {\n",
              "        vertical-align: middle;\n",
              "    }\n",
              "\n",
              "    .dataframe tbody tr th {\n",
              "        vertical-align: top;\n",
              "    }\n",
              "\n",
              "    .dataframe thead th {\n",
              "        text-align: right;\n",
              "    }\n",
              "</style>\n",
              "<table border=\"1\" class=\"dataframe\">\n",
              "  <thead>\n",
              "    <tr style=\"text-align: right;\">\n",
              "      <th></th>\n",
              "      <th>RM</th>\n",
              "      <th>LSTAT</th>\n",
              "      <th>PTRATIO</th>\n",
              "      <th>MEDV</th>\n",
              "      <th>previsao</th>\n",
              "    </tr>\n",
              "  </thead>\n",
              "  <tbody>\n",
              "    <tr>\n",
              "      <th>0</th>\n",
              "      <td>6.575</td>\n",
              "      <td>4.98</td>\n",
              "      <td>15.3</td>\n",
              "      <td>504000.0</td>\n",
              "      <td>632371.739762</td>\n",
              "    </tr>\n",
              "    <tr>\n",
              "      <th>1</th>\n",
              "      <td>6.421</td>\n",
              "      <td>9.14</td>\n",
              "      <td>17.8</td>\n",
              "      <td>453600.0</td>\n",
              "      <td>525177.148313</td>\n",
              "    </tr>\n",
              "    <tr>\n",
              "      <th>2</th>\n",
              "      <td>7.185</td>\n",
              "      <td>4.03</td>\n",
              "      <td>17.8</td>\n",
              "      <td>728700.0</td>\n",
              "      <td>646753.118080</td>\n",
              "    </tr>\n",
              "    <tr>\n",
              "      <th>3</th>\n",
              "      <td>6.998</td>\n",
              "      <td>2.94</td>\n",
              "      <td>18.7</td>\n",
              "      <td>701400.0</td>\n",
              "      <td>624848.295870</td>\n",
              "    </tr>\n",
              "    <tr>\n",
              "      <th>4</th>\n",
              "      <td>7.147</td>\n",
              "      <td>5.33</td>\n",
              "      <td>18.7</td>\n",
              "      <td>760200.0</td>\n",
              "      <td>611816.592536</td>\n",
              "    </tr>\n",
              "  </tbody>\n",
              "</table>\n",
              "</div>\n",
              "      <button class=\"colab-df-convert\" onclick=\"convertToInteractive('df-14f292e3-cbbd-4b33-9422-c6561edc128a')\"\n",
              "              title=\"Convert this dataframe to an interactive table.\"\n",
              "              style=\"display:none;\">\n",
              "        \n",
              "  <svg xmlns=\"http://www.w3.org/2000/svg\" height=\"24px\"viewBox=\"0 0 24 24\"\n",
              "       width=\"24px\">\n",
              "    <path d=\"M0 0h24v24H0V0z\" fill=\"none\"/>\n",
              "    <path d=\"M18.56 5.44l.94 2.06.94-2.06 2.06-.94-2.06-.94-.94-2.06-.94 2.06-2.06.94zm-11 1L8.5 8.5l.94-2.06 2.06-.94-2.06-.94L8.5 2.5l-.94 2.06-2.06.94zm10 10l.94 2.06.94-2.06 2.06-.94-2.06-.94-.94-2.06-.94 2.06-2.06.94z\"/><path d=\"M17.41 7.96l-1.37-1.37c-.4-.4-.92-.59-1.43-.59-.52 0-1.04.2-1.43.59L10.3 9.45l-7.72 7.72c-.78.78-.78 2.05 0 2.83L4 21.41c.39.39.9.59 1.41.59.51 0 1.02-.2 1.41-.59l7.78-7.78 2.81-2.81c.8-.78.8-2.07 0-2.86zM5.41 20L4 18.59l7.72-7.72 1.47 1.35L5.41 20z\"/>\n",
              "  </svg>\n",
              "      </button>\n",
              "      \n",
              "  <style>\n",
              "    .colab-df-container {\n",
              "      display:flex;\n",
              "      flex-wrap:wrap;\n",
              "      gap: 12px;\n",
              "    }\n",
              "\n",
              "    .colab-df-convert {\n",
              "      background-color: #E8F0FE;\n",
              "      border: none;\n",
              "      border-radius: 50%;\n",
              "      cursor: pointer;\n",
              "      display: none;\n",
              "      fill: #1967D2;\n",
              "      height: 32px;\n",
              "      padding: 0 0 0 0;\n",
              "      width: 32px;\n",
              "    }\n",
              "\n",
              "    .colab-df-convert:hover {\n",
              "      background-color: #E2EBFA;\n",
              "      box-shadow: 0px 1px 2px rgba(60, 64, 67, 0.3), 0px 1px 3px 1px rgba(60, 64, 67, 0.15);\n",
              "      fill: #174EA6;\n",
              "    }\n",
              "\n",
              "    [theme=dark] .colab-df-convert {\n",
              "      background-color: #3B4455;\n",
              "      fill: #D2E3FC;\n",
              "    }\n",
              "\n",
              "    [theme=dark] .colab-df-convert:hover {\n",
              "      background-color: #434B5C;\n",
              "      box-shadow: 0px 1px 3px 1px rgba(0, 0, 0, 0.15);\n",
              "      filter: drop-shadow(0px 1px 2px rgba(0, 0, 0, 0.3));\n",
              "      fill: #FFFFFF;\n",
              "    }\n",
              "  </style>\n",
              "\n",
              "      <script>\n",
              "        const buttonEl =\n",
              "          document.querySelector('#df-14f292e3-cbbd-4b33-9422-c6561edc128a button.colab-df-convert');\n",
              "        buttonEl.style.display =\n",
              "          google.colab.kernel.accessAllowed ? 'block' : 'none';\n",
              "\n",
              "        async function convertToInteractive(key) {\n",
              "          const element = document.querySelector('#df-14f292e3-cbbd-4b33-9422-c6561edc128a');\n",
              "          const dataTable =\n",
              "            await google.colab.kernel.invokeFunction('convertToInteractive',\n",
              "                                                     [key], {});\n",
              "          if (!dataTable) return;\n",
              "\n",
              "          const docLinkHtml = 'Like what you see? Visit the ' +\n",
              "            '<a target=\"_blank\" href=https://colab.research.google.com/notebooks/data_table.ipynb>data table notebook</a>'\n",
              "            + ' to learn more about interactive tables.';\n",
              "          element.innerHTML = '';\n",
              "          dataTable['output_type'] = 'display_data';\n",
              "          await google.colab.output.renderOutput(dataTable, element);\n",
              "          const docLink = document.createElement('div');\n",
              "          docLink.innerHTML = docLinkHtml;\n",
              "          element.appendChild(docLink);\n",
              "        }\n",
              "      </script>\n",
              "    </div>\n",
              "  </div>\n",
              "  "
            ],
            "text/plain": [
              "      RM  LSTAT  PTRATIO      MEDV       previsao\n",
              "0  6.575   4.98     15.3  504000.0  632371.739762\n",
              "1  6.421   9.14     17.8  453600.0  525177.148313\n",
              "2  7.185   4.03     17.8  728700.0  646753.118080\n",
              "3  6.998   2.94     18.7  701400.0  624848.295870\n",
              "4  7.147   5.33     18.7  760200.0  611816.592536"
            ]
          },
          "metadata": {},
          "execution_count": 63
        }
      ]
    },
    {
      "cell_type": "code",
      "metadata": {
        "id": "bkZAIUvOAQnD"
      },
      "source": [
        "import seaborn as sns"
      ],
      "execution_count": null,
      "outputs": []
    },
    {
      "cell_type": "code",
      "metadata": {
        "id": "0o4fnUEkAwsM",
        "colab": {
          "base_uri": "https://localhost:8080/",
          "height": 369
        },
        "outputId": "a30683e2-9427-47ee-be7f-7728e00f6951"
      },
      "source": [
        "sns.lmplot(x='previsao', y='MEDV', data=df);"
      ],
      "execution_count": null,
      "outputs": [
        {
          "output_type": "display_data",
          "data": {
            "image/png": "[encoded data removed]",
            "text/plain": [
              "<Figure size 360x360 with 1 Axes>"
            ]
          },
          "metadata": {
            "needs_background": "light"
          }
        }
      ]
    },
    {
      "cell_type": "markdown",
      "source": [
        "## **REGRESSÃO POLINOMIAL**"
      ],
      "metadata": {
        "id": "l74FqlotBUSo"
      }
    },
    {
      "cell_type": "markdown",
      "source": [
        "https://scikit-learn.org/stable/modules/generated/sklearn.preprocessing.PolynomialFeatures.html "
      ],
      "metadata": {
        "id": "rxl3wSbjQzmC"
      }
    },
    {
      "cell_type": "markdown",
      "source": [
        "Valor médio (MEDV) em função do número de cômodos (RM)"
      ],
      "metadata": {
        "id": "s6Xb-47Gy2Zu"
      }
    },
    {
      "cell_type": "code",
      "source": [
        "df.head(2)"
      ],
      "metadata": {
        "id": "iW4QWMUdy2Zw"
      },
      "execution_count": null,
      "outputs": []
    },
    {
      "cell_type": "code",
      "metadata": {
        "id": "iHwBH87Qy2Zx"
      },
      "source": [
        "x1 = df.iloc[:,0:1].values\n",
        "x1"
      ],
      "execution_count": null,
      "outputs": []
    },
    {
      "cell_type": "code",
      "metadata": {
        "id": "YcPCZ7B2y2Zx"
      },
      "source": [
        "y = df.iloc[:, 3].values\n",
        "y"
      ],
      "execution_count": null,
      "outputs": []
    },
    {
      "cell_type": "code",
      "metadata": {
        "id": "kN8BGPNuy2Zy"
      },
      "source": [
        "from sklearn.model_selection import train_test_split\n",
        "x_treino, x_teste, y_treino, y_teste = train_test_split(x1, y, test_size = 0.3, random_state = 0)"
      ],
      "execution_count": null,
      "outputs": []
    },
    {
      "cell_type": "code",
      "metadata": {
        "id": "LnZefisMy2Zz"
      },
      "source": [
        "x_treino.shape, y_treino.shape"
      ],
      "execution_count": null,
      "outputs": []
    },
    {
      "cell_type": "code",
      "metadata": {
        "id": "4HZbiotXy2Zz"
      },
      "source": [
        "x_teste.shape, y_teste.shape"
      ],
      "execution_count": null,
      "outputs": []
    },
    {
      "cell_type": "code",
      "source": [
        "from sklearn.preprocessing import PolynomialFeatures\n",
        "from sklearn.linear_model import LinearRegression"
      ],
      "metadata": {
        "id": "fYmNDUC70sS-"
      },
      "execution_count": null,
      "outputs": []
    },
    {
      "cell_type": "code",
      "source": [
        "# Pré Processamento\n",
        "grau_polinomial =PolynomialFeatures(degree=2)"
      ],
      "metadata": {
        "id": "cJ40XdDp0wa9"
      },
      "execution_count": null,
      "outputs": []
    },
    {
      "cell_type": "code",
      "source": [
        "x_poly = grau_polinomial.fit_transform(x_treino)\n",
        "x_poly"
      ],
      "metadata": {
        "id": "eaKDcBBa09t8"
      },
      "execution_count": null,
      "outputs": []
    },
    {
      "cell_type": "code",
      "source": [
        "polinomial = LinearRegression()"
      ],
      "metadata": {
        "id": "c92sBlGh14g8"
      },
      "execution_count": null,
      "outputs": []
    },
    {
      "cell_type": "code",
      "source": [
        "polinomial.fit(x_poly, y_treino)"
      ],
      "metadata": {
        "id": "rmcVhyf62D2Z"
      },
      "execution_count": null,
      "outputs": []
    },
    {
      "cell_type": "code",
      "source": [
        "previsoes_treino = polinomial.predict(x_poly)"
      ],
      "metadata": {
        "id": "6LdCO7pn21oL"
      },
      "execution_count": null,
      "outputs": []
    },
    {
      "cell_type": "code",
      "source": [
        "polinomial.coef_"
      ],
      "metadata": {
        "id": "sxO5u0kuBmZZ"
      },
      "execution_count": null,
      "outputs": []
    },
    {
      "cell_type": "code",
      "source": [
        "polinomial.intercept_"
      ],
      "metadata": {
        "id": "45PxFqQJBvJ-"
      },
      "execution_count": null,
      "outputs": []
    },
    {
      "cell_type": "markdown",
      "source": [
        "**Equação:**\n",
        "\n",
        "Valor = 1640107 - 568528.11*RM + 60092.59*RM^2"
      ],
      "metadata": {
        "id": "gip9Am_QCO5m"
      }
    },
    {
      "cell_type": "code",
      "source": [
        "numeros = np.linspace(3,9.84,342)\n",
        "numeros"
      ],
      "metadata": {
        "id": "90-1bKy_ErzH"
      },
      "execution_count": null,
      "outputs": []
    },
    {
      "cell_type": "code",
      "source": [
        "numeros.shape"
      ],
      "metadata": {
        "id": "xSHziSI6Ibdw"
      },
      "execution_count": null,
      "outputs": []
    },
    {
      "cell_type": "code",
      "source": [
        "valor = 1640107 -568528.11*numeros + 60092.59*numeros**2"
      ],
      "metadata": {
        "id": "1z_fEA9NCMFu"
      },
      "execution_count": null,
      "outputs": []
    },
    {
      "cell_type": "code",
      "source": [
        "import matplotlib.pyplot as plt"
      ],
      "metadata": {
        "id": "bHC7KVx8BCrF"
      },
      "execution_count": null,
      "outputs": []
    },
    {
      "cell_type": "code",
      "source": [
        "plt.scatter(x_treino, y_treino, c = \"gray\")\n",
        "plt.xlabel(\"Quantidade Cômodos\")\n",
        "plt.ylabel(\"Valores das Casas\")\n",
        "plt.title(\"Previsão dos valores das casas: dados de treino\")\n",
        "plt.plot(numeros, valor);"
      ],
      "metadata": {
        "id": "73IUpLI63J37"
      },
      "execution_count": null,
      "outputs": []
    },
    {
      "cell_type": "code",
      "source": [
        "# Fazendo previsões para valores distintos\n",
        "comodos = 6\n",
        "valor = 1640107 -568528.11*comodos + 60092.59*comodos**2\n",
        "valor"
      ],
      "metadata": {
        "id": "nqXZAgSpM5TL"
      },
      "execution_count": null,
      "outputs": []
    },
    {
      "cell_type": "code",
      "source": [
        "# Coeficiente de Determinação dados de treino\n",
        "polinomial.score(x_poly, y_treino)"
      ],
      "metadata": {
        "id": "WrsObUUUQse7"
      },
      "execution_count": null,
      "outputs": []
    },
    {
      "cell_type": "markdown",
      "source": [
        "**TESTE**"
      ],
      "metadata": {
        "id": "YQM-rjYiKIx3"
      }
    },
    {
      "cell_type": "code",
      "source": [
        "numeros2 = np.linspace(3,8.88,147)\n",
        "numeros2"
      ],
      "metadata": {
        "id": "b26kMsIcKRfc"
      },
      "execution_count": null,
      "outputs": []
    },
    {
      "cell_type": "code",
      "source": [
        "numeros2.shape"
      ],
      "metadata": {
        "id": "QwIONvPaKRfd"
      },
      "execution_count": null,
      "outputs": []
    },
    {
      "cell_type": "code",
      "source": [
        "valor2 = 1640107 -568528.11*numeros2 + 60092.59*numeros2**2"
      ],
      "metadata": {
        "id": "Jl8S1QHnKRfd"
      },
      "execution_count": null,
      "outputs": []
    },
    {
      "cell_type": "code",
      "source": [
        "import matplotlib.pyplot as plt"
      ],
      "metadata": {
        "id": "CwfK-zZLKRfe"
      },
      "execution_count": null,
      "outputs": []
    },
    {
      "cell_type": "code",
      "source": [
        "plt.scatter(x_teste, y_teste, c = \"gray\")\n",
        "plt.xlabel(\"Quantidade Cômodos\")\n",
        "plt.ylabel(\"Valor Casas\")\n",
        "plt.title(\"Previsão dos valores das casas: dados de teste\")\n",
        "plt.plot(numeros2, valor2);"
      ],
      "metadata": {
        "id": "dtf0r1GcKRfe"
      },
      "execution_count": null,
      "outputs": []
    },
    {
      "cell_type": "code",
      "source": [
        "x_poly_teste = grau_polinomial.fit_transform(x_teste)\n",
        "x_poly_teste"
      ],
      "metadata": {
        "id": "hoH-9JjWKdAe"
      },
      "execution_count": null,
      "outputs": []
    },
    {
      "cell_type": "code",
      "source": [
        "polinomial_teste = LinearRegression()"
      ],
      "metadata": {
        "id": "NJv-sQdBKdAf"
      },
      "execution_count": null,
      "outputs": []
    },
    {
      "cell_type": "code",
      "source": [
        "polinomial_teste.fit(x_poly_teste, y_teste)"
      ],
      "metadata": {
        "id": "mb-o1YtPKRfZ"
      },
      "execution_count": null,
      "outputs": []
    },
    {
      "cell_type": "code",
      "source": [
        "# Coeficiente de Determinação dados de teste\n",
        "polinomial.score(x_poly_teste, y_teste)"
      ],
      "metadata": {
        "id": "N4VHnrmARbfA"
      },
      "execution_count": null,
      "outputs": []
    },
    {
      "cell_type": "code",
      "source": [
        "previsoes_teste = polinomial_teste.predict(x_poly_teste)"
      ],
      "metadata": {
        "id": "8PngvKX2KRfa"
      },
      "execution_count": null,
      "outputs": []
    },
    {
      "cell_type": "markdown",
      "source": [
        "**MÉTRICAS**"
      ],
      "metadata": {
        "id": "bLfbXwUV2tZJ"
      }
    },
    {
      "cell_type": "code",
      "metadata": {
        "id": "PnDu4Kht7qFI"
      },
      "source": [
        "from sklearn.metrics import mean_absolute_error, mean_squared_error"
      ],
      "execution_count": null,
      "outputs": []
    },
    {
      "cell_type": "code",
      "metadata": {
        "id": "1aC34FoV7qFJ"
      },
      "source": [
        "# Erro médio Absoluto\n",
        "mean_absolute_error(y_teste, previsoes_teste)"
      ],
      "execution_count": null,
      "outputs": []
    },
    {
      "cell_type": "code",
      "metadata": {
        "id": "O-Q6xhUc7qFJ"
      },
      "source": [
        "# Erro quadrático médio\n",
        "mean_squared_error(y_teste, previsoes_teste)"
      ],
      "execution_count": null,
      "outputs": []
    },
    {
      "cell_type": "code",
      "metadata": {
        "id": "bRpWUvWg7qFK"
      },
      "source": [
        "# Raiz do erro quadrático médio (RMSE)\n",
        "np.sqrt(mean_squared_error(y_teste, previsoes_teste))"
      ],
      "execution_count": null,
      "outputs": []
    },
    {
      "cell_type": "markdown",
      "source": [
        "**RESULTADOS:**\n",
        "\n",
        "**REGRESSÃO LINEAR SIMPLES:** R^2 = 0,57/0,60; RMSE = 99315,5; R^2 Validação Cruzada: 55,97%\n",
        "\n",
        "**REGRESSÃO LINEAR MÚLTIPLA:** R^2 = 0,73/0,68; RMSE = 96087,3; R^2 Validação Cruzada: 69,25%\n",
        "\n",
        "**REGRESSÃO POLINOMIAL:** R^2 = 0,59/0,54; RMSE = 114670,6."
      ],
      "metadata": {
        "id": "N2mEiK4bR-5v"
      }
    },
    {
      "cell_type": "markdown",
      "source": [
        "## **REGRESSÃO POR VETORES DE SUPORTE**"
      ],
      "metadata": {
        "id": "WX2KnLCzsq7u"
      }
    },
    {
      "cell_type": "markdown",
      "source": [
        "https://scikit-learn.org/stable/modules/generated/sklearn.svm.SVR.html "
      ],
      "metadata": {
        "id": "X5x2joIiP457"
      }
    },
    {
      "cell_type": "code",
      "source": [
        "df.head(2)"
      ],
      "metadata": {
        "id": "YUF38EvVtCOS"
      },
      "execution_count": null,
      "outputs": []
    },
    {
      "cell_type": "code",
      "metadata": {
        "id": "m1BCYoD6udBc"
      },
      "source": [
        "independente = df.iloc[:, 0:3].values\n",
        "independente"
      ],
      "execution_count": null,
      "outputs": []
    },
    {
      "cell_type": "code",
      "source": [
        "independente.shape"
      ],
      "metadata": {
        "id": "UrL64jazudBe"
      },
      "execution_count": null,
      "outputs": []
    },
    {
      "cell_type": "code",
      "metadata": {
        "id": "BZsXvQGQudBf"
      },
      "source": [
        "dependente = df.iloc[:, 3].values\n",
        "dependente"
      ],
      "execution_count": null,
      "outputs": []
    },
    {
      "cell_type": "code",
      "metadata": {
        "id": "pJmPpACbudBf"
      },
      "source": [
        "from sklearn.model_selection import train_test_split\n",
        "x_treino, x_teste, y_treino, y_teste = train_test_split(independente, dependente, test_size = 0.3, random_state = 0)"
      ],
      "execution_count": null,
      "outputs": []
    },
    {
      "cell_type": "code",
      "metadata": {
        "id": "qEOTgfCnudBg"
      },
      "source": [
        "x_treino.shape, x_teste.shape"
      ],
      "execution_count": null,
      "outputs": []
    },
    {
      "cell_type": "code",
      "metadata": {
        "id": "ZmVCGt-BtGVO"
      },
      "source": [
        "# kernel = rbf, linear, polinomial (poly)\n",
        "from sklearn.svm import SVR\n",
        "SVR = SVR(kernel='rbf')\n",
        "SVR.fit(x_treino,y_treino)"
      ],
      "execution_count": null,
      "outputs": []
    },
    {
      "cell_type": "code",
      "metadata": {
        "id": "809lWfiEuMiV"
      },
      "source": [
        "SVR.score(x_treino, y_treino)"
      ],
      "execution_count": null,
      "outputs": []
    },
    {
      "cell_type": "code",
      "metadata": {
        "id": "ZCcstZ8uuUq8"
      },
      "source": [
        "SVR.score(x_teste, y_teste)"
      ],
      "execution_count": null,
      "outputs": []
    },
    {
      "cell_type": "markdown",
      "source": [
        "**Padronização de escala**"
      ],
      "metadata": {
        "id": "i0tdnZNhxRDj"
      }
    },
    {
      "cell_type": "code",
      "source": [
        "from sklearn.preprocessing import StandardScaler\n",
        "x_scaler = StandardScaler()\n",
        "x_treino_scaler = x_scaler.fit_transform(x_treino)"
      ],
      "metadata": {
        "id": "vIgPmXt8xRtk"
      },
      "execution_count": null,
      "outputs": []
    },
    {
      "cell_type": "code",
      "source": [
        "x_treino_scaler"
      ],
      "metadata": {
        "id": "fc4OD6JdyVks"
      },
      "execution_count": null,
      "outputs": []
    },
    {
      "cell_type": "code",
      "source": [
        "y_scaler = StandardScaler()\n",
        "y_treino_scaler = y_scaler.fit_transform(y_treino.reshape(-1,1))"
      ],
      "metadata": {
        "id": "wyKhCzqexRy0"
      },
      "execution_count": null,
      "outputs": []
    },
    {
      "cell_type": "code",
      "source": [
        "y_treino_scaler"
      ],
      "metadata": {
        "id": "uyOhdquuyb2D"
      },
      "execution_count": null,
      "outputs": []
    },
    {
      "cell_type": "code",
      "source": [
        "x_teste_scaler = x_scaler.transform(x_teste)\n",
        "x_teste_scaler"
      ],
      "metadata": {
        "id": "IsHYG6i7ygdg"
      },
      "execution_count": null,
      "outputs": []
    },
    {
      "cell_type": "code",
      "source": [
        "y_teste_scaler = y_scaler.transform(y_teste.reshape(-1,1))\n",
        "y_teste_scaler"
      ],
      "metadata": {
        "id": "P5QgpoYoy_Vq"
      },
      "execution_count": null,
      "outputs": []
    },
    {
      "cell_type": "code",
      "source": [
        "from sklearn.svm import SVR\n",
        "SVR2 = SVR(kernel='rbf')\n",
        "SVR2.fit(x_treino_scaler, y_treino_scaler.ravel())\n",
        "\n",
        "# .ravel() é para retornar matriz 1D"
      ],
      "metadata": {
        "id": "oyhO5h_8zZVJ"
      },
      "execution_count": null,
      "outputs": []
    },
    {
      "cell_type": "code",
      "source": [
        "SVR2.score(x_treino_scaler, y_treino_scaler)"
      ],
      "metadata": {
        "id": "-CfJcin_z0ZS"
      },
      "execution_count": null,
      "outputs": []
    },
    {
      "cell_type": "markdown",
      "source": [
        "**TESTE**"
      ],
      "metadata": {
        "id": "6fHv3HCV0c4U"
      }
    },
    {
      "cell_type": "code",
      "source": [
        "SVR2.score(x_teste_scaler, y_teste_scaler)"
      ],
      "metadata": {
        "id": "UkLzgWpV0cDv"
      },
      "execution_count": null,
      "outputs": []
    },
    {
      "cell_type": "code",
      "source": [
        "previsoes_teste = SVR2.predict(x_teste_scaler)\n",
        "previsoes_teste"
      ],
      "metadata": {
        "id": "tIHtC0NF038o"
      },
      "execution_count": null,
      "outputs": []
    },
    {
      "cell_type": "code",
      "source": [
        "y_teste_scaler"
      ],
      "metadata": {
        "id": "he5RYWCs1Cvl"
      },
      "execution_count": null,
      "outputs": []
    },
    {
      "cell_type": "markdown",
      "source": [
        "**Revertendo a transformação**"
      ],
      "metadata": {
        "id": "qXiWO2g21N4C"
      }
    },
    {
      "cell_type": "code",
      "source": [
        "y_teste_inverse = y_scaler.inverse_transform(y_teste_scaler)\n",
        "previsoes_inverse = y_scaler.inverse_transform(previsoes_teste.reshape(-1, 1))"
      ],
      "metadata": {
        "id": "YxYKJhda1QOQ"
      },
      "execution_count": null,
      "outputs": []
    },
    {
      "cell_type": "code",
      "source": [
        "y_teste_inverse"
      ],
      "metadata": {
        "id": "h5UWcx7U2O4R"
      },
      "execution_count": null,
      "outputs": []
    },
    {
      "cell_type": "code",
      "source": [
        "previsoes_inverse"
      ],
      "metadata": {
        "id": "gzk4dY8b2RaH"
      },
      "execution_count": null,
      "outputs": []
    },
    {
      "cell_type": "markdown",
      "source": [
        "**MÉTRICAS**"
      ],
      "metadata": {
        "id": "LIuZtYzy244V"
      }
    },
    {
      "cell_type": "code",
      "metadata": {
        "id": "xQObOvjP244W"
      },
      "source": [
        "from sklearn.metrics import mean_absolute_error, mean_squared_error"
      ],
      "execution_count": null,
      "outputs": []
    },
    {
      "cell_type": "code",
      "metadata": {
        "id": "4_JGDXQ_244X"
      },
      "source": [
        "# Erro médio Absoluto\n",
        "mean_absolute_error(y_teste_inverse, previsoes_inverse)"
      ],
      "execution_count": null,
      "outputs": []
    },
    {
      "cell_type": "code",
      "metadata": {
        "id": "FGawDh_o244Y"
      },
      "source": [
        "# Erro quadrático médio\n",
        "mean_squared_error(y_teste_inverse, previsoes_inverse)"
      ],
      "execution_count": null,
      "outputs": []
    },
    {
      "cell_type": "code",
      "metadata": {
        "id": "5EwUUep7244Z"
      },
      "source": [
        "# Raiz do erro quadrático médio (RMSE)\n",
        "np.sqrt(mean_squared_error(y_teste_inverse, previsoes_inverse))"
      ],
      "execution_count": null,
      "outputs": []
    },
    {
      "cell_type": "markdown",
      "source": [
        "### **Validação Cruzada**"
      ],
      "metadata": {
        "id": "rHDzUmOb35hE"
      }
    },
    {
      "cell_type": "markdown",
      "source": [
        "**Padronização de escala**"
      ],
      "metadata": {
        "id": "ebxViZwY3_mH"
      }
    },
    {
      "cell_type": "code",
      "source": [
        "from sklearn.preprocessing import StandardScaler\n",
        "x = StandardScaler()\n",
        "independente_scaler = x.fit_transform(independente)"
      ],
      "metadata": {
        "id": "AIAuGipc3_mI"
      },
      "execution_count": null,
      "outputs": []
    },
    {
      "cell_type": "code",
      "source": [
        "independente_scaler"
      ],
      "metadata": {
        "id": "RO4FhcYt3_mI"
      },
      "execution_count": null,
      "outputs": []
    },
    {
      "cell_type": "code",
      "source": [
        "y = StandardScaler()\n",
        "dependente_scaler = y.fit_transform(dependente.reshape(-1,1))"
      ],
      "metadata": {
        "id": "y5khxbi53_mJ"
      },
      "execution_count": null,
      "outputs": []
    },
    {
      "cell_type": "code",
      "source": [
        "from sklearn.model_selection import KFold\n",
        "from sklearn.model_selection import cross_val_score"
      ],
      "metadata": {
        "id": "VFsyFWtC3gLe"
      },
      "execution_count": null,
      "outputs": []
    },
    {
      "cell_type": "code",
      "source": [
        "# Separando os dados em folds\n",
        "kfold = KFold(n_splits = 15, shuffle=True, random_state = 5)"
      ],
      "metadata": {
        "id": "AwKcmfAS3gLg"
      },
      "execution_count": null,
      "outputs": []
    },
    {
      "cell_type": "code",
      "source": [
        "# Criando o modelo\n",
        "from sklearn.svm import SVR\n",
        "modelo = SVR(kernel='rbf')\n",
        "resultado = cross_val_score(modelo, independente_scaler, dependente_scaler.ravel(), cv = kfold)\n",
        "resultado"
      ],
      "metadata": {
        "id": "i8R3DHwF3gLg"
      },
      "execution_count": null,
      "outputs": []
    },
    {
      "cell_type": "code",
      "source": [
        "# Usamos a média e o desvio padrão\n",
        "print(\"Coeficiente de Determinação médio: %.2f%%\" % (resultado.mean() * 100.0))"
      ],
      "metadata": {
        "id": "6xzv5UHd3gLh"
      },
      "execution_count": null,
      "outputs": []
    },
    {
      "cell_type": "markdown",
      "source": [
        "**RESULTADOS:**\n",
        "\n",
        "**REGRESSÃO LINEAR SIMPLES:** R^2 = 0,57/0,60; RMSE = 99315,5; R^2 Validação Cruzada: 55,97%\n",
        "\n",
        "**REGRESSÃO LINEAR MÚLTIPLA:** R^2 = 0,73/0,68; RMSE = 96087,3; R^2 Validação Cruzada: 69,25%\n",
        "\n",
        "**REGRESSÃO POLINOMIAL:** R^2 = 0,59/0,54; RMSE = 114670,6.\n",
        "\n",
        "**REGRESSÃO SVR:** R^2 = 0,87/0,81; RMSE = 73422,7. R^2 Validação Cruzada: 82,37%."
      ],
      "metadata": {
        "id": "9uo9IM_V2nph"
      }
    },
    {
      "cell_type": "markdown",
      "source": [
        "## **REGRESSÃO COM ÁRVORE DE DECISÃO**"
      ],
      "metadata": {
        "id": "N3OZHJFl2npi"
      }
    },
    {
      "cell_type": "markdown",
      "source": [
        "https://scikit-learn.org/stable/modules/tree.html#regression "
      ],
      "metadata": {
        "id": "0tAem7qwPVhF"
      }
    },
    {
      "cell_type": "code",
      "source": [
        "df.head(2)"
      ],
      "metadata": {
        "id": "ka5_F-RwHkLb"
      },
      "execution_count": null,
      "outputs": []
    },
    {
      "cell_type": "code",
      "metadata": {
        "id": "PSvXJHP3HkLc"
      },
      "source": [
        "independente = df.iloc[:, 0:3].values\n",
        "independente"
      ],
      "execution_count": null,
      "outputs": []
    },
    {
      "cell_type": "code",
      "source": [
        "independente.shape"
      ],
      "metadata": {
        "id": "x3JRhqbFHkLd"
      },
      "execution_count": null,
      "outputs": []
    },
    {
      "cell_type": "code",
      "metadata": {
        "id": "enBgBJlRHkLd"
      },
      "source": [
        "dependente = df.iloc[:, 3].values\n",
        "dependente"
      ],
      "execution_count": null,
      "outputs": []
    },
    {
      "cell_type": "code",
      "source": [
        "dependente.shape"
      ],
      "metadata": {
        "id": "ChyvkvdhHy3l"
      },
      "execution_count": null,
      "outputs": []
    },
    {
      "cell_type": "code",
      "metadata": {
        "id": "F66i09NYHkLe"
      },
      "source": [
        "from sklearn.model_selection import train_test_split\n",
        "x_treino, x_teste, y_treino, y_teste = train_test_split(independente, dependente, test_size = 0.3, random_state = 0)"
      ],
      "execution_count": null,
      "outputs": []
    },
    {
      "cell_type": "code",
      "metadata": {
        "id": "T59uRIMSHkLe"
      },
      "source": [
        "x_treino.shape, x_teste.shape"
      ],
      "execution_count": null,
      "outputs": []
    },
    {
      "cell_type": "code",
      "source": [
        "y_treino.shape, y_teste.shape"
      ],
      "metadata": {
        "id": "AGQ6_Yp8H8Jk"
      },
      "execution_count": null,
      "outputs": []
    },
    {
      "cell_type": "code",
      "metadata": {
        "id": "xekvfhT7hWgM"
      },
      "source": [
        "from sklearn.tree import DecisionTreeRegressor\n",
        "arvore = DecisionTreeRegressor(max_depth=5, random_state=10)\n",
        "arvore.fit(x_treino, y_treino)"
      ],
      "execution_count": null,
      "outputs": []
    },
    {
      "cell_type": "code",
      "metadata": {
        "id": "9N8PKjeLhnwm"
      },
      "source": [
        "arvore.score(x_treino, y_treino)"
      ],
      "execution_count": null,
      "outputs": []
    },
    {
      "cell_type": "markdown",
      "source": [
        "**TESTE**"
      ],
      "metadata": {
        "id": "-4H1NHKAMTMx"
      }
    },
    {
      "cell_type": "code",
      "metadata": {
        "id": "fnRicPdUhtEV"
      },
      "source": [
        "arvore.score(x_teste, y_teste)"
      ],
      "execution_count": null,
      "outputs": []
    },
    {
      "cell_type": "code",
      "metadata": {
        "id": "iUUoAtpBh3gv"
      },
      "source": [
        "previsoes_teste = arvore.predict(x_teste)\n",
        "previsoes_teste"
      ],
      "execution_count": null,
      "outputs": []
    },
    {
      "cell_type": "code",
      "metadata": {
        "id": "AbwmfJgLh8wk"
      },
      "source": [
        "y_teste"
      ],
      "execution_count": null,
      "outputs": []
    },
    {
      "cell_type": "markdown",
      "source": [
        "**MÉTRICAS**"
      ],
      "metadata": {
        "id": "lKWJ-81bMyZP"
      }
    },
    {
      "cell_type": "code",
      "metadata": {
        "id": "eAErxalxMyZQ"
      },
      "source": [
        "from sklearn.metrics import mean_absolute_error, mean_squared_error"
      ],
      "execution_count": null,
      "outputs": []
    },
    {
      "cell_type": "code",
      "metadata": {
        "id": "o7shpq0eMyZR"
      },
      "source": [
        "# Erro médio Absoluto\n",
        "mean_absolute_error(y_teste, previsoes_teste)"
      ],
      "execution_count": null,
      "outputs": []
    },
    {
      "cell_type": "code",
      "metadata": {
        "id": "UCxNMPjvMyZS"
      },
      "source": [
        "# Erro quadrático médio\n",
        "mean_squared_error(y_teste, previsoes_teste)"
      ],
      "execution_count": null,
      "outputs": []
    },
    {
      "cell_type": "code",
      "metadata": {
        "id": "-i_NBmScMyZS"
      },
      "source": [
        "# Raiz do erro quadrático médio (RMSE)\n",
        "np.sqrt(mean_squared_error(y_teste, previsoes_teste))"
      ],
      "execution_count": null,
      "outputs": []
    },
    {
      "cell_type": "markdown",
      "source": [
        "### **Validação Cruzada**"
      ],
      "metadata": {
        "id": "KlGC2Y7eNJIH"
      }
    },
    {
      "cell_type": "code",
      "source": [
        "from sklearn.model_selection import KFold\n",
        "from sklearn.model_selection import cross_val_score"
      ],
      "metadata": {
        "id": "_uZCiCebNJII"
      },
      "execution_count": null,
      "outputs": []
    },
    {
      "cell_type": "code",
      "source": [
        "# Separando os dados em folds\n",
        "kfold = KFold(n_splits = 15, shuffle=True, random_state = 5)"
      ],
      "metadata": {
        "id": "dzXlSwOHNJIJ"
      },
      "execution_count": null,
      "outputs": []
    },
    {
      "cell_type": "code",
      "source": [
        "# Criando o modelo\n",
        "from sklearn.tree import DecisionTreeRegressor\n",
        "modelo = DecisionTreeRegressor(max_depth=5, random_state=10)\n",
        "resultado = cross_val_score(modelo, independente, dependente, cv = kfold)\n",
        "resultado"
      ],
      "metadata": {
        "id": "JOzI7g_kNJIJ"
      },
      "execution_count": null,
      "outputs": []
    },
    {
      "cell_type": "code",
      "source": [
        "# Usamos a média e o desvio padrão\n",
        "print(\"Coeficiente de Determinação Médio: %.2f%%\" % (resultado.mean() * 100.0))"
      ],
      "metadata": {
        "id": "k9_kKBtYNJIK"
      },
      "execution_count": null,
      "outputs": []
    },
    {
      "cell_type": "markdown",
      "source": [
        "**RESULTADOS:**\n",
        "\n",
        "**REGRESSÃO LINEAR SIMPLES:** R^2 = 0,57/0,60; RMSE = 99315,5; R^2 Validação Cruzada: 55,97%\n",
        "\n",
        "**REGRESSÃO LINEAR MÚLTIPLA:** R^2 = 0,73/0,68; RMSE = 96087,3; R^2 Validação Cruzada: 69,25%\n",
        "\n",
        "**REGRESSÃO POLINOMIAL:** R^2 = 0,59/0,54; RMSE = 114670,6.\n",
        "\n",
        "**REGRESSÃO SVR:** R^2 = 0,87/0,81; RMSE = 73422,7. R^2 Validação Cruzada: 82,37%.\n",
        "\n",
        "**REGRESSÃO ÁRVORE DE DECISÃO:** R^2 = 0,91/0,83; RMSE = 71114,5. R^2 Validação Cruzada: 74,60%."
      ],
      "metadata": {
        "id": "T-iYcZo4NJIL"
      }
    },
    {
      "cell_type": "markdown",
      "source": [
        "## **REGRESSÃO COM RANDOM FOREST**"
      ],
      "metadata": {
        "id": "em7docfu_mvB"
      }
    },
    {
      "cell_type": "markdown",
      "source": [
        "https://scikit-learn.org/stable/modules/generated/sklearn.ensemble.RandomForestRegressor.html "
      ],
      "metadata": {
        "id": "XxohwrvT_xVI"
      }
    },
    {
      "cell_type": "code",
      "source": [
        "df.head(2)"
      ],
      "metadata": {
        "id": "BreuwClMAqSa",
        "colab": {
          "base_uri": "https://localhost:8080/",
          "height": 112
        },
        "outputId": "9b07a060-711a-4511-af62-7f5355ac4ed9"
      },
      "execution_count": null,
      "outputs": [
        {
          "output_type": "execute_result",
          "data": {
            "text/plain": [
              "      RM  LSTAT  PTRATIO      MEDV\n",
              "0  6.575   4.98     15.3  504000.0\n",
              "1  6.421   9.14     17.8  453600.0"
            ],
            "text/html": [
              "\n",
              "  <div id=\"df-29b025cc-b823-4cfa-a06b-baaf8a7c23e8\">\n",
              "    <div class=\"colab-df-container\">\n",
              "      <div>\n",
              "<style scoped>\n",
              "    .dataframe tbody tr th:only-of-type {\n",
              "        vertical-align: middle;\n",
              "    }\n",
              "\n",
              "    .dataframe tbody tr th {\n",
              "        vertical-align: top;\n",
              "    }\n",
              "\n",
              "    .dataframe thead th {\n",
              "        text-align: right;\n",
              "    }\n",
              "</style>\n",
              "<table border=\"1\" class=\"dataframe\">\n",
              "  <thead>\n",
              "    <tr style=\"text-align: right;\">\n",
              "      <th></th>\n",
              "      <th>RM</th>\n",
              "      <th>LSTAT</th>\n",
              "      <th>PTRATIO</th>\n",
              "      <th>MEDV</th>\n",
              "    </tr>\n",
              "  </thead>\n",
              "  <tbody>\n",
              "    <tr>\n",
              "      <th>0</th>\n",
              "      <td>6.575</td>\n",
              "      <td>4.98</td>\n",
              "      <td>15.3</td>\n",
              "      <td>504000.0</td>\n",
              "    </tr>\n",
              "    <tr>\n",
              "      <th>1</th>\n",
              "      <td>6.421</td>\n",
              "      <td>9.14</td>\n",
              "      <td>17.8</td>\n",
              "      <td>453600.0</td>\n",
              "    </tr>\n",
              "  </tbody>\n",
              "</table>\n",
              "</div>\n",
              "      <button class=\"colab-df-convert\" onclick=\"convertToInteractive('df-29b025cc-b823-4cfa-a06b-baaf8a7c23e8')\"\n",
              "              title=\"Convert this dataframe to an interactive table.\"\n",
              "              style=\"display:none;\">\n",
              "        \n",
              "  <svg xmlns=\"http://www.w3.org/2000/svg\" height=\"24px\"viewBox=\"0 0 24 24\"\n",
              "       width=\"24px\">\n",
              "    <path d=\"M0 0h24v24H0V0z\" fill=\"none\"/>\n",
              "    <path d=\"M18.56 5.44l.94 2.06.94-2.06 2.06-.94-2.06-.94-.94-2.06-.94 2.06-2.06.94zm-11 1L8.5 8.5l.94-2.06 2.06-.94-2.06-.94L8.5 2.5l-.94 2.06-2.06.94zm10 10l.94 2.06.94-2.06 2.06-.94-2.06-.94-.94-2.06-.94 2.06-2.06.94z\"/><path d=\"M17.41 7.96l-1.37-1.37c-.4-.4-.92-.59-1.43-.59-.52 0-1.04.2-1.43.59L10.3 9.45l-7.72 7.72c-.78.78-.78 2.05 0 2.83L4 21.41c.39.39.9.59 1.41.59.51 0 1.02-.2 1.41-.59l7.78-7.78 2.81-2.81c.8-.78.8-2.07 0-2.86zM5.41 20L4 18.59l7.72-7.72 1.47 1.35L5.41 20z\"/>\n",
              "  </svg>\n",
              "      </button>\n",
              "      \n",
              "  <style>\n",
              "    .colab-df-container {\n",
              "      display:flex;\n",
              "      flex-wrap:wrap;\n",
              "      gap: 12px;\n",
              "    }\n",
              "\n",
              "    .colab-df-convert {\n",
              "      background-color: #E8F0FE;\n",
              "      border: none;\n",
              "      border-radius: 50%;\n",
              "      cursor: pointer;\n",
              "      display: none;\n",
              "      fill: #1967D2;\n",
              "      height: 32px;\n",
              "      padding: 0 0 0 0;\n",
              "      width: 32px;\n",
              "    }\n",
              "\n",
              "    .colab-df-convert:hover {\n",
              "      background-color: #E2EBFA;\n",
              "      box-shadow: 0px 1px 2px rgba(60, 64, 67, 0.3), 0px 1px 3px 1px rgba(60, 64, 67, 0.15);\n",
              "      fill: #174EA6;\n",
              "    }\n",
              "\n",
              "    [theme=dark] .colab-df-convert {\n",
              "      background-color: #3B4455;\n",
              "      fill: #D2E3FC;\n",
              "    }\n",
              "\n",
              "    [theme=dark] .colab-df-convert:hover {\n",
              "      background-color: #434B5C;\n",
              "      box-shadow: 0px 1px 3px 1px rgba(0, 0, 0, 0.15);\n",
              "      filter: drop-shadow(0px 1px 2px rgba(0, 0, 0, 0.3));\n",
              "      fill: #FFFFFF;\n",
              "    }\n",
              "  </style>\n",
              "\n",
              "      <script>\n",
              "        const buttonEl =\n",
              "          document.querySelector('#df-29b025cc-b823-4cfa-a06b-baaf8a7c23e8 button.colab-df-convert');\n",
              "        buttonEl.style.display =\n",
              "          google.colab.kernel.accessAllowed ? 'block' : 'none';\n",
              "\n",
              "        async function convertToInteractive(key) {\n",
              "          const element = document.querySelector('#df-29b025cc-b823-4cfa-a06b-baaf8a7c23e8');\n",
              "          const dataTable =\n",
              "            await google.colab.kernel.invokeFunction('convertToInteractive',\n",
              "                                                     [key], {});\n",
              "          if (!dataTable) return;\n",
              "\n",
              "          const docLinkHtml = 'Like what you see? Visit the ' +\n",
              "            '<a target=\"_blank\" href=https://colab.research.google.com/notebooks/data_table.ipynb>data table notebook</a>'\n",
              "            + ' to learn more about interactive tables.';\n",
              "          element.innerHTML = '';\n",
              "          dataTable['output_type'] = 'display_data';\n",
              "          await google.colab.output.renderOutput(dataTable, element);\n",
              "          const docLink = document.createElement('div');\n",
              "          docLink.innerHTML = docLinkHtml;\n",
              "          element.appendChild(docLink);\n",
              "        }\n",
              "      </script>\n",
              "    </div>\n",
              "  </div>\n",
              "  "
            ]
          },
          "metadata": {},
          "execution_count": 43
        }
      ]
    },
    {
      "cell_type": "code",
      "metadata": {
        "id": "L9IfgWrjAqSb",
        "colab": {
          "base_uri": "https://localhost:8080/"
        },
        "outputId": "d570d42d-45b5-42f5-adb0-02de6b9819cf"
      },
      "source": [
        "independente = df.iloc[:, 0:3].values\n",
        "independente"
      ],
      "execution_count": null,
      "outputs": [
        {
          "output_type": "execute_result",
          "data": {
            "text/plain": [
              "array([[ 6.575,  4.98 , 15.3  ],\n",
              "       [ 6.421,  9.14 , 17.8  ],\n",
              "       [ 7.185,  4.03 , 17.8  ],\n",
              "       ...,\n",
              "       [ 6.976,  5.64 , 21.   ],\n",
              "       [ 6.794,  6.48 , 21.   ],\n",
              "       [ 6.03 ,  7.88 , 21.   ]])"
            ]
          },
          "metadata": {},
          "execution_count": 44
        }
      ]
    },
    {
      "cell_type": "code",
      "source": [
        "independente.shape"
      ],
      "metadata": {
        "id": "fzFtVk9JAqSc",
        "colab": {
          "base_uri": "https://localhost:8080/"
        },
        "outputId": "1048d9a9-6015-49d9-e2a6-e4cef8d30485"
      },
      "execution_count": null,
      "outputs": [
        {
          "output_type": "execute_result",
          "data": {
            "text/plain": [
              "(489, 3)"
            ]
          },
          "metadata": {},
          "execution_count": 45
        }
      ]
    },
    {
      "cell_type": "code",
      "metadata": {
        "id": "dPZbKG7yAqSd",
        "colab": {
          "base_uri": "https://localhost:8080/"
        },
        "outputId": "acd74b40-75a6-4648-c085-331d5353d780"
      },
      "source": [
        "dependente = df.iloc[:, 3].values\n",
        "dependente"
      ],
      "execution_count": null,
      "outputs": [
        {
          "output_type": "execute_result",
          "data": {
            "text/plain": [
              "array([ 504000.,  453600.,  728700.,  701400.,  760200.,  602700.,\n",
              "        480900.,  569100.,  346500.,  396900.,  315000.,  396900.,\n",
              "        455700.,  428400.,  382200.,  417900.,  485100.,  367500.,\n",
              "        424200.,  382200.,  285600.,  411600.,  319200.,  304500.,\n",
              "        327600.,  291900.,  348600.,  310800.,  386400.,  441000.,\n",
              "        266700.,  304500.,  277200.,  275100.,  283500.,  396900.,\n",
              "        420000.,  441000.,  518700.,  646800.,  732900.,  558600.,\n",
              "        531300.,  518700.,  445200.,  405300.,  420000.,  348600.,\n",
              "        302400.,  407400.,  413700.,  430500.,  525000.,  491400.,\n",
              "        396900.,  743400.,  518700.,  663600.,  489300.,  411600.,\n",
              "        392700.,  336000.,  466200.,  525000.,  693000.,  493500.,\n",
              "        407400.,  462000.,  365400.,  438900.,  508200.,  455700.,\n",
              "        478800.,  491400.,  506100.,  449400.,  420000.,  436800.,\n",
              "        445200.,  426300.,  588000.,  501900.,  520800.,  480900.,\n",
              "        501900.,  558600.,  472500.,  466200.,  495600.,  602700.,\n",
              "        474600.,  462000.,  480900.,  525000.,  432600.,  596400.,\n",
              "        449400.,  812700.,  919800.,  697200.,  577500.,  556500.,\n",
              "        390600.,  405300.,  422100.,  409500.,  409500.,  428400.,\n",
              "        415800.,  407400.,  455700.,  478800.,  394800.,  392700.,\n",
              "        388500.,  384300.,  445200.,  403200.,  428400.,  405300.,\n",
              "        462000.,  426300.,  430500.,  363300.,  394800.,  449400.,\n",
              "        329700.,  340200.,  378000.,  300300.,  403200.,  411600.,\n",
              "        483000.,  386400.,  327600.,  380100.,  365400.,  359100.,\n",
              "        279300.,  373800.,  294000.,  302400.,  281400.,  327600.,\n",
              "        247800.,  289800.,  327600.,  306600.,  373800.,  323400.,\n",
              "        451500.,  411600.,  321300.,  407400.,  357000.,  327600.,\n",
              "        275100.,  867300.,  510300.,  489300.,  567000.,  476700.,\n",
              "        525000.,  499800.,  499800.,  468300.,  365400.,  401100.,\n",
              "        485100.,  495600.,  474600.,  617400.,  487200.,  516600.,\n",
              "        627900.,  781200.,  835800.,  760200.,  795900.,  682500.,\n",
              "        554400.,  621600.,  672000.,  625800.,  732900.,  777000.,\n",
              "        640500.,  764400.,  653100.,  611100.,  699300.,  636300.,\n",
              "        726600.,  732900.,  690900.,  506100.,  888300., 1018500.,\n",
              "        474600.,  512400.,  472500.,  512400.,  420000.,  455700.,\n",
              "        405300.,  470400.,  590100.,  497700.,  525000.,  489300.,\n",
              "        602700.,  451500.,  483000.,  560700.,  455700.,  577500.,\n",
              "        632100.,  940800.,  789600.,  663600.,  980700.,  661500.,\n",
              "        510300.,  665700.,  875700., 1014300.,  609000.,  504000.,\n",
              "        527100.,  661500.,  497700.,  489300.,  462000.,  422100.,\n",
              "        466200.,  497700.,  369600.,  388500.,  510300.,  430500.,\n",
              "        514500.,  550200.,  512400.,  520800.,  621600.,  898800.,\n",
              "        459900.,  438900.,  924000.,  756000.,  632100.,  709800.,\n",
              "        905100., 1024800.,  651000.,  766500.,  478800.,  644700.,\n",
              "        913500.,  434700.,  443100.,  529200.,  512400.,  739200.,\n",
              "        680400.,  672000.,  697200.,  695100.,  611100.,  737100.,\n",
              "        953400.,  743400.,  966000.,  676200.,  462000.,  422100.,\n",
              "        487200.,  468300.,  520800.,  598500.,  783300.,  585900.,\n",
              "        501900.,  455700.,  600600.,  569100.,  426300.,  472500.,\n",
              "        609000.,  520800.,  462000.,  554400.,  695100.,  758100.,\n",
              "        596400.,  701400.,  592200.,  478800.,  426300.,  338100.,\n",
              "        464100.,  407400.,  453600.,  499800.,  340200.,  373800.,\n",
              "        415800.,  485100.,  441000.,  499800.,  485100.,  428400.,\n",
              "        388500.,  525000.,  516600.,  483000.,  466200.,  405300.,\n",
              "        474600.,  415800.,  359100.,  407400.,  466200.,  434700.,\n",
              "        443100.,  409500.,  388500.,  432600.,  399000.,  392700.,\n",
              "        686700.,  346500.,  501900.,  655200.,  367500.,  361200.,\n",
              "        485100.,  514500.,  558600.,  480900.,  506100.,  390600.,\n",
              "        632100.,  382200.,  432600.,  373800.,  455700.,  476700.,\n",
              "        474600.,  525000.,  417900.,  436800.,  352800.,  577500.,\n",
              "        459900.,  485100.,  289800.,  289800.,  315000.,  291900.,\n",
              "        279300.,  275100.,  214200.,  218400.,  228900.,  237300.,\n",
              "        258300.,  184800.,  151200.,  220500.,  155400.,  214200.,\n",
              "        241500.,  317100.,  487200.,  203700.,  289800.,  266700.,\n",
              "        275100.,  262500.,  178500.,  105000.,  132300.,  117600.,\n",
              "        151200.,  254100.,  174300.,  178500.,  105000.,  249900.,\n",
              "        585900.,  361200.,  577500.,  315000.,  361200.,  375900.,\n",
              "        342300.,  147000.,  151200.,  157500.,  218400.,  184800.,\n",
              "        176400.,  350700.,  298200.,  436800.,  281400.,  245700.,\n",
              "        174300.,  214200.,  228900.,  231000.,  199500.,  304500.,\n",
              "        296100.,  338100.,  300300.,  245700.,  281400.,  201600.,\n",
              "        182700.,  176400.,  268800.,  220500.,  359100.,  386400.,\n",
              "        323400.,  226800.,  247800.,  312900.,  264600.,  296100.,\n",
              "        273000.,  281400.,  319200.,  338100.,  373800.,  312900.,\n",
              "        296100.,  266700.,  283500.,  312900.,  420000.,  344400.,\n",
              "        371700.,  409500.,  424200.,  449400.,  417900.,  399000.,\n",
              "        401100.,  401100.,  422100.,  417900.,  411600.,  487200.,\n",
              "        625800.,  289800.,  279300.,  350700.,  252000.,  306600.,\n",
              "        449400.,  483000.,  497700.,  525000.,  457800.,  432600.,\n",
              "        445200.,  401100.,  432600.,  319200.,  147000.,  170100.,\n",
              "        285600.,  422100.,  457800.,  514500.,  485100.,  413700.,\n",
              "        384300.,  445200.,  367500.,  352800.,  470400.,  432600.,\n",
              "        501900.,  462000.,  249900.])"
            ]
          },
          "metadata": {},
          "execution_count": 46
        }
      ]
    },
    {
      "cell_type": "code",
      "source": [
        "dependente.shape"
      ],
      "metadata": {
        "id": "mKrN8FpVAqSe",
        "colab": {
          "base_uri": "https://localhost:8080/"
        },
        "outputId": "b672b375-09c3-4391-f5b8-1e5b69202020"
      },
      "execution_count": null,
      "outputs": [
        {
          "output_type": "execute_result",
          "data": {
            "text/plain": [
              "(489,)"
            ]
          },
          "metadata": {},
          "execution_count": 47
        }
      ]
    },
    {
      "cell_type": "code",
      "metadata": {
        "id": "FBV-LWNCAqSe"
      },
      "source": [
        "from sklearn.model_selection import train_test_split\n",
        "x_treino, x_teste, y_treino, y_teste = train_test_split(independente, dependente, test_size = 0.3, random_state = 0)"
      ],
      "execution_count": null,
      "outputs": []
    },
    {
      "cell_type": "code",
      "metadata": {
        "id": "smtq2nvRAqSf",
        "colab": {
          "base_uri": "https://localhost:8080/"
        },
        "outputId": "9b7fc03d-2606-4f0a-f988-bf489e4f4dc4"
      },
      "source": [
        "x_treino.shape, x_teste.shape"
      ],
      "execution_count": null,
      "outputs": [
        {
          "output_type": "execute_result",
          "data": {
            "text/plain": [
              "((342, 3), (147, 3))"
            ]
          },
          "metadata": {},
          "execution_count": 49
        }
      ]
    },
    {
      "cell_type": "code",
      "source": [
        "y_treino.shape, y_teste.shape"
      ],
      "metadata": {
        "id": "cmGJ3PJVAqSf",
        "colab": {
          "base_uri": "https://localhost:8080/"
        },
        "outputId": "6f7a299e-0caa-4d08-c453-b0fccd1025ce"
      },
      "execution_count": null,
      "outputs": [
        {
          "output_type": "execute_result",
          "data": {
            "text/plain": [
              "((342,), (147,))"
            ]
          },
          "metadata": {},
          "execution_count": 50
        }
      ]
    },
    {
      "cell_type": "code",
      "source": [
        "from sklearn.ensemble import RandomForestRegressor"
      ],
      "metadata": {
        "id": "jq-8R7XpB9f3"
      },
      "execution_count": null,
      "outputs": []
    },
    {
      "cell_type": "code",
      "metadata": {
        "id": "6dN6ggkVBHH4",
        "colab": {
          "base_uri": "https://localhost:8080/"
        },
        "outputId": "800ef63a-6f87-46cc-f014-a55c33bc769c"
      },
      "source": [
        "random = RandomForestRegressor(n_estimators=60, criterion='squared_error', max_depth=5, random_state = 10)\n",
        "random.fit(x_treino, y_treino)"
      ],
      "execution_count": null,
      "outputs": [
        {
          "output_type": "execute_result",
          "data": {
            "text/plain": [
              "RandomForestRegressor(max_depth=5, n_estimators=60, random_state=10)"
            ]
          },
          "metadata": {},
          "execution_count": 56
        }
      ]
    },
    {
      "cell_type": "code",
      "metadata": {
        "id": "RtbJdyMVBHH6",
        "colab": {
          "base_uri": "https://localhost:8080/"
        },
        "outputId": "7e90016b-cea8-41e7-d2de-500c19cfa74e"
      },
      "source": [
        "random.score(x_treino, y_treino)"
      ],
      "execution_count": null,
      "outputs": [
        {
          "output_type": "execute_result",
          "data": {
            "text/plain": [
              "0.9160346630571496"
            ]
          },
          "metadata": {},
          "execution_count": 57
        }
      ]
    },
    {
      "cell_type": "markdown",
      "source": [
        "**TESTE**"
      ],
      "metadata": {
        "id": "l6-F9ZQxBHH7"
      }
    },
    {
      "cell_type": "code",
      "metadata": {
        "id": "gBApN-jaBHH7"
      },
      "source": [
        "random.score(x_teste, y_teste)"
      ],
      "execution_count": null,
      "outputs": []
    },
    {
      "cell_type": "code",
      "metadata": {
        "id": "Y51B43YTBHH8"
      },
      "source": [
        "previsoes_teste = random.predict(x_teste)\n",
        "previsoes_teste"
      ],
      "execution_count": null,
      "outputs": []
    },
    {
      "cell_type": "code",
      "metadata": {
        "id": "B48-pZ7eBHH9"
      },
      "source": [
        "y_teste"
      ],
      "execution_count": null,
      "outputs": []
    },
    {
      "cell_type": "markdown",
      "source": [
        "**MÉTRICAS**"
      ],
      "metadata": {
        "id": "l1m3gPLhBHH9"
      }
    },
    {
      "cell_type": "code",
      "metadata": {
        "id": "x-D_BJZ-BHH9"
      },
      "source": [
        "from sklearn.metrics import mean_absolute_error, mean_squared_error"
      ],
      "execution_count": null,
      "outputs": []
    },
    {
      "cell_type": "code",
      "metadata": {
        "id": "wvRaZ50aBHH-"
      },
      "source": [
        "# Erro médio Absoluto\n",
        "mean_absolute_error(y_teste, previsoes_teste)"
      ],
      "execution_count": null,
      "outputs": []
    },
    {
      "cell_type": "code",
      "metadata": {
        "id": "Fjju8AAbBHH_"
      },
      "source": [
        "# Erro quadrático médio\n",
        "mean_squared_error(y_teste, previsoes_teste)"
      ],
      "execution_count": null,
      "outputs": []
    },
    {
      "cell_type": "code",
      "metadata": {
        "id": "L_4yAmxxBHH_"
      },
      "source": [
        "# Raiz do erro quadrático médio (RMSE)\n",
        "np.sqrt(mean_squared_error(y_teste, previsoes_teste))"
      ],
      "execution_count": null,
      "outputs": []
    },
    {
      "cell_type": "markdown",
      "source": [
        "### **Validação Cruzada**"
      ],
      "metadata": {
        "id": "mLyVoeblBHIA"
      }
    },
    {
      "cell_type": "code",
      "source": [
        "from sklearn.model_selection import KFold\n",
        "from sklearn.model_selection import cross_val_score"
      ],
      "metadata": {
        "id": "TQiW7o6mBHIA"
      },
      "execution_count": null,
      "outputs": []
    },
    {
      "cell_type": "code",
      "source": [
        "# Separando os dados em folds\n",
        "kfold = KFold(n_splits = 15, shuffle=True, random_state = 5)"
      ],
      "metadata": {
        "id": "u6c0cLchBHIB"
      },
      "execution_count": null,
      "outputs": []
    },
    {
      "cell_type": "code",
      "source": [
        "# Criando o modelo\n",
        "from sklearn.ensemble import RandomForestRegressor\n",
        "modelo = RandomForestRegressor(n_estimators=60, criterion='squared_error', max_depth=5, random_state = 10)\n",
        "resultado = cross_val_score(modelo, independente, dependente, cv = kfold)\n",
        "resultado"
      ],
      "metadata": {
        "id": "bfcTtlMtBHIB"
      },
      "execution_count": null,
      "outputs": []
    },
    {
      "cell_type": "code",
      "source": [
        "# Usamos a média e o desvio padrão\n",
        "print(\"Coeficiente de Determinação Médio: %.2f%%\" % (resultado.mean() * 100.0))"
      ],
      "metadata": {
        "id": "k8dR6MeCBHIC"
      },
      "execution_count": null,
      "outputs": []
    },
    {
      "cell_type": "markdown",
      "source": [
        "**RESULTADOS:**\n",
        "\n",
        "**REGRESSÃO LINEAR SIMPLES:** R^2 = 0,57/0,60; RMSE = 99315,5; R^2 Validação Cruzada: 55,97%\n",
        "\n",
        "**REGRESSÃO LINEAR MÚLTIPLA:** R^2 = 0,73/0,68; RMSE = 96087,3; R^2 Validação Cruzada: 69,25%\n",
        "\n",
        "**REGRESSÃO POLINOMIAL:** R^2 = 0,59/0,54; RMSE = 114670,6.\n",
        "\n",
        "**REGRESSÃO SVR:** R^2 = 0,87/0,81; RMSE = 73422,7. R^2 Validação Cruzada: 82,37%.\n",
        "\n",
        "**REGRESSÃO ÁRVORE DE DECISÃO:** R^2 = 0,91/0,83; RMSE = 71114,5. R^2 Validação Cruzada: 74,60%.\n",
        "\n",
        "**REGRESSÃO COM RANDOM FOREST:** R^2 = 0,92/0,85; RMSE = 66729,3. R^2 Validação Cruzada: 82,85%."
      ],
      "metadata": {
        "id": "-5fEdSH-BHIC"
      }
    },
    {
      "cell_type": "markdown",
      "source": [
        "## **REGRESSÃO COM XGBOOST**"
      ],
      "metadata": {
        "id": "texm7_wzD3ZN"
      }
    },
    {
      "cell_type": "markdown",
      "source": [
        "https://xgboost.readthedocs.io/en/latest/python/python_api.html#xgboost.XGBRegressor "
      ],
      "metadata": {
        "id": "9bFhbBKgEnmc"
      }
    },
    {
      "cell_type": "code",
      "source": [
        "df.head(2)"
      ],
      "metadata": {
        "id": "S1kDY4K6LZ3o"
      },
      "execution_count": null,
      "outputs": []
    },
    {
      "cell_type": "code",
      "metadata": {
        "id": "gJxxUoJfLZ3q"
      },
      "source": [
        "independente = df.iloc[:, 0:3].values\n",
        "independente"
      ],
      "execution_count": null,
      "outputs": []
    },
    {
      "cell_type": "code",
      "source": [
        "independente.shape"
      ],
      "metadata": {
        "id": "X748p6-1LZ3r"
      },
      "execution_count": null,
      "outputs": []
    },
    {
      "cell_type": "code",
      "metadata": {
        "id": "T6PtTe5SLZ3r"
      },
      "source": [
        "dependente = df.iloc[:, 3].values"
      ],
      "execution_count": null,
      "outputs": []
    },
    {
      "cell_type": "code",
      "source": [
        "dependente.shape"
      ],
      "metadata": {
        "id": "IVvAP3tJLZ3s"
      },
      "execution_count": null,
      "outputs": []
    },
    {
      "cell_type": "code",
      "metadata": {
        "id": "-R3GlRD8LZ3s"
      },
      "source": [
        "from sklearn.model_selection import train_test_split\n",
        "x_treino, x_teste, y_treino, y_teste = train_test_split(independente, dependente, test_size = 0.3, random_state = 0)"
      ],
      "execution_count": null,
      "outputs": []
    },
    {
      "cell_type": "code",
      "metadata": {
        "id": "2ZOzrZh1LZ3t"
      },
      "source": [
        "x_treino.shape, x_teste.shape"
      ],
      "execution_count": null,
      "outputs": []
    },
    {
      "cell_type": "code",
      "source": [
        "from xgboost import XGBRegressor"
      ],
      "metadata": {
        "id": "gXsNjojnEoyA"
      },
      "execution_count": null,
      "outputs": []
    },
    {
      "cell_type": "code",
      "metadata": {
        "id": "ggIQN7N9LZ3v"
      },
      "source": [
        "xgboost = XGBRegressor(n_estimators=180, max_depth=3, learning_rate=0.05, objective=\"reg:squarederror\", random_state=10)\n",
        "xgboost.fit(x_treino, y_treino)"
      ],
      "execution_count": null,
      "outputs": []
    },
    {
      "cell_type": "code",
      "metadata": {
        "id": "qGniar4pLZ3v"
      },
      "source": [
        "xgboost.score(x_treino, y_treino)"
      ],
      "execution_count": null,
      "outputs": []
    },
    {
      "cell_type": "markdown",
      "source": [
        "**TESTE**"
      ],
      "metadata": {
        "id": "Ag0SWRYdLZ3w"
      }
    },
    {
      "cell_type": "code",
      "metadata": {
        "id": "gPggEGb0LZ3w"
      },
      "source": [
        "xgboost.score(x_teste, y_teste)"
      ],
      "execution_count": null,
      "outputs": []
    },
    {
      "cell_type": "code",
      "metadata": {
        "id": "LZ7WLVF4LZ3x"
      },
      "source": [
        "previsoes_teste = xgboost.predict(x_teste)"
      ],
      "execution_count": null,
      "outputs": []
    },
    {
      "cell_type": "code",
      "source": [
        "# Fazendo previsões para valores distintos\n",
        "valor_casa = xgboost.predict([[6,20,12]])\n",
        "valor_casa"
      ],
      "metadata": {
        "id": "qXY1DEm2TPrs"
      },
      "execution_count": null,
      "outputs": []
    },
    {
      "cell_type": "markdown",
      "source": [
        "**MÉTRICAS**"
      ],
      "metadata": {
        "id": "eupiQ6n9LZ3y"
      }
    },
    {
      "cell_type": "code",
      "metadata": {
        "id": "mNFhiP0nLZ3z"
      },
      "source": [
        "from sklearn.metrics import mean_absolute_error, mean_squared_error"
      ],
      "execution_count": null,
      "outputs": []
    },
    {
      "cell_type": "code",
      "metadata": {
        "id": "ptcF4Z3QLZ3z"
      },
      "source": [
        "# Erro médio Absoluto\n",
        "mean_absolute_error(y_teste, previsoes_teste)"
      ],
      "execution_count": null,
      "outputs": []
    },
    {
      "cell_type": "code",
      "metadata": {
        "id": "UW9rH3WyLZ30"
      },
      "source": [
        "# Raiz do erro quadrático médio (RMSE)\n",
        "np.sqrt(mean_squared_error(y_teste, previsoes_teste))"
      ],
      "execution_count": null,
      "outputs": []
    },
    {
      "cell_type": "markdown",
      "source": [
        "### **Validação Cruzada**"
      ],
      "metadata": {
        "id": "mopLhYaKLZ31"
      }
    },
    {
      "cell_type": "code",
      "source": [
        "from sklearn.model_selection import KFold\n",
        "from sklearn.model_selection import cross_val_score"
      ],
      "metadata": {
        "id": "EW9FdkEELZ31"
      },
      "execution_count": null,
      "outputs": []
    },
    {
      "cell_type": "code",
      "source": [
        "# Separando os dados em folds\n",
        "kfold = KFold(n_splits = 15, shuffle=True, random_state = 5)"
      ],
      "metadata": {
        "id": "-duD4L-4LZ32"
      },
      "execution_count": null,
      "outputs": []
    },
    {
      "cell_type": "code",
      "source": [
        "# Criando o modelo\n",
        "from xgboost import XGBRegressor\n",
        "modelo = XGBRegressor(n_estimators=180, max_depth=3, learning_rate=0.05, objective = \"reg:squarederror\")\n",
        "resultado = cross_val_score(modelo, independente, dependente, cv = kfold)\n",
        "resultado"
      ],
      "metadata": {
        "id": "KTJuA6GpLZ32"
      },
      "execution_count": null,
      "outputs": []
    },
    {
      "cell_type": "code",
      "source": [
        "# Usamos a média e o desvio padrão\n",
        "print(\"Coeficiente de determinação Médio: %.2f%%\" % (resultado.mean() * 100.0))"
      ],
      "metadata": {
        "id": "6OLrwVIQLZ33"
      },
      "execution_count": null,
      "outputs": []
    },
    {
      "cell_type": "markdown",
      "source": [
        "**RESULTADOS:**\n",
        "\n",
        "**REGRESSÃO LINEAR SIMPLES:** R^2 = 0,57/0,60; RMSE = 99315,5; R^2 Validação Cruzada: 55,97%\n",
        "\n",
        "**REGRESSÃO LINEAR MÚLTIPLA:** R^2 = 0,73/0,68; RMSE = 96087,3; R^2 Validação Cruzada: 69,25%\n",
        "\n",
        "**REGRESSÃO POLINOMIAL:** R^2 = 0,59/0,54; RMSE = 114670,6.\n",
        "\n",
        "**REGRESSÃO SVR:** R^2 = 0,87/0,81; RMSE = 73422,7. R^2 Validação Cruzada: 82,37%.\n",
        "\n",
        "**REGRESSÃO ÁRVORE DE DECISÃO:** R^2 = 0,91/0,83; RMSE = 71114,5. R^2 Validação Cruzada: 74,60%.\n",
        "\n",
        "**REGRESSÃO COM RANDOM FOREST:** R^2 = 0,92/0,85; RMSE = 66729,3. R^2 Validação Cruzada: 82,85%.\n",
        "\n",
        "**REGRESSÃO COM XGBOOST:** R^2 = 0,93/0,84; RMSE = 67788,8. R^2 Validação Cruzada: 83,22%."
      ],
      "metadata": {
        "id": "y4gwkctLLZ33"
      }
    },
    {
      "cell_type": "markdown",
      "source": [
        "## **REGRESSÃO COM LIGHT GBM**"
      ],
      "metadata": {
        "id": "5Ml9LC8_P_Us"
      }
    },
    {
      "cell_type": "markdown",
      "source": [
        "https://lightgbm.readthedocs.io/en/latest/pythonapi/lightgbm.LGBMRegressor.html "
      ],
      "metadata": {
        "id": "sLqV3RvmQHiI"
      }
    },
    {
      "cell_type": "code",
      "source": [
        "# Instalação do Algoritmo\n",
        "!pip install lightgbm"
      ],
      "metadata": {
        "id": "hqvRU7h6Q9oc"
      },
      "execution_count": null,
      "outputs": []
    },
    {
      "cell_type": "code",
      "source": [
        "df.head(2)"
      ],
      "metadata": {
        "id": "TmOsSq05QgB0"
      },
      "execution_count": null,
      "outputs": []
    },
    {
      "cell_type": "code",
      "metadata": {
        "id": "zyubjorGQgB2"
      },
      "source": [
        "independente = df.iloc[:, 0:3].values\n",
        "independente"
      ],
      "execution_count": null,
      "outputs": []
    },
    {
      "cell_type": "code",
      "source": [
        "independente.shape"
      ],
      "metadata": {
        "id": "r08QXJHHQgB2"
      },
      "execution_count": null,
      "outputs": []
    },
    {
      "cell_type": "code",
      "metadata": {
        "id": "mWxdToSwQgB3"
      },
      "source": [
        "dependente = df.iloc[:, 3].values"
      ],
      "execution_count": null,
      "outputs": []
    },
    {
      "cell_type": "code",
      "source": [
        "dependente.shape"
      ],
      "metadata": {
        "id": "G6Rvs0KHQgB4"
      },
      "execution_count": null,
      "outputs": []
    },
    {
      "cell_type": "code",
      "metadata": {
        "id": "uaWSEem8QgB4"
      },
      "source": [
        "from sklearn.model_selection import train_test_split\n",
        "x_treino, x_teste, y_treino, y_teste = train_test_split(independente, dependente, test_size = 0.3, random_state = 0)"
      ],
      "execution_count": null,
      "outputs": []
    },
    {
      "cell_type": "code",
      "metadata": {
        "id": "dgMg2ZJ2QgB5"
      },
      "source": [
        "x_treino.shape, x_teste.shape"
      ],
      "execution_count": null,
      "outputs": []
    },
    {
      "cell_type": "code",
      "source": [
        "import lightgbm as lgb"
      ],
      "metadata": {
        "id": "q4V61kANQgB5"
      },
      "execution_count": null,
      "outputs": []
    },
    {
      "cell_type": "code",
      "metadata": {
        "id": "Sk8UBLYrQgB6"
      },
      "source": [
        "lgbm = lgb.LGBMRegressor(num_leaves=50, max_depth=3, learning_rate=0.1, n_estimators=50, random_state=10)\n",
        "lgbm.fit(x_treino, y_treino)"
      ],
      "execution_count": null,
      "outputs": []
    },
    {
      "cell_type": "code",
      "metadata": {
        "id": "-fk3JlxnQgB6"
      },
      "source": [
        "lgbm.score(x_treino, y_treino)"
      ],
      "execution_count": null,
      "outputs": []
    },
    {
      "cell_type": "markdown",
      "source": [
        "**TESTE**"
      ],
      "metadata": {
        "id": "6vaV_m3fQgB7"
      }
    },
    {
      "cell_type": "code",
      "metadata": {
        "id": "0e_-0p0EQgB7"
      },
      "source": [
        "lgbm.score(x_teste, y_teste)"
      ],
      "execution_count": null,
      "outputs": []
    },
    {
      "cell_type": "code",
      "metadata": {
        "id": "SuRMp_IuQgB8"
      },
      "source": [
        "previsoes_teste = lgbm.predict(x_teste)"
      ],
      "execution_count": null,
      "outputs": []
    },
    {
      "cell_type": "code",
      "source": [
        "# Fazendo previsões para valores distintos\n",
        "valor_casa = lgbm.predict([[8,12,25]])\n",
        "valor_casa"
      ],
      "metadata": {
        "id": "vHgIjE5hTYEW"
      },
      "execution_count": null,
      "outputs": []
    },
    {
      "cell_type": "markdown",
      "source": [
        "**MÉTRICAS**"
      ],
      "metadata": {
        "id": "TB4eq5DYQgB8"
      }
    },
    {
      "cell_type": "code",
      "metadata": {
        "id": "bUuxOSjGQgB9"
      },
      "source": [
        "from sklearn.metrics import mean_absolute_error, mean_squared_error"
      ],
      "execution_count": null,
      "outputs": []
    },
    {
      "cell_type": "code",
      "metadata": {
        "id": "oD4PttzoQgB9"
      },
      "source": [
        "# Erro médio Absoluto\n",
        "mean_absolute_error(y_teste, previsoes_teste)"
      ],
      "execution_count": null,
      "outputs": []
    },
    {
      "cell_type": "code",
      "metadata": {
        "id": "Dql6Ds3rQgB-"
      },
      "source": [
        "# Raiz do erro quadrático médio (RMSE)\n",
        "np.sqrt(mean_squared_error(y_teste, previsoes_teste))"
      ],
      "execution_count": null,
      "outputs": []
    },
    {
      "cell_type": "markdown",
      "source": [
        "### **Validação Cruzada**"
      ],
      "metadata": {
        "id": "HiSSyx4qQgB_"
      }
    },
    {
      "cell_type": "code",
      "source": [
        "from sklearn.model_selection import KFold\n",
        "from sklearn.model_selection import cross_val_score"
      ],
      "metadata": {
        "id": "qoP8WdOAQgB_"
      },
      "execution_count": null,
      "outputs": []
    },
    {
      "cell_type": "code",
      "source": [
        "# Separando os dados em folds\n",
        "kfold = KFold(n_splits = 15, shuffle=True, random_state = 5)"
      ],
      "metadata": {
        "id": "OiBBJQ5oQgCA"
      },
      "execution_count": null,
      "outputs": []
    },
    {
      "cell_type": "code",
      "source": [
        "# Criando o modelo\n",
        "import lightgbm as lgb\n",
        "modelo = lgb.LGBMRegressor(num_leaves=50, max_depth=3, learning_rate=0.1, n_estimators=50)\n",
        "resultado = cross_val_score(modelo, independente, dependente, cv = kfold)\n",
        "resultado"
      ],
      "metadata": {
        "id": "yzpxQlPpQgCA"
      },
      "execution_count": null,
      "outputs": []
    },
    {
      "cell_type": "code",
      "source": [
        "# Usamos a média e o desvio padrão\n",
        "print(\"Coeficiente de Determinação Médio: %.2f%%\" % (resultado.mean() * 100.0))"
      ],
      "metadata": {
        "id": "eDE7L7RBQgCB"
      },
      "execution_count": null,
      "outputs": []
    },
    {
      "cell_type": "markdown",
      "source": [
        "**RESULTADOS:**\n",
        "\n",
        "**REGRESSÃO LINEAR SIMPLES:** R^2 = 0,57/0,60; RMSE = 99315,5; R^2 Validação Cruzada: 55,97%\n",
        "\n",
        "**REGRESSÃO LINEAR MÚLTIPLA:** R^2 = 0,73/0,68; RMSE = 96087,3; R^2 Validação Cruzada: 69,25%\n",
        "\n",
        "**REGRESSÃO POLINOMIAL:** R^2 = 0,59/0,54; RMSE = 114670,6.\n",
        "\n",
        "**REGRESSÃO SVR:** R^2 = 0,87/0,81; RMSE = 73422,7. R^2 Validação Cruzada: 82,37%.\n",
        "\n",
        "**REGRESSÃO ÁRVORE DE DECISÃO:** R^2 = 0,91/0,83; RMSE = 71114,5. R^2 Validação Cruzada: 74,60%.\n",
        "\n",
        "**REGRESSÃO COM RANDOM FOREST:** R^2 = 0,92/0,85; RMSE = 66729,3. R^2 Validação Cruzada: 82,85%.\n",
        "\n",
        "**REGRESSÃO COM XGBOOST:** R^2 = 0,93/0,84; RMSE = 67788,8. R^2 Validação Cruzada: 83,22%.\n",
        "\n",
        "**REGRESSÃO COM LIGHT GBM:** R^2 = 0,88/0,82; RMSE = 71906,4. R^2 Validação Cruzada: 82,38%."
      ],
      "metadata": {
        "id": "vxcj5kwGQgCC"
      }
    },
    {
      "cell_type": "markdown",
      "source": [
        "## **REGRESSÃO COM CATBOOST**"
      ],
      "metadata": {
        "id": "gZsVtfKfQgCC"
      }
    },
    {
      "cell_type": "markdown",
      "source": [
        "https://catboost.ai/en/docs/concepts/python-reference_catboostregressor "
      ],
      "metadata": {
        "id": "5GPeGeg-VXsz"
      }
    },
    {
      "cell_type": "code",
      "source": [
        "#Instalação\n",
        "!pip install catboost"
      ],
      "metadata": {
        "id": "NuLKDgUGVXs0"
      },
      "execution_count": null,
      "outputs": []
    },
    {
      "cell_type": "code",
      "source": [
        "df.head(2)"
      ],
      "metadata": {
        "id": "ld2ULQzLVXs1"
      },
      "execution_count": null,
      "outputs": []
    },
    {
      "cell_type": "code",
      "metadata": {
        "id": "1nReQ2gUVXs2"
      },
      "source": [
        "independente = df.iloc[:, 0:3].values\n",
        "independente"
      ],
      "execution_count": null,
      "outputs": []
    },
    {
      "cell_type": "code",
      "source": [
        "independente.shape"
      ],
      "metadata": {
        "id": "rDPRCUFUVXs3"
      },
      "execution_count": null,
      "outputs": []
    },
    {
      "cell_type": "code",
      "metadata": {
        "id": "v_vJst49VXs3"
      },
      "source": [
        "dependente = df.iloc[:, 3].values"
      ],
      "execution_count": null,
      "outputs": []
    },
    {
      "cell_type": "code",
      "source": [
        "dependente.shape"
      ],
      "metadata": {
        "id": "CuJFrX_1VXs4"
      },
      "execution_count": null,
      "outputs": []
    },
    {
      "cell_type": "code",
      "metadata": {
        "id": "ZiFMJQRNVXs4"
      },
      "source": [
        "from sklearn.model_selection import train_test_split\n",
        "x_treino, x_teste, y_treino, y_teste = train_test_split(independente, dependente, test_size = 0.3, random_state = 0)"
      ],
      "execution_count": null,
      "outputs": []
    },
    {
      "cell_type": "code",
      "metadata": {
        "id": "7S3QP4XEVXs5"
      },
      "source": [
        "x_treino.shape, x_teste.shape"
      ],
      "execution_count": null,
      "outputs": []
    },
    {
      "cell_type": "code",
      "source": [
        "from catboost.core import CatBoostRegressor"
      ],
      "metadata": {
        "id": "Mvq49H8TVXs5"
      },
      "execution_count": null,
      "outputs": []
    },
    {
      "cell_type": "code",
      "metadata": {
        "id": "ElgRHg_3VXs6"
      },
      "source": [
        "catboost = CatBoostRegressor (iterations=100, learning_rate=0.08, depth = 5, random_state = 10)\n",
        "catboost.fit(x_treino, y_treino)"
      ],
      "execution_count": null,
      "outputs": []
    },
    {
      "cell_type": "code",
      "metadata": {
        "id": "RYJLt365VXs6"
      },
      "source": [
        "catboost.score(x_treino, y_treino)"
      ],
      "execution_count": null,
      "outputs": []
    },
    {
      "cell_type": "markdown",
      "source": [
        "**TESTE**"
      ],
      "metadata": {
        "id": "J0YqqCe_VXs7"
      }
    },
    {
      "cell_type": "code",
      "metadata": {
        "id": "Kq3ufyL1VXs7"
      },
      "source": [
        "catboost.score(x_teste, y_teste)"
      ],
      "execution_count": null,
      "outputs": []
    },
    {
      "cell_type": "code",
      "metadata": {
        "id": "bbb2-5sqVXs8"
      },
      "source": [
        "previsoes_teste = catboost.predict(x_teste)"
      ],
      "execution_count": null,
      "outputs": []
    },
    {
      "cell_type": "code",
      "source": [
        "# Fazendo previsões para valores distintos\n",
        "valor_casa = catboost.predict([[5,18,20]])\n",
        "valor_casa"
      ],
      "metadata": {
        "id": "rFXFPukcYZNe"
      },
      "execution_count": null,
      "outputs": []
    },
    {
      "cell_type": "markdown",
      "source": [
        "**MÉTRICAS**"
      ],
      "metadata": {
        "id": "pSBW-UoFVXs8"
      }
    },
    {
      "cell_type": "code",
      "metadata": {
        "id": "dUHUBMG5VXs9"
      },
      "source": [
        "from sklearn.metrics import mean_absolute_error, mean_squared_error"
      ],
      "execution_count": null,
      "outputs": []
    },
    {
      "cell_type": "code",
      "metadata": {
        "id": "lgn3ZatBVXs9"
      },
      "source": [
        "# Erro médio Absoluto\n",
        "mean_absolute_error(y_teste, previsoes_teste)"
      ],
      "execution_count": null,
      "outputs": []
    },
    {
      "cell_type": "code",
      "metadata": {
        "id": "DewzTfdWVXs9"
      },
      "source": [
        "# Raiz do erro quadrático médio (RMSE)\n",
        "np.sqrt(mean_squared_error(y_teste, previsoes_teste))"
      ],
      "execution_count": null,
      "outputs": []
    },
    {
      "cell_type": "markdown",
      "source": [
        "### **Validação Cruzada**"
      ],
      "metadata": {
        "id": "KPym0jypVXs-"
      }
    },
    {
      "cell_type": "code",
      "source": [
        "from sklearn.model_selection import KFold\n",
        "from sklearn.model_selection import cross_val_score"
      ],
      "metadata": {
        "id": "oZwUBh3_VXs-"
      },
      "execution_count": null,
      "outputs": []
    },
    {
      "cell_type": "code",
      "source": [
        "# Separando os dados em folds\n",
        "kfold = KFold(n_splits = 15, shuffle=True, random_state = 5)"
      ],
      "metadata": {
        "id": "gJMJ1x4bVXs_"
      },
      "execution_count": null,
      "outputs": []
    },
    {
      "cell_type": "code",
      "source": [
        "# Criando o modelo\n",
        "from catboost.core import CatBoostRegressor\n",
        "modelo = CatBoostRegressor (iterations=100, learning_rate=0.08, depth = 5, random_state = 10)\n",
        "resultado = cross_val_score(modelo, independente, dependente, cv = kfold)\n",
        "resultado"
      ],
      "metadata": {
        "id": "TUW6Frh8VXs_"
      },
      "execution_count": null,
      "outputs": []
    },
    {
      "cell_type": "code",
      "source": [
        "# Usamos a média e o desvio padrão\n",
        "print(\"Coeficiente de Determinação Médio: %.2f%%\" % (resultado.mean() * 100.0))"
      ],
      "metadata": {
        "id": "sRPAGvgQVXtA"
      },
      "execution_count": null,
      "outputs": []
    },
    {
      "cell_type": "markdown",
      "source": [
        "**RESULTADOS:**\n",
        "\n",
        "**REGRESSÃO LINEAR SIMPLES:** R^2 = 0,57/0,60; RMSE = 99315,5; R^2 Validação Cruzada: 55,97%\n",
        "\n",
        "**REGRESSÃO LINEAR MÚLTIPLA:** R^2 = 0,73/0,68; RMSE = 96087,3; R^2 Validação Cruzada: 69,25%\n",
        "\n",
        "**REGRESSÃO POLINOMIAL:** R^2 = 0,59/0,54; RMSE = 114670,6.\n",
        "\n",
        "**REGRESSÃO SVR:** R^2 = 0,87/0,81; RMSE = 73422,7. R^2 Validação Cruzada: 82,37%.\n",
        "\n",
        "**REGRESSÃO ÁRVORE DE DECISÃO:** R^2 = 0,91/0,83; RMSE = 71114,5. R^2 Validação Cruzada: 74,60%.\n",
        "\n",
        "**REGRESSÃO COM RANDOM FOREST:** R^2 = 0,92/0,85; RMSE = 66729,3. R^2 Validação Cruzada: 82,85%.\n",
        "\n",
        "**REGRESSÃO COM XGBOOST:** R^2 = 0,93/0,84; RMSE = 67788,8. R^2 Validação Cruzada: 83,22%.\n",
        "\n",
        "**REGRESSÃO COM LIGHT GBM:** R^2 = 0,88/0,82; RMSE = 71906,4. R^2 Validação Cruzada: 82,38%.\n",
        "\n",
        "**REGRESSÃO COM CATBOOST:** R^2 = 0,90/0,84; RMSE = 69053,3 R^2 Validação Cruzada: 83,40%."
      ],
      "metadata": {
        "id": "7cwsGoINVXtA"
      }
    },
    {
      "cell_type": "markdown",
      "source": [],
      "metadata": {
        "id": "_n5ncFlgox69"
      }
    },
    {
      "cell_type": "markdown",
      "source": [
        "# **Salvando dados para Deploy**"
      ],
      "metadata": {
        "id": "-SI78UagmLD7"
      }
    },
    {
      "cell_type": "code",
      "source": [
        "independente = df.iloc[:, 0:3].values\n",
        "independente"
      ],
      "metadata": {
        "id": "iHM2TQfjbwf9"
      },
      "execution_count": null,
      "outputs": []
    },
    {
      "cell_type": "code",
      "source": [
        "dependente = df.iloc[:, 3].values\n",
        "dependente"
      ],
      "metadata": {
        "id": "isSCWsMPDdw6"
      },
      "execution_count": null,
      "outputs": []
    },
    {
      "cell_type": "code",
      "source": [
        "np.savetxt('independente.csv', independente, delimiter=',')"
      ],
      "metadata": {
        "id": "XUYRtI5VDBXF"
      },
      "execution_count": null,
      "outputs": []
    },
    {
      "cell_type": "code",
      "source": [
        "np.savetxt('dependente.csv', dependente, delimiter=',')"
      ],
      "metadata": {
        "id": "dd7lbPU3DQFO"
      },
      "execution_count": null,
      "outputs": []
    },
    {
      "cell_type": "markdown",
      "source": [
        "# **DESAFIO 2**"
      ],
      "metadata": {
        "id": "Q6LoOxMow4Ci"
      }
    },
    {
      "cell_type": "markdown",
      "source": [
        "DESENVOLVER E SELECIONAR O MELHOR ALGORITMO DE MACHINE LEARNING DE REGRESSÃO PARA O DATASET DO LINK A SEGUIR:"
      ],
      "metadata": {
        "id": "bjLFumRQxayX"
      }
    },
    {
      "cell_type": "markdown",
      "source": [
        "https://www.kaggle.com/mirichoi0218/insurance/code"
      ],
      "metadata": {
        "id": "VG8xV9wYxKk2"
      }
    }
  ]
}